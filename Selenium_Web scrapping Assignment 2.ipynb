{
 "cells": [
  {
   "cell_type": "code",
   "execution_count": 1,
   "id": "987c0ca6",
   "metadata": {},
   "outputs": [
    {
     "name": "stdout",
     "output_type": "stream",
     "text": [
      "Requirement already satisfied: selenium in c:\\programdata\\anaconda3\\lib\\site-packages (4.1.3)\n",
      "Requirement already satisfied: trio-websocket~=0.9 in c:\\programdata\\anaconda3\\lib\\site-packages (from selenium) (0.9.2)\n",
      "Requirement already satisfied: urllib3[secure,socks]~=1.26 in c:\\programdata\\anaconda3\\lib\\site-packages (from selenium) (1.26.7)\n",
      "Requirement already satisfied: trio~=0.17 in c:\\programdata\\anaconda3\\lib\\site-packages (from selenium) (0.20.0)\n",
      "Requirement already satisfied: idna in c:\\programdata\\anaconda3\\lib\\site-packages (from trio~=0.17->selenium) (3.2)\n",
      "Requirement already satisfied: sortedcontainers in c:\\programdata\\anaconda3\\lib\\site-packages (from trio~=0.17->selenium) (2.4.0)\n",
      "Requirement already satisfied: attrs>=19.2.0 in c:\\programdata\\anaconda3\\lib\\site-packages (from trio~=0.17->selenium) (21.2.0)\n",
      "Requirement already satisfied: cffi>=1.14 in c:\\programdata\\anaconda3\\lib\\site-packages (from trio~=0.17->selenium) (1.14.6)\n",
      "Requirement already satisfied: outcome in c:\\programdata\\anaconda3\\lib\\site-packages (from trio~=0.17->selenium) (1.1.0)\n",
      "Requirement already satisfied: sniffio in c:\\programdata\\anaconda3\\lib\\site-packages (from trio~=0.17->selenium) (1.2.0)\n",
      "Requirement already satisfied: async-generator>=1.9 in c:\\programdata\\anaconda3\\lib\\site-packages (from trio~=0.17->selenium) (1.10)\n",
      "Requirement already satisfied: pycparser in c:\\programdata\\anaconda3\\lib\\site-packages (from cffi>=1.14->trio~=0.17->selenium) (2.20)\n",
      "Requirement already satisfied: wsproto>=0.14 in c:\\programdata\\anaconda3\\lib\\site-packages (from trio-websocket~=0.9->selenium) (1.1.0)\n",
      "Requirement already satisfied: PySocks!=1.5.7,<2.0,>=1.5.6 in c:\\programdata\\anaconda3\\lib\\site-packages (from urllib3[secure,socks]~=1.26->selenium) (1.7.1)\n",
      "Requirement already satisfied: pyOpenSSL>=0.14 in c:\\programdata\\anaconda3\\lib\\site-packages (from urllib3[secure,socks]~=1.26->selenium) (21.0.0)\n",
      "Requirement already satisfied: cryptography>=1.3.4 in c:\\programdata\\anaconda3\\lib\\site-packages (from urllib3[secure,socks]~=1.26->selenium) (3.4.8)\n",
      "Requirement already satisfied: certifi in c:\\programdata\\anaconda3\\lib\\site-packages (from urllib3[secure,socks]~=1.26->selenium) (2021.10.8)\n",
      "Requirement already satisfied: six>=1.5.2 in c:\\programdata\\anaconda3\\lib\\site-packages (from pyOpenSSL>=0.14->urllib3[secure,socks]~=1.26->selenium) (1.16.0)\n",
      "Requirement already satisfied: h11<1,>=0.9.0 in c:\\programdata\\anaconda3\\lib\\site-packages (from wsproto>=0.14->trio-websocket~=0.9->selenium) (0.13.0)\n"
     ]
    }
   ],
   "source": [
    "!pip install selenium"
   ]
  },
  {
   "cell_type": "markdown",
   "id": "419ec83e",
   "metadata": {},
   "source": [
    "# Q1: Write a python program to scrape data for “Data Analyst” Job position in “Bangalore” location. You have to scrape the job-title, job-location, company_name, experience_required. You have to scrape first 10 jobs data."
   ]
  },
  {
   "cell_type": "code",
   "execution_count": 2,
   "id": "0bd2b5b1",
   "metadata": {},
   "outputs": [],
   "source": [
    "import selenium \n",
    "from selenium import webdriver\n",
    "import warnings\n",
    "warnings.filterwarnings('ignore')"
   ]
  },
  {
   "cell_type": "code",
   "execution_count": 3,
   "id": "6276e1eb",
   "metadata": {},
   "outputs": [],
   "source": [
    "driver=webdriver.Chrome(\"chromedriver.exe\")"
   ]
  },
  {
   "cell_type": "code",
   "execution_count": 4,
   "id": "8fe11942",
   "metadata": {},
   "outputs": [],
   "source": [
    "url=\"https://www.naukri.com/\""
   ]
  },
  {
   "cell_type": "code",
   "execution_count": 5,
   "id": "e5f52b07",
   "metadata": {},
   "outputs": [],
   "source": [
    "driver.get(url)"
   ]
  },
  {
   "cell_type": "code",
   "execution_count": 6,
   "id": "c16d17d1",
   "metadata": {},
   "outputs": [
    {
     "data": {
      "text/plain": [
       "<selenium.webdriver.remote.webelement.WebElement (session=\"738aee7b08bf9072932afc34c5e127b3\", element=\"86f9341b-64a6-4eb2-881f-885e8631565c\")>"
      ]
     },
     "execution_count": 6,
     "metadata": {},
     "output_type": "execute_result"
    }
   ],
   "source": [
    "srh_job=driver.find_element_by_class_name(\"suggestor-input\")\n",
    "srh_job"
   ]
  },
  {
   "cell_type": "code",
   "execution_count": 7,
   "id": "7440a089",
   "metadata": {},
   "outputs": [],
   "source": [
    "srh_job.send_keys(\"Data Analyst\")"
   ]
  },
  {
   "cell_type": "code",
   "execution_count": 8,
   "id": "c94a1a0f",
   "metadata": {},
   "outputs": [
    {
     "data": {
      "text/plain": [
       "<selenium.webdriver.remote.webelement.WebElement (session=\"738aee7b08bf9072932afc34c5e127b3\", element=\"a62e7ab1-fc92-4a92-895c-adb1f4f5c659\")>"
      ]
     },
     "execution_count": 8,
     "metadata": {},
     "output_type": "execute_result"
    }
   ],
   "source": [
    "srh_loc=driver.find_element_by_xpath('/html/body/div/div[2]/div[3]/div/div/div[3]/div/div/div/input')\n",
    "srh_loc"
   ]
  },
  {
   "cell_type": "code",
   "execution_count": 9,
   "id": "f8afbaa3",
   "metadata": {},
   "outputs": [],
   "source": [
    "srh_loc.send_keys(\"Bangalore\")"
   ]
  },
  {
   "cell_type": "code",
   "execution_count": 10,
   "id": "1ef69600",
   "metadata": {},
   "outputs": [],
   "source": [
    "srh_button=driver.find_element_by_class_name(\"qsbSubmit\")\n",
    "srh_button.click()"
   ]
  },
  {
   "cell_type": "markdown",
   "id": "8dd00542",
   "metadata": {},
   "source": [
    "Scraping Job Titles"
   ]
  },
  {
   "cell_type": "code",
   "execution_count": 11,
   "id": "86a2d53b",
   "metadata": {},
   "outputs": [
    {
     "data": {
      "text/plain": [
       "[<selenium.webdriver.remote.webelement.WebElement (session=\"738aee7b08bf9072932afc34c5e127b3\", element=\"d1aac9ed-08fa-461c-b088-0249855e57ef\")>,\n",
       " <selenium.webdriver.remote.webelement.WebElement (session=\"738aee7b08bf9072932afc34c5e127b3\", element=\"7020949c-a33a-4285-bc1d-b25a85432871\")>,\n",
       " <selenium.webdriver.remote.webelement.WebElement (session=\"738aee7b08bf9072932afc34c5e127b3\", element=\"ef531409-56b6-4953-8b6e-ae054f657a4a\")>,\n",
       " <selenium.webdriver.remote.webelement.WebElement (session=\"738aee7b08bf9072932afc34c5e127b3\", element=\"bd564f1f-20de-4cf3-b04d-7586ca54e90e\")>,\n",
       " <selenium.webdriver.remote.webelement.WebElement (session=\"738aee7b08bf9072932afc34c5e127b3\", element=\"76e86e83-5f62-4d24-abb5-d0370d0cd7aa\")>,\n",
       " <selenium.webdriver.remote.webelement.WebElement (session=\"738aee7b08bf9072932afc34c5e127b3\", element=\"49c114f9-161e-4424-b341-34568343b6a9\")>,\n",
       " <selenium.webdriver.remote.webelement.WebElement (session=\"738aee7b08bf9072932afc34c5e127b3\", element=\"97e548ce-b218-499a-8e00-31d877a9c095\")>,\n",
       " <selenium.webdriver.remote.webelement.WebElement (session=\"738aee7b08bf9072932afc34c5e127b3\", element=\"6ad5584e-b856-49ac-a5e7-df27b304732e\")>,\n",
       " <selenium.webdriver.remote.webelement.WebElement (session=\"738aee7b08bf9072932afc34c5e127b3\", element=\"0dbe4dae-be0f-4d6f-a8a3-d90138cf717c\")>,\n",
       " <selenium.webdriver.remote.webelement.WebElement (session=\"738aee7b08bf9072932afc34c5e127b3\", element=\"4d58b080-d1df-4ebb-9904-1eb492f6b08e\")>,\n",
       " <selenium.webdriver.remote.webelement.WebElement (session=\"738aee7b08bf9072932afc34c5e127b3\", element=\"54f234fd-7f9a-4d92-8005-1ba7d5814b18\")>,\n",
       " <selenium.webdriver.remote.webelement.WebElement (session=\"738aee7b08bf9072932afc34c5e127b3\", element=\"e38bb166-f68f-4e4f-897d-179c6fc51401\")>,\n",
       " <selenium.webdriver.remote.webelement.WebElement (session=\"738aee7b08bf9072932afc34c5e127b3\", element=\"e2933a78-133c-40b5-9579-efa7e15ad038\")>,\n",
       " <selenium.webdriver.remote.webelement.WebElement (session=\"738aee7b08bf9072932afc34c5e127b3\", element=\"51f62e13-884e-4059-8f91-47c701348c9c\")>,\n",
       " <selenium.webdriver.remote.webelement.WebElement (session=\"738aee7b08bf9072932afc34c5e127b3\", element=\"3f654d5b-9402-46be-9c4b-a3451d19c16d\")>,\n",
       " <selenium.webdriver.remote.webelement.WebElement (session=\"738aee7b08bf9072932afc34c5e127b3\", element=\"625759f9-bb4e-44b7-9451-d56c44f54c73\")>,\n",
       " <selenium.webdriver.remote.webelement.WebElement (session=\"738aee7b08bf9072932afc34c5e127b3\", element=\"50d93daf-a72d-462e-b3e1-7fc8460aa1b6\")>,\n",
       " <selenium.webdriver.remote.webelement.WebElement (session=\"738aee7b08bf9072932afc34c5e127b3\", element=\"29d4809a-de09-48e5-878a-46d16f967582\")>,\n",
       " <selenium.webdriver.remote.webelement.WebElement (session=\"738aee7b08bf9072932afc34c5e127b3\", element=\"fda42948-60d2-4723-8cd0-8d1244cd737d\")>,\n",
       " <selenium.webdriver.remote.webelement.WebElement (session=\"738aee7b08bf9072932afc34c5e127b3\", element=\"75f90400-097b-45b8-bc18-7c3ad6687634\")>]"
      ]
     },
     "execution_count": 11,
     "metadata": {},
     "output_type": "execute_result"
    }
   ],
   "source": [
    "job_title=driver.find_elements_by_xpath('//a[@class=\"title fw500 ellipsis\"]')\n",
    "job_title"
   ]
  },
  {
   "cell_type": "code",
   "execution_count": 12,
   "id": "d6ae6219",
   "metadata": {},
   "outputs": [],
   "source": [
    "job_tit=[]\n",
    "\n",
    "for i in job_title:\n",
    "    job_tit.append(i.text)"
   ]
  },
  {
   "cell_type": "code",
   "execution_count": 13,
   "id": "3eeb3b76",
   "metadata": {},
   "outputs": [
    {
     "data": {
      "text/plain": [
       "['Hiring For Data Analyst I(SQL & Python)',\n",
       " 'Data Analyst - 3rd Party Payroll',\n",
       " 'Data Analyst I',\n",
       " 'Senior Data Analyst II',\n",
       " 'Senior Data Analyst',\n",
       " 'Senior Data Analyst II',\n",
       " 'Senior Data Analyst II',\n",
       " 'Looking For Data Analyst - Remote Support',\n",
       " 'Job openings For Data Analyst - AOA',\n",
       " 'Senior Data Analyst - Ads & Promotion Platform (APP)']"
      ]
     },
     "execution_count": 13,
     "metadata": {},
     "output_type": "execute_result"
    }
   ],
   "source": [
    "job=job_tit[0:10]\n",
    "job"
   ]
  },
  {
   "cell_type": "markdown",
   "id": "88148b21",
   "metadata": {},
   "source": [
    "Scraping Location"
   ]
  },
  {
   "cell_type": "code",
   "execution_count": 14,
   "id": "dd3a3310",
   "metadata": {},
   "outputs": [
    {
     "data": {
      "text/plain": [
       "[<selenium.webdriver.remote.webelement.WebElement (session=\"738aee7b08bf9072932afc34c5e127b3\", element=\"7eb3af44-c867-403d-b467-0356b24a15bc\")>,\n",
       " <selenium.webdriver.remote.webelement.WebElement (session=\"738aee7b08bf9072932afc34c5e127b3\", element=\"ef103ac2-237e-42a6-9c1a-78f9e12ce36a\")>,\n",
       " <selenium.webdriver.remote.webelement.WebElement (session=\"738aee7b08bf9072932afc34c5e127b3\", element=\"63c9f943-d7e7-4ba0-8fc5-a47d1dc9c4fa\")>,\n",
       " <selenium.webdriver.remote.webelement.WebElement (session=\"738aee7b08bf9072932afc34c5e127b3\", element=\"f1180ea4-c8b2-40b4-a117-375731460818\")>,\n",
       " <selenium.webdriver.remote.webelement.WebElement (session=\"738aee7b08bf9072932afc34c5e127b3\", element=\"0760c6fc-6706-4bb7-b990-9c4d4097dd4b\")>,\n",
       " <selenium.webdriver.remote.webelement.WebElement (session=\"738aee7b08bf9072932afc34c5e127b3\", element=\"7437c7aa-c0ef-46ca-a3da-37c7b8332cf5\")>,\n",
       " <selenium.webdriver.remote.webelement.WebElement (session=\"738aee7b08bf9072932afc34c5e127b3\", element=\"08d31688-1503-4c80-ad7b-58bd701f710e\")>,\n",
       " <selenium.webdriver.remote.webelement.WebElement (session=\"738aee7b08bf9072932afc34c5e127b3\", element=\"aa45bce1-eef7-4c07-bd96-f576b9496637\")>,\n",
       " <selenium.webdriver.remote.webelement.WebElement (session=\"738aee7b08bf9072932afc34c5e127b3\", element=\"1de042ff-206c-4ab7-a659-9a6dcc4ad695\")>,\n",
       " <selenium.webdriver.remote.webelement.WebElement (session=\"738aee7b08bf9072932afc34c5e127b3\", element=\"ff95d8f6-04db-46bf-b08b-c27878125d54\")>,\n",
       " <selenium.webdriver.remote.webelement.WebElement (session=\"738aee7b08bf9072932afc34c5e127b3\", element=\"b7396c3b-4fd7-4098-b06f-efda0e6c509f\")>,\n",
       " <selenium.webdriver.remote.webelement.WebElement (session=\"738aee7b08bf9072932afc34c5e127b3\", element=\"0dc7e8cb-5b7e-4a3f-9634-b95a69535283\")>,\n",
       " <selenium.webdriver.remote.webelement.WebElement (session=\"738aee7b08bf9072932afc34c5e127b3\", element=\"ebd7d257-fa9b-4d70-8925-7a3f60fb8e43\")>,\n",
       " <selenium.webdriver.remote.webelement.WebElement (session=\"738aee7b08bf9072932afc34c5e127b3\", element=\"adf425b5-9d3a-4d5b-b07f-62e22ac24a4c\")>,\n",
       " <selenium.webdriver.remote.webelement.WebElement (session=\"738aee7b08bf9072932afc34c5e127b3\", element=\"0d1ba579-87ea-43fe-b122-08d7875e8b88\")>,\n",
       " <selenium.webdriver.remote.webelement.WebElement (session=\"738aee7b08bf9072932afc34c5e127b3\", element=\"00a5e6b2-d042-46c5-9168-da1770b385c7\")>,\n",
       " <selenium.webdriver.remote.webelement.WebElement (session=\"738aee7b08bf9072932afc34c5e127b3\", element=\"9cdacfc5-9258-405b-b1a7-154413742d15\")>,\n",
       " <selenium.webdriver.remote.webelement.WebElement (session=\"738aee7b08bf9072932afc34c5e127b3\", element=\"6cebcfc1-1c32-47e9-aa77-f17997e2f0be\")>,\n",
       " <selenium.webdriver.remote.webelement.WebElement (session=\"738aee7b08bf9072932afc34c5e127b3\", element=\"cdab0e00-100a-4637-8136-1450bf4a9c8f\")>,\n",
       " <selenium.webdriver.remote.webelement.WebElement (session=\"738aee7b08bf9072932afc34c5e127b3\", element=\"fa343e2b-b4d7-4405-bb30-e098d6e01b37\")>]"
      ]
     },
     "execution_count": 14,
     "metadata": {},
     "output_type": "execute_result"
    }
   ],
   "source": [
    "job_loc=driver.find_elements_by_xpath('//li[@class=\"fleft grey-text br2 placeHolderLi location\"]')\n",
    "job_loc"
   ]
  },
  {
   "cell_type": "code",
   "execution_count": 15,
   "id": "7a568992",
   "metadata": {},
   "outputs": [],
   "source": [
    "job_location=[]\n",
    "\n",
    "for i in job_loc:\n",
    "    job_location.append(i.text)"
   ]
  },
  {
   "cell_type": "code",
   "execution_count": 16,
   "id": "237e43e0",
   "metadata": {},
   "outputs": [
    {
     "data": {
      "text/plain": [
       "['Bangalore/Bengaluru',\n",
       " 'Bangalore/Bengaluru',\n",
       " 'Bangalore/Bengaluru',\n",
       " 'Bangalore/Bengaluru',\n",
       " 'Bangalore/Bengaluru',\n",
       " 'Bangalore/Bengaluru',\n",
       " 'Bangalore/Bengaluru',\n",
       " 'Hyderabad/Secunderabad, Chennai, Bangalore/Bengaluru',\n",
       " 'Bangalore/Bengaluru(4th Phase JP Nagar)',\n",
       " 'Bangalore/Bengaluru',\n",
       " 'Hyderabad/Secunderabad, Chennai, Bangalore/Bengaluru\\n(WFH during Covid)',\n",
       " 'Remote',\n",
       " 'Pune, Bangalore/Bengaluru(Shivaji Nagar), Mumbai (All Areas)\\n(WFH during Covid)',\n",
       " 'Bangalore/Bengaluru',\n",
       " 'Hyderabad/Secunderabad, Chennai, Bangalore/Bengaluru\\n(WFH during Covid)',\n",
       " 'Bangalore/Bengaluru(Sadashiva Nagar)',\n",
       " 'Bangalore/Bengaluru',\n",
       " 'Bangalore/Bengaluru',\n",
       " 'Bangalore/Bengaluru',\n",
       " 'Bangalore/Bengaluru']"
      ]
     },
     "execution_count": 16,
     "metadata": {},
     "output_type": "execute_result"
    }
   ],
   "source": [
    "job_location"
   ]
  },
  {
   "cell_type": "code",
   "execution_count": 17,
   "id": "a0408a53",
   "metadata": {},
   "outputs": [
    {
     "data": {
      "text/plain": [
       "['Bangalore/Bengaluru',\n",
       " 'Bangalore/Bengaluru',\n",
       " 'Bangalore/Bengaluru',\n",
       " 'Bangalore/Bengaluru',\n",
       " 'Bangalore/Bengaluru',\n",
       " 'Bangalore/Bengaluru',\n",
       " 'Bangalore/Bengaluru',\n",
       " 'Hyderabad/Secunderabad, Chennai, Bangalore/Bengaluru',\n",
       " 'Bangalore/Bengaluru(4th Phase JP Nagar)',\n",
       " 'Bangalore/Bengaluru']"
      ]
     },
     "execution_count": 17,
     "metadata": {},
     "output_type": "execute_result"
    }
   ],
   "source": [
    "job_l=job_location[0:10]\n",
    "job_l"
   ]
  },
  {
   "cell_type": "markdown",
   "id": "cdadcbd0",
   "metadata": {},
   "source": [
    "Scraping company name"
   ]
  },
  {
   "cell_type": "code",
   "execution_count": 18,
   "id": "20a3d865",
   "metadata": {},
   "outputs": [
    {
     "data": {
      "text/plain": [
       "[<selenium.webdriver.remote.webelement.WebElement (session=\"738aee7b08bf9072932afc34c5e127b3\", element=\"928256eb-640a-40bd-b28d-d6fa379583b8\")>,\n",
       " <selenium.webdriver.remote.webelement.WebElement (session=\"738aee7b08bf9072932afc34c5e127b3\", element=\"bf133389-883c-4518-bd62-ed972d57653e\")>,\n",
       " <selenium.webdriver.remote.webelement.WebElement (session=\"738aee7b08bf9072932afc34c5e127b3\", element=\"6828f58a-4101-4a80-95e4-c6bf5ed0baa4\")>,\n",
       " <selenium.webdriver.remote.webelement.WebElement (session=\"738aee7b08bf9072932afc34c5e127b3\", element=\"e1b043dc-2607-4ab1-9921-fe0571d44e02\")>,\n",
       " <selenium.webdriver.remote.webelement.WebElement (session=\"738aee7b08bf9072932afc34c5e127b3\", element=\"4dfe794a-3e13-4357-8c67-315de601baf9\")>,\n",
       " <selenium.webdriver.remote.webelement.WebElement (session=\"738aee7b08bf9072932afc34c5e127b3\", element=\"92eea2b8-ca75-42c3-973a-fef563d3e26f\")>,\n",
       " <selenium.webdriver.remote.webelement.WebElement (session=\"738aee7b08bf9072932afc34c5e127b3\", element=\"520ecfbc-c43f-4f5f-9d4d-330f8910fba2\")>,\n",
       " <selenium.webdriver.remote.webelement.WebElement (session=\"738aee7b08bf9072932afc34c5e127b3\", element=\"a74c19da-67a0-4433-8435-35d2a53e7f97\")>,\n",
       " <selenium.webdriver.remote.webelement.WebElement (session=\"738aee7b08bf9072932afc34c5e127b3\", element=\"27da8885-b036-44d9-acb0-44c7d6435b78\")>,\n",
       " <selenium.webdriver.remote.webelement.WebElement (session=\"738aee7b08bf9072932afc34c5e127b3\", element=\"fa411e30-81c2-42df-9bfc-b614fe19fd67\")>,\n",
       " <selenium.webdriver.remote.webelement.WebElement (session=\"738aee7b08bf9072932afc34c5e127b3\", element=\"c5f53cdb-b6d8-45ad-be1f-5b2906ed5a84\")>,\n",
       " <selenium.webdriver.remote.webelement.WebElement (session=\"738aee7b08bf9072932afc34c5e127b3\", element=\"25a4283a-f1c8-4efa-acea-6c2f0d24a48f\")>,\n",
       " <selenium.webdriver.remote.webelement.WebElement (session=\"738aee7b08bf9072932afc34c5e127b3\", element=\"b409f047-d63f-49c8-8c94-2b01175ad9e0\")>,\n",
       " <selenium.webdriver.remote.webelement.WebElement (session=\"738aee7b08bf9072932afc34c5e127b3\", element=\"bf85ff15-7d17-4b49-848e-1d83ff8b110c\")>,\n",
       " <selenium.webdriver.remote.webelement.WebElement (session=\"738aee7b08bf9072932afc34c5e127b3\", element=\"b8ab8647-ee59-4398-bf02-eb87a8b0218f\")>,\n",
       " <selenium.webdriver.remote.webelement.WebElement (session=\"738aee7b08bf9072932afc34c5e127b3\", element=\"c785d1fb-6644-4dc2-aeee-a65447c67f6d\")>,\n",
       " <selenium.webdriver.remote.webelement.WebElement (session=\"738aee7b08bf9072932afc34c5e127b3\", element=\"de7ef1a9-10bc-4581-9daf-3d4e10a5caba\")>,\n",
       " <selenium.webdriver.remote.webelement.WebElement (session=\"738aee7b08bf9072932afc34c5e127b3\", element=\"a6792f70-c255-4a4d-a3bf-8aa92078e39e\")>,\n",
       " <selenium.webdriver.remote.webelement.WebElement (session=\"738aee7b08bf9072932afc34c5e127b3\", element=\"b76c4ac4-2bbe-48d0-93fb-8ae9869f6cd1\")>,\n",
       " <selenium.webdriver.remote.webelement.WebElement (session=\"738aee7b08bf9072932afc34c5e127b3\", element=\"f3fc8e2f-0d63-46ed-9226-760c4f59cfbe\")>]"
      ]
     },
     "execution_count": 18,
     "metadata": {},
     "output_type": "execute_result"
    }
   ],
   "source": [
    "job_com=driver.find_elements_by_xpath('//a[@class=\"subTitle ellipsis fleft\"]')\n",
    "job_com"
   ]
  },
  {
   "cell_type": "code",
   "execution_count": 19,
   "id": "83386f25",
   "metadata": {},
   "outputs": [],
   "source": [
    "job_comp=[]\n",
    "\n",
    "for i in job_com:\n",
    "    job_comp.append(i.text)"
   ]
  },
  {
   "cell_type": "code",
   "execution_count": 20,
   "id": "ced1b06b",
   "metadata": {},
   "outputs": [
    {
     "data": {
      "text/plain": [
       "['Clario India Pvt Ltd',\n",
       " 'Flipkart',\n",
       " 'Cerner',\n",
       " 'Flipkart',\n",
       " 'Flipkart',\n",
       " 'Flipkart',\n",
       " 'Flipkart',\n",
       " 'Locuz Enterprise Solutions Ltd',\n",
       " 'izmo ltd',\n",
       " 'Gojek']"
      ]
     },
     "execution_count": 20,
     "metadata": {},
     "output_type": "execute_result"
    }
   ],
   "source": [
    "job_c=job_comp[0:10]\n",
    "job_c"
   ]
  },
  {
   "cell_type": "markdown",
   "id": "c215a4dc",
   "metadata": {},
   "source": [
    "Scraping experience"
   ]
  },
  {
   "cell_type": "code",
   "execution_count": 21,
   "id": "25bb244c",
   "metadata": {},
   "outputs": [
    {
     "data": {
      "text/plain": [
       "[<selenium.webdriver.remote.webelement.WebElement (session=\"738aee7b08bf9072932afc34c5e127b3\", element=\"e226f5ef-1e7f-461d-b1a5-cbe912ef7364\")>,\n",
       " <selenium.webdriver.remote.webelement.WebElement (session=\"738aee7b08bf9072932afc34c5e127b3\", element=\"7f87b99d-f5d3-4303-b2ca-151b4fd809a9\")>,\n",
       " <selenium.webdriver.remote.webelement.WebElement (session=\"738aee7b08bf9072932afc34c5e127b3\", element=\"bdf9a2a0-3cbe-4997-abe1-efb4b475a3bf\")>,\n",
       " <selenium.webdriver.remote.webelement.WebElement (session=\"738aee7b08bf9072932afc34c5e127b3\", element=\"a599e4b5-3a1a-4aa4-94b0-2682aa4fc6de\")>,\n",
       " <selenium.webdriver.remote.webelement.WebElement (session=\"738aee7b08bf9072932afc34c5e127b3\", element=\"5048a101-1157-4a96-a237-3db8308e7acb\")>,\n",
       " <selenium.webdriver.remote.webelement.WebElement (session=\"738aee7b08bf9072932afc34c5e127b3\", element=\"4328f87d-424f-4445-a7e2-9c150a852a25\")>,\n",
       " <selenium.webdriver.remote.webelement.WebElement (session=\"738aee7b08bf9072932afc34c5e127b3\", element=\"d6199765-ace4-41cc-bc9c-02acc612a043\")>,\n",
       " <selenium.webdriver.remote.webelement.WebElement (session=\"738aee7b08bf9072932afc34c5e127b3\", element=\"08c09fcb-6ab4-4bd5-ae1c-eaad1562fb2a\")>,\n",
       " <selenium.webdriver.remote.webelement.WebElement (session=\"738aee7b08bf9072932afc34c5e127b3\", element=\"a5ef4883-3957-4f4e-8425-3854f9787300\")>,\n",
       " <selenium.webdriver.remote.webelement.WebElement (session=\"738aee7b08bf9072932afc34c5e127b3\", element=\"b06a5139-949b-41c6-bb04-57dff00d034f\")>,\n",
       " <selenium.webdriver.remote.webelement.WebElement (session=\"738aee7b08bf9072932afc34c5e127b3\", element=\"e2d4d244-ba03-47ba-9aa8-958280d6d490\")>,\n",
       " <selenium.webdriver.remote.webelement.WebElement (session=\"738aee7b08bf9072932afc34c5e127b3\", element=\"09920ebc-5b7d-481c-a2f2-cc13eca13223\")>,\n",
       " <selenium.webdriver.remote.webelement.WebElement (session=\"738aee7b08bf9072932afc34c5e127b3\", element=\"a8ae63db-9148-4eb1-a97d-8e662c05ef31\")>,\n",
       " <selenium.webdriver.remote.webelement.WebElement (session=\"738aee7b08bf9072932afc34c5e127b3\", element=\"6c574b97-8774-4728-9f04-07c8ddff5393\")>,\n",
       " <selenium.webdriver.remote.webelement.WebElement (session=\"738aee7b08bf9072932afc34c5e127b3\", element=\"c8c430b8-b56b-4005-b5a0-0c3146f5b61a\")>,\n",
       " <selenium.webdriver.remote.webelement.WebElement (session=\"738aee7b08bf9072932afc34c5e127b3\", element=\"7a779cf5-bed2-474a-b11f-31ef1e393751\")>,\n",
       " <selenium.webdriver.remote.webelement.WebElement (session=\"738aee7b08bf9072932afc34c5e127b3\", element=\"e26dc664-274b-4415-addd-4f0c6ecb2f96\")>,\n",
       " <selenium.webdriver.remote.webelement.WebElement (session=\"738aee7b08bf9072932afc34c5e127b3\", element=\"f57a0084-8089-4278-9cf8-2db16a4867fc\")>,\n",
       " <selenium.webdriver.remote.webelement.WebElement (session=\"738aee7b08bf9072932afc34c5e127b3\", element=\"4c16c355-3700-45ff-9843-c6fc8dd2b9f1\")>]"
      ]
     },
     "execution_count": 21,
     "metadata": {},
     "output_type": "execute_result"
    }
   ],
   "source": [
    "job_exp=driver.find_elements_by_xpath('//span[contains(@title,\"Yrs\")]')\n",
    "job_exp"
   ]
  },
  {
   "cell_type": "code",
   "execution_count": 22,
   "id": "33d8add7",
   "metadata": {},
   "outputs": [],
   "source": [
    "job_ex=[]\n",
    "\n",
    "for i in job_exp:\n",
    "    job_ex.append(i.text)"
   ]
  },
  {
   "cell_type": "code",
   "execution_count": 23,
   "id": "a2f08dfb",
   "metadata": {},
   "outputs": [
    {
     "data": {
      "text/plain": [
       "['0-2 Yrs',\n",
       " '2-4 Yrs',\n",
       " '5-10 Yrs',\n",
       " '3-6 Yrs',\n",
       " '3-8 Yrs',\n",
       " '2-4 Yrs',\n",
       " '2-4 Yrs',\n",
       " '5-10 Yrs',\n",
       " '2-3 Yrs',\n",
       " '3-8 Yrs']"
      ]
     },
     "execution_count": 23,
     "metadata": {},
     "output_type": "execute_result"
    }
   ],
   "source": [
    "job_e=job_ex[0:10]\n",
    "job_e"
   ]
  },
  {
   "cell_type": "code",
   "execution_count": 24,
   "id": "a4f20c7b",
   "metadata": {},
   "outputs": [],
   "source": [
    "import pandas as pd"
   ]
  },
  {
   "cell_type": "code",
   "execution_count": 25,
   "id": "425b1998",
   "metadata": {},
   "outputs": [],
   "source": [
    "df=pd.DataFrame({\"Job Title\":job,\"Location\":job_l,\"Company Name\":job_c,\"Experience Required\":job_e})"
   ]
  },
  {
   "cell_type": "code",
   "execution_count": 26,
   "id": "38f4a069",
   "metadata": {},
   "outputs": [
    {
     "data": {
      "text/html": [
       "<div>\n",
       "<style scoped>\n",
       "    .dataframe tbody tr th:only-of-type {\n",
       "        vertical-align: middle;\n",
       "    }\n",
       "\n",
       "    .dataframe tbody tr th {\n",
       "        vertical-align: top;\n",
       "    }\n",
       "\n",
       "    .dataframe thead th {\n",
       "        text-align: right;\n",
       "    }\n",
       "</style>\n",
       "<table border=\"1\" class=\"dataframe\">\n",
       "  <thead>\n",
       "    <tr style=\"text-align: right;\">\n",
       "      <th></th>\n",
       "      <th>Job Title</th>\n",
       "      <th>Location</th>\n",
       "      <th>Company Name</th>\n",
       "      <th>Experience Required</th>\n",
       "    </tr>\n",
       "  </thead>\n",
       "  <tbody>\n",
       "    <tr>\n",
       "      <th>0</th>\n",
       "      <td>Hiring For Data Analyst I(SQL &amp; Python)</td>\n",
       "      <td>Bangalore/Bengaluru</td>\n",
       "      <td>Clario India Pvt Ltd</td>\n",
       "      <td>0-2 Yrs</td>\n",
       "    </tr>\n",
       "    <tr>\n",
       "      <th>1</th>\n",
       "      <td>Data Analyst - 3rd Party Payroll</td>\n",
       "      <td>Bangalore/Bengaluru</td>\n",
       "      <td>Flipkart</td>\n",
       "      <td>2-4 Yrs</td>\n",
       "    </tr>\n",
       "    <tr>\n",
       "      <th>2</th>\n",
       "      <td>Data Analyst I</td>\n",
       "      <td>Bangalore/Bengaluru</td>\n",
       "      <td>Cerner</td>\n",
       "      <td>5-10 Yrs</td>\n",
       "    </tr>\n",
       "    <tr>\n",
       "      <th>3</th>\n",
       "      <td>Senior Data Analyst II</td>\n",
       "      <td>Bangalore/Bengaluru</td>\n",
       "      <td>Flipkart</td>\n",
       "      <td>3-6 Yrs</td>\n",
       "    </tr>\n",
       "    <tr>\n",
       "      <th>4</th>\n",
       "      <td>Senior Data Analyst</td>\n",
       "      <td>Bangalore/Bengaluru</td>\n",
       "      <td>Flipkart</td>\n",
       "      <td>3-8 Yrs</td>\n",
       "    </tr>\n",
       "    <tr>\n",
       "      <th>5</th>\n",
       "      <td>Senior Data Analyst II</td>\n",
       "      <td>Bangalore/Bengaluru</td>\n",
       "      <td>Flipkart</td>\n",
       "      <td>2-4 Yrs</td>\n",
       "    </tr>\n",
       "    <tr>\n",
       "      <th>6</th>\n",
       "      <td>Senior Data Analyst II</td>\n",
       "      <td>Bangalore/Bengaluru</td>\n",
       "      <td>Flipkart</td>\n",
       "      <td>2-4 Yrs</td>\n",
       "    </tr>\n",
       "    <tr>\n",
       "      <th>7</th>\n",
       "      <td>Looking For Data Analyst - Remote Support</td>\n",
       "      <td>Hyderabad/Secunderabad, Chennai, Bangalore/Ben...</td>\n",
       "      <td>Locuz Enterprise Solutions Ltd</td>\n",
       "      <td>5-10 Yrs</td>\n",
       "    </tr>\n",
       "    <tr>\n",
       "      <th>8</th>\n",
       "      <td>Job openings For Data Analyst - AOA</td>\n",
       "      <td>Bangalore/Bengaluru(4th Phase JP Nagar)</td>\n",
       "      <td>izmo ltd</td>\n",
       "      <td>2-3 Yrs</td>\n",
       "    </tr>\n",
       "    <tr>\n",
       "      <th>9</th>\n",
       "      <td>Senior Data Analyst - Ads &amp; Promotion Platform...</td>\n",
       "      <td>Bangalore/Bengaluru</td>\n",
       "      <td>Gojek</td>\n",
       "      <td>3-8 Yrs</td>\n",
       "    </tr>\n",
       "  </tbody>\n",
       "</table>\n",
       "</div>"
      ],
      "text/plain": [
       "                                           Job Title  \\\n",
       "0            Hiring For Data Analyst I(SQL & Python)   \n",
       "1                   Data Analyst - 3rd Party Payroll   \n",
       "2                                     Data Analyst I   \n",
       "3                             Senior Data Analyst II   \n",
       "4                                Senior Data Analyst   \n",
       "5                             Senior Data Analyst II   \n",
       "6                             Senior Data Analyst II   \n",
       "7          Looking For Data Analyst - Remote Support   \n",
       "8                Job openings For Data Analyst - AOA   \n",
       "9  Senior Data Analyst - Ads & Promotion Platform...   \n",
       "\n",
       "                                            Location  \\\n",
       "0                                Bangalore/Bengaluru   \n",
       "1                                Bangalore/Bengaluru   \n",
       "2                                Bangalore/Bengaluru   \n",
       "3                                Bangalore/Bengaluru   \n",
       "4                                Bangalore/Bengaluru   \n",
       "5                                Bangalore/Bengaluru   \n",
       "6                                Bangalore/Bengaluru   \n",
       "7  Hyderabad/Secunderabad, Chennai, Bangalore/Ben...   \n",
       "8            Bangalore/Bengaluru(4th Phase JP Nagar)   \n",
       "9                                Bangalore/Bengaluru   \n",
       "\n",
       "                     Company Name Experience Required  \n",
       "0            Clario India Pvt Ltd             0-2 Yrs  \n",
       "1                        Flipkart             2-4 Yrs  \n",
       "2                          Cerner            5-10 Yrs  \n",
       "3                        Flipkart             3-6 Yrs  \n",
       "4                        Flipkart             3-8 Yrs  \n",
       "5                        Flipkart             2-4 Yrs  \n",
       "6                        Flipkart             2-4 Yrs  \n",
       "7  Locuz Enterprise Solutions Ltd            5-10 Yrs  \n",
       "8                        izmo ltd             2-3 Yrs  \n",
       "9                           Gojek             3-8 Yrs  "
      ]
     },
     "execution_count": 26,
     "metadata": {},
     "output_type": "execute_result"
    }
   ],
   "source": [
    "df"
   ]
  },
  {
   "cell_type": "markdown",
   "id": "a7609eb9",
   "metadata": {},
   "source": [
    "# Q2: Write a python program to scrape data for “Data Scientist” Job position in “Bangalore” location. You have to scrape the job-title, job-location, company_name. You have to scrape first 10 jobs data. This task will be done in following steps"
   ]
  },
  {
   "cell_type": "code",
   "execution_count": 27,
   "id": "d3d2d336",
   "metadata": {},
   "outputs": [],
   "source": [
    "driver=webdriver.Chrome(\"chromedriver.exe\")"
   ]
  },
  {
   "cell_type": "code",
   "execution_count": 28,
   "id": "c627b0d1",
   "metadata": {},
   "outputs": [],
   "source": [
    "url=\"https://www.naukri.com/\""
   ]
  },
  {
   "cell_type": "code",
   "execution_count": 29,
   "id": "e7bdf2f5",
   "metadata": {},
   "outputs": [],
   "source": [
    "driver.get(url)"
   ]
  },
  {
   "cell_type": "code",
   "execution_count": 30,
   "id": "16b08704",
   "metadata": {},
   "outputs": [
    {
     "data": {
      "text/plain": [
       "<selenium.webdriver.remote.webelement.WebElement (session=\"d0055cff0c329607e78d7337cae02f2e\", element=\"31666bf1-e7d7-41b3-ae5d-04f6b5237253\")>"
      ]
     },
     "execution_count": 30,
     "metadata": {},
     "output_type": "execute_result"
    }
   ],
   "source": [
    "srh_job=driver.find_element_by_class_name(\"suggestor-input\")\n",
    "srh_job"
   ]
  },
  {
   "cell_type": "code",
   "execution_count": 31,
   "id": "f6ee887f",
   "metadata": {},
   "outputs": [],
   "source": [
    "srh_job.send_keys(\"Data Scientist\")"
   ]
  },
  {
   "cell_type": "code",
   "execution_count": 32,
   "id": "ae7bae12",
   "metadata": {},
   "outputs": [
    {
     "data": {
      "text/plain": [
       "<selenium.webdriver.remote.webelement.WebElement (session=\"d0055cff0c329607e78d7337cae02f2e\", element=\"8cd5c8fa-80c4-4d5e-bb93-21bbd8c37683\")>"
      ]
     },
     "execution_count": 32,
     "metadata": {},
     "output_type": "execute_result"
    }
   ],
   "source": [
    "srh_loc=driver.find_element_by_xpath('/html/body/div/div[2]/div[3]/div/div/div[3]/div/div/div/input')\n",
    "srh_loc"
   ]
  },
  {
   "cell_type": "code",
   "execution_count": 33,
   "id": "2def58a0",
   "metadata": {},
   "outputs": [],
   "source": [
    "srh_loc.send_keys(\"Bangalore\")"
   ]
  },
  {
   "cell_type": "code",
   "execution_count": 34,
   "id": "f5f7d98c",
   "metadata": {},
   "outputs": [],
   "source": [
    "srh_button=driver.find_element_by_class_name(\"qsbSubmit\")\n",
    "srh_button.click()"
   ]
  },
  {
   "cell_type": "markdown",
   "id": "e3efb158",
   "metadata": {},
   "source": [
    "Scraping Job Titles"
   ]
  },
  {
   "cell_type": "code",
   "execution_count": 35,
   "id": "bc549f00",
   "metadata": {},
   "outputs": [
    {
     "data": {
      "text/plain": [
       "[<selenium.webdriver.remote.webelement.WebElement (session=\"d0055cff0c329607e78d7337cae02f2e\", element=\"5b969c77-51f4-4813-b9de-7bbae7b44ab7\")>,\n",
       " <selenium.webdriver.remote.webelement.WebElement (session=\"d0055cff0c329607e78d7337cae02f2e\", element=\"3b6822ca-4ccc-485d-9e82-9ef2369f4238\")>,\n",
       " <selenium.webdriver.remote.webelement.WebElement (session=\"d0055cff0c329607e78d7337cae02f2e\", element=\"9c0676dd-af82-4538-8d8e-1ef0d00a4fdb\")>,\n",
       " <selenium.webdriver.remote.webelement.WebElement (session=\"d0055cff0c329607e78d7337cae02f2e\", element=\"69c4e42c-6de9-48c4-963e-a84d56ccf170\")>,\n",
       " <selenium.webdriver.remote.webelement.WebElement (session=\"d0055cff0c329607e78d7337cae02f2e\", element=\"21681660-8dbf-4a76-bfd2-da703c6c1754\")>,\n",
       " <selenium.webdriver.remote.webelement.WebElement (session=\"d0055cff0c329607e78d7337cae02f2e\", element=\"21cbd50e-1520-4a67-9561-9f138625b6ab\")>,\n",
       " <selenium.webdriver.remote.webelement.WebElement (session=\"d0055cff0c329607e78d7337cae02f2e\", element=\"86000797-094d-45da-ba1c-383bb91f2017\")>,\n",
       " <selenium.webdriver.remote.webelement.WebElement (session=\"d0055cff0c329607e78d7337cae02f2e\", element=\"d67354bd-7099-4666-bdd9-b5bcee2191fe\")>,\n",
       " <selenium.webdriver.remote.webelement.WebElement (session=\"d0055cff0c329607e78d7337cae02f2e\", element=\"fbf1facf-fbe7-44bd-89e7-6ef8d695f9df\")>,\n",
       " <selenium.webdriver.remote.webelement.WebElement (session=\"d0055cff0c329607e78d7337cae02f2e\", element=\"567abb0b-eee9-419f-b612-d0e13ad7c830\")>,\n",
       " <selenium.webdriver.remote.webelement.WebElement (session=\"d0055cff0c329607e78d7337cae02f2e\", element=\"35728527-89bb-4e2e-91e2-c560550eeef8\")>,\n",
       " <selenium.webdriver.remote.webelement.WebElement (session=\"d0055cff0c329607e78d7337cae02f2e\", element=\"232d53f7-6e3b-4a4a-8245-9564eb723c9e\")>,\n",
       " <selenium.webdriver.remote.webelement.WebElement (session=\"d0055cff0c329607e78d7337cae02f2e\", element=\"83e84701-2c92-4330-a43f-3b30453da215\")>,\n",
       " <selenium.webdriver.remote.webelement.WebElement (session=\"d0055cff0c329607e78d7337cae02f2e\", element=\"f700cc5f-73ca-4a6a-9b1d-5f5fae54844d\")>,\n",
       " <selenium.webdriver.remote.webelement.WebElement (session=\"d0055cff0c329607e78d7337cae02f2e\", element=\"bd241b31-2425-44c6-b957-ec8ab6a4b705\")>,\n",
       " <selenium.webdriver.remote.webelement.WebElement (session=\"d0055cff0c329607e78d7337cae02f2e\", element=\"214c2462-f553-415a-8c4a-13cd0a88e80d\")>,\n",
       " <selenium.webdriver.remote.webelement.WebElement (session=\"d0055cff0c329607e78d7337cae02f2e\", element=\"f55879fe-4297-4527-b1d1-96c52f267256\")>,\n",
       " <selenium.webdriver.remote.webelement.WebElement (session=\"d0055cff0c329607e78d7337cae02f2e\", element=\"d6c5b0d3-7c9e-4277-a585-492f4e1d1d14\")>,\n",
       " <selenium.webdriver.remote.webelement.WebElement (session=\"d0055cff0c329607e78d7337cae02f2e\", element=\"6b759f9c-2271-490e-b8f9-4a51f6128f64\")>,\n",
       " <selenium.webdriver.remote.webelement.WebElement (session=\"d0055cff0c329607e78d7337cae02f2e\", element=\"54654938-a88d-46f5-acb2-08000fc200c0\")>]"
      ]
     },
     "execution_count": 35,
     "metadata": {},
     "output_type": "execute_result"
    }
   ],
   "source": [
    "job_title1=driver.find_elements_by_xpath('//a[@class=\"title fw500 ellipsis\"]')\n",
    "job_title1"
   ]
  },
  {
   "cell_type": "code",
   "execution_count": 36,
   "id": "aeffdf32",
   "metadata": {},
   "outputs": [],
   "source": [
    "job_tit1=[]\n",
    "\n",
    "for i in job_title1:\n",
    "    job_tit1.append(i.text)"
   ]
  },
  {
   "cell_type": "code",
   "execution_count": 37,
   "id": "4881f84d",
   "metadata": {},
   "outputs": [
    {
     "data": {
      "text/plain": [
       "['Senior Data Scientist (R Programming)',\n",
       " 'Sr Data Scientist',\n",
       " 'Data Scientist/Senior Data Scientist - Python',\n",
       " 'HCL Tech Opening - Lead Data Scientist',\n",
       " 'Sr . Data Scientist',\n",
       " 'Data Scientist III',\n",
       " 'Need Data scientists and data engineers - WFH- less than 30days notice',\n",
       " 'Principal Data Scientist',\n",
       " 'Data Scientist',\n",
       " 'Data Scientist']"
      ]
     },
     "execution_count": 37,
     "metadata": {},
     "output_type": "execute_result"
    }
   ],
   "source": [
    "job1=job_tit1[0:10]\n",
    "job1"
   ]
  },
  {
   "cell_type": "markdown",
   "id": "fcb74e87",
   "metadata": {},
   "source": [
    "Scraping Location"
   ]
  },
  {
   "cell_type": "code",
   "execution_count": 38,
   "id": "fb3f21e8",
   "metadata": {},
   "outputs": [
    {
     "data": {
      "text/plain": [
       "[<selenium.webdriver.remote.webelement.WebElement (session=\"d0055cff0c329607e78d7337cae02f2e\", element=\"36fa3276-1002-40d1-953e-7567848d9d0d\")>,\n",
       " <selenium.webdriver.remote.webelement.WebElement (session=\"d0055cff0c329607e78d7337cae02f2e\", element=\"2c0bcaed-d3b2-4283-8e5c-0b5097ae0f9c\")>,\n",
       " <selenium.webdriver.remote.webelement.WebElement (session=\"d0055cff0c329607e78d7337cae02f2e\", element=\"3050fafc-f4a8-4645-b4f8-6b7859a46b78\")>,\n",
       " <selenium.webdriver.remote.webelement.WebElement (session=\"d0055cff0c329607e78d7337cae02f2e\", element=\"a58d15f2-281e-47fc-867e-db641c72571d\")>,\n",
       " <selenium.webdriver.remote.webelement.WebElement (session=\"d0055cff0c329607e78d7337cae02f2e\", element=\"bbc3b742-1a75-462b-9025-99c043de1c1d\")>,\n",
       " <selenium.webdriver.remote.webelement.WebElement (session=\"d0055cff0c329607e78d7337cae02f2e\", element=\"b91d869c-b14e-43b8-b711-0a58a875c036\")>,\n",
       " <selenium.webdriver.remote.webelement.WebElement (session=\"d0055cff0c329607e78d7337cae02f2e\", element=\"7800f8c9-33c2-4ed6-aee2-c5c976494584\")>,\n",
       " <selenium.webdriver.remote.webelement.WebElement (session=\"d0055cff0c329607e78d7337cae02f2e\", element=\"986acba3-ee46-4827-aa3b-6be38ca13185\")>,\n",
       " <selenium.webdriver.remote.webelement.WebElement (session=\"d0055cff0c329607e78d7337cae02f2e\", element=\"0eefd397-064b-42a4-8837-c26d33d93837\")>,\n",
       " <selenium.webdriver.remote.webelement.WebElement (session=\"d0055cff0c329607e78d7337cae02f2e\", element=\"ba4290e1-c32f-4eee-b73f-9f2897a33991\")>,\n",
       " <selenium.webdriver.remote.webelement.WebElement (session=\"d0055cff0c329607e78d7337cae02f2e\", element=\"0bcde97f-ad32-4dfe-a4de-eb9dbbe41c1f\")>,\n",
       " <selenium.webdriver.remote.webelement.WebElement (session=\"d0055cff0c329607e78d7337cae02f2e\", element=\"f363940a-3f65-4854-8088-a05b8ef37f68\")>,\n",
       " <selenium.webdriver.remote.webelement.WebElement (session=\"d0055cff0c329607e78d7337cae02f2e\", element=\"9eb0541b-be59-4d77-a51b-db8eb535fdf8\")>,\n",
       " <selenium.webdriver.remote.webelement.WebElement (session=\"d0055cff0c329607e78d7337cae02f2e\", element=\"fe368bc1-24f8-45e5-bf6b-bdcb863b35c3\")>,\n",
       " <selenium.webdriver.remote.webelement.WebElement (session=\"d0055cff0c329607e78d7337cae02f2e\", element=\"9baef84e-774f-4028-ae1b-f4775c883c4a\")>,\n",
       " <selenium.webdriver.remote.webelement.WebElement (session=\"d0055cff0c329607e78d7337cae02f2e\", element=\"762c3a07-2800-4d4f-8d4a-40dbd0c9e82f\")>,\n",
       " <selenium.webdriver.remote.webelement.WebElement (session=\"d0055cff0c329607e78d7337cae02f2e\", element=\"5531ff03-6572-47e8-bf3b-decee36c15ba\")>,\n",
       " <selenium.webdriver.remote.webelement.WebElement (session=\"d0055cff0c329607e78d7337cae02f2e\", element=\"ef1f6344-6046-49a1-9f28-c166e16b872c\")>,\n",
       " <selenium.webdriver.remote.webelement.WebElement (session=\"d0055cff0c329607e78d7337cae02f2e\", element=\"e91716a9-c105-42ae-95c4-86bf967b2233\")>,\n",
       " <selenium.webdriver.remote.webelement.WebElement (session=\"d0055cff0c329607e78d7337cae02f2e\", element=\"b3322909-0d1f-4fcd-a07a-15a7d1edc83d\")>]"
      ]
     },
     "execution_count": 38,
     "metadata": {},
     "output_type": "execute_result"
    }
   ],
   "source": [
    "job_loc1=driver.find_elements_by_xpath('//li[@class=\"fleft grey-text br2 placeHolderLi location\"]//span[1]')\n",
    "job_loc1"
   ]
  },
  {
   "cell_type": "code",
   "execution_count": 39,
   "id": "bd499775",
   "metadata": {},
   "outputs": [],
   "source": [
    "job_location1=[]\n",
    "\n",
    "for i in job_loc1:\n",
    "    job_location1.append(i.text)"
   ]
  },
  {
   "cell_type": "code",
   "execution_count": 40,
   "id": "5ef5da49",
   "metadata": {},
   "outputs": [
    {
     "data": {
      "text/plain": [
       "['Remote',\n",
       " 'Bangalore/Bengaluru',\n",
       " 'Bangalore/Bengaluru',\n",
       " 'Kolkata, Hyderabad/Secunderabad, Pune, Chennai, Bangalore/Bengaluru, Delhi / NCR',\n",
       " 'Bangalore/Bengaluru',\n",
       " 'Bangalore/Bengaluru',\n",
       " 'Hyderabad/Secunderabad, Bangalore/Bengaluru, Mumbai (All Areas)',\n",
       " 'Bangalore/Bengaluru',\n",
       " 'Bangalore/Bengaluru',\n",
       " 'Pune, Gurgaon/Gurugram, Chennai, Bangalore/Bengaluru, Delhi / NCR, Mumbai (All Areas)',\n",
       " 'Bangalore/Bengaluru',\n",
       " 'Bangalore/Bengaluru',\n",
       " 'Kolkata, Mumbai, Hyderabad/Secunderabad, Pune, Chennai, Ahmedabad, Delhi / NCR, Bangalore/Bengaluru',\n",
       " 'Bangalore/Bengaluru',\n",
       " 'Bangalore/Bengaluru',\n",
       " 'Mumbai, Hyderabad/Secunderabad, Pune, Chennai, Bangalore/Bengaluru',\n",
       " 'Bangalore/Bengaluru',\n",
       " 'Bangalore/Bengaluru',\n",
       " 'Bangalore/Bengaluru',\n",
       " 'Bangalore/Bengaluru']"
      ]
     },
     "execution_count": 40,
     "metadata": {},
     "output_type": "execute_result"
    }
   ],
   "source": [
    "job_location1"
   ]
  },
  {
   "cell_type": "code",
   "execution_count": 41,
   "id": "7be7dd4c",
   "metadata": {},
   "outputs": [
    {
     "data": {
      "text/plain": [
       "['Bangalore/Bengaluru',\n",
       " 'Bangalore/Bengaluru',\n",
       " 'Kolkata, Hyderabad/Secunderabad, Pune, Chennai, Bangalore/Bengaluru, Delhi / NCR',\n",
       " 'Bangalore/Bengaluru',\n",
       " 'Bangalore/Bengaluru',\n",
       " 'Hyderabad/Secunderabad, Bangalore/Bengaluru, Mumbai (All Areas)',\n",
       " 'Bangalore/Bengaluru',\n",
       " 'Bangalore/Bengaluru',\n",
       " 'Pune, Gurgaon/Gurugram, Chennai, Bangalore/Bengaluru, Delhi / NCR, Mumbai (All Areas)',\n",
       " 'Bangalore/Bengaluru']"
      ]
     },
     "execution_count": 41,
     "metadata": {},
     "output_type": "execute_result"
    }
   ],
   "source": [
    "job_l1=job_location1[1:11]\n",
    "job_l1"
   ]
  },
  {
   "cell_type": "markdown",
   "id": "514e66af",
   "metadata": {},
   "source": [
    "Scraping company name"
   ]
  },
  {
   "cell_type": "code",
   "execution_count": 42,
   "id": "2e953251",
   "metadata": {},
   "outputs": [
    {
     "data": {
      "text/plain": [
       "[<selenium.webdriver.remote.webelement.WebElement (session=\"d0055cff0c329607e78d7337cae02f2e\", element=\"062e0b72-494a-4a8a-81d6-044f722984b0\")>,\n",
       " <selenium.webdriver.remote.webelement.WebElement (session=\"d0055cff0c329607e78d7337cae02f2e\", element=\"96f91f5b-d48c-417f-af55-d8e16bd2818e\")>,\n",
       " <selenium.webdriver.remote.webelement.WebElement (session=\"d0055cff0c329607e78d7337cae02f2e\", element=\"75d4653f-83c7-4fd7-8755-2fbc3bf4d5c1\")>,\n",
       " <selenium.webdriver.remote.webelement.WebElement (session=\"d0055cff0c329607e78d7337cae02f2e\", element=\"b4648cb0-8754-4c04-81dd-f6bc24094167\")>,\n",
       " <selenium.webdriver.remote.webelement.WebElement (session=\"d0055cff0c329607e78d7337cae02f2e\", element=\"f1893172-0383-464f-b73a-0b70626ea33a\")>,\n",
       " <selenium.webdriver.remote.webelement.WebElement (session=\"d0055cff0c329607e78d7337cae02f2e\", element=\"d275aab2-2832-4a98-93ec-8f14695ea16c\")>,\n",
       " <selenium.webdriver.remote.webelement.WebElement (session=\"d0055cff0c329607e78d7337cae02f2e\", element=\"5dc426cd-3a1c-43ad-ac0b-527c23702fc5\")>,\n",
       " <selenium.webdriver.remote.webelement.WebElement (session=\"d0055cff0c329607e78d7337cae02f2e\", element=\"d062b939-7149-4047-a595-17e25271163a\")>,\n",
       " <selenium.webdriver.remote.webelement.WebElement (session=\"d0055cff0c329607e78d7337cae02f2e\", element=\"4cd0016f-d23f-4a5f-8110-e6f950666ddd\")>,\n",
       " <selenium.webdriver.remote.webelement.WebElement (session=\"d0055cff0c329607e78d7337cae02f2e\", element=\"dcf87381-d88f-4750-bf0f-d6d07ca78f88\")>,\n",
       " <selenium.webdriver.remote.webelement.WebElement (session=\"d0055cff0c329607e78d7337cae02f2e\", element=\"b13e5264-3b77-4210-bd0f-2334a4cd6f60\")>,\n",
       " <selenium.webdriver.remote.webelement.WebElement (session=\"d0055cff0c329607e78d7337cae02f2e\", element=\"27231d0b-dde0-4dea-b9ac-957f4d5e2732\")>,\n",
       " <selenium.webdriver.remote.webelement.WebElement (session=\"d0055cff0c329607e78d7337cae02f2e\", element=\"0f89fbb7-96b1-4332-ac58-b3e2aa4b9fbb\")>,\n",
       " <selenium.webdriver.remote.webelement.WebElement (session=\"d0055cff0c329607e78d7337cae02f2e\", element=\"c0f5c1a9-e5d7-42b3-ac5d-57f35f43db8b\")>,\n",
       " <selenium.webdriver.remote.webelement.WebElement (session=\"d0055cff0c329607e78d7337cae02f2e\", element=\"b77224cf-cb2b-456c-aec7-401147306a77\")>,\n",
       " <selenium.webdriver.remote.webelement.WebElement (session=\"d0055cff0c329607e78d7337cae02f2e\", element=\"b1e0e92b-ff13-4adf-820e-f1bda6f32290\")>,\n",
       " <selenium.webdriver.remote.webelement.WebElement (session=\"d0055cff0c329607e78d7337cae02f2e\", element=\"eccbb8b7-ce73-45a6-9be4-2f4d6d88530e\")>,\n",
       " <selenium.webdriver.remote.webelement.WebElement (session=\"d0055cff0c329607e78d7337cae02f2e\", element=\"5209eee3-0651-45ca-a101-de499ca25f0a\")>,\n",
       " <selenium.webdriver.remote.webelement.WebElement (session=\"d0055cff0c329607e78d7337cae02f2e\", element=\"523e58ff-577e-49bf-8e94-a25ff9d7d6b5\")>,\n",
       " <selenium.webdriver.remote.webelement.WebElement (session=\"d0055cff0c329607e78d7337cae02f2e\", element=\"bccfabfc-173e-43e0-a34f-0302916797b7\")>]"
      ]
     },
     "execution_count": 42,
     "metadata": {},
     "output_type": "execute_result"
    }
   ],
   "source": [
    "job_com1=driver.find_elements_by_xpath('//a[@class=\"subTitle ellipsis fleft\"]')\n",
    "job_com1"
   ]
  },
  {
   "cell_type": "code",
   "execution_count": 43,
   "id": "7be9a5e3",
   "metadata": {},
   "outputs": [],
   "source": [
    "job_comp1=[]\n",
    "\n",
    "for i in job_com1:\n",
    "    job_comp1.append(i.text)"
   ]
  },
  {
   "cell_type": "code",
   "execution_count": 44,
   "id": "700a1236",
   "metadata": {},
   "outputs": [
    {
     "data": {
      "text/plain": [
       "['Uber',\n",
       " 'ApicalGo Consultancy',\n",
       " 'HCL',\n",
       " 'Visa',\n",
       " 'Groupon',\n",
       " 'Covalense Technologies Private Limited',\n",
       " 'Mobile Premier League',\n",
       " 'Shell',\n",
       " 'HDFC Bank',\n",
       " 'Connexions']"
      ]
     },
     "execution_count": 44,
     "metadata": {},
     "output_type": "execute_result"
    }
   ],
   "source": [
    "job_c1=job_comp1[1:11]\n",
    "job_c1"
   ]
  },
  {
   "cell_type": "code",
   "execution_count": 45,
   "id": "da96fd71",
   "metadata": {},
   "outputs": [],
   "source": [
    "df1=pd.DataFrame({\"Job Title\":job1,\"Location\":job_l1,\"Company Name\":job_c1})"
   ]
  },
  {
   "cell_type": "code",
   "execution_count": 46,
   "id": "83e3af0a",
   "metadata": {},
   "outputs": [
    {
     "data": {
      "text/html": [
       "<div>\n",
       "<style scoped>\n",
       "    .dataframe tbody tr th:only-of-type {\n",
       "        vertical-align: middle;\n",
       "    }\n",
       "\n",
       "    .dataframe tbody tr th {\n",
       "        vertical-align: top;\n",
       "    }\n",
       "\n",
       "    .dataframe thead th {\n",
       "        text-align: right;\n",
       "    }\n",
       "</style>\n",
       "<table border=\"1\" class=\"dataframe\">\n",
       "  <thead>\n",
       "    <tr style=\"text-align: right;\">\n",
       "      <th></th>\n",
       "      <th>Job Title</th>\n",
       "      <th>Location</th>\n",
       "      <th>Company Name</th>\n",
       "    </tr>\n",
       "  </thead>\n",
       "  <tbody>\n",
       "    <tr>\n",
       "      <th>0</th>\n",
       "      <td>Senior Data Scientist (R Programming)</td>\n",
       "      <td>Bangalore/Bengaluru</td>\n",
       "      <td>Uber</td>\n",
       "    </tr>\n",
       "    <tr>\n",
       "      <th>1</th>\n",
       "      <td>Sr Data Scientist</td>\n",
       "      <td>Bangalore/Bengaluru</td>\n",
       "      <td>ApicalGo Consultancy</td>\n",
       "    </tr>\n",
       "    <tr>\n",
       "      <th>2</th>\n",
       "      <td>Data Scientist/Senior Data Scientist - Python</td>\n",
       "      <td>Kolkata, Hyderabad/Secunderabad, Pune, Chennai...</td>\n",
       "      <td>HCL</td>\n",
       "    </tr>\n",
       "    <tr>\n",
       "      <th>3</th>\n",
       "      <td>HCL Tech Opening - Lead Data Scientist</td>\n",
       "      <td>Bangalore/Bengaluru</td>\n",
       "      <td>Visa</td>\n",
       "    </tr>\n",
       "    <tr>\n",
       "      <th>4</th>\n",
       "      <td>Sr . Data Scientist</td>\n",
       "      <td>Bangalore/Bengaluru</td>\n",
       "      <td>Groupon</td>\n",
       "    </tr>\n",
       "    <tr>\n",
       "      <th>5</th>\n",
       "      <td>Data Scientist III</td>\n",
       "      <td>Hyderabad/Secunderabad, Bangalore/Bengaluru, M...</td>\n",
       "      <td>Covalense Technologies Private Limited</td>\n",
       "    </tr>\n",
       "    <tr>\n",
       "      <th>6</th>\n",
       "      <td>Need Data scientists and data engineers - WFH-...</td>\n",
       "      <td>Bangalore/Bengaluru</td>\n",
       "      <td>Mobile Premier League</td>\n",
       "    </tr>\n",
       "    <tr>\n",
       "      <th>7</th>\n",
       "      <td>Principal Data Scientist</td>\n",
       "      <td>Bangalore/Bengaluru</td>\n",
       "      <td>Shell</td>\n",
       "    </tr>\n",
       "    <tr>\n",
       "      <th>8</th>\n",
       "      <td>Data Scientist</td>\n",
       "      <td>Pune, Gurgaon/Gurugram, Chennai, Bangalore/Ben...</td>\n",
       "      <td>HDFC Bank</td>\n",
       "    </tr>\n",
       "    <tr>\n",
       "      <th>9</th>\n",
       "      <td>Data Scientist</td>\n",
       "      <td>Bangalore/Bengaluru</td>\n",
       "      <td>Connexions</td>\n",
       "    </tr>\n",
       "  </tbody>\n",
       "</table>\n",
       "</div>"
      ],
      "text/plain": [
       "                                           Job Title  \\\n",
       "0              Senior Data Scientist (R Programming)   \n",
       "1                                  Sr Data Scientist   \n",
       "2      Data Scientist/Senior Data Scientist - Python   \n",
       "3             HCL Tech Opening - Lead Data Scientist   \n",
       "4                                Sr . Data Scientist   \n",
       "5                                 Data Scientist III   \n",
       "6  Need Data scientists and data engineers - WFH-...   \n",
       "7                           Principal Data Scientist   \n",
       "8                                     Data Scientist   \n",
       "9                                     Data Scientist   \n",
       "\n",
       "                                            Location  \\\n",
       "0                                Bangalore/Bengaluru   \n",
       "1                                Bangalore/Bengaluru   \n",
       "2  Kolkata, Hyderabad/Secunderabad, Pune, Chennai...   \n",
       "3                                Bangalore/Bengaluru   \n",
       "4                                Bangalore/Bengaluru   \n",
       "5  Hyderabad/Secunderabad, Bangalore/Bengaluru, M...   \n",
       "6                                Bangalore/Bengaluru   \n",
       "7                                Bangalore/Bengaluru   \n",
       "8  Pune, Gurgaon/Gurugram, Chennai, Bangalore/Ben...   \n",
       "9                                Bangalore/Bengaluru   \n",
       "\n",
       "                             Company Name  \n",
       "0                                    Uber  \n",
       "1                    ApicalGo Consultancy  \n",
       "2                                     HCL  \n",
       "3                                    Visa  \n",
       "4                                 Groupon  \n",
       "5  Covalense Technologies Private Limited  \n",
       "6                   Mobile Premier League  \n",
       "7                                   Shell  \n",
       "8                               HDFC Bank  \n",
       "9                              Connexions  "
      ]
     },
     "execution_count": 46,
     "metadata": {},
     "output_type": "execute_result"
    }
   ],
   "source": [
    "df1"
   ]
  },
  {
   "cell_type": "markdown",
   "id": "1e2411d0",
   "metadata": {},
   "source": [
    "# Q3: In this question you have to scrape data using the filters available on the webpage as shown below:"
   ]
  },
  {
   "cell_type": "markdown",
   "id": "861a14c5",
   "metadata": {},
   "source": [
    " 1.You have to use the location and salary filter.\n",
    " 2.You have to scrape data for “Data Scientist” designation for first 10 job results.\n",
    " 3.You have to scrape the job-title, job-location, company name, experience required.\n",
    " 4.The location filter to be used is “Delhi/NCR”. The salary filter to be used is \n",
    "“3-6” lakhs"
   ]
  },
  {
   "cell_type": "code",
   "execution_count": 47,
   "id": "796f78c3",
   "metadata": {},
   "outputs": [],
   "source": [
    "srh_bu=driver.find_element_by_xpath('/html/body/div[1]/div[3]/div[2]/section[1]/div[2]/div[3]/div[2]/div[4]/label/i')\n",
    "srh_bu.click()"
   ]
  },
  {
   "cell_type": "code",
   "execution_count": 48,
   "id": "d6cc066b",
   "metadata": {},
   "outputs": [
    {
     "ename": "NoSuchElementException",
     "evalue": "Message: no such element: Unable to locate element: {\"method\":\"xpath\",\"selector\":\"/html/body/div[1]/div[3]/div[2]/section[1]/div[2]/div[4]/div[2]/div[2]/label/p/span[1]\"}\n  (Session info: chrome=99.0.4844.74)\nStacktrace:\nBacktrace:\n\tOrdinal0 [0x002B9943+2595139]\n\tOrdinal0 [0x0024C9F1+2148849]\n\tOrdinal0 [0x00144528+1066280]\n\tOrdinal0 [0x00170FD4+1249236]\n\tOrdinal0 [0x001711CB+1249739]\n\tOrdinal0 [0x0019D812+1431570]\n\tOrdinal0 [0x0018BA34+1358388]\n\tOrdinal0 [0x0019BAF2+1424114]\n\tOrdinal0 [0x0018B806+1357830]\n\tOrdinal0 [0x00166086+1204358]\n\tOrdinal0 [0x00166F96+1208214]\n\tGetHandleVerifier [0x0045B232+1658114]\n\tGetHandleVerifier [0x0051312C+2411516]\n\tGetHandleVerifier [0x0034F261+560433]\n\tGetHandleVerifier [0x0034E366+556598]\n\tOrdinal0 [0x0025286B+2173035]\n\tOrdinal0 [0x002575F8+2192888]\n\tOrdinal0 [0x002576E5+2193125]\n\tOrdinal0 [0x002611FC+2232828]\n\tBaseThreadInitThunk [0x7731FA29+25]\n\tRtlGetAppContainerNamedObjectPath [0x77D57A7E+286]\n\tRtlGetAppContainerNamedObjectPath [0x77D57A4E+238]\n\t(No symbol) [0x00000000]\n",
     "output_type": "error",
     "traceback": [
      "\u001b[1;31m---------------------------------------------------------------------------\u001b[0m",
      "\u001b[1;31mNoSuchElementException\u001b[0m                    Traceback (most recent call last)",
      "\u001b[1;32m~\\AppData\\Local\\Temp/ipykernel_8924/267923248.py\u001b[0m in \u001b[0;36m<module>\u001b[1;34m\u001b[0m\n\u001b[1;32m----> 1\u001b[1;33m \u001b[0msrh_sa\u001b[0m\u001b[1;33m=\u001b[0m\u001b[0mdriver\u001b[0m\u001b[1;33m.\u001b[0m\u001b[0mfind_element_by_xpath\u001b[0m\u001b[1;33m(\u001b[0m\u001b[1;34m'/html/body/div[1]/div[3]/div[2]/section[1]/div[2]/div[4]/div[2]/div[2]/label/p/span[1]'\u001b[0m\u001b[1;33m)\u001b[0m\u001b[1;33m\u001b[0m\u001b[1;33m\u001b[0m\u001b[0m\n\u001b[0m\u001b[0;32m      2\u001b[0m \u001b[0msrh_sa\u001b[0m\u001b[1;33m.\u001b[0m\u001b[0mclick\u001b[0m\u001b[1;33m(\u001b[0m\u001b[1;33m)\u001b[0m\u001b[1;33m\u001b[0m\u001b[1;33m\u001b[0m\u001b[0m\n",
      "\u001b[1;32mC:\\ProgramData\\Anaconda3\\lib\\site-packages\\selenium\\webdriver\\remote\\webdriver.py\u001b[0m in \u001b[0;36mfind_element_by_xpath\u001b[1;34m(self, xpath)\u001b[0m\n\u001b[0;32m    519\u001b[0m             \u001b[0mstacklevel\u001b[0m\u001b[1;33m=\u001b[0m\u001b[1;36m2\u001b[0m\u001b[1;33m,\u001b[0m\u001b[1;33m\u001b[0m\u001b[1;33m\u001b[0m\u001b[0m\n\u001b[0;32m    520\u001b[0m         )\n\u001b[1;32m--> 521\u001b[1;33m         \u001b[1;32mreturn\u001b[0m \u001b[0mself\u001b[0m\u001b[1;33m.\u001b[0m\u001b[0mfind_element\u001b[0m\u001b[1;33m(\u001b[0m\u001b[0mby\u001b[0m\u001b[1;33m=\u001b[0m\u001b[0mBy\u001b[0m\u001b[1;33m.\u001b[0m\u001b[0mXPATH\u001b[0m\u001b[1;33m,\u001b[0m \u001b[0mvalue\u001b[0m\u001b[1;33m=\u001b[0m\u001b[0mxpath\u001b[0m\u001b[1;33m)\u001b[0m\u001b[1;33m\u001b[0m\u001b[1;33m\u001b[0m\u001b[0m\n\u001b[0m\u001b[0;32m    522\u001b[0m \u001b[1;33m\u001b[0m\u001b[0m\n\u001b[0;32m    523\u001b[0m     \u001b[1;32mdef\u001b[0m \u001b[0mfind_elements_by_xpath\u001b[0m\u001b[1;33m(\u001b[0m\u001b[0mself\u001b[0m\u001b[1;33m,\u001b[0m \u001b[0mxpath\u001b[0m\u001b[1;33m)\u001b[0m \u001b[1;33m->\u001b[0m \u001b[0mList\u001b[0m\u001b[1;33m[\u001b[0m\u001b[0mWebElement\u001b[0m\u001b[1;33m]\u001b[0m\u001b[1;33m:\u001b[0m\u001b[1;33m\u001b[0m\u001b[1;33m\u001b[0m\u001b[0m\n",
      "\u001b[1;32mC:\\ProgramData\\Anaconda3\\lib\\site-packages\\selenium\\webdriver\\remote\\webdriver.py\u001b[0m in \u001b[0;36mfind_element\u001b[1;34m(self, by, value)\u001b[0m\n\u001b[0;32m   1246\u001b[0m             \u001b[0mvalue\u001b[0m \u001b[1;33m=\u001b[0m \u001b[1;34m'[name=\"%s\"]'\u001b[0m \u001b[1;33m%\u001b[0m \u001b[0mvalue\u001b[0m\u001b[1;33m\u001b[0m\u001b[1;33m\u001b[0m\u001b[0m\n\u001b[0;32m   1247\u001b[0m \u001b[1;33m\u001b[0m\u001b[0m\n\u001b[1;32m-> 1248\u001b[1;33m         return self.execute(Command.FIND_ELEMENT, {\n\u001b[0m\u001b[0;32m   1249\u001b[0m             \u001b[1;34m'using'\u001b[0m\u001b[1;33m:\u001b[0m \u001b[0mby\u001b[0m\u001b[1;33m,\u001b[0m\u001b[1;33m\u001b[0m\u001b[1;33m\u001b[0m\u001b[0m\n\u001b[0;32m   1250\u001b[0m             'value': value})['value']\n",
      "\u001b[1;32mC:\\ProgramData\\Anaconda3\\lib\\site-packages\\selenium\\webdriver\\remote\\webdriver.py\u001b[0m in \u001b[0;36mexecute\u001b[1;34m(self, driver_command, params)\u001b[0m\n\u001b[0;32m    423\u001b[0m         \u001b[0mresponse\u001b[0m \u001b[1;33m=\u001b[0m \u001b[0mself\u001b[0m\u001b[1;33m.\u001b[0m\u001b[0mcommand_executor\u001b[0m\u001b[1;33m.\u001b[0m\u001b[0mexecute\u001b[0m\u001b[1;33m(\u001b[0m\u001b[0mdriver_command\u001b[0m\u001b[1;33m,\u001b[0m \u001b[0mparams\u001b[0m\u001b[1;33m)\u001b[0m\u001b[1;33m\u001b[0m\u001b[1;33m\u001b[0m\u001b[0m\n\u001b[0;32m    424\u001b[0m         \u001b[1;32mif\u001b[0m \u001b[0mresponse\u001b[0m\u001b[1;33m:\u001b[0m\u001b[1;33m\u001b[0m\u001b[1;33m\u001b[0m\u001b[0m\n\u001b[1;32m--> 425\u001b[1;33m             \u001b[0mself\u001b[0m\u001b[1;33m.\u001b[0m\u001b[0merror_handler\u001b[0m\u001b[1;33m.\u001b[0m\u001b[0mcheck_response\u001b[0m\u001b[1;33m(\u001b[0m\u001b[0mresponse\u001b[0m\u001b[1;33m)\u001b[0m\u001b[1;33m\u001b[0m\u001b[1;33m\u001b[0m\u001b[0m\n\u001b[0m\u001b[0;32m    426\u001b[0m             response['value'] = self._unwrap_value(\n\u001b[0;32m    427\u001b[0m                 response.get('value', None))\n",
      "\u001b[1;32mC:\\ProgramData\\Anaconda3\\lib\\site-packages\\selenium\\webdriver\\remote\\errorhandler.py\u001b[0m in \u001b[0;36mcheck_response\u001b[1;34m(self, response)\u001b[0m\n\u001b[0;32m    245\u001b[0m                 \u001b[0malert_text\u001b[0m \u001b[1;33m=\u001b[0m \u001b[0mvalue\u001b[0m\u001b[1;33m[\u001b[0m\u001b[1;34m'alert'\u001b[0m\u001b[1;33m]\u001b[0m\u001b[1;33m.\u001b[0m\u001b[0mget\u001b[0m\u001b[1;33m(\u001b[0m\u001b[1;34m'text'\u001b[0m\u001b[1;33m)\u001b[0m\u001b[1;33m\u001b[0m\u001b[1;33m\u001b[0m\u001b[0m\n\u001b[0;32m    246\u001b[0m             \u001b[1;32mraise\u001b[0m \u001b[0mexception_class\u001b[0m\u001b[1;33m(\u001b[0m\u001b[0mmessage\u001b[0m\u001b[1;33m,\u001b[0m \u001b[0mscreen\u001b[0m\u001b[1;33m,\u001b[0m \u001b[0mstacktrace\u001b[0m\u001b[1;33m,\u001b[0m \u001b[0malert_text\u001b[0m\u001b[1;33m)\u001b[0m  \u001b[1;31m# type: ignore[call-arg]  # mypy is not smart enough here\u001b[0m\u001b[1;33m\u001b[0m\u001b[1;33m\u001b[0m\u001b[0m\n\u001b[1;32m--> 247\u001b[1;33m         \u001b[1;32mraise\u001b[0m \u001b[0mexception_class\u001b[0m\u001b[1;33m(\u001b[0m\u001b[0mmessage\u001b[0m\u001b[1;33m,\u001b[0m \u001b[0mscreen\u001b[0m\u001b[1;33m,\u001b[0m \u001b[0mstacktrace\u001b[0m\u001b[1;33m)\u001b[0m\u001b[1;33m\u001b[0m\u001b[1;33m\u001b[0m\u001b[0m\n\u001b[0m\u001b[0;32m    248\u001b[0m \u001b[1;33m\u001b[0m\u001b[0m\n\u001b[0;32m    249\u001b[0m     \u001b[1;32mdef\u001b[0m \u001b[0m_value_or_default\u001b[0m\u001b[1;33m(\u001b[0m\u001b[0mself\u001b[0m\u001b[1;33m,\u001b[0m \u001b[0mobj\u001b[0m\u001b[1;33m:\u001b[0m \u001b[0mMapping\u001b[0m\u001b[1;33m[\u001b[0m\u001b[0m_KT\u001b[0m\u001b[1;33m,\u001b[0m \u001b[0m_VT\u001b[0m\u001b[1;33m]\u001b[0m\u001b[1;33m,\u001b[0m \u001b[0mkey\u001b[0m\u001b[1;33m:\u001b[0m \u001b[0m_KT\u001b[0m\u001b[1;33m,\u001b[0m \u001b[0mdefault\u001b[0m\u001b[1;33m:\u001b[0m \u001b[0m_VT\u001b[0m\u001b[1;33m)\u001b[0m \u001b[1;33m->\u001b[0m \u001b[0m_VT\u001b[0m\u001b[1;33m:\u001b[0m\u001b[1;33m\u001b[0m\u001b[1;33m\u001b[0m\u001b[0m\n",
      "\u001b[1;31mNoSuchElementException\u001b[0m: Message: no such element: Unable to locate element: {\"method\":\"xpath\",\"selector\":\"/html/body/div[1]/div[3]/div[2]/section[1]/div[2]/div[4]/div[2]/div[2]/label/p/span[1]\"}\n  (Session info: chrome=99.0.4844.74)\nStacktrace:\nBacktrace:\n\tOrdinal0 [0x002B9943+2595139]\n\tOrdinal0 [0x0024C9F1+2148849]\n\tOrdinal0 [0x00144528+1066280]\n\tOrdinal0 [0x00170FD4+1249236]\n\tOrdinal0 [0x001711CB+1249739]\n\tOrdinal0 [0x0019D812+1431570]\n\tOrdinal0 [0x0018BA34+1358388]\n\tOrdinal0 [0x0019BAF2+1424114]\n\tOrdinal0 [0x0018B806+1357830]\n\tOrdinal0 [0x00166086+1204358]\n\tOrdinal0 [0x00166F96+1208214]\n\tGetHandleVerifier [0x0045B232+1658114]\n\tGetHandleVerifier [0x0051312C+2411516]\n\tGetHandleVerifier [0x0034F261+560433]\n\tGetHandleVerifier [0x0034E366+556598]\n\tOrdinal0 [0x0025286B+2173035]\n\tOrdinal0 [0x002575F8+2192888]\n\tOrdinal0 [0x002576E5+2193125]\n\tOrdinal0 [0x002611FC+2232828]\n\tBaseThreadInitThunk [0x7731FA29+25]\n\tRtlGetAppContainerNamedObjectPath [0x77D57A7E+286]\n\tRtlGetAppContainerNamedObjectPath [0x77D57A4E+238]\n\t(No symbol) [0x00000000]\n"
     ]
    }
   ],
   "source": [
    "srh_sa=driver.find_element_by_xpath('/html/body/div[1]/div[3]/div[2]/section[1]/div[2]/div[4]/div[2]/div[2]/label/p/span[1]')\n",
    "srh_sa.click()"
   ]
  },
  {
   "cell_type": "markdown",
   "id": "efede887",
   "metadata": {},
   "source": [
    "Scraping Job Titles"
   ]
  },
  {
   "cell_type": "code",
   "execution_count": 49,
   "id": "8f0859ea",
   "metadata": {},
   "outputs": [
    {
     "data": {
      "text/plain": [
       "[<selenium.webdriver.remote.webelement.WebElement (session=\"d0055cff0c329607e78d7337cae02f2e\", element=\"8f2ddced-0c9e-42da-a398-c4272cfc802d\")>,\n",
       " <selenium.webdriver.remote.webelement.WebElement (session=\"d0055cff0c329607e78d7337cae02f2e\", element=\"7734d933-d096-44d7-bba2-704f7cee6b03\")>,\n",
       " <selenium.webdriver.remote.webelement.WebElement (session=\"d0055cff0c329607e78d7337cae02f2e\", element=\"2d815c22-b109-496d-9806-eb17865765e0\")>,\n",
       " <selenium.webdriver.remote.webelement.WebElement (session=\"d0055cff0c329607e78d7337cae02f2e\", element=\"fb81e8e5-dc56-4a17-a13f-22916b3a6a22\")>,\n",
       " <selenium.webdriver.remote.webelement.WebElement (session=\"d0055cff0c329607e78d7337cae02f2e\", element=\"580f48f8-dffb-428e-a4cb-653cac2cada8\")>,\n",
       " <selenium.webdriver.remote.webelement.WebElement (session=\"d0055cff0c329607e78d7337cae02f2e\", element=\"88b6b961-e0b0-40ab-b018-ce99879ba16e\")>,\n",
       " <selenium.webdriver.remote.webelement.WebElement (session=\"d0055cff0c329607e78d7337cae02f2e\", element=\"d8c8e7ec-2cdf-472f-a7c8-552048ad0bcd\")>,\n",
       " <selenium.webdriver.remote.webelement.WebElement (session=\"d0055cff0c329607e78d7337cae02f2e\", element=\"df683bd0-b528-4338-a876-0223a1d0284b\")>,\n",
       " <selenium.webdriver.remote.webelement.WebElement (session=\"d0055cff0c329607e78d7337cae02f2e\", element=\"73a4c9a1-5bc3-43f3-811d-39630b528414\")>,\n",
       " <selenium.webdriver.remote.webelement.WebElement (session=\"d0055cff0c329607e78d7337cae02f2e\", element=\"854e5ac8-a74b-4980-b56c-b7449a3abcdb\")>,\n",
       " <selenium.webdriver.remote.webelement.WebElement (session=\"d0055cff0c329607e78d7337cae02f2e\", element=\"73506d40-0b65-4646-a01f-19621e8b6208\")>,\n",
       " <selenium.webdriver.remote.webelement.WebElement (session=\"d0055cff0c329607e78d7337cae02f2e\", element=\"89e640ab-6279-4365-95c6-d6efbbb5fe48\")>,\n",
       " <selenium.webdriver.remote.webelement.WebElement (session=\"d0055cff0c329607e78d7337cae02f2e\", element=\"8d04ac88-512d-4810-a57d-c779008094ff\")>,\n",
       " <selenium.webdriver.remote.webelement.WebElement (session=\"d0055cff0c329607e78d7337cae02f2e\", element=\"549bce1b-b513-4dd9-ac8a-894a5dbfc345\")>,\n",
       " <selenium.webdriver.remote.webelement.WebElement (session=\"d0055cff0c329607e78d7337cae02f2e\", element=\"ee055deb-e646-46ee-aa31-0be1a6c41f5d\")>,\n",
       " <selenium.webdriver.remote.webelement.WebElement (session=\"d0055cff0c329607e78d7337cae02f2e\", element=\"ec48dcc7-d852-415d-bf19-9373d54a6f88\")>,\n",
       " <selenium.webdriver.remote.webelement.WebElement (session=\"d0055cff0c329607e78d7337cae02f2e\", element=\"4a7caf25-563d-420a-b95f-1e4ebfd4d6c6\")>,\n",
       " <selenium.webdriver.remote.webelement.WebElement (session=\"d0055cff0c329607e78d7337cae02f2e\", element=\"1687e629-68c1-4e92-903e-93738c747107\")>,\n",
       " <selenium.webdriver.remote.webelement.WebElement (session=\"d0055cff0c329607e78d7337cae02f2e\", element=\"14531a11-fbca-4643-93bb-fd7b00372f14\")>,\n",
       " <selenium.webdriver.remote.webelement.WebElement (session=\"d0055cff0c329607e78d7337cae02f2e\", element=\"da588bfe-d4bc-4b7d-aae1-066fe55f6544\")>]"
      ]
     },
     "execution_count": 49,
     "metadata": {},
     "output_type": "execute_result"
    }
   ],
   "source": [
    "job_title1=driver.find_elements_by_xpath('//a[@class=\"title fw500 ellipsis\"]')\n",
    "job_title1"
   ]
  },
  {
   "cell_type": "code",
   "execution_count": 50,
   "id": "392a01cd",
   "metadata": {},
   "outputs": [],
   "source": [
    "job_tit2=[]\n",
    "\n",
    "for i in job_title1:\n",
    "    job_tit2.append(i.text)"
   ]
  },
  {
   "cell_type": "code",
   "execution_count": 51,
   "id": "4f5fe548",
   "metadata": {},
   "outputs": [
    {
     "data": {
      "text/plain": [
       "['HCL Tech Opening - Lead Data Scientist',\n",
       " 'Data Scientist',\n",
       " 'Data Scientist - Machine Learning',\n",
       " 'Forecasting Analyst/ Data Scientist (US Client)',\n",
       " 'Excellent Opportunity For Freshers For AI/ML, Data Scientist, BI, QA',\n",
       " 'Data Scientist',\n",
       " 'Senior Data Scientist',\n",
       " 'Data Scientist',\n",
       " 'Virtusa Hiring DATA Scientist- PAN India',\n",
       " 'Data Scientist - NLP/ML/Python']"
      ]
     },
     "execution_count": 51,
     "metadata": {},
     "output_type": "execute_result"
    }
   ],
   "source": [
    "job1=job_tit2[0:10]\n",
    "job1"
   ]
  },
  {
   "cell_type": "markdown",
   "id": "3194ebe6",
   "metadata": {},
   "source": [
    "Scraping Location"
   ]
  },
  {
   "cell_type": "code",
   "execution_count": 52,
   "id": "353d07cc",
   "metadata": {},
   "outputs": [
    {
     "data": {
      "text/plain": [
       "[<selenium.webdriver.remote.webelement.WebElement (session=\"d0055cff0c329607e78d7337cae02f2e\", element=\"4152f5dd-0b3b-44ad-8f04-65e4949b04af\")>,\n",
       " <selenium.webdriver.remote.webelement.WebElement (session=\"d0055cff0c329607e78d7337cae02f2e\", element=\"2e8d4de0-cae9-405e-8143-ad9469caed07\")>,\n",
       " <selenium.webdriver.remote.webelement.WebElement (session=\"d0055cff0c329607e78d7337cae02f2e\", element=\"161f510e-c819-4ea5-a69b-ca614bfe3a0c\")>,\n",
       " <selenium.webdriver.remote.webelement.WebElement (session=\"d0055cff0c329607e78d7337cae02f2e\", element=\"3401a401-f916-4ed5-8a55-f8c4f410d228\")>,\n",
       " <selenium.webdriver.remote.webelement.WebElement (session=\"d0055cff0c329607e78d7337cae02f2e\", element=\"ea2af50a-0775-4711-bcfc-94aed12c4d5e\")>,\n",
       " <selenium.webdriver.remote.webelement.WebElement (session=\"d0055cff0c329607e78d7337cae02f2e\", element=\"79fd9327-81d4-46eb-9d6b-322f1fd4d5a1\")>,\n",
       " <selenium.webdriver.remote.webelement.WebElement (session=\"d0055cff0c329607e78d7337cae02f2e\", element=\"8665f4f7-04d9-4210-8dfe-33faf2f471d7\")>,\n",
       " <selenium.webdriver.remote.webelement.WebElement (session=\"d0055cff0c329607e78d7337cae02f2e\", element=\"7280e75b-4231-4a94-9997-40df89a22e43\")>,\n",
       " <selenium.webdriver.remote.webelement.WebElement (session=\"d0055cff0c329607e78d7337cae02f2e\", element=\"74d2909d-803a-43a2-8a1e-ac5d8889fe3f\")>,\n",
       " <selenium.webdriver.remote.webelement.WebElement (session=\"d0055cff0c329607e78d7337cae02f2e\", element=\"2b75d841-a7a9-421d-8808-5439574a8433\")>,\n",
       " <selenium.webdriver.remote.webelement.WebElement (session=\"d0055cff0c329607e78d7337cae02f2e\", element=\"6fdb4008-e2f5-432b-b20b-1262c62692ab\")>,\n",
       " <selenium.webdriver.remote.webelement.WebElement (session=\"d0055cff0c329607e78d7337cae02f2e\", element=\"3b4de4f5-46c0-4d43-b71f-ec961a4cb345\")>,\n",
       " <selenium.webdriver.remote.webelement.WebElement (session=\"d0055cff0c329607e78d7337cae02f2e\", element=\"914350e4-c86c-4722-a382-107db411f315\")>,\n",
       " <selenium.webdriver.remote.webelement.WebElement (session=\"d0055cff0c329607e78d7337cae02f2e\", element=\"aed93a13-cf8b-4ec9-b635-bcdda81bb0c6\")>,\n",
       " <selenium.webdriver.remote.webelement.WebElement (session=\"d0055cff0c329607e78d7337cae02f2e\", element=\"a4360df1-74f7-4fcd-b089-f963a3a714c7\")>,\n",
       " <selenium.webdriver.remote.webelement.WebElement (session=\"d0055cff0c329607e78d7337cae02f2e\", element=\"0b90ee75-c4bf-4153-8b81-b95e149f5908\")>,\n",
       " <selenium.webdriver.remote.webelement.WebElement (session=\"d0055cff0c329607e78d7337cae02f2e\", element=\"d7afa9a5-6087-495a-9f0b-58b52143ce97\")>,\n",
       " <selenium.webdriver.remote.webelement.WebElement (session=\"d0055cff0c329607e78d7337cae02f2e\", element=\"0f0b6e5d-b2a0-4374-9251-0920b4881c38\")>,\n",
       " <selenium.webdriver.remote.webelement.WebElement (session=\"d0055cff0c329607e78d7337cae02f2e\", element=\"308293a2-9804-44ad-bcee-67b824df5f7c\")>,\n",
       " <selenium.webdriver.remote.webelement.WebElement (session=\"d0055cff0c329607e78d7337cae02f2e\", element=\"1147ac74-b74e-4b48-a3b9-3b060cb7b9b9\")>]"
      ]
     },
     "execution_count": 52,
     "metadata": {},
     "output_type": "execute_result"
    }
   ],
   "source": [
    "job_loc1=driver.find_elements_by_xpath('//li[@class=\"fleft grey-text br2 placeHolderLi location\"]//span[1]')\n",
    "job_loc1"
   ]
  },
  {
   "cell_type": "code",
   "execution_count": 53,
   "id": "d11b469e",
   "metadata": {},
   "outputs": [],
   "source": [
    "job_location3=[]\n",
    "\n",
    "for i in job_loc1:\n",
    "    job_location3.append(i.text)"
   ]
  },
  {
   "cell_type": "code",
   "execution_count": 54,
   "id": "cf506f9d",
   "metadata": {},
   "outputs": [
    {
     "data": {
      "text/plain": [
       "['Kolkata, Hyderabad/Secunderabad, Pune, Chennai, Bangalore/Bengaluru, Delhi / NCR',\n",
       " 'Pune, Gurgaon/Gurugram, Chennai, Bangalore/Bengaluru, Delhi / NCR, Mumbai (All Areas)',\n",
       " 'Kolkata, Mumbai, Hyderabad/Secunderabad, Pune, Chennai, Ahmedabad, Delhi / NCR, Bangalore/Bengaluru',\n",
       " 'Gurgaon/Gurugram, Bangalore/Bengaluru',\n",
       " 'Noida, Kolkata, Hyderabad/Secunderabad, Pune, Chennai, Bangalore/Bengaluru, Delhi / NCR, Mumbai (All Areas)',\n",
       " 'New Delhi, Gurgaon/Gurugram, Bangalore/Bengaluru, Delhi / NCR, Mumbai (All Areas)',\n",
       " 'Noida, Pune, Bangalore/Bengaluru',\n",
       " 'Gurgaon/Gurugram, Bangalore/Bengaluru',\n",
       " 'Hyderabad/Secunderabad, Pune, Gurgaon/Gurugram, Chennai, Bangalore/Bengaluru, Mumbai (All Areas)',\n",
       " 'Gurgaon/Gurugram, Bangalore/Bengaluru',\n",
       " 'Hyderabad/Secunderabad, Chennai, Bangalore/Bengaluru, Delhi / NCR',\n",
       " 'Bangalore/Bengaluru, Delhi / NCR, Mumbai (All Areas)',\n",
       " 'Kochi/Cochin, Hyderabad/Secunderabad, Pune, Chennai, Delhi / NCR, Bangalore/Bengaluru',\n",
       " 'Hyderabad/Secunderabad, Pune, Gurgaon/Gurugram, Bangalore/Bengaluru, Delhi / NCR',\n",
       " 'Noida, Bangalore/Bengaluru',\n",
       " 'Hyderabad/Secunderabad, Pune, Chennai, Bangalore/Bengaluru, Delhi / NCR, Mumbai (All Areas)',\n",
       " 'Navi Mumbai, New Delhi, Bangalore/Bengaluru',\n",
       " 'Hyderabad/Secunderabad, Pune, Ahmedabad, Chennai, Bangalore/Bengaluru, Delhi / NCR, Mumbai (All Areas)',\n",
       " 'Kolkata, Hyderabad/Secunderabad, Pune, Chennai, Bangalore/Bengaluru, Delhi / NCR, Mumbai (All Areas)',\n",
       " 'Noida, Chennai, Bangalore/Bengaluru']"
      ]
     },
     "execution_count": 54,
     "metadata": {},
     "output_type": "execute_result"
    }
   ],
   "source": [
    "job_location3"
   ]
  },
  {
   "cell_type": "code",
   "execution_count": 55,
   "id": "175a308c",
   "metadata": {},
   "outputs": [
    {
     "data": {
      "text/plain": [
       "['Kolkata, Hyderabad/Secunderabad, Pune, Chennai, Bangalore/Bengaluru, Delhi / NCR',\n",
       " 'Pune, Gurgaon/Gurugram, Chennai, Bangalore/Bengaluru, Delhi / NCR, Mumbai (All Areas)',\n",
       " 'Kolkata, Mumbai, Hyderabad/Secunderabad, Pune, Chennai, Ahmedabad, Delhi / NCR, Bangalore/Bengaluru',\n",
       " 'Gurgaon/Gurugram, Bangalore/Bengaluru',\n",
       " 'Noida, Kolkata, Hyderabad/Secunderabad, Pune, Chennai, Bangalore/Bengaluru, Delhi / NCR, Mumbai (All Areas)',\n",
       " 'New Delhi, Gurgaon/Gurugram, Bangalore/Bengaluru, Delhi / NCR, Mumbai (All Areas)',\n",
       " 'Noida, Pune, Bangalore/Bengaluru',\n",
       " 'Gurgaon/Gurugram, Bangalore/Bengaluru',\n",
       " 'Hyderabad/Secunderabad, Pune, Gurgaon/Gurugram, Chennai, Bangalore/Bengaluru, Mumbai (All Areas)',\n",
       " 'Gurgaon/Gurugram, Bangalore/Bengaluru']"
      ]
     },
     "execution_count": 55,
     "metadata": {},
     "output_type": "execute_result"
    }
   ],
   "source": [
    "job_l1=job_location3[0:10]\n",
    "job_l1"
   ]
  },
  {
   "cell_type": "markdown",
   "id": "de045466",
   "metadata": {},
   "source": [
    "Scraping company name"
   ]
  },
  {
   "cell_type": "code",
   "execution_count": 56,
   "id": "f98d2850",
   "metadata": {},
   "outputs": [
    {
     "data": {
      "text/plain": [
       "[<selenium.webdriver.remote.webelement.WebElement (session=\"d0055cff0c329607e78d7337cae02f2e\", element=\"5987a9fc-4144-4595-b779-a8cc7ba8dde5\")>,\n",
       " <selenium.webdriver.remote.webelement.WebElement (session=\"d0055cff0c329607e78d7337cae02f2e\", element=\"f5cfb889-32b4-4bb1-a5ac-f30cea922e89\")>,\n",
       " <selenium.webdriver.remote.webelement.WebElement (session=\"d0055cff0c329607e78d7337cae02f2e\", element=\"c0c1f32d-0fed-40c3-bcdd-278edbba9714\")>,\n",
       " <selenium.webdriver.remote.webelement.WebElement (session=\"d0055cff0c329607e78d7337cae02f2e\", element=\"76e4f570-85bc-4359-b5de-685c328dda53\")>,\n",
       " <selenium.webdriver.remote.webelement.WebElement (session=\"d0055cff0c329607e78d7337cae02f2e\", element=\"43ab8cf1-5cc7-4a70-b6dc-2741396c6d36\")>,\n",
       " <selenium.webdriver.remote.webelement.WebElement (session=\"d0055cff0c329607e78d7337cae02f2e\", element=\"56fbdf89-c1c1-48ec-8891-5bd470275c45\")>,\n",
       " <selenium.webdriver.remote.webelement.WebElement (session=\"d0055cff0c329607e78d7337cae02f2e\", element=\"7881efa4-ad35-434f-8deb-28c8d9ef4a84\")>,\n",
       " <selenium.webdriver.remote.webelement.WebElement (session=\"d0055cff0c329607e78d7337cae02f2e\", element=\"1e93cd7c-8996-4d9b-98a1-e7f92a0f8cb4\")>,\n",
       " <selenium.webdriver.remote.webelement.WebElement (session=\"d0055cff0c329607e78d7337cae02f2e\", element=\"aa49f684-c688-41d7-a3d9-9d27b8503b29\")>,\n",
       " <selenium.webdriver.remote.webelement.WebElement (session=\"d0055cff0c329607e78d7337cae02f2e\", element=\"adf8e34b-75e2-4617-85ef-45065700810d\")>,\n",
       " <selenium.webdriver.remote.webelement.WebElement (session=\"d0055cff0c329607e78d7337cae02f2e\", element=\"1ad71a4a-41dd-42b6-b594-9d9ee8d57591\")>,\n",
       " <selenium.webdriver.remote.webelement.WebElement (session=\"d0055cff0c329607e78d7337cae02f2e\", element=\"01cbf007-ce0d-482d-aad9-2085f926a4ef\")>,\n",
       " <selenium.webdriver.remote.webelement.WebElement (session=\"d0055cff0c329607e78d7337cae02f2e\", element=\"1c080449-6322-43cc-a015-1b7e18413352\")>,\n",
       " <selenium.webdriver.remote.webelement.WebElement (session=\"d0055cff0c329607e78d7337cae02f2e\", element=\"a3a89f33-0d94-40bc-9d94-2c22c5c81596\")>,\n",
       " <selenium.webdriver.remote.webelement.WebElement (session=\"d0055cff0c329607e78d7337cae02f2e\", element=\"6f10640c-9ede-4a71-8617-ebfb8abc90f8\")>,\n",
       " <selenium.webdriver.remote.webelement.WebElement (session=\"d0055cff0c329607e78d7337cae02f2e\", element=\"77123059-72db-4ab2-b7b7-92ba1dfc2b70\")>,\n",
       " <selenium.webdriver.remote.webelement.WebElement (session=\"d0055cff0c329607e78d7337cae02f2e\", element=\"002ff89d-1343-43cc-b735-7ebb5d1d9708\")>,\n",
       " <selenium.webdriver.remote.webelement.WebElement (session=\"d0055cff0c329607e78d7337cae02f2e\", element=\"8df09ca1-e225-4d09-b54a-112279a0adad\")>,\n",
       " <selenium.webdriver.remote.webelement.WebElement (session=\"d0055cff0c329607e78d7337cae02f2e\", element=\"4a2d84f4-495a-4d69-85af-23397c94d71a\")>,\n",
       " <selenium.webdriver.remote.webelement.WebElement (session=\"d0055cff0c329607e78d7337cae02f2e\", element=\"6c2878f9-374f-4645-9e50-2027a1ef403d\")>]"
      ]
     },
     "execution_count": 56,
     "metadata": {},
     "output_type": "execute_result"
    }
   ],
   "source": [
    "job_com1=driver.find_elements_by_xpath('//a[@class=\"subTitle ellipsis fleft\"]')\n",
    "job_com1"
   ]
  },
  {
   "cell_type": "code",
   "execution_count": 57,
   "id": "78ef01bc",
   "metadata": {},
   "outputs": [],
   "source": [
    "job_comp2=[]\n",
    "\n",
    "for i in job_com1:\n",
    "    job_comp2.append(i.text)"
   ]
  },
  {
   "cell_type": "code",
   "execution_count": 58,
   "id": "737511ec",
   "metadata": {},
   "outputs": [
    {
     "data": {
      "text/plain": [
       "['HCL',\n",
       " 'HDFC Bank',\n",
       " 'Corner Tree Consulting',\n",
       " 'Concentrix',\n",
       " 'NTT Data',\n",
       " 'Korea Trade Center',\n",
       " 'Precisely',\n",
       " 'Genpact',\n",
       " 'Virtusa',\n",
       " 'Elixir Web Solutions']"
      ]
     },
     "execution_count": 58,
     "metadata": {},
     "output_type": "execute_result"
    }
   ],
   "source": [
    "job_c1=job_comp2[0:10]\n",
    "job_c1"
   ]
  },
  {
   "cell_type": "code",
   "execution_count": 59,
   "id": "4b990609",
   "metadata": {},
   "outputs": [
    {
     "data": {
      "text/plain": [
       "[<selenium.webdriver.remote.webelement.WebElement (session=\"d0055cff0c329607e78d7337cae02f2e\", element=\"ee8c735a-0913-4912-bb82-5c1eaf654ff9\")>,\n",
       " <selenium.webdriver.remote.webelement.WebElement (session=\"d0055cff0c329607e78d7337cae02f2e\", element=\"89dcaf49-b3d6-415a-9eba-555268fdfbc6\")>,\n",
       " <selenium.webdriver.remote.webelement.WebElement (session=\"d0055cff0c329607e78d7337cae02f2e\", element=\"1af03ef1-81aa-4b3b-bdb4-68d69a84c9fc\")>,\n",
       " <selenium.webdriver.remote.webelement.WebElement (session=\"d0055cff0c329607e78d7337cae02f2e\", element=\"196ed656-b1a6-4af0-b60e-87403607e317\")>,\n",
       " <selenium.webdriver.remote.webelement.WebElement (session=\"d0055cff0c329607e78d7337cae02f2e\", element=\"0364309f-6feb-431e-812f-be1ee9a6c1ef\")>,\n",
       " <selenium.webdriver.remote.webelement.WebElement (session=\"d0055cff0c329607e78d7337cae02f2e\", element=\"20832743-89e9-4cd0-bbb7-4f54abe6ce7d\")>,\n",
       " <selenium.webdriver.remote.webelement.WebElement (session=\"d0055cff0c329607e78d7337cae02f2e\", element=\"a0c325c3-5965-4520-b54d-b4e8266afaf3\")>,\n",
       " <selenium.webdriver.remote.webelement.WebElement (session=\"d0055cff0c329607e78d7337cae02f2e\", element=\"707cdc44-39f9-4161-a744-95ea583e197f\")>,\n",
       " <selenium.webdriver.remote.webelement.WebElement (session=\"d0055cff0c329607e78d7337cae02f2e\", element=\"1bf7d526-fbb4-4f20-952e-f833fa7027d1\")>,\n",
       " <selenium.webdriver.remote.webelement.WebElement (session=\"d0055cff0c329607e78d7337cae02f2e\", element=\"fdf05d69-8a25-4a85-a008-ef453b73ace6\")>,\n",
       " <selenium.webdriver.remote.webelement.WebElement (session=\"d0055cff0c329607e78d7337cae02f2e\", element=\"5ed62f4f-2548-4cb1-a9ed-c3854cfbea9d\")>,\n",
       " <selenium.webdriver.remote.webelement.WebElement (session=\"d0055cff0c329607e78d7337cae02f2e\", element=\"4fd51c28-f0c3-4487-89cb-3c9393c35a5b\")>,\n",
       " <selenium.webdriver.remote.webelement.WebElement (session=\"d0055cff0c329607e78d7337cae02f2e\", element=\"7970054b-6be2-4f54-ac25-0a34948e51e6\")>,\n",
       " <selenium.webdriver.remote.webelement.WebElement (session=\"d0055cff0c329607e78d7337cae02f2e\", element=\"5578334f-c59c-4b35-aacc-ef5d10d2536f\")>,\n",
       " <selenium.webdriver.remote.webelement.WebElement (session=\"d0055cff0c329607e78d7337cae02f2e\", element=\"c6f08bef-5966-44e0-8d02-57c2b43dc5b1\")>,\n",
       " <selenium.webdriver.remote.webelement.WebElement (session=\"d0055cff0c329607e78d7337cae02f2e\", element=\"781c0ee6-5f1f-4945-a586-8461df324473\")>,\n",
       " <selenium.webdriver.remote.webelement.WebElement (session=\"d0055cff0c329607e78d7337cae02f2e\", element=\"bc8d5a25-5b02-4925-a319-d6074775ad2a\")>,\n",
       " <selenium.webdriver.remote.webelement.WebElement (session=\"d0055cff0c329607e78d7337cae02f2e\", element=\"dee8a566-6159-40cd-af2b-64080c463115\")>,\n",
       " <selenium.webdriver.remote.webelement.WebElement (session=\"d0055cff0c329607e78d7337cae02f2e\", element=\"e329039c-aded-4567-8823-eefaa6b99dfa\")>,\n",
       " <selenium.webdriver.remote.webelement.WebElement (session=\"d0055cff0c329607e78d7337cae02f2e\", element=\"6f552872-e47b-4a63-938d-58f1029576e6\")>]"
      ]
     },
     "execution_count": 59,
     "metadata": {},
     "output_type": "execute_result"
    }
   ],
   "source": [
    "job_exp=driver.find_elements_by_xpath('//span[contains(@title,\"Yrs\")]')\n",
    "job_exp"
   ]
  },
  {
   "cell_type": "code",
   "execution_count": 60,
   "id": "89011659",
   "metadata": {},
   "outputs": [],
   "source": [
    "job_ex2=[]\n",
    "\n",
    "for i in job_exp:\n",
    "    job_ex2.append(i.text)"
   ]
  },
  {
   "cell_type": "code",
   "execution_count": 61,
   "id": "06f1cb99",
   "metadata": {},
   "outputs": [
    {
     "data": {
      "text/plain": [
       "['10-20 Yrs',\n",
       " '1-6 Yrs',\n",
       " '6-10 Yrs',\n",
       " '3-8 Yrs',\n",
       " '0-0 Yrs',\n",
       " '3-4 Yrs',\n",
       " '3-6 Yrs',\n",
       " '6-10 Yrs',\n",
       " '5-9 Yrs',\n",
       " '8-13 Yrs']"
      ]
     },
     "execution_count": 61,
     "metadata": {},
     "output_type": "execute_result"
    }
   ],
   "source": [
    "job_e=job_ex2[0:10]\n",
    "job_e"
   ]
  },
  {
   "cell_type": "code",
   "execution_count": 62,
   "id": "8d56f7fd",
   "metadata": {},
   "outputs": [],
   "source": [
    "df3=pd.DataFrame({\"Job Title\":job1,\"Location\":job_l1,\"Company Name\":job_c1,\"Experience\":job_e})"
   ]
  },
  {
   "cell_type": "code",
   "execution_count": 63,
   "id": "e60292a9",
   "metadata": {},
   "outputs": [
    {
     "data": {
      "text/html": [
       "<div>\n",
       "<style scoped>\n",
       "    .dataframe tbody tr th:only-of-type {\n",
       "        vertical-align: middle;\n",
       "    }\n",
       "\n",
       "    .dataframe tbody tr th {\n",
       "        vertical-align: top;\n",
       "    }\n",
       "\n",
       "    .dataframe thead th {\n",
       "        text-align: right;\n",
       "    }\n",
       "</style>\n",
       "<table border=\"1\" class=\"dataframe\">\n",
       "  <thead>\n",
       "    <tr style=\"text-align: right;\">\n",
       "      <th></th>\n",
       "      <th>Job Title</th>\n",
       "      <th>Location</th>\n",
       "      <th>Company Name</th>\n",
       "      <th>Experience</th>\n",
       "    </tr>\n",
       "  </thead>\n",
       "  <tbody>\n",
       "    <tr>\n",
       "      <th>0</th>\n",
       "      <td>HCL Tech Opening - Lead Data Scientist</td>\n",
       "      <td>Kolkata, Hyderabad/Secunderabad, Pune, Chennai...</td>\n",
       "      <td>HCL</td>\n",
       "      <td>10-20 Yrs</td>\n",
       "    </tr>\n",
       "    <tr>\n",
       "      <th>1</th>\n",
       "      <td>Data Scientist</td>\n",
       "      <td>Pune, Gurgaon/Gurugram, Chennai, Bangalore/Ben...</td>\n",
       "      <td>HDFC Bank</td>\n",
       "      <td>1-6 Yrs</td>\n",
       "    </tr>\n",
       "    <tr>\n",
       "      <th>2</th>\n",
       "      <td>Data Scientist - Machine Learning</td>\n",
       "      <td>Kolkata, Mumbai, Hyderabad/Secunderabad, Pune,...</td>\n",
       "      <td>Corner Tree Consulting</td>\n",
       "      <td>6-10 Yrs</td>\n",
       "    </tr>\n",
       "    <tr>\n",
       "      <th>3</th>\n",
       "      <td>Forecasting Analyst/ Data Scientist (US Client)</td>\n",
       "      <td>Gurgaon/Gurugram, Bangalore/Bengaluru</td>\n",
       "      <td>Concentrix</td>\n",
       "      <td>3-8 Yrs</td>\n",
       "    </tr>\n",
       "    <tr>\n",
       "      <th>4</th>\n",
       "      <td>Excellent Opportunity For Freshers For AI/ML, ...</td>\n",
       "      <td>Noida, Kolkata, Hyderabad/Secunderabad, Pune, ...</td>\n",
       "      <td>NTT Data</td>\n",
       "      <td>0-0 Yrs</td>\n",
       "    </tr>\n",
       "    <tr>\n",
       "      <th>5</th>\n",
       "      <td>Data Scientist</td>\n",
       "      <td>New Delhi, Gurgaon/Gurugram, Bangalore/Bengalu...</td>\n",
       "      <td>Korea Trade Center</td>\n",
       "      <td>3-4 Yrs</td>\n",
       "    </tr>\n",
       "    <tr>\n",
       "      <th>6</th>\n",
       "      <td>Senior Data Scientist</td>\n",
       "      <td>Noida, Pune, Bangalore/Bengaluru</td>\n",
       "      <td>Precisely</td>\n",
       "      <td>3-6 Yrs</td>\n",
       "    </tr>\n",
       "    <tr>\n",
       "      <th>7</th>\n",
       "      <td>Data Scientist</td>\n",
       "      <td>Gurgaon/Gurugram, Bangalore/Bengaluru</td>\n",
       "      <td>Genpact</td>\n",
       "      <td>6-10 Yrs</td>\n",
       "    </tr>\n",
       "    <tr>\n",
       "      <th>8</th>\n",
       "      <td>Virtusa Hiring DATA Scientist- PAN India</td>\n",
       "      <td>Hyderabad/Secunderabad, Pune, Gurgaon/Gurugram...</td>\n",
       "      <td>Virtusa</td>\n",
       "      <td>5-9 Yrs</td>\n",
       "    </tr>\n",
       "    <tr>\n",
       "      <th>9</th>\n",
       "      <td>Data Scientist - NLP/ML/Python</td>\n",
       "      <td>Gurgaon/Gurugram, Bangalore/Bengaluru</td>\n",
       "      <td>Elixir Web Solutions</td>\n",
       "      <td>8-13 Yrs</td>\n",
       "    </tr>\n",
       "  </tbody>\n",
       "</table>\n",
       "</div>"
      ],
      "text/plain": [
       "                                           Job Title  \\\n",
       "0             HCL Tech Opening - Lead Data Scientist   \n",
       "1                                     Data Scientist   \n",
       "2                  Data Scientist - Machine Learning   \n",
       "3    Forecasting Analyst/ Data Scientist (US Client)   \n",
       "4  Excellent Opportunity For Freshers For AI/ML, ...   \n",
       "5                                     Data Scientist   \n",
       "6                              Senior Data Scientist   \n",
       "7                                     Data Scientist   \n",
       "8           Virtusa Hiring DATA Scientist- PAN India   \n",
       "9                     Data Scientist - NLP/ML/Python   \n",
       "\n",
       "                                            Location            Company Name  \\\n",
       "0  Kolkata, Hyderabad/Secunderabad, Pune, Chennai...                     HCL   \n",
       "1  Pune, Gurgaon/Gurugram, Chennai, Bangalore/Ben...               HDFC Bank   \n",
       "2  Kolkata, Mumbai, Hyderabad/Secunderabad, Pune,...  Corner Tree Consulting   \n",
       "3              Gurgaon/Gurugram, Bangalore/Bengaluru              Concentrix   \n",
       "4  Noida, Kolkata, Hyderabad/Secunderabad, Pune, ...                NTT Data   \n",
       "5  New Delhi, Gurgaon/Gurugram, Bangalore/Bengalu...      Korea Trade Center   \n",
       "6                   Noida, Pune, Bangalore/Bengaluru               Precisely   \n",
       "7              Gurgaon/Gurugram, Bangalore/Bengaluru                 Genpact   \n",
       "8  Hyderabad/Secunderabad, Pune, Gurgaon/Gurugram...                 Virtusa   \n",
       "9              Gurgaon/Gurugram, Bangalore/Bengaluru    Elixir Web Solutions   \n",
       "\n",
       "  Experience  \n",
       "0  10-20 Yrs  \n",
       "1    1-6 Yrs  \n",
       "2   6-10 Yrs  \n",
       "3    3-8 Yrs  \n",
       "4    0-0 Yrs  \n",
       "5    3-4 Yrs  \n",
       "6    3-6 Yrs  \n",
       "7   6-10 Yrs  \n",
       "8    5-9 Yrs  \n",
       "9   8-13 Yrs  "
      ]
     },
     "execution_count": 63,
     "metadata": {},
     "output_type": "execute_result"
    }
   ],
   "source": [
    "df3"
   ]
  },
  {
   "cell_type": "markdown",
   "id": "e368d5cc",
   "metadata": {},
   "source": [
    "# Q4: Scrape data of first 100 sunglasses listings on flipkart.com. You have to scrape four attributes: 1. Brand 2. Product Description 3. Price"
   ]
  },
  {
   "cell_type": "code",
   "execution_count": 64,
   "id": "c8fd945b",
   "metadata": {},
   "outputs": [],
   "source": [
    "import selenium \n",
    "from selenium import webdriver\n",
    "import warnings\n",
    "warnings.filterwarnings('ignore')"
   ]
  },
  {
   "cell_type": "code",
   "execution_count": 65,
   "id": "39a0afed",
   "metadata": {},
   "outputs": [],
   "source": [
    "driver=webdriver.Chrome(\"chromedriver.exe\")"
   ]
  },
  {
   "cell_type": "code",
   "execution_count": 66,
   "id": "8e42a54b",
   "metadata": {},
   "outputs": [],
   "source": [
    "url=\"https://www.flipkart.com/\""
   ]
  },
  {
   "cell_type": "code",
   "execution_count": 67,
   "id": "0ada7ead",
   "metadata": {},
   "outputs": [],
   "source": [
    "driver.get(url)"
   ]
  },
  {
   "cell_type": "code",
   "execution_count": 68,
   "id": "e4d1290b",
   "metadata": {},
   "outputs": [
    {
     "data": {
      "text/plain": [
       "<selenium.webdriver.remote.webelement.WebElement (session=\"05d830be6fb2dc57b98d6ffd90153a54\", element=\"a222570e-afda-4a95-a810-ccc55173da14\")>"
      ]
     },
     "execution_count": 68,
     "metadata": {},
     "output_type": "execute_result"
    }
   ],
   "source": [
    "srh_flip=driver.find_element_by_xpath('/html/body/div[1]/div/div[1]/div[1]/div[2]/div[2]/form/div/div/input')\n",
    "srh_flip"
   ]
  },
  {
   "cell_type": "code",
   "execution_count": 69,
   "id": "d36eca09",
   "metadata": {},
   "outputs": [],
   "source": [
    "srh_flip.send_keys(\"Sunglasses\")"
   ]
  },
  {
   "cell_type": "code",
   "execution_count": 70,
   "id": "6651402e",
   "metadata": {},
   "outputs": [],
   "source": [
    "srh_butto=driver.find_element_by_class_name(\"L0Z3Pu\")\n",
    "srh_butto.click()"
   ]
  },
  {
   "cell_type": "code",
   "execution_count": 73,
   "id": "7cea3ba3",
   "metadata": {},
   "outputs": [
    {
     "data": {
      "text/plain": [
       "[<selenium.webdriver.remote.webelement.WebElement (session=\"05d830be6fb2dc57b98d6ffd90153a54\", element=\"cd5b6c6f-a053-4d9d-9e32-14990773ddc5\")>,\n",
       " <selenium.webdriver.remote.webelement.WebElement (session=\"05d830be6fb2dc57b98d6ffd90153a54\", element=\"727423b8-e798-4bc5-84ca-466727505b29\")>,\n",
       " <selenium.webdriver.remote.webelement.WebElement (session=\"05d830be6fb2dc57b98d6ffd90153a54\", element=\"9fedeb61-2f72-4017-a00a-7b324e3979d1\")>,\n",
       " <selenium.webdriver.remote.webelement.WebElement (session=\"05d830be6fb2dc57b98d6ffd90153a54\", element=\"39d3a3ea-7876-4ca9-946b-31f26c565b9c\")>,\n",
       " <selenium.webdriver.remote.webelement.WebElement (session=\"05d830be6fb2dc57b98d6ffd90153a54\", element=\"5eaa207e-72f3-458c-a543-2db8f55f3c2a\")>,\n",
       " <selenium.webdriver.remote.webelement.WebElement (session=\"05d830be6fb2dc57b98d6ffd90153a54\", element=\"17354d2c-7306-4d08-b89a-8c4372d4b2a4\")>,\n",
       " <selenium.webdriver.remote.webelement.WebElement (session=\"05d830be6fb2dc57b98d6ffd90153a54\", element=\"dbaf4b8a-79fc-46e6-bbbf-99cd876f0ed3\")>,\n",
       " <selenium.webdriver.remote.webelement.WebElement (session=\"05d830be6fb2dc57b98d6ffd90153a54\", element=\"7f117b03-fb79-470b-990e-667f990e4139\")>,\n",
       " <selenium.webdriver.remote.webelement.WebElement (session=\"05d830be6fb2dc57b98d6ffd90153a54\", element=\"4784ae67-f56a-4baf-85f2-284bf413c1e5\")>,\n",
       " <selenium.webdriver.remote.webelement.WebElement (session=\"05d830be6fb2dc57b98d6ffd90153a54\", element=\"5da3e6a1-273e-4965-a335-bd4fac28dfe7\")>,\n",
       " <selenium.webdriver.remote.webelement.WebElement (session=\"05d830be6fb2dc57b98d6ffd90153a54\", element=\"113aa8de-01ac-49e9-b15b-fd6b35b502ec\")>,\n",
       " <selenium.webdriver.remote.webelement.WebElement (session=\"05d830be6fb2dc57b98d6ffd90153a54\", element=\"02da6186-ad15-4a13-9a54-cabbb68d2156\")>,\n",
       " <selenium.webdriver.remote.webelement.WebElement (session=\"05d830be6fb2dc57b98d6ffd90153a54\", element=\"5443c81e-81d8-42c5-9370-071396ab9993\")>,\n",
       " <selenium.webdriver.remote.webelement.WebElement (session=\"05d830be6fb2dc57b98d6ffd90153a54\", element=\"15d79831-60ef-4304-bf37-a0a9013d83d1\")>,\n",
       " <selenium.webdriver.remote.webelement.WebElement (session=\"05d830be6fb2dc57b98d6ffd90153a54\", element=\"a98fc61d-d6d9-4a26-b2bc-b524dc086bac\")>,\n",
       " <selenium.webdriver.remote.webelement.WebElement (session=\"05d830be6fb2dc57b98d6ffd90153a54\", element=\"c6c89016-793a-46c6-a14d-fb9967db330a\")>,\n",
       " <selenium.webdriver.remote.webelement.WebElement (session=\"05d830be6fb2dc57b98d6ffd90153a54\", element=\"be987c45-b11a-4a18-8743-50c6beed152e\")>,\n",
       " <selenium.webdriver.remote.webelement.WebElement (session=\"05d830be6fb2dc57b98d6ffd90153a54\", element=\"b880d241-e9ec-4bb4-80ea-ed717bd69b1a\")>,\n",
       " <selenium.webdriver.remote.webelement.WebElement (session=\"05d830be6fb2dc57b98d6ffd90153a54\", element=\"938e0464-c605-4a4d-a027-89bc998824be\")>,\n",
       " <selenium.webdriver.remote.webelement.WebElement (session=\"05d830be6fb2dc57b98d6ffd90153a54\", element=\"dc0934ec-3f8d-43c1-a920-0ba7e85c82bc\")>,\n",
       " <selenium.webdriver.remote.webelement.WebElement (session=\"05d830be6fb2dc57b98d6ffd90153a54\", element=\"28b192e9-dbb4-41f3-8cc2-37b0b6c480dc\")>,\n",
       " <selenium.webdriver.remote.webelement.WebElement (session=\"05d830be6fb2dc57b98d6ffd90153a54\", element=\"3f61d627-aecd-44ae-b77e-9efdd12b830a\")>,\n",
       " <selenium.webdriver.remote.webelement.WebElement (session=\"05d830be6fb2dc57b98d6ffd90153a54\", element=\"cf15659a-798e-4f9b-bd1b-8817a741fd3c\")>,\n",
       " <selenium.webdriver.remote.webelement.WebElement (session=\"05d830be6fb2dc57b98d6ffd90153a54\", element=\"f5d35a50-0fbf-44fb-933e-e9d8e4bbb957\")>,\n",
       " <selenium.webdriver.remote.webelement.WebElement (session=\"05d830be6fb2dc57b98d6ffd90153a54\", element=\"eb0cccc6-24b1-418c-ae42-d8713e309ff5\")>,\n",
       " <selenium.webdriver.remote.webelement.WebElement (session=\"05d830be6fb2dc57b98d6ffd90153a54\", element=\"2a2cfe11-89a1-4269-86b5-e008f24dcbe4\")>,\n",
       " <selenium.webdriver.remote.webelement.WebElement (session=\"05d830be6fb2dc57b98d6ffd90153a54\", element=\"77ff1217-dc66-4c77-8874-d3ef1c8227e1\")>,\n",
       " <selenium.webdriver.remote.webelement.WebElement (session=\"05d830be6fb2dc57b98d6ffd90153a54\", element=\"81088771-aba5-434e-8e01-8a1e9a6ea9ed\")>,\n",
       " <selenium.webdriver.remote.webelement.WebElement (session=\"05d830be6fb2dc57b98d6ffd90153a54\", element=\"8b575db2-20fa-4b7d-93e0-24e634b2ac2e\")>,\n",
       " <selenium.webdriver.remote.webelement.WebElement (session=\"05d830be6fb2dc57b98d6ffd90153a54\", element=\"a0b6d0e8-3cab-4583-94b8-1a85ae064a69\")>,\n",
       " <selenium.webdriver.remote.webelement.WebElement (session=\"05d830be6fb2dc57b98d6ffd90153a54\", element=\"a006af61-9c81-4e41-9cae-35b844259a6e\")>,\n",
       " <selenium.webdriver.remote.webelement.WebElement (session=\"05d830be6fb2dc57b98d6ffd90153a54\", element=\"dba3fef0-cb38-47ce-af0e-934d9a267964\")>,\n",
       " <selenium.webdriver.remote.webelement.WebElement (session=\"05d830be6fb2dc57b98d6ffd90153a54\", element=\"d30a2894-afa2-42cc-b7ce-dcc7ee5a03bf\")>,\n",
       " <selenium.webdriver.remote.webelement.WebElement (session=\"05d830be6fb2dc57b98d6ffd90153a54\", element=\"a818ba40-2bed-4468-b79d-8213c49330dc\")>,\n",
       " <selenium.webdriver.remote.webelement.WebElement (session=\"05d830be6fb2dc57b98d6ffd90153a54\", element=\"44ba4930-3824-4d2b-95f1-7d2b3c83a32d\")>,\n",
       " <selenium.webdriver.remote.webelement.WebElement (session=\"05d830be6fb2dc57b98d6ffd90153a54\", element=\"1fa131b5-8539-4d0e-9993-d7c024d9fd61\")>,\n",
       " <selenium.webdriver.remote.webelement.WebElement (session=\"05d830be6fb2dc57b98d6ffd90153a54\", element=\"2c654dae-2b0d-42fb-b8de-836ca2b82787\")>,\n",
       " <selenium.webdriver.remote.webelement.WebElement (session=\"05d830be6fb2dc57b98d6ffd90153a54\", element=\"63f12875-c6b9-4b7e-bf56-4569c6d58d0c\")>,\n",
       " <selenium.webdriver.remote.webelement.WebElement (session=\"05d830be6fb2dc57b98d6ffd90153a54\", element=\"aa0edfab-8aa1-4d63-a5b1-fad808673292\")>,\n",
       " <selenium.webdriver.remote.webelement.WebElement (session=\"05d830be6fb2dc57b98d6ffd90153a54\", element=\"b7e0cfe3-8723-468d-8c4b-b70c68b2d35b\")>]"
      ]
     },
     "execution_count": 73,
     "metadata": {},
     "output_type": "execute_result"
    }
   ],
   "source": [
    "job_title1=driver.find_elements_by_xpath('//div[@class=\"_2WkVRV\"]')\n",
    "job_title1"
   ]
  },
  {
   "cell_type": "code",
   "execution_count": 74,
   "id": "cb2fb3a8",
   "metadata": {},
   "outputs": [],
   "source": [
    "job_tit3=[]\n",
    "\n",
    "for i in job_title1:\n",
    "    job_tit3.append(i.text)"
   ]
  },
  {
   "cell_type": "code",
   "execution_count": 75,
   "id": "580652d0",
   "metadata": {},
   "outputs": [
    {
     "data": {
      "text/plain": [
       "['povty',\n",
       " 'VINCENT CHASE',\n",
       " 'SRPM',\n",
       " 'SUNBEE',\n",
       " 'ROZZETTA CRAFT',\n",
       " 'Elligator',\n",
       " 'PIRASO',\n",
       " 'ROZZETTA CRAFT',\n",
       " 'DEIXELS',\n",
       " 'New Specs',\n",
       " 'Fastrack',\n",
       " 'ROYAL SON',\n",
       " 'PIRASO',\n",
       " 'PIRASO',\n",
       " 'SHAAH COLLECTIONS',\n",
       " 'ROYAL SON',\n",
       " 'GANSTA',\n",
       " 'Lee Topper',\n",
       " 'Lee Topper',\n",
       " 'ROYAL SON',\n",
       " 'PHENOMENAL',\n",
       " 'PIRASO',\n",
       " 'kingsunglasses',\n",
       " 'VINCENT CHASE',\n",
       " 'PIRASO',\n",
       " 'ROYAL SON',\n",
       " 'Silver Kartz',\n",
       " 'AISLIN',\n",
       " 'SUNBEE',\n",
       " 'kingsunglasses',\n",
       " 'Elligator',\n",
       " 'ROYAL SON',\n",
       " 'kingsunglasses',\n",
       " 'kingsunglasses',\n",
       " 'Fastrack',\n",
       " 'ROYAL SON',\n",
       " 'NuVew',\n",
       " 'GANSTA',\n",
       " 'ROYAL SON',\n",
       " 'ROYAL SON']"
      ]
     },
     "execution_count": 75,
     "metadata": {},
     "output_type": "execute_result"
    }
   ],
   "source": [
    "job_tit3"
   ]
  },
  {
   "cell_type": "code",
   "execution_count": 91,
   "id": "567275f5",
   "metadata": {},
   "outputs": [
    {
     "data": {
      "text/plain": [
       "['povty',\n",
       " 'VINCENT CHASE',\n",
       " 'SRPM',\n",
       " 'SUNBEE',\n",
       " 'ROZZETTA CRAFT',\n",
       " 'Elligator',\n",
       " 'PIRASO',\n",
       " 'ROZZETTA CRAFT',\n",
       " 'DEIXELS',\n",
       " 'New Specs',\n",
       " 'Fastrack',\n",
       " 'ROYAL SON',\n",
       " 'PIRASO',\n",
       " 'PIRASO',\n",
       " 'SHAAH COLLECTIONS',\n",
       " 'ROYAL SON',\n",
       " 'GANSTA',\n",
       " 'Lee Topper',\n",
       " 'Lee Topper',\n",
       " 'ROYAL SON',\n",
       " 'PHENOMENAL',\n",
       " 'PIRASO',\n",
       " 'kingsunglasses',\n",
       " 'VINCENT CHASE',\n",
       " 'PIRASO',\n",
       " 'ROYAL SON',\n",
       " 'Silver Kartz',\n",
       " 'AISLIN',\n",
       " 'SUNBEE',\n",
       " 'kingsunglasses',\n",
       " 'Elligator',\n",
       " 'ROYAL SON',\n",
       " 'kingsunglasses',\n",
       " 'kingsunglasses',\n",
       " 'Fastrack',\n",
       " 'ROYAL SON',\n",
       " 'NuVew',\n",
       " 'GANSTA',\n",
       " 'ROYAL SON']"
      ]
     },
     "execution_count": 91,
     "metadata": {},
     "output_type": "execute_result"
    }
   ],
   "source": [
    "job_name=job_tit3[0:39]\n",
    "job_name"
   ]
  },
  {
   "cell_type": "code",
   "execution_count": 92,
   "id": "787990ae",
   "metadata": {},
   "outputs": [
    {
     "data": {
      "text/plain": [
       "[<selenium.webdriver.remote.webelement.WebElement (session=\"05d830be6fb2dc57b98d6ffd90153a54\", element=\"ec4d7b0a-3773-405c-8fd5-9e9b8f11f0c4\")>,\n",
       " <selenium.webdriver.remote.webelement.WebElement (session=\"05d830be6fb2dc57b98d6ffd90153a54\", element=\"984fc67c-ab27-4491-80d0-43a054811313\")>,\n",
       " <selenium.webdriver.remote.webelement.WebElement (session=\"05d830be6fb2dc57b98d6ffd90153a54\", element=\"d77cff1c-790b-4c53-8571-15853d160dec\")>,\n",
       " <selenium.webdriver.remote.webelement.WebElement (session=\"05d830be6fb2dc57b98d6ffd90153a54\", element=\"9ad1d314-9016-4355-84ca-4ad9be09a080\")>,\n",
       " <selenium.webdriver.remote.webelement.WebElement (session=\"05d830be6fb2dc57b98d6ffd90153a54\", element=\"c2d13b1c-d6cf-4f3c-8da8-f88df642df63\")>,\n",
       " <selenium.webdriver.remote.webelement.WebElement (session=\"05d830be6fb2dc57b98d6ffd90153a54\", element=\"d9d8b52f-cb18-4b19-8370-b478d05937b8\")>,\n",
       " <selenium.webdriver.remote.webelement.WebElement (session=\"05d830be6fb2dc57b98d6ffd90153a54\", element=\"6fb87d95-2e82-4391-a83f-0234e09c1eb7\")>,\n",
       " <selenium.webdriver.remote.webelement.WebElement (session=\"05d830be6fb2dc57b98d6ffd90153a54\", element=\"9c72e27e-b781-4ab9-a964-f3e263a28621\")>,\n",
       " <selenium.webdriver.remote.webelement.WebElement (session=\"05d830be6fb2dc57b98d6ffd90153a54\", element=\"a79cdfbb-ac6c-4b76-aa04-c959e329c93f\")>,\n",
       " <selenium.webdriver.remote.webelement.WebElement (session=\"05d830be6fb2dc57b98d6ffd90153a54\", element=\"329ddba0-d455-46a1-8104-7bb3ce0b3ad8\")>,\n",
       " <selenium.webdriver.remote.webelement.WebElement (session=\"05d830be6fb2dc57b98d6ffd90153a54\", element=\"5405c422-36c5-4938-b27c-bfa440b5d201\")>,\n",
       " <selenium.webdriver.remote.webelement.WebElement (session=\"05d830be6fb2dc57b98d6ffd90153a54\", element=\"a0736592-dfdb-46c9-82c8-e826bc5098da\")>,\n",
       " <selenium.webdriver.remote.webelement.WebElement (session=\"05d830be6fb2dc57b98d6ffd90153a54\", element=\"15f75001-edb0-48a4-8d5c-a081369a4d73\")>,\n",
       " <selenium.webdriver.remote.webelement.WebElement (session=\"05d830be6fb2dc57b98d6ffd90153a54\", element=\"969c330b-a5b0-478c-8441-39bc7e9c888e\")>,\n",
       " <selenium.webdriver.remote.webelement.WebElement (session=\"05d830be6fb2dc57b98d6ffd90153a54\", element=\"9e0c72d9-19b0-431f-9895-2d30d2bbba8b\")>,\n",
       " <selenium.webdriver.remote.webelement.WebElement (session=\"05d830be6fb2dc57b98d6ffd90153a54\", element=\"7bb2bac4-4c85-4757-a5b5-45be84286edf\")>,\n",
       " <selenium.webdriver.remote.webelement.WebElement (session=\"05d830be6fb2dc57b98d6ffd90153a54\", element=\"5781913d-46f4-4667-8b8a-abf8bd9afae5\")>,\n",
       " <selenium.webdriver.remote.webelement.WebElement (session=\"05d830be6fb2dc57b98d6ffd90153a54\", element=\"326fee02-c089-47f0-845a-74e9844d9ff9\")>,\n",
       " <selenium.webdriver.remote.webelement.WebElement (session=\"05d830be6fb2dc57b98d6ffd90153a54\", element=\"76fd1ac3-28c1-446a-9b25-17013e46aaa9\")>,\n",
       " <selenium.webdriver.remote.webelement.WebElement (session=\"05d830be6fb2dc57b98d6ffd90153a54\", element=\"7efd330e-aeda-4cdc-818b-16d5bbbf8f6a\")>,\n",
       " <selenium.webdriver.remote.webelement.WebElement (session=\"05d830be6fb2dc57b98d6ffd90153a54\", element=\"f16a45c5-0de0-4962-a9b3-e22d6aae6570\")>,\n",
       " <selenium.webdriver.remote.webelement.WebElement (session=\"05d830be6fb2dc57b98d6ffd90153a54\", element=\"c4a87f78-b312-4b4a-942b-5ae11bee9af9\")>,\n",
       " <selenium.webdriver.remote.webelement.WebElement (session=\"05d830be6fb2dc57b98d6ffd90153a54\", element=\"73337e10-c628-4836-90b1-3bf317b12e03\")>,\n",
       " <selenium.webdriver.remote.webelement.WebElement (session=\"05d830be6fb2dc57b98d6ffd90153a54\", element=\"332420de-8429-4f71-b2f8-25682cef9f1b\")>,\n",
       " <selenium.webdriver.remote.webelement.WebElement (session=\"05d830be6fb2dc57b98d6ffd90153a54\", element=\"3fe91191-a2a7-496c-aac4-96953d61813a\")>,\n",
       " <selenium.webdriver.remote.webelement.WebElement (session=\"05d830be6fb2dc57b98d6ffd90153a54\", element=\"a540441b-02b1-422e-a4ef-98540a1e48c3\")>,\n",
       " <selenium.webdriver.remote.webelement.WebElement (session=\"05d830be6fb2dc57b98d6ffd90153a54\", element=\"a4253ecb-f0de-4e7e-b227-f62fe100a881\")>,\n",
       " <selenium.webdriver.remote.webelement.WebElement (session=\"05d830be6fb2dc57b98d6ffd90153a54\", element=\"2ad8edfd-6e05-45c4-9c32-4d01684a8f72\")>,\n",
       " <selenium.webdriver.remote.webelement.WebElement (session=\"05d830be6fb2dc57b98d6ffd90153a54\", element=\"1e5397eb-3319-4c57-a5e1-0f3af394af43\")>,\n",
       " <selenium.webdriver.remote.webelement.WebElement (session=\"05d830be6fb2dc57b98d6ffd90153a54\", element=\"9556b1bb-4369-4b63-b7fc-52091c3c2c70\")>,\n",
       " <selenium.webdriver.remote.webelement.WebElement (session=\"05d830be6fb2dc57b98d6ffd90153a54\", element=\"bf80eb49-60c8-4b0c-a0de-0932e68c29b0\")>,\n",
       " <selenium.webdriver.remote.webelement.WebElement (session=\"05d830be6fb2dc57b98d6ffd90153a54\", element=\"5857ce50-38b1-4a79-a4d1-c56f004ea04e\")>,\n",
       " <selenium.webdriver.remote.webelement.WebElement (session=\"05d830be6fb2dc57b98d6ffd90153a54\", element=\"b9eeafba-5836-4c86-8ef6-762e32f447dc\")>,\n",
       " <selenium.webdriver.remote.webelement.WebElement (session=\"05d830be6fb2dc57b98d6ffd90153a54\", element=\"9897bc59-cbd8-4c3b-987e-bd9448972205\")>,\n",
       " <selenium.webdriver.remote.webelement.WebElement (session=\"05d830be6fb2dc57b98d6ffd90153a54\", element=\"a9c14032-440e-4206-a5de-d303acc8a00c\")>,\n",
       " <selenium.webdriver.remote.webelement.WebElement (session=\"05d830be6fb2dc57b98d6ffd90153a54\", element=\"4794c9b8-48d5-4d10-a790-f7817ab13676\")>,\n",
       " <selenium.webdriver.remote.webelement.WebElement (session=\"05d830be6fb2dc57b98d6ffd90153a54\", element=\"91384903-9e30-4bdd-bc9a-4d36ef404279\")>,\n",
       " <selenium.webdriver.remote.webelement.WebElement (session=\"05d830be6fb2dc57b98d6ffd90153a54\", element=\"33bbdbca-298b-4a5f-be2b-63514628c4eb\")>,\n",
       " <selenium.webdriver.remote.webelement.WebElement (session=\"05d830be6fb2dc57b98d6ffd90153a54\", element=\"c4f1f643-f487-49b8-9a34-00e58f331aa7\")>]"
      ]
     },
     "execution_count": 92,
     "metadata": {},
     "output_type": "execute_result"
    }
   ],
   "source": [
    "job_desc=driver.find_elements_by_xpath('//a[@class=\"IRpwTa\"]')\n",
    "job_desc"
   ]
  },
  {
   "cell_type": "code",
   "execution_count": 93,
   "id": "981734be",
   "metadata": {},
   "outputs": [],
   "source": [
    "job_des=[]\n",
    "\n",
    "for i in job_desc:\n",
    "    job_des.append(i.text)"
   ]
  },
  {
   "cell_type": "code",
   "execution_count": 94,
   "id": "a5f3eb7c",
   "metadata": {},
   "outputs": [
    {
     "data": {
      "text/plain": [
       "['UV Protection Retro Square Sunglasses (Free Size)',\n",
       " 'by Lenskart Polarized, UV Protection Round Sunglasses (...',\n",
       " 'UV Protection Wayfarer Sunglasses (50)',\n",
       " 'UV Protection, Polarized Wayfarer Sunglasses (Free Size...',\n",
       " 'Polarized, Night Vision, Riding Glasses Sports, Wrap-ar...',\n",
       " 'UV Protection Round Sunglasses (54)',\n",
       " 'UV Protection Aviator Sunglasses (54)',\n",
       " 'UV Protection, Gradient Retro Square Sunglasses (Free S...',\n",
       " 'UV Protection Aviator, Wayfarer Sunglasses (Free Size)',\n",
       " 'UV Protection Rectangular Sunglasses (Free Size)',\n",
       " 'UV Protection Rectangular Sunglasses (Free Size)',\n",
       " 'Polarized, UV Protection Round Sunglasses (52)',\n",
       " 'UV Protection Aviator Sunglasses (54)',\n",
       " 'UV Protection Wayfarer Sunglasses (55)',\n",
       " 'UV Protection, Polarized, Mirrored Rectangular Sunglass...',\n",
       " 'UV Protection Retro Square Sunglasses (60)',\n",
       " 'UV Protection, Riding Glasses Wayfarer Sunglasses (53)',\n",
       " 'Riding Glasses Wrap-around Sunglasses (Free Size)',\n",
       " 'UV Protection Rectangular Sunglasses (Free Size)',\n",
       " 'UV Protection, Gradient Over-sized Sunglasses (56)',\n",
       " 'UV Protection Retro Square Sunglasses (53)',\n",
       " 'UV Protection Aviator Sunglasses (54)',\n",
       " 'Mirrored, UV Protection Wayfarer Sunglasses (Free Size)',\n",
       " 'by Lenskart Polarized, UV Protection Wayfarer Sunglasse...',\n",
       " 'UV Protection Butterfly Sunglasses (65)',\n",
       " 'Mirrored Aviator Sunglasses (55)',\n",
       " 'UV Protection Wayfarer Sunglasses (Free Size)',\n",
       " 'UV Protection, Gradient Cat-eye Sunglasses (58)',\n",
       " 'UV Protection, Polarized, Mirrored Round Sunglasses (Fr...',\n",
       " 'UV Protection Round Sunglasses (54)',\n",
       " 'UV Protection Round Sunglasses (53)',\n",
       " 'UV Protection Rectangular Sunglasses (58)',\n",
       " 'UV Protection, Riding Glasses, Mirrored Wayfarer Sungla...',\n",
       " 'UV Protection Round Sunglasses (Free Size)',\n",
       " 'UV Protection Wayfarer Sunglasses (Free Size)',\n",
       " 'Polarized, UV Protection Round Sunglasses (52)',\n",
       " 'UV Protection Sports Sunglasses (62)',\n",
       " 'UV Protection Aviator Sunglasses (57)',\n",
       " 'Mirrored Aviator Sunglasses (Free Size)']"
      ]
     },
     "execution_count": 94,
     "metadata": {},
     "output_type": "execute_result"
    }
   ],
   "source": [
    "job_des"
   ]
  },
  {
   "cell_type": "code",
   "execution_count": 95,
   "id": "e3625920",
   "metadata": {},
   "outputs": [
    {
     "data": {
      "text/plain": [
       "39"
      ]
     },
     "execution_count": 95,
     "metadata": {},
     "output_type": "execute_result"
    }
   ],
   "source": [
    "len(job_des)"
   ]
  },
  {
   "cell_type": "code",
   "execution_count": 96,
   "id": "5055919f",
   "metadata": {},
   "outputs": [
    {
     "data": {
      "text/plain": [
       "[<selenium.webdriver.remote.webelement.WebElement (session=\"05d830be6fb2dc57b98d6ffd90153a54\", element=\"0e792a17-7df1-4f07-8627-490fde992da1\")>,\n",
       " <selenium.webdriver.remote.webelement.WebElement (session=\"05d830be6fb2dc57b98d6ffd90153a54\", element=\"69cd1249-12bd-4c03-a0ef-0578980568d1\")>,\n",
       " <selenium.webdriver.remote.webelement.WebElement (session=\"05d830be6fb2dc57b98d6ffd90153a54\", element=\"d02eec0d-9377-48ad-8530-82683fcd79a3\")>,\n",
       " <selenium.webdriver.remote.webelement.WebElement (session=\"05d830be6fb2dc57b98d6ffd90153a54\", element=\"5b02dca7-bd07-438c-ad07-a8dc974c1175\")>,\n",
       " <selenium.webdriver.remote.webelement.WebElement (session=\"05d830be6fb2dc57b98d6ffd90153a54\", element=\"e4fc5e32-57a3-4dbe-8e4e-993a3b006498\")>,\n",
       " <selenium.webdriver.remote.webelement.WebElement (session=\"05d830be6fb2dc57b98d6ffd90153a54\", element=\"6c720a84-3f2b-49a8-bba1-336c1a4b3118\")>,\n",
       " <selenium.webdriver.remote.webelement.WebElement (session=\"05d830be6fb2dc57b98d6ffd90153a54\", element=\"6f266bc1-4505-4dd9-9eea-cc31ebdf4556\")>,\n",
       " <selenium.webdriver.remote.webelement.WebElement (session=\"05d830be6fb2dc57b98d6ffd90153a54\", element=\"de031f22-a2f5-4cf0-a0a2-e8b5da2ee1e0\")>,\n",
       " <selenium.webdriver.remote.webelement.WebElement (session=\"05d830be6fb2dc57b98d6ffd90153a54\", element=\"d6b86ce7-67ca-47cb-a01b-65222a8b0fd8\")>,\n",
       " <selenium.webdriver.remote.webelement.WebElement (session=\"05d830be6fb2dc57b98d6ffd90153a54\", element=\"83181756-20a5-467c-99aa-4ce854e4f863\")>,\n",
       " <selenium.webdriver.remote.webelement.WebElement (session=\"05d830be6fb2dc57b98d6ffd90153a54\", element=\"ebb7bd24-ec7c-4f27-b294-13584094eb20\")>,\n",
       " <selenium.webdriver.remote.webelement.WebElement (session=\"05d830be6fb2dc57b98d6ffd90153a54\", element=\"840088ff-297e-4bf2-84e1-597131bd4bea\")>,\n",
       " <selenium.webdriver.remote.webelement.WebElement (session=\"05d830be6fb2dc57b98d6ffd90153a54\", element=\"d39a903d-662b-47fd-82d7-474399e157c8\")>,\n",
       " <selenium.webdriver.remote.webelement.WebElement (session=\"05d830be6fb2dc57b98d6ffd90153a54\", element=\"37ef68b8-4819-4735-94d6-0c55b92c3f14\")>,\n",
       " <selenium.webdriver.remote.webelement.WebElement (session=\"05d830be6fb2dc57b98d6ffd90153a54\", element=\"9ecbcf61-bcfd-478f-994d-444930853cc5\")>,\n",
       " <selenium.webdriver.remote.webelement.WebElement (session=\"05d830be6fb2dc57b98d6ffd90153a54\", element=\"306c1ee1-a329-42c6-b4df-c15c1166557a\")>,\n",
       " <selenium.webdriver.remote.webelement.WebElement (session=\"05d830be6fb2dc57b98d6ffd90153a54\", element=\"d5d3a80f-38c3-490a-a564-df47530d9c72\")>,\n",
       " <selenium.webdriver.remote.webelement.WebElement (session=\"05d830be6fb2dc57b98d6ffd90153a54\", element=\"bc338acc-f0df-460f-9162-0a70d6f1e738\")>,\n",
       " <selenium.webdriver.remote.webelement.WebElement (session=\"05d830be6fb2dc57b98d6ffd90153a54\", element=\"49c662a3-af51-4b8d-95a3-a1392eb1a47f\")>,\n",
       " <selenium.webdriver.remote.webelement.WebElement (session=\"05d830be6fb2dc57b98d6ffd90153a54\", element=\"4a631e7e-a013-44ac-8105-32922a3af329\")>,\n",
       " <selenium.webdriver.remote.webelement.WebElement (session=\"05d830be6fb2dc57b98d6ffd90153a54\", element=\"000cb863-26ce-4b8a-a65b-dbbaed76f402\")>,\n",
       " <selenium.webdriver.remote.webelement.WebElement (session=\"05d830be6fb2dc57b98d6ffd90153a54\", element=\"b5f5391b-1474-4a73-8d27-572741711ba4\")>,\n",
       " <selenium.webdriver.remote.webelement.WebElement (session=\"05d830be6fb2dc57b98d6ffd90153a54\", element=\"ac06366f-222b-40d4-8f80-3347f9e6a8ec\")>,\n",
       " <selenium.webdriver.remote.webelement.WebElement (session=\"05d830be6fb2dc57b98d6ffd90153a54\", element=\"99da32ac-de66-4fe4-9a2b-d37fd85af7dc\")>,\n",
       " <selenium.webdriver.remote.webelement.WebElement (session=\"05d830be6fb2dc57b98d6ffd90153a54\", element=\"9ee58d51-e70c-4559-a3e5-fc06f30892ef\")>,\n",
       " <selenium.webdriver.remote.webelement.WebElement (session=\"05d830be6fb2dc57b98d6ffd90153a54\", element=\"5f664d12-5b56-4185-bedd-580167913c0e\")>,\n",
       " <selenium.webdriver.remote.webelement.WebElement (session=\"05d830be6fb2dc57b98d6ffd90153a54\", element=\"41043d70-ffe7-4970-8c0a-66726a246190\")>,\n",
       " <selenium.webdriver.remote.webelement.WebElement (session=\"05d830be6fb2dc57b98d6ffd90153a54\", element=\"d705643c-d2ba-4830-9163-b6ca3955197a\")>,\n",
       " <selenium.webdriver.remote.webelement.WebElement (session=\"05d830be6fb2dc57b98d6ffd90153a54\", element=\"6234bc1b-f659-4155-9864-0b7d73ab55e4\")>,\n",
       " <selenium.webdriver.remote.webelement.WebElement (session=\"05d830be6fb2dc57b98d6ffd90153a54\", element=\"ecde6977-9dba-4462-aa1d-787de88160c9\")>,\n",
       " <selenium.webdriver.remote.webelement.WebElement (session=\"05d830be6fb2dc57b98d6ffd90153a54\", element=\"623d4181-9209-4a96-ad96-9ab2f35b50fe\")>,\n",
       " <selenium.webdriver.remote.webelement.WebElement (session=\"05d830be6fb2dc57b98d6ffd90153a54\", element=\"e2c7aac0-9965-4de7-8025-a98d17fd524f\")>,\n",
       " <selenium.webdriver.remote.webelement.WebElement (session=\"05d830be6fb2dc57b98d6ffd90153a54\", element=\"9b5690b9-9db9-4483-a6e5-0da3f3fe9dbe\")>,\n",
       " <selenium.webdriver.remote.webelement.WebElement (session=\"05d830be6fb2dc57b98d6ffd90153a54\", element=\"3b103e61-8b27-4683-971f-a6bdd8a9f686\")>,\n",
       " <selenium.webdriver.remote.webelement.WebElement (session=\"05d830be6fb2dc57b98d6ffd90153a54\", element=\"d7d6a9a5-d265-4904-bf21-a4efbbe90cec\")>,\n",
       " <selenium.webdriver.remote.webelement.WebElement (session=\"05d830be6fb2dc57b98d6ffd90153a54\", element=\"cc42f0b9-61c3-46d1-a21e-a65f9de12f17\")>,\n",
       " <selenium.webdriver.remote.webelement.WebElement (session=\"05d830be6fb2dc57b98d6ffd90153a54\", element=\"5d06b9ea-5310-4f95-a9ed-977d14bce9c2\")>,\n",
       " <selenium.webdriver.remote.webelement.WebElement (session=\"05d830be6fb2dc57b98d6ffd90153a54\", element=\"a280ce4d-b9cd-454b-95c6-17a1f1cd5d25\")>,\n",
       " <selenium.webdriver.remote.webelement.WebElement (session=\"05d830be6fb2dc57b98d6ffd90153a54\", element=\"05eeef91-7690-48e1-b8f7-c04d03323cf3\")>,\n",
       " <selenium.webdriver.remote.webelement.WebElement (session=\"05d830be6fb2dc57b98d6ffd90153a54\", element=\"1234acef-013e-44f4-aaa5-3a01ec4e12b3\")>]"
      ]
     },
     "execution_count": 96,
     "metadata": {},
     "output_type": "execute_result"
    }
   ],
   "source": [
    "job_price=driver.find_elements_by_xpath('//div[@class=\"_30jeq3\"]')\n",
    "job_price"
   ]
  },
  {
   "cell_type": "code",
   "execution_count": 97,
   "id": "103ef18c",
   "metadata": {},
   "outputs": [],
   "source": [
    "job_pri=[]\n",
    "\n",
    "for i in job_price:\n",
    "    job_pri.append(i.text)"
   ]
  },
  {
   "cell_type": "code",
   "execution_count": 98,
   "id": "b2a2e631",
   "metadata": {},
   "outputs": [
    {
     "data": {
      "text/plain": [
       "['₹299',\n",
       " '₹799',\n",
       " '₹198',\n",
       " '₹253',\n",
       " '₹474',\n",
       " '₹258',\n",
       " '₹229',\n",
       " '₹307',\n",
       " '₹202',\n",
       " '₹232',\n",
       " '₹679',\n",
       " '₹759',\n",
       " '₹225',\n",
       " '₹225',\n",
       " '₹165',\n",
       " '₹699',\n",
       " '₹198',\n",
       " '₹275',\n",
       " '₹199',\n",
       " '₹664',\n",
       " '₹289',\n",
       " '₹225',\n",
       " '₹239',\n",
       " '₹799',\n",
       " '₹375',\n",
       " '₹379',\n",
       " '₹246',\n",
       " '₹459',\n",
       " '₹284',\n",
       " '₹186',\n",
       " '₹189',\n",
       " '₹474',\n",
       " '₹184',\n",
       " '₹289',\n",
       " '₹639',\n",
       " '₹799',\n",
       " '₹327',\n",
       " '₹284',\n",
       " '₹379',\n",
       " '₹759']"
      ]
     },
     "execution_count": 98,
     "metadata": {},
     "output_type": "execute_result"
    }
   ],
   "source": [
    "job_pri"
   ]
  },
  {
   "cell_type": "code",
   "execution_count": 99,
   "id": "b3ddaf84",
   "metadata": {},
   "outputs": [
    {
     "data": {
      "text/plain": [
       "['₹299',\n",
       " '₹799',\n",
       " '₹198',\n",
       " '₹253',\n",
       " '₹474',\n",
       " '₹258',\n",
       " '₹229',\n",
       " '₹307',\n",
       " '₹202',\n",
       " '₹232',\n",
       " '₹679',\n",
       " '₹759',\n",
       " '₹225',\n",
       " '₹225',\n",
       " '₹165',\n",
       " '₹699',\n",
       " '₹198',\n",
       " '₹275',\n",
       " '₹199',\n",
       " '₹664',\n",
       " '₹289',\n",
       " '₹225',\n",
       " '₹239',\n",
       " '₹799',\n",
       " '₹375',\n",
       " '₹379',\n",
       " '₹246',\n",
       " '₹459',\n",
       " '₹284',\n",
       " '₹186',\n",
       " '₹189',\n",
       " '₹474',\n",
       " '₹184',\n",
       " '₹289',\n",
       " '₹639',\n",
       " '₹799',\n",
       " '₹327',\n",
       " '₹284',\n",
       " '₹379']"
      ]
     },
     "execution_count": 99,
     "metadata": {},
     "output_type": "execute_result"
    }
   ],
   "source": [
    "price=job_pri[0:39]\n",
    "price"
   ]
  },
  {
   "cell_type": "code",
   "execution_count": 100,
   "id": "1d0ddde2",
   "metadata": {},
   "outputs": [],
   "source": [
    "df4=pd.DataFrame({\"Brand\":job_name,\"Desc\":job_des,\"Price\":price})"
   ]
  },
  {
   "cell_type": "code",
   "execution_count": 101,
   "id": "44c12b6c",
   "metadata": {},
   "outputs": [
    {
     "data": {
      "text/html": [
       "<div>\n",
       "<style scoped>\n",
       "    .dataframe tbody tr th:only-of-type {\n",
       "        vertical-align: middle;\n",
       "    }\n",
       "\n",
       "    .dataframe tbody tr th {\n",
       "        vertical-align: top;\n",
       "    }\n",
       "\n",
       "    .dataframe thead th {\n",
       "        text-align: right;\n",
       "    }\n",
       "</style>\n",
       "<table border=\"1\" class=\"dataframe\">\n",
       "  <thead>\n",
       "    <tr style=\"text-align: right;\">\n",
       "      <th></th>\n",
       "      <th>Brand</th>\n",
       "      <th>Desc</th>\n",
       "      <th>Price</th>\n",
       "    </tr>\n",
       "  </thead>\n",
       "  <tbody>\n",
       "    <tr>\n",
       "      <th>0</th>\n",
       "      <td>povty</td>\n",
       "      <td>UV Protection Retro Square Sunglasses (Free Size)</td>\n",
       "      <td>₹299</td>\n",
       "    </tr>\n",
       "    <tr>\n",
       "      <th>1</th>\n",
       "      <td>VINCENT CHASE</td>\n",
       "      <td>by Lenskart Polarized, UV Protection Round Sun...</td>\n",
       "      <td>₹799</td>\n",
       "    </tr>\n",
       "    <tr>\n",
       "      <th>2</th>\n",
       "      <td>SRPM</td>\n",
       "      <td>UV Protection Wayfarer Sunglasses (50)</td>\n",
       "      <td>₹198</td>\n",
       "    </tr>\n",
       "    <tr>\n",
       "      <th>3</th>\n",
       "      <td>SUNBEE</td>\n",
       "      <td>UV Protection, Polarized Wayfarer Sunglasses (...</td>\n",
       "      <td>₹253</td>\n",
       "    </tr>\n",
       "    <tr>\n",
       "      <th>4</th>\n",
       "      <td>ROZZETTA CRAFT</td>\n",
       "      <td>Polarized, Night Vision, Riding Glasses Sports...</td>\n",
       "      <td>₹474</td>\n",
       "    </tr>\n",
       "    <tr>\n",
       "      <th>5</th>\n",
       "      <td>Elligator</td>\n",
       "      <td>UV Protection Round Sunglasses (54)</td>\n",
       "      <td>₹258</td>\n",
       "    </tr>\n",
       "    <tr>\n",
       "      <th>6</th>\n",
       "      <td>PIRASO</td>\n",
       "      <td>UV Protection Aviator Sunglasses (54)</td>\n",
       "      <td>₹229</td>\n",
       "    </tr>\n",
       "    <tr>\n",
       "      <th>7</th>\n",
       "      <td>ROZZETTA CRAFT</td>\n",
       "      <td>UV Protection, Gradient Retro Square Sunglasse...</td>\n",
       "      <td>₹307</td>\n",
       "    </tr>\n",
       "    <tr>\n",
       "      <th>8</th>\n",
       "      <td>DEIXELS</td>\n",
       "      <td>UV Protection Aviator, Wayfarer Sunglasses (Fr...</td>\n",
       "      <td>₹202</td>\n",
       "    </tr>\n",
       "    <tr>\n",
       "      <th>9</th>\n",
       "      <td>New Specs</td>\n",
       "      <td>UV Protection Rectangular Sunglasses (Free Size)</td>\n",
       "      <td>₹232</td>\n",
       "    </tr>\n",
       "    <tr>\n",
       "      <th>10</th>\n",
       "      <td>Fastrack</td>\n",
       "      <td>UV Protection Rectangular Sunglasses (Free Size)</td>\n",
       "      <td>₹679</td>\n",
       "    </tr>\n",
       "    <tr>\n",
       "      <th>11</th>\n",
       "      <td>ROYAL SON</td>\n",
       "      <td>Polarized, UV Protection Round Sunglasses (52)</td>\n",
       "      <td>₹759</td>\n",
       "    </tr>\n",
       "    <tr>\n",
       "      <th>12</th>\n",
       "      <td>PIRASO</td>\n",
       "      <td>UV Protection Aviator Sunglasses (54)</td>\n",
       "      <td>₹225</td>\n",
       "    </tr>\n",
       "    <tr>\n",
       "      <th>13</th>\n",
       "      <td>PIRASO</td>\n",
       "      <td>UV Protection Wayfarer Sunglasses (55)</td>\n",
       "      <td>₹225</td>\n",
       "    </tr>\n",
       "    <tr>\n",
       "      <th>14</th>\n",
       "      <td>SHAAH COLLECTIONS</td>\n",
       "      <td>UV Protection, Polarized, Mirrored Rectangular...</td>\n",
       "      <td>₹165</td>\n",
       "    </tr>\n",
       "    <tr>\n",
       "      <th>15</th>\n",
       "      <td>ROYAL SON</td>\n",
       "      <td>UV Protection Retro Square Sunglasses (60)</td>\n",
       "      <td>₹699</td>\n",
       "    </tr>\n",
       "    <tr>\n",
       "      <th>16</th>\n",
       "      <td>GANSTA</td>\n",
       "      <td>UV Protection, Riding Glasses Wayfarer Sunglas...</td>\n",
       "      <td>₹198</td>\n",
       "    </tr>\n",
       "    <tr>\n",
       "      <th>17</th>\n",
       "      <td>Lee Topper</td>\n",
       "      <td>Riding Glasses Wrap-around Sunglasses (Free Size)</td>\n",
       "      <td>₹275</td>\n",
       "    </tr>\n",
       "    <tr>\n",
       "      <th>18</th>\n",
       "      <td>Lee Topper</td>\n",
       "      <td>UV Protection Rectangular Sunglasses (Free Size)</td>\n",
       "      <td>₹199</td>\n",
       "    </tr>\n",
       "    <tr>\n",
       "      <th>19</th>\n",
       "      <td>ROYAL SON</td>\n",
       "      <td>UV Protection, Gradient Over-sized Sunglasses ...</td>\n",
       "      <td>₹664</td>\n",
       "    </tr>\n",
       "    <tr>\n",
       "      <th>20</th>\n",
       "      <td>PHENOMENAL</td>\n",
       "      <td>UV Protection Retro Square Sunglasses (53)</td>\n",
       "      <td>₹289</td>\n",
       "    </tr>\n",
       "    <tr>\n",
       "      <th>21</th>\n",
       "      <td>PIRASO</td>\n",
       "      <td>UV Protection Aviator Sunglasses (54)</td>\n",
       "      <td>₹225</td>\n",
       "    </tr>\n",
       "    <tr>\n",
       "      <th>22</th>\n",
       "      <td>kingsunglasses</td>\n",
       "      <td>Mirrored, UV Protection Wayfarer Sunglasses (F...</td>\n",
       "      <td>₹239</td>\n",
       "    </tr>\n",
       "    <tr>\n",
       "      <th>23</th>\n",
       "      <td>VINCENT CHASE</td>\n",
       "      <td>by Lenskart Polarized, UV Protection Wayfarer ...</td>\n",
       "      <td>₹799</td>\n",
       "    </tr>\n",
       "    <tr>\n",
       "      <th>24</th>\n",
       "      <td>PIRASO</td>\n",
       "      <td>UV Protection Butterfly Sunglasses (65)</td>\n",
       "      <td>₹375</td>\n",
       "    </tr>\n",
       "    <tr>\n",
       "      <th>25</th>\n",
       "      <td>ROYAL SON</td>\n",
       "      <td>Mirrored Aviator Sunglasses (55)</td>\n",
       "      <td>₹379</td>\n",
       "    </tr>\n",
       "    <tr>\n",
       "      <th>26</th>\n",
       "      <td>Silver Kartz</td>\n",
       "      <td>UV Protection Wayfarer Sunglasses (Free Size)</td>\n",
       "      <td>₹246</td>\n",
       "    </tr>\n",
       "    <tr>\n",
       "      <th>27</th>\n",
       "      <td>AISLIN</td>\n",
       "      <td>UV Protection, Gradient Cat-eye Sunglasses (58)</td>\n",
       "      <td>₹459</td>\n",
       "    </tr>\n",
       "    <tr>\n",
       "      <th>28</th>\n",
       "      <td>SUNBEE</td>\n",
       "      <td>UV Protection, Polarized, Mirrored Round Sungl...</td>\n",
       "      <td>₹284</td>\n",
       "    </tr>\n",
       "    <tr>\n",
       "      <th>29</th>\n",
       "      <td>kingsunglasses</td>\n",
       "      <td>UV Protection Round Sunglasses (54)</td>\n",
       "      <td>₹186</td>\n",
       "    </tr>\n",
       "    <tr>\n",
       "      <th>30</th>\n",
       "      <td>Elligator</td>\n",
       "      <td>UV Protection Round Sunglasses (53)</td>\n",
       "      <td>₹189</td>\n",
       "    </tr>\n",
       "    <tr>\n",
       "      <th>31</th>\n",
       "      <td>ROYAL SON</td>\n",
       "      <td>UV Protection Rectangular Sunglasses (58)</td>\n",
       "      <td>₹474</td>\n",
       "    </tr>\n",
       "    <tr>\n",
       "      <th>32</th>\n",
       "      <td>kingsunglasses</td>\n",
       "      <td>UV Protection, Riding Glasses, Mirrored Wayfar...</td>\n",
       "      <td>₹184</td>\n",
       "    </tr>\n",
       "    <tr>\n",
       "      <th>33</th>\n",
       "      <td>kingsunglasses</td>\n",
       "      <td>UV Protection Round Sunglasses (Free Size)</td>\n",
       "      <td>₹289</td>\n",
       "    </tr>\n",
       "    <tr>\n",
       "      <th>34</th>\n",
       "      <td>Fastrack</td>\n",
       "      <td>UV Protection Wayfarer Sunglasses (Free Size)</td>\n",
       "      <td>₹639</td>\n",
       "    </tr>\n",
       "    <tr>\n",
       "      <th>35</th>\n",
       "      <td>ROYAL SON</td>\n",
       "      <td>Polarized, UV Protection Round Sunglasses (52)</td>\n",
       "      <td>₹799</td>\n",
       "    </tr>\n",
       "    <tr>\n",
       "      <th>36</th>\n",
       "      <td>NuVew</td>\n",
       "      <td>UV Protection Sports Sunglasses (62)</td>\n",
       "      <td>₹327</td>\n",
       "    </tr>\n",
       "    <tr>\n",
       "      <th>37</th>\n",
       "      <td>GANSTA</td>\n",
       "      <td>UV Protection Aviator Sunglasses (57)</td>\n",
       "      <td>₹284</td>\n",
       "    </tr>\n",
       "    <tr>\n",
       "      <th>38</th>\n",
       "      <td>ROYAL SON</td>\n",
       "      <td>Mirrored Aviator Sunglasses (Free Size)</td>\n",
       "      <td>₹379</td>\n",
       "    </tr>\n",
       "  </tbody>\n",
       "</table>\n",
       "</div>"
      ],
      "text/plain": [
       "                Brand                                               Desc Price\n",
       "0               povty  UV Protection Retro Square Sunglasses (Free Size)  ₹299\n",
       "1       VINCENT CHASE  by Lenskart Polarized, UV Protection Round Sun...  ₹799\n",
       "2                SRPM             UV Protection Wayfarer Sunglasses (50)  ₹198\n",
       "3              SUNBEE  UV Protection, Polarized Wayfarer Sunglasses (...  ₹253\n",
       "4      ROZZETTA CRAFT  Polarized, Night Vision, Riding Glasses Sports...  ₹474\n",
       "5           Elligator                UV Protection Round Sunglasses (54)  ₹258\n",
       "6              PIRASO              UV Protection Aviator Sunglasses (54)  ₹229\n",
       "7      ROZZETTA CRAFT  UV Protection, Gradient Retro Square Sunglasse...  ₹307\n",
       "8             DEIXELS  UV Protection Aviator, Wayfarer Sunglasses (Fr...  ₹202\n",
       "9           New Specs   UV Protection Rectangular Sunglasses (Free Size)  ₹232\n",
       "10           Fastrack   UV Protection Rectangular Sunglasses (Free Size)  ₹679\n",
       "11          ROYAL SON     Polarized, UV Protection Round Sunglasses (52)  ₹759\n",
       "12             PIRASO              UV Protection Aviator Sunglasses (54)  ₹225\n",
       "13             PIRASO             UV Protection Wayfarer Sunglasses (55)  ₹225\n",
       "14  SHAAH COLLECTIONS  UV Protection, Polarized, Mirrored Rectangular...  ₹165\n",
       "15          ROYAL SON         UV Protection Retro Square Sunglasses (60)  ₹699\n",
       "16             GANSTA  UV Protection, Riding Glasses Wayfarer Sunglas...  ₹198\n",
       "17         Lee Topper  Riding Glasses Wrap-around Sunglasses (Free Size)  ₹275\n",
       "18         Lee Topper   UV Protection Rectangular Sunglasses (Free Size)  ₹199\n",
       "19          ROYAL SON  UV Protection, Gradient Over-sized Sunglasses ...  ₹664\n",
       "20         PHENOMENAL         UV Protection Retro Square Sunglasses (53)  ₹289\n",
       "21             PIRASO              UV Protection Aviator Sunglasses (54)  ₹225\n",
       "22     kingsunglasses  Mirrored, UV Protection Wayfarer Sunglasses (F...  ₹239\n",
       "23      VINCENT CHASE  by Lenskart Polarized, UV Protection Wayfarer ...  ₹799\n",
       "24             PIRASO            UV Protection Butterfly Sunglasses (65)  ₹375\n",
       "25          ROYAL SON                   Mirrored Aviator Sunglasses (55)  ₹379\n",
       "26       Silver Kartz      UV Protection Wayfarer Sunglasses (Free Size)  ₹246\n",
       "27             AISLIN    UV Protection, Gradient Cat-eye Sunglasses (58)  ₹459\n",
       "28             SUNBEE  UV Protection, Polarized, Mirrored Round Sungl...  ₹284\n",
       "29     kingsunglasses                UV Protection Round Sunglasses (54)  ₹186\n",
       "30          Elligator                UV Protection Round Sunglasses (53)  ₹189\n",
       "31          ROYAL SON          UV Protection Rectangular Sunglasses (58)  ₹474\n",
       "32     kingsunglasses  UV Protection, Riding Glasses, Mirrored Wayfar...  ₹184\n",
       "33     kingsunglasses         UV Protection Round Sunglasses (Free Size)  ₹289\n",
       "34           Fastrack      UV Protection Wayfarer Sunglasses (Free Size)  ₹639\n",
       "35          ROYAL SON     Polarized, UV Protection Round Sunglasses (52)  ₹799\n",
       "36              NuVew               UV Protection Sports Sunglasses (62)  ₹327\n",
       "37             GANSTA              UV Protection Aviator Sunglasses (57)  ₹284\n",
       "38          ROYAL SON            Mirrored Aviator Sunglasses (Free Size)  ₹379"
      ]
     },
     "execution_count": 101,
     "metadata": {},
     "output_type": "execute_result"
    }
   ],
   "source": [
    "df4"
   ]
  },
  {
   "cell_type": "code",
   "execution_count": 102,
   "id": "5b9f1bb3",
   "metadata": {},
   "outputs": [],
   "source": [
    "srh_butto=driver.find_element_by_xpath(\"/html/body/div[1]/div/div[3]/div[1]/div[2]/div[12]/div/div/nav/a[2]\")\n",
    "srh_butto.click()"
   ]
  },
  {
   "cell_type": "code",
   "execution_count": 103,
   "id": "599b2731",
   "metadata": {},
   "outputs": [
    {
     "data": {
      "text/plain": [
       "[<selenium.webdriver.remote.webelement.WebElement (session=\"05d830be6fb2dc57b98d6ffd90153a54\", element=\"0616f21b-dba2-4a32-9d8b-be1818596d78\")>,\n",
       " <selenium.webdriver.remote.webelement.WebElement (session=\"05d830be6fb2dc57b98d6ffd90153a54\", element=\"f075b8b6-c67c-49e1-87ab-495abd3f2079\")>,\n",
       " <selenium.webdriver.remote.webelement.WebElement (session=\"05d830be6fb2dc57b98d6ffd90153a54\", element=\"b10df534-3814-4c3f-a413-37dcb1b11689\")>,\n",
       " <selenium.webdriver.remote.webelement.WebElement (session=\"05d830be6fb2dc57b98d6ffd90153a54\", element=\"7f2c6406-6875-405c-97f4-ed6af66b3d38\")>,\n",
       " <selenium.webdriver.remote.webelement.WebElement (session=\"05d830be6fb2dc57b98d6ffd90153a54\", element=\"88b90c1b-6e4a-4aa7-9750-ea95f83fc11e\")>,\n",
       " <selenium.webdriver.remote.webelement.WebElement (session=\"05d830be6fb2dc57b98d6ffd90153a54\", element=\"16b166d8-435e-401f-a066-a171639d341b\")>,\n",
       " <selenium.webdriver.remote.webelement.WebElement (session=\"05d830be6fb2dc57b98d6ffd90153a54\", element=\"156558ce-75b4-4429-bd19-a6fc7f3f1b78\")>,\n",
       " <selenium.webdriver.remote.webelement.WebElement (session=\"05d830be6fb2dc57b98d6ffd90153a54\", element=\"57983acb-6601-41a8-b49f-cc721e477deb\")>,\n",
       " <selenium.webdriver.remote.webelement.WebElement (session=\"05d830be6fb2dc57b98d6ffd90153a54\", element=\"8da59cb4-6907-477e-95e2-8214e2f6682c\")>,\n",
       " <selenium.webdriver.remote.webelement.WebElement (session=\"05d830be6fb2dc57b98d6ffd90153a54\", element=\"873b51a8-4152-4599-a844-2a89bc5b6ff6\")>,\n",
       " <selenium.webdriver.remote.webelement.WebElement (session=\"05d830be6fb2dc57b98d6ffd90153a54\", element=\"bf18438b-2e03-4beb-b304-05b9cc5c130a\")>,\n",
       " <selenium.webdriver.remote.webelement.WebElement (session=\"05d830be6fb2dc57b98d6ffd90153a54\", element=\"427cfc44-7c16-42b8-9fa6-3c633bf4ed29\")>,\n",
       " <selenium.webdriver.remote.webelement.WebElement (session=\"05d830be6fb2dc57b98d6ffd90153a54\", element=\"6968084e-db0b-472e-bb3c-8c18fc918ce3\")>,\n",
       " <selenium.webdriver.remote.webelement.WebElement (session=\"05d830be6fb2dc57b98d6ffd90153a54\", element=\"fdb6ee16-0279-43b3-8f78-b027812d7904\")>,\n",
       " <selenium.webdriver.remote.webelement.WebElement (session=\"05d830be6fb2dc57b98d6ffd90153a54\", element=\"11071a9a-a643-4fe8-8b15-43d8fceee0f7\")>,\n",
       " <selenium.webdriver.remote.webelement.WebElement (session=\"05d830be6fb2dc57b98d6ffd90153a54\", element=\"f0fc68d2-f10d-4a42-9368-af96eddcf643\")>,\n",
       " <selenium.webdriver.remote.webelement.WebElement (session=\"05d830be6fb2dc57b98d6ffd90153a54\", element=\"e17c4344-13f1-4729-8350-3a87aefbb7c4\")>,\n",
       " <selenium.webdriver.remote.webelement.WebElement (session=\"05d830be6fb2dc57b98d6ffd90153a54\", element=\"0333639d-0179-433e-ab3f-dcd822528241\")>,\n",
       " <selenium.webdriver.remote.webelement.WebElement (session=\"05d830be6fb2dc57b98d6ffd90153a54\", element=\"9a19ee51-c6ce-43ae-b6d9-1d08f8965ff1\")>,\n",
       " <selenium.webdriver.remote.webelement.WebElement (session=\"05d830be6fb2dc57b98d6ffd90153a54\", element=\"ddeba7df-2702-4c4a-b7e4-e41931dd8330\")>,\n",
       " <selenium.webdriver.remote.webelement.WebElement (session=\"05d830be6fb2dc57b98d6ffd90153a54\", element=\"fcfbb725-dd85-4d5b-afa2-764991f7a7be\")>,\n",
       " <selenium.webdriver.remote.webelement.WebElement (session=\"05d830be6fb2dc57b98d6ffd90153a54\", element=\"f319356c-0e49-425a-973b-ece974fe44ea\")>,\n",
       " <selenium.webdriver.remote.webelement.WebElement (session=\"05d830be6fb2dc57b98d6ffd90153a54\", element=\"9a56f1d3-f293-455f-bcf5-747ac842e0d9\")>,\n",
       " <selenium.webdriver.remote.webelement.WebElement (session=\"05d830be6fb2dc57b98d6ffd90153a54\", element=\"85b17840-29a6-46d0-8a24-b12b95ee48fb\")>,\n",
       " <selenium.webdriver.remote.webelement.WebElement (session=\"05d830be6fb2dc57b98d6ffd90153a54\", element=\"bed3f773-f4ab-4965-aff1-e8d40f56ad37\")>,\n",
       " <selenium.webdriver.remote.webelement.WebElement (session=\"05d830be6fb2dc57b98d6ffd90153a54\", element=\"eb88fad9-30ec-4cae-9342-e14bc62cb7a8\")>,\n",
       " <selenium.webdriver.remote.webelement.WebElement (session=\"05d830be6fb2dc57b98d6ffd90153a54\", element=\"196e08e9-2c4d-4f53-80fc-1625e5248669\")>,\n",
       " <selenium.webdriver.remote.webelement.WebElement (session=\"05d830be6fb2dc57b98d6ffd90153a54\", element=\"ce85bd6d-9e74-4550-95aa-9f1ad46f74ff\")>,\n",
       " <selenium.webdriver.remote.webelement.WebElement (session=\"05d830be6fb2dc57b98d6ffd90153a54\", element=\"4dd03ece-233a-474e-a1cc-b04c60bc554f\")>,\n",
       " <selenium.webdriver.remote.webelement.WebElement (session=\"05d830be6fb2dc57b98d6ffd90153a54\", element=\"9b19d8c7-5a7a-4b58-aa16-28eaf3481791\")>,\n",
       " <selenium.webdriver.remote.webelement.WebElement (session=\"05d830be6fb2dc57b98d6ffd90153a54\", element=\"74b597a4-8995-49be-a8cf-94771dd68d69\")>,\n",
       " <selenium.webdriver.remote.webelement.WebElement (session=\"05d830be6fb2dc57b98d6ffd90153a54\", element=\"67909a0c-555e-4584-b891-0e63b499d1aa\")>,\n",
       " <selenium.webdriver.remote.webelement.WebElement (session=\"05d830be6fb2dc57b98d6ffd90153a54\", element=\"2d0ea0b0-6f08-4358-a4de-ab6e3e5f08c1\")>,\n",
       " <selenium.webdriver.remote.webelement.WebElement (session=\"05d830be6fb2dc57b98d6ffd90153a54\", element=\"3e9bf0ac-e199-413a-bc0d-aaf5bdb2c9e4\")>,\n",
       " <selenium.webdriver.remote.webelement.WebElement (session=\"05d830be6fb2dc57b98d6ffd90153a54\", element=\"dde27c06-82fe-46a3-ba36-36a661bff75c\")>,\n",
       " <selenium.webdriver.remote.webelement.WebElement (session=\"05d830be6fb2dc57b98d6ffd90153a54\", element=\"f046af0d-d45e-49b1-94c6-4fa380a706d5\")>,\n",
       " <selenium.webdriver.remote.webelement.WebElement (session=\"05d830be6fb2dc57b98d6ffd90153a54\", element=\"4bdea042-d90d-48de-a4f6-c75e4e0bbb6c\")>,\n",
       " <selenium.webdriver.remote.webelement.WebElement (session=\"05d830be6fb2dc57b98d6ffd90153a54\", element=\"4956b556-c02a-4e8b-8b35-91a442ce6d11\")>,\n",
       " <selenium.webdriver.remote.webelement.WebElement (session=\"05d830be6fb2dc57b98d6ffd90153a54\", element=\"df951050-873f-46aa-9848-69fbd3214cf2\")>,\n",
       " <selenium.webdriver.remote.webelement.WebElement (session=\"05d830be6fb2dc57b98d6ffd90153a54\", element=\"491f165a-6a02-4525-8e75-2dd7ecc1e5dc\")>]"
      ]
     },
     "execution_count": 103,
     "metadata": {},
     "output_type": "execute_result"
    }
   ],
   "source": [
    "job_title6=driver.find_elements_by_xpath('//div[@class=\"_2WkVRV\"]')\n",
    "job_title6"
   ]
  },
  {
   "cell_type": "code",
   "execution_count": 104,
   "id": "a00500e2",
   "metadata": {},
   "outputs": [],
   "source": [
    "job_tit6=[]\n",
    "for i in job_title6:\n",
    "    job_tit6.append(i.text)"
   ]
  },
  {
   "cell_type": "code",
   "execution_count": 105,
   "id": "f636370e",
   "metadata": {},
   "outputs": [
    {
     "data": {
      "text/plain": [
       "['PIRASO',\n",
       " 'SRPM',\n",
       " 'SHAAH COLLECTIONS',\n",
       " 'VILLAIN',\n",
       " 'kingsunglasses',\n",
       " 'SRPM',\n",
       " 'PIRASO',\n",
       " 'LOUIS KOUROS',\n",
       " 'SRPM',\n",
       " 'Silver Kartz',\n",
       " 'SUNBEE',\n",
       " 'ROZZETTA CRAFT',\n",
       " 'PHENOMENAL',\n",
       " 'ROZZETTA CRAFT',\n",
       " 'ROZZETTA CRAFT',\n",
       " 'ROYAL SON',\n",
       " 'SHAAH COLLECTIONS',\n",
       " 'New Specs',\n",
       " 'Lee Topper',\n",
       " 'Arnette',\n",
       " 'Elligator',\n",
       " 'ROYAL SON',\n",
       " 'hipe',\n",
       " 'LOUIS KOUROS',\n",
       " 'ROZZETTA CRAFT',\n",
       " 'kingsunglasses',\n",
       " 'Singco India',\n",
       " 'AISLIN',\n",
       " 'IDEE',\n",
       " 'Fastrack',\n",
       " 'Elligator',\n",
       " 'ZOSTAL',\n",
       " 'New Specs',\n",
       " 'New Specs',\n",
       " 'hipe',\n",
       " 'ROYAL SON',\n",
       " 'ROYAL SON',\n",
       " 'PIRASO',\n",
       " 'hipe',\n",
       " 'ROYAL SON']"
      ]
     },
     "execution_count": 105,
     "metadata": {},
     "output_type": "execute_result"
    }
   ],
   "source": [
    "job_tit6"
   ]
  },
  {
   "cell_type": "code",
   "execution_count": 106,
   "id": "f8250f36",
   "metadata": {},
   "outputs": [
    {
     "data": {
      "text/plain": [
       "['povty',\n",
       " 'VINCENT CHASE',\n",
       " 'SRPM',\n",
       " 'SUNBEE',\n",
       " 'ROZZETTA CRAFT',\n",
       " 'Elligator',\n",
       " 'PIRASO',\n",
       " 'ROZZETTA CRAFT',\n",
       " 'DEIXELS',\n",
       " 'New Specs',\n",
       " 'Fastrack',\n",
       " 'ROYAL SON',\n",
       " 'PIRASO',\n",
       " 'PIRASO',\n",
       " 'SHAAH COLLECTIONS',\n",
       " 'ROYAL SON',\n",
       " 'GANSTA',\n",
       " 'Lee Topper',\n",
       " 'Lee Topper',\n",
       " 'ROYAL SON',\n",
       " 'PHENOMENAL',\n",
       " 'PIRASO',\n",
       " 'kingsunglasses',\n",
       " 'VINCENT CHASE',\n",
       " 'PIRASO',\n",
       " 'ROYAL SON',\n",
       " 'Silver Kartz',\n",
       " 'AISLIN',\n",
       " 'SUNBEE',\n",
       " 'kingsunglasses',\n",
       " 'Elligator',\n",
       " 'ROYAL SON',\n",
       " 'kingsunglasses',\n",
       " 'kingsunglasses',\n",
       " 'Fastrack',\n",
       " 'ROYAL SON',\n",
       " 'NuVew',\n",
       " 'GANSTA',\n",
       " 'ROYAL SON']"
      ]
     },
     "execution_count": 106,
     "metadata": {},
     "output_type": "execute_result"
    }
   ],
   "source": [
    "job_name6=job_tit6\n",
    "job_name"
   ]
  },
  {
   "cell_type": "code",
   "execution_count": 107,
   "id": "85cacb25",
   "metadata": {},
   "outputs": [
    {
     "data": {
      "text/plain": [
       "[<selenium.webdriver.remote.webelement.WebElement (session=\"05d830be6fb2dc57b98d6ffd90153a54\", element=\"59bed80c-5852-4d26-a82f-6d21bc5c73c1\")>,\n",
       " <selenium.webdriver.remote.webelement.WebElement (session=\"05d830be6fb2dc57b98d6ffd90153a54\", element=\"77d034cd-69ed-4347-a319-6396803330db\")>,\n",
       " <selenium.webdriver.remote.webelement.WebElement (session=\"05d830be6fb2dc57b98d6ffd90153a54\", element=\"fcd9f0cc-0dd6-402c-8f73-e0e0b6570717\")>,\n",
       " <selenium.webdriver.remote.webelement.WebElement (session=\"05d830be6fb2dc57b98d6ffd90153a54\", element=\"5766f6ee-82be-4a65-8d32-bb9fa5179546\")>,\n",
       " <selenium.webdriver.remote.webelement.WebElement (session=\"05d830be6fb2dc57b98d6ffd90153a54\", element=\"e81cc269-0a72-4ede-a02d-c047fb80e7b5\")>,\n",
       " <selenium.webdriver.remote.webelement.WebElement (session=\"05d830be6fb2dc57b98d6ffd90153a54\", element=\"12f50404-816f-4787-aebe-9cb718dde404\")>,\n",
       " <selenium.webdriver.remote.webelement.WebElement (session=\"05d830be6fb2dc57b98d6ffd90153a54\", element=\"89ca7047-5001-4809-b828-377d8dd01e03\")>,\n",
       " <selenium.webdriver.remote.webelement.WebElement (session=\"05d830be6fb2dc57b98d6ffd90153a54\", element=\"a177c8ed-7506-439c-8627-41cbe6deba1b\")>,\n",
       " <selenium.webdriver.remote.webelement.WebElement (session=\"05d830be6fb2dc57b98d6ffd90153a54\", element=\"610152f7-9c97-4bf2-ab8c-73ab67fe854b\")>,\n",
       " <selenium.webdriver.remote.webelement.WebElement (session=\"05d830be6fb2dc57b98d6ffd90153a54\", element=\"ed58499c-ea0e-472f-8bda-8aa38233f90d\")>,\n",
       " <selenium.webdriver.remote.webelement.WebElement (session=\"05d830be6fb2dc57b98d6ffd90153a54\", element=\"7f7c0a8e-aa56-4bd7-82c9-c96e5388f862\")>,\n",
       " <selenium.webdriver.remote.webelement.WebElement (session=\"05d830be6fb2dc57b98d6ffd90153a54\", element=\"82ff37ab-5384-45c7-83fb-6c7e532f3542\")>,\n",
       " <selenium.webdriver.remote.webelement.WebElement (session=\"05d830be6fb2dc57b98d6ffd90153a54\", element=\"6411d0d1-e842-43db-ab93-6d40d770d96a\")>,\n",
       " <selenium.webdriver.remote.webelement.WebElement (session=\"05d830be6fb2dc57b98d6ffd90153a54\", element=\"22e59c7b-fd6a-4959-ab3f-ee627be2c308\")>,\n",
       " <selenium.webdriver.remote.webelement.WebElement (session=\"05d830be6fb2dc57b98d6ffd90153a54\", element=\"3bdf4cfd-0bee-40da-81c0-c0ac2e686090\")>,\n",
       " <selenium.webdriver.remote.webelement.WebElement (session=\"05d830be6fb2dc57b98d6ffd90153a54\", element=\"6fde19c1-011a-4a01-866d-fc3405d35b3b\")>,\n",
       " <selenium.webdriver.remote.webelement.WebElement (session=\"05d830be6fb2dc57b98d6ffd90153a54\", element=\"b7c287d3-8966-4225-89cb-0adafb492da7\")>,\n",
       " <selenium.webdriver.remote.webelement.WebElement (session=\"05d830be6fb2dc57b98d6ffd90153a54\", element=\"8c6c3492-e9e5-4a09-9245-a9981bad9255\")>,\n",
       " <selenium.webdriver.remote.webelement.WebElement (session=\"05d830be6fb2dc57b98d6ffd90153a54\", element=\"dc765239-6167-4026-9b9b-3fa80162c835\")>,\n",
       " <selenium.webdriver.remote.webelement.WebElement (session=\"05d830be6fb2dc57b98d6ffd90153a54\", element=\"94328027-f61a-432f-9744-12d69b009d6d\")>,\n",
       " <selenium.webdriver.remote.webelement.WebElement (session=\"05d830be6fb2dc57b98d6ffd90153a54\", element=\"cf314766-6ecb-4fd2-bb14-506bac984809\")>,\n",
       " <selenium.webdriver.remote.webelement.WebElement (session=\"05d830be6fb2dc57b98d6ffd90153a54\", element=\"531387f9-fa37-4854-b60c-87f780350a9e\")>,\n",
       " <selenium.webdriver.remote.webelement.WebElement (session=\"05d830be6fb2dc57b98d6ffd90153a54\", element=\"abbd529d-85eb-4a11-9b7e-e3f8b078f3e1\")>,\n",
       " <selenium.webdriver.remote.webelement.WebElement (session=\"05d830be6fb2dc57b98d6ffd90153a54\", element=\"9d4ed8da-5840-41c2-9511-0431673398df\")>,\n",
       " <selenium.webdriver.remote.webelement.WebElement (session=\"05d830be6fb2dc57b98d6ffd90153a54\", element=\"7d64d2d8-f05a-4c69-b616-c7b0617705f6\")>,\n",
       " <selenium.webdriver.remote.webelement.WebElement (session=\"05d830be6fb2dc57b98d6ffd90153a54\", element=\"e60c5151-c08e-4881-af25-9e96c1463168\")>,\n",
       " <selenium.webdriver.remote.webelement.WebElement (session=\"05d830be6fb2dc57b98d6ffd90153a54\", element=\"0f5c1ee7-3262-4b96-8e91-8c00287a313e\")>,\n",
       " <selenium.webdriver.remote.webelement.WebElement (session=\"05d830be6fb2dc57b98d6ffd90153a54\", element=\"51dbef87-b665-4c4b-a43c-45939a56e394\")>,\n",
       " <selenium.webdriver.remote.webelement.WebElement (session=\"05d830be6fb2dc57b98d6ffd90153a54\", element=\"124bf319-6082-4937-b26d-d93f5d257637\")>,\n",
       " <selenium.webdriver.remote.webelement.WebElement (session=\"05d830be6fb2dc57b98d6ffd90153a54\", element=\"be746fab-787a-4233-9e59-da08882787b5\")>,\n",
       " <selenium.webdriver.remote.webelement.WebElement (session=\"05d830be6fb2dc57b98d6ffd90153a54\", element=\"0ebb6a7c-6906-40e1-98c3-aeb5f2018e19\")>,\n",
       " <selenium.webdriver.remote.webelement.WebElement (session=\"05d830be6fb2dc57b98d6ffd90153a54\", element=\"8976092e-1c85-49aa-8a73-b09f51336d61\")>,\n",
       " <selenium.webdriver.remote.webelement.WebElement (session=\"05d830be6fb2dc57b98d6ffd90153a54\", element=\"e9ae5971-3c13-4213-9ab7-5f20608448d8\")>,\n",
       " <selenium.webdriver.remote.webelement.WebElement (session=\"05d830be6fb2dc57b98d6ffd90153a54\", element=\"78fabbd5-7d25-4dd6-bd1e-e614f753d58c\")>,\n",
       " <selenium.webdriver.remote.webelement.WebElement (session=\"05d830be6fb2dc57b98d6ffd90153a54\", element=\"a3755e7a-ae8e-4b30-baa5-854509b80a64\")>,\n",
       " <selenium.webdriver.remote.webelement.WebElement (session=\"05d830be6fb2dc57b98d6ffd90153a54\", element=\"49db7a65-3faa-4e21-b559-17fbd0eea4ba\")>,\n",
       " <selenium.webdriver.remote.webelement.WebElement (session=\"05d830be6fb2dc57b98d6ffd90153a54\", element=\"abaf46c6-541f-4d8e-84e6-205251723046\")>,\n",
       " <selenium.webdriver.remote.webelement.WebElement (session=\"05d830be6fb2dc57b98d6ffd90153a54\", element=\"d34c3ce5-f3c7-4760-a314-76182f7d2c4e\")>,\n",
       " <selenium.webdriver.remote.webelement.WebElement (session=\"05d830be6fb2dc57b98d6ffd90153a54\", element=\"436dac7d-f08d-42f4-91b8-5e766dff4f53\")>,\n",
       " <selenium.webdriver.remote.webelement.WebElement (session=\"05d830be6fb2dc57b98d6ffd90153a54\", element=\"29e1f688-25de-453b-97b0-6f1f90401c7d\")>]"
      ]
     },
     "execution_count": 107,
     "metadata": {},
     "output_type": "execute_result"
    }
   ],
   "source": [
    "job_desc6=driver.find_elements_by_xpath('//a[@class=\"IRpwTa\"]')\n",
    "job_desc6"
   ]
  },
  {
   "cell_type": "code",
   "execution_count": 108,
   "id": "9032309b",
   "metadata": {},
   "outputs": [],
   "source": [
    "job_des6=[]\n",
    "\n",
    "for i in job_desc6:\n",
    "    job_des6.append(i.text)"
   ]
  },
  {
   "cell_type": "code",
   "execution_count": 109,
   "id": "91b6f4cd",
   "metadata": {},
   "outputs": [
    {
     "data": {
      "text/plain": [
       "['UV Protection Wayfarer Sunglasses (32)',\n",
       " 'UV Protection Wayfarer Sunglasses (53)',\n",
       " 'UV Protection, Polarized, Mirrored Rectangular Sunglass...',\n",
       " 'Others Wayfarer Sunglasses (Free Size)',\n",
       " 'UV Protection Rectangular Sunglasses (Free Size)',\n",
       " 'Others Wayfarer, Retro Square Sunglasses (50)',\n",
       " 'UV Protection Aviator Sunglasses (58)',\n",
       " 'UV Protection, Riding Glasses, Mirrored Aviator Sunglas...',\n",
       " 'Night Vision, UV Protection Round Sunglasses (54)',\n",
       " 'UV Protection Aviator Sunglasses (88)',\n",
       " 'UV Protection, Polarized, Mirrored Retro Square Sunglas...',\n",
       " 'Polarized, Night Vision, Riding Glasses Sports, Wrap-ar...',\n",
       " 'UV Protection Retro Square Sunglasses (Free Size)',\n",
       " 'UV Protection, Gradient Rectangular Sunglasses (Free Si...',\n",
       " 'UV Protection Retro Square Sunglasses (Free Size)',\n",
       " 'Polarized, UV Protection Rectangular Sunglasses (60)',\n",
       " 'UV Protection Round Sunglasses (Free Size)',\n",
       " 'UV Protection, Mirrored Sports Sunglasses (Free Size)',\n",
       " 'Riding Glasses, Night Vision Wrap-around Sunglasses (Fr...',\n",
       " 'Others Rectangular Sunglasses (56)',\n",
       " 'UV Protection Wayfarer Sunglasses (53)',\n",
       " 'UV Protection Rectangular Sunglasses (58)',\n",
       " 'UV Protection Sports Sunglasses (Free Size)',\n",
       " 'UV Protection Aviator Sunglasses (60)',\n",
       " 'UV Protection, Gradient Round Sunglasses (Free Size)',\n",
       " 'Mirrored, UV Protection Wayfarer, Rectangular Sunglasse...',\n",
       " 'Riding Glasses, UV Protection, Others Aviator Sunglasse...',\n",
       " 'UV Protection, Gradient Oval Sunglasses (58)',\n",
       " 'UV Protection Rectangular Sunglasses (59)',\n",
       " 'Gradient, UV Protection Wayfarer Sunglasses (Free Size)',\n",
       " 'UV Protection Aviator Sunglasses (55)',\n",
       " 'UV Protection Wrap-around Sunglasses (Free Size)',\n",
       " 'Mirrored, UV Protection, Riding Glasses, Others Round S...',\n",
       " 'UV Protection Aviator Sunglasses (Free Size)',\n",
       " 'UV Protection, Gradient, Mirrored, Riding Glasses Aviat...',\n",
       " 'Polarized, UV Protection Aviator Sunglasses (58)',\n",
       " 'Mirrored Aviator Sunglasses (55)',\n",
       " 'UV Protection Aviator Sunglasses (Free Size)',\n",
       " 'Mirrored, UV Protection, Gradient Round Sunglasses (55)',\n",
       " 'Polarized, UV Protection Wrap-around Sunglasses (62)']"
      ]
     },
     "execution_count": 109,
     "metadata": {},
     "output_type": "execute_result"
    }
   ],
   "source": [
    "job_des6"
   ]
  },
  {
   "cell_type": "code",
   "execution_count": 110,
   "id": "cb79c1d8",
   "metadata": {},
   "outputs": [
    {
     "data": {
      "text/plain": [
       "40"
      ]
     },
     "execution_count": 110,
     "metadata": {},
     "output_type": "execute_result"
    }
   ],
   "source": [
    "len(job_des6)"
   ]
  },
  {
   "cell_type": "code",
   "execution_count": 111,
   "id": "ac91c473",
   "metadata": {},
   "outputs": [
    {
     "data": {
      "text/plain": [
       "[<selenium.webdriver.remote.webelement.WebElement (session=\"05d830be6fb2dc57b98d6ffd90153a54\", element=\"696e60e3-f937-452f-9aa9-7d1e0389ec36\")>,\n",
       " <selenium.webdriver.remote.webelement.WebElement (session=\"05d830be6fb2dc57b98d6ffd90153a54\", element=\"d17774a0-1837-4d55-a0c3-469f55aae88d\")>,\n",
       " <selenium.webdriver.remote.webelement.WebElement (session=\"05d830be6fb2dc57b98d6ffd90153a54\", element=\"dca184c2-ecc2-4c73-b111-b17e81ffd4be\")>,\n",
       " <selenium.webdriver.remote.webelement.WebElement (session=\"05d830be6fb2dc57b98d6ffd90153a54\", element=\"d99a255c-aa62-4400-aa8c-9f60336a538d\")>,\n",
       " <selenium.webdriver.remote.webelement.WebElement (session=\"05d830be6fb2dc57b98d6ffd90153a54\", element=\"2358eea8-4450-4a4a-8080-74800dc73cfd\")>,\n",
       " <selenium.webdriver.remote.webelement.WebElement (session=\"05d830be6fb2dc57b98d6ffd90153a54\", element=\"28675278-565d-4caf-b643-e13ca4672abd\")>,\n",
       " <selenium.webdriver.remote.webelement.WebElement (session=\"05d830be6fb2dc57b98d6ffd90153a54\", element=\"f2a4c32f-f00f-4ce3-854a-65f4c2ab498d\")>,\n",
       " <selenium.webdriver.remote.webelement.WebElement (session=\"05d830be6fb2dc57b98d6ffd90153a54\", element=\"3198754d-e5e8-4654-89b4-d19c854f35f7\")>,\n",
       " <selenium.webdriver.remote.webelement.WebElement (session=\"05d830be6fb2dc57b98d6ffd90153a54\", element=\"54b29a20-b942-44e4-903d-0fb41514f60c\")>,\n",
       " <selenium.webdriver.remote.webelement.WebElement (session=\"05d830be6fb2dc57b98d6ffd90153a54\", element=\"63aab19d-b0b0-4f4e-9d08-82f37e6101f1\")>,\n",
       " <selenium.webdriver.remote.webelement.WebElement (session=\"05d830be6fb2dc57b98d6ffd90153a54\", element=\"745b01d5-4860-4229-ae98-3036b0c1d0e5\")>,\n",
       " <selenium.webdriver.remote.webelement.WebElement (session=\"05d830be6fb2dc57b98d6ffd90153a54\", element=\"9903aff6-a7ac-4a28-8af5-0c89faeb0039\")>,\n",
       " <selenium.webdriver.remote.webelement.WebElement (session=\"05d830be6fb2dc57b98d6ffd90153a54\", element=\"5ac05570-c925-4fc0-b7ac-20b7f1c8c6a0\")>,\n",
       " <selenium.webdriver.remote.webelement.WebElement (session=\"05d830be6fb2dc57b98d6ffd90153a54\", element=\"4e6298e3-3732-43a5-99f1-a63d38c724ff\")>,\n",
       " <selenium.webdriver.remote.webelement.WebElement (session=\"05d830be6fb2dc57b98d6ffd90153a54\", element=\"fe872599-40d5-423f-82a5-72a55c7e2000\")>,\n",
       " <selenium.webdriver.remote.webelement.WebElement (session=\"05d830be6fb2dc57b98d6ffd90153a54\", element=\"488f24fb-a3ca-409d-a282-a0412c31979c\")>,\n",
       " <selenium.webdriver.remote.webelement.WebElement (session=\"05d830be6fb2dc57b98d6ffd90153a54\", element=\"272b965d-9cb1-4e70-b40f-39c6a576beff\")>,\n",
       " <selenium.webdriver.remote.webelement.WebElement (session=\"05d830be6fb2dc57b98d6ffd90153a54\", element=\"e8b8c18c-fdbb-4f37-a70b-58f73d27e288\")>,\n",
       " <selenium.webdriver.remote.webelement.WebElement (session=\"05d830be6fb2dc57b98d6ffd90153a54\", element=\"a5a1c209-c56e-4e33-ae82-a3832f9fbaa4\")>,\n",
       " <selenium.webdriver.remote.webelement.WebElement (session=\"05d830be6fb2dc57b98d6ffd90153a54\", element=\"cd9f79bf-12e1-4d9d-b743-92e4cf00793a\")>,\n",
       " <selenium.webdriver.remote.webelement.WebElement (session=\"05d830be6fb2dc57b98d6ffd90153a54\", element=\"a0d637bf-422e-4d3d-be86-5e455d0dbc32\")>,\n",
       " <selenium.webdriver.remote.webelement.WebElement (session=\"05d830be6fb2dc57b98d6ffd90153a54\", element=\"946c260d-50bf-4c87-803e-1b9d48bfddfa\")>,\n",
       " <selenium.webdriver.remote.webelement.WebElement (session=\"05d830be6fb2dc57b98d6ffd90153a54\", element=\"3c3036cd-3e3f-4f91-a176-28abe42333d1\")>,\n",
       " <selenium.webdriver.remote.webelement.WebElement (session=\"05d830be6fb2dc57b98d6ffd90153a54\", element=\"40694d01-4b9e-4770-8c23-166e0fbaa494\")>,\n",
       " <selenium.webdriver.remote.webelement.WebElement (session=\"05d830be6fb2dc57b98d6ffd90153a54\", element=\"1c9aa2aa-a4a6-4ed4-90eb-86fffc4f9c52\")>,\n",
       " <selenium.webdriver.remote.webelement.WebElement (session=\"05d830be6fb2dc57b98d6ffd90153a54\", element=\"16cc214e-d157-49f6-ac13-c668dd77fb32\")>,\n",
       " <selenium.webdriver.remote.webelement.WebElement (session=\"05d830be6fb2dc57b98d6ffd90153a54\", element=\"f61d9a21-d1cd-4823-aa6f-08f957f5dc3d\")>,\n",
       " <selenium.webdriver.remote.webelement.WebElement (session=\"05d830be6fb2dc57b98d6ffd90153a54\", element=\"7071c207-f844-4a8a-af9b-eca84f9e0b1d\")>,\n",
       " <selenium.webdriver.remote.webelement.WebElement (session=\"05d830be6fb2dc57b98d6ffd90153a54\", element=\"6a951d12-8a48-4e82-8f10-ef06e300eb99\")>,\n",
       " <selenium.webdriver.remote.webelement.WebElement (session=\"05d830be6fb2dc57b98d6ffd90153a54\", element=\"79c206dd-f38d-4844-81a2-9b3252cbf737\")>,\n",
       " <selenium.webdriver.remote.webelement.WebElement (session=\"05d830be6fb2dc57b98d6ffd90153a54\", element=\"f7797c52-cc72-4591-ab63-bab36680bdf4\")>,\n",
       " <selenium.webdriver.remote.webelement.WebElement (session=\"05d830be6fb2dc57b98d6ffd90153a54\", element=\"50174282-ad2a-4856-a0fa-0f4c263a4d52\")>,\n",
       " <selenium.webdriver.remote.webelement.WebElement (session=\"05d830be6fb2dc57b98d6ffd90153a54\", element=\"cd225d0f-0657-4bb0-99ed-2b5e4ff4ac29\")>,\n",
       " <selenium.webdriver.remote.webelement.WebElement (session=\"05d830be6fb2dc57b98d6ffd90153a54\", element=\"d035e5db-9218-47fe-9470-11abb6fa0713\")>,\n",
       " <selenium.webdriver.remote.webelement.WebElement (session=\"05d830be6fb2dc57b98d6ffd90153a54\", element=\"f28ac349-d03d-457f-83bb-5e898dda208b\")>,\n",
       " <selenium.webdriver.remote.webelement.WebElement (session=\"05d830be6fb2dc57b98d6ffd90153a54\", element=\"5083b75a-e65b-46d8-aec6-e832db93bd0a\")>,\n",
       " <selenium.webdriver.remote.webelement.WebElement (session=\"05d830be6fb2dc57b98d6ffd90153a54\", element=\"e8b9a700-e73a-4a7c-9979-3bac236179e7\")>,\n",
       " <selenium.webdriver.remote.webelement.WebElement (session=\"05d830be6fb2dc57b98d6ffd90153a54\", element=\"c272a80a-4d42-44b6-b043-3ffeb78a859b\")>,\n",
       " <selenium.webdriver.remote.webelement.WebElement (session=\"05d830be6fb2dc57b98d6ffd90153a54\", element=\"3a205428-e150-431b-966b-cbb6224b1296\")>,\n",
       " <selenium.webdriver.remote.webelement.WebElement (session=\"05d830be6fb2dc57b98d6ffd90153a54\", element=\"77f65973-445c-4761-b708-128a7f09a6d5\")>]"
      ]
     },
     "execution_count": 111,
     "metadata": {},
     "output_type": "execute_result"
    }
   ],
   "source": [
    "job_price6=driver.find_elements_by_xpath('//div[@class=\"_30jeq3\"]')\n",
    "job_price6"
   ]
  },
  {
   "cell_type": "code",
   "execution_count": 112,
   "id": "6e7db3ad",
   "metadata": {},
   "outputs": [],
   "source": [
    "job_pri6=[]\n",
    "\n",
    "for i in job_price6:\n",
    "    job_pri6.append(i.text)"
   ]
  },
  {
   "cell_type": "code",
   "execution_count": 113,
   "id": "af9096a2",
   "metadata": {},
   "outputs": [
    {
     "data": {
      "text/plain": [
       "['₹225',\n",
       " '₹220',\n",
       " '₹181',\n",
       " '₹522',\n",
       " '₹180',\n",
       " '₹178',\n",
       " '₹349',\n",
       " '₹1,349',\n",
       " '₹199',\n",
       " '₹255',\n",
       " '₹230',\n",
       " '₹474',\n",
       " '₹328',\n",
       " '₹379',\n",
       " '₹474',\n",
       " '₹699',\n",
       " '₹284',\n",
       " '₹155',\n",
       " '₹276',\n",
       " '₹4,199',\n",
       " '₹176',\n",
       " '₹474',\n",
       " '₹258',\n",
       " '₹1,349',\n",
       " '₹342',\n",
       " '₹258',\n",
       " '₹208',\n",
       " '₹446',\n",
       " '₹1,009',\n",
       " '₹709',\n",
       " '₹293',\n",
       " '₹168',\n",
       " '₹263',\n",
       " '₹183',\n",
       " '₹198',\n",
       " '₹711',\n",
       " '₹379',\n",
       " '₹299',\n",
       " '₹179',\n",
       " '₹759']"
      ]
     },
     "execution_count": 113,
     "metadata": {},
     "output_type": "execute_result"
    }
   ],
   "source": [
    "job_pri6"
   ]
  },
  {
   "cell_type": "code",
   "execution_count": 114,
   "id": "498e1dc8",
   "metadata": {},
   "outputs": [
    {
     "data": {
      "text/plain": [
       "['₹225',\n",
       " '₹220',\n",
       " '₹181',\n",
       " '₹522',\n",
       " '₹180',\n",
       " '₹178',\n",
       " '₹349',\n",
       " '₹1,349',\n",
       " '₹199',\n",
       " '₹255',\n",
       " '₹230',\n",
       " '₹474',\n",
       " '₹328',\n",
       " '₹379',\n",
       " '₹474',\n",
       " '₹699',\n",
       " '₹284',\n",
       " '₹155',\n",
       " '₹276',\n",
       " '₹4,199',\n",
       " '₹176',\n",
       " '₹474',\n",
       " '₹258',\n",
       " '₹1,349',\n",
       " '₹342',\n",
       " '₹258',\n",
       " '₹208',\n",
       " '₹446',\n",
       " '₹1,009',\n",
       " '₹709',\n",
       " '₹293',\n",
       " '₹168',\n",
       " '₹263',\n",
       " '₹183',\n",
       " '₹198',\n",
       " '₹711',\n",
       " '₹379',\n",
       " '₹299']"
      ]
     },
     "execution_count": 114,
     "metadata": {},
     "output_type": "execute_result"
    }
   ],
   "source": [
    "price6=job_pri6[0:38]\n",
    "price6"
   ]
  },
  {
   "cell_type": "code",
   "execution_count": 115,
   "id": "fa83461d",
   "metadata": {},
   "outputs": [],
   "source": [
    "df5=pd.DataFrame({\"Brand\":job_tit6,\"Desc\":job_des6,\"Price\":job_pri6})"
   ]
  },
  {
   "cell_type": "code",
   "execution_count": 116,
   "id": "4fd9e949",
   "metadata": {},
   "outputs": [
    {
     "data": {
      "text/html": [
       "<div>\n",
       "<style scoped>\n",
       "    .dataframe tbody tr th:only-of-type {\n",
       "        vertical-align: middle;\n",
       "    }\n",
       "\n",
       "    .dataframe tbody tr th {\n",
       "        vertical-align: top;\n",
       "    }\n",
       "\n",
       "    .dataframe thead th {\n",
       "        text-align: right;\n",
       "    }\n",
       "</style>\n",
       "<table border=\"1\" class=\"dataframe\">\n",
       "  <thead>\n",
       "    <tr style=\"text-align: right;\">\n",
       "      <th></th>\n",
       "      <th>Brand</th>\n",
       "      <th>Desc</th>\n",
       "      <th>Price</th>\n",
       "    </tr>\n",
       "  </thead>\n",
       "  <tbody>\n",
       "    <tr>\n",
       "      <th>0</th>\n",
       "      <td>PIRASO</td>\n",
       "      <td>UV Protection Wayfarer Sunglasses (32)</td>\n",
       "      <td>₹225</td>\n",
       "    </tr>\n",
       "    <tr>\n",
       "      <th>1</th>\n",
       "      <td>SRPM</td>\n",
       "      <td>UV Protection Wayfarer Sunglasses (53)</td>\n",
       "      <td>₹220</td>\n",
       "    </tr>\n",
       "    <tr>\n",
       "      <th>2</th>\n",
       "      <td>SHAAH COLLECTIONS</td>\n",
       "      <td>UV Protection, Polarized, Mirrored Rectangular...</td>\n",
       "      <td>₹181</td>\n",
       "    </tr>\n",
       "    <tr>\n",
       "      <th>3</th>\n",
       "      <td>VILLAIN</td>\n",
       "      <td>Others Wayfarer Sunglasses (Free Size)</td>\n",
       "      <td>₹522</td>\n",
       "    </tr>\n",
       "    <tr>\n",
       "      <th>4</th>\n",
       "      <td>kingsunglasses</td>\n",
       "      <td>UV Protection Rectangular Sunglasses (Free Size)</td>\n",
       "      <td>₹180</td>\n",
       "    </tr>\n",
       "    <tr>\n",
       "      <th>5</th>\n",
       "      <td>SRPM</td>\n",
       "      <td>Others Wayfarer, Retro Square Sunglasses (50)</td>\n",
       "      <td>₹178</td>\n",
       "    </tr>\n",
       "    <tr>\n",
       "      <th>6</th>\n",
       "      <td>PIRASO</td>\n",
       "      <td>UV Protection Aviator Sunglasses (58)</td>\n",
       "      <td>₹349</td>\n",
       "    </tr>\n",
       "    <tr>\n",
       "      <th>7</th>\n",
       "      <td>LOUIS KOUROS</td>\n",
       "      <td>UV Protection, Riding Glasses, Mirrored Aviato...</td>\n",
       "      <td>₹1,349</td>\n",
       "    </tr>\n",
       "    <tr>\n",
       "      <th>8</th>\n",
       "      <td>SRPM</td>\n",
       "      <td>Night Vision, UV Protection Round Sunglasses (54)</td>\n",
       "      <td>₹199</td>\n",
       "    </tr>\n",
       "    <tr>\n",
       "      <th>9</th>\n",
       "      <td>Silver Kartz</td>\n",
       "      <td>UV Protection Aviator Sunglasses (88)</td>\n",
       "      <td>₹255</td>\n",
       "    </tr>\n",
       "    <tr>\n",
       "      <th>10</th>\n",
       "      <td>SUNBEE</td>\n",
       "      <td>UV Protection, Polarized, Mirrored Retro Squar...</td>\n",
       "      <td>₹230</td>\n",
       "    </tr>\n",
       "    <tr>\n",
       "      <th>11</th>\n",
       "      <td>ROZZETTA CRAFT</td>\n",
       "      <td>Polarized, Night Vision, Riding Glasses Sports...</td>\n",
       "      <td>₹474</td>\n",
       "    </tr>\n",
       "    <tr>\n",
       "      <th>12</th>\n",
       "      <td>PHENOMENAL</td>\n",
       "      <td>UV Protection Retro Square Sunglasses (Free Size)</td>\n",
       "      <td>₹328</td>\n",
       "    </tr>\n",
       "    <tr>\n",
       "      <th>13</th>\n",
       "      <td>ROZZETTA CRAFT</td>\n",
       "      <td>UV Protection, Gradient Rectangular Sunglasses...</td>\n",
       "      <td>₹379</td>\n",
       "    </tr>\n",
       "    <tr>\n",
       "      <th>14</th>\n",
       "      <td>ROZZETTA CRAFT</td>\n",
       "      <td>UV Protection Retro Square Sunglasses (Free Size)</td>\n",
       "      <td>₹474</td>\n",
       "    </tr>\n",
       "    <tr>\n",
       "      <th>15</th>\n",
       "      <td>ROYAL SON</td>\n",
       "      <td>Polarized, UV Protection Rectangular Sunglasse...</td>\n",
       "      <td>₹699</td>\n",
       "    </tr>\n",
       "    <tr>\n",
       "      <th>16</th>\n",
       "      <td>SHAAH COLLECTIONS</td>\n",
       "      <td>UV Protection Round Sunglasses (Free Size)</td>\n",
       "      <td>₹284</td>\n",
       "    </tr>\n",
       "    <tr>\n",
       "      <th>17</th>\n",
       "      <td>New Specs</td>\n",
       "      <td>UV Protection, Mirrored Sports Sunglasses (Fre...</td>\n",
       "      <td>₹155</td>\n",
       "    </tr>\n",
       "    <tr>\n",
       "      <th>18</th>\n",
       "      <td>Lee Topper</td>\n",
       "      <td>Riding Glasses, Night Vision Wrap-around Sungl...</td>\n",
       "      <td>₹276</td>\n",
       "    </tr>\n",
       "    <tr>\n",
       "      <th>19</th>\n",
       "      <td>Arnette</td>\n",
       "      <td>Others Rectangular Sunglasses (56)</td>\n",
       "      <td>₹4,199</td>\n",
       "    </tr>\n",
       "    <tr>\n",
       "      <th>20</th>\n",
       "      <td>Elligator</td>\n",
       "      <td>UV Protection Wayfarer Sunglasses (53)</td>\n",
       "      <td>₹176</td>\n",
       "    </tr>\n",
       "    <tr>\n",
       "      <th>21</th>\n",
       "      <td>ROYAL SON</td>\n",
       "      <td>UV Protection Rectangular Sunglasses (58)</td>\n",
       "      <td>₹474</td>\n",
       "    </tr>\n",
       "    <tr>\n",
       "      <th>22</th>\n",
       "      <td>hipe</td>\n",
       "      <td>UV Protection Sports Sunglasses (Free Size)</td>\n",
       "      <td>₹258</td>\n",
       "    </tr>\n",
       "    <tr>\n",
       "      <th>23</th>\n",
       "      <td>LOUIS KOUROS</td>\n",
       "      <td>UV Protection Aviator Sunglasses (60)</td>\n",
       "      <td>₹1,349</td>\n",
       "    </tr>\n",
       "    <tr>\n",
       "      <th>24</th>\n",
       "      <td>ROZZETTA CRAFT</td>\n",
       "      <td>UV Protection, Gradient Round Sunglasses (Free...</td>\n",
       "      <td>₹342</td>\n",
       "    </tr>\n",
       "    <tr>\n",
       "      <th>25</th>\n",
       "      <td>kingsunglasses</td>\n",
       "      <td>Mirrored, UV Protection Wayfarer, Rectangular ...</td>\n",
       "      <td>₹258</td>\n",
       "    </tr>\n",
       "    <tr>\n",
       "      <th>26</th>\n",
       "      <td>Singco India</td>\n",
       "      <td>Riding Glasses, UV Protection, Others Aviator ...</td>\n",
       "      <td>₹208</td>\n",
       "    </tr>\n",
       "    <tr>\n",
       "      <th>27</th>\n",
       "      <td>AISLIN</td>\n",
       "      <td>UV Protection, Gradient Oval Sunglasses (58)</td>\n",
       "      <td>₹446</td>\n",
       "    </tr>\n",
       "    <tr>\n",
       "      <th>28</th>\n",
       "      <td>IDEE</td>\n",
       "      <td>UV Protection Rectangular Sunglasses (59)</td>\n",
       "      <td>₹1,009</td>\n",
       "    </tr>\n",
       "    <tr>\n",
       "      <th>29</th>\n",
       "      <td>Fastrack</td>\n",
       "      <td>Gradient, UV Protection Wayfarer Sunglasses (F...</td>\n",
       "      <td>₹709</td>\n",
       "    </tr>\n",
       "    <tr>\n",
       "      <th>30</th>\n",
       "      <td>Elligator</td>\n",
       "      <td>UV Protection Aviator Sunglasses (55)</td>\n",
       "      <td>₹293</td>\n",
       "    </tr>\n",
       "    <tr>\n",
       "      <th>31</th>\n",
       "      <td>ZOSTAL</td>\n",
       "      <td>UV Protection Wrap-around Sunglasses (Free Size)</td>\n",
       "      <td>₹168</td>\n",
       "    </tr>\n",
       "    <tr>\n",
       "      <th>32</th>\n",
       "      <td>New Specs</td>\n",
       "      <td>Mirrored, UV Protection, Riding Glasses, Other...</td>\n",
       "      <td>₹263</td>\n",
       "    </tr>\n",
       "    <tr>\n",
       "      <th>33</th>\n",
       "      <td>New Specs</td>\n",
       "      <td>UV Protection Aviator Sunglasses (Free Size)</td>\n",
       "      <td>₹183</td>\n",
       "    </tr>\n",
       "    <tr>\n",
       "      <th>34</th>\n",
       "      <td>hipe</td>\n",
       "      <td>UV Protection, Gradient, Mirrored, Riding Glas...</td>\n",
       "      <td>₹198</td>\n",
       "    </tr>\n",
       "    <tr>\n",
       "      <th>35</th>\n",
       "      <td>ROYAL SON</td>\n",
       "      <td>Polarized, UV Protection Aviator Sunglasses (58)</td>\n",
       "      <td>₹711</td>\n",
       "    </tr>\n",
       "    <tr>\n",
       "      <th>36</th>\n",
       "      <td>ROYAL SON</td>\n",
       "      <td>Mirrored Aviator Sunglasses (55)</td>\n",
       "      <td>₹379</td>\n",
       "    </tr>\n",
       "    <tr>\n",
       "      <th>37</th>\n",
       "      <td>PIRASO</td>\n",
       "      <td>UV Protection Aviator Sunglasses (Free Size)</td>\n",
       "      <td>₹299</td>\n",
       "    </tr>\n",
       "    <tr>\n",
       "      <th>38</th>\n",
       "      <td>hipe</td>\n",
       "      <td>Mirrored, UV Protection, Gradient Round Sungla...</td>\n",
       "      <td>₹179</td>\n",
       "    </tr>\n",
       "    <tr>\n",
       "      <th>39</th>\n",
       "      <td>ROYAL SON</td>\n",
       "      <td>Polarized, UV Protection Wrap-around Sunglasse...</td>\n",
       "      <td>₹759</td>\n",
       "    </tr>\n",
       "  </tbody>\n",
       "</table>\n",
       "</div>"
      ],
      "text/plain": [
       "                Brand                                               Desc  \\\n",
       "0              PIRASO             UV Protection Wayfarer Sunglasses (32)   \n",
       "1                SRPM             UV Protection Wayfarer Sunglasses (53)   \n",
       "2   SHAAH COLLECTIONS  UV Protection, Polarized, Mirrored Rectangular...   \n",
       "3             VILLAIN             Others Wayfarer Sunglasses (Free Size)   \n",
       "4      kingsunglasses   UV Protection Rectangular Sunglasses (Free Size)   \n",
       "5                SRPM      Others Wayfarer, Retro Square Sunglasses (50)   \n",
       "6              PIRASO              UV Protection Aviator Sunglasses (58)   \n",
       "7        LOUIS KOUROS  UV Protection, Riding Glasses, Mirrored Aviato...   \n",
       "8                SRPM  Night Vision, UV Protection Round Sunglasses (54)   \n",
       "9        Silver Kartz              UV Protection Aviator Sunglasses (88)   \n",
       "10             SUNBEE  UV Protection, Polarized, Mirrored Retro Squar...   \n",
       "11     ROZZETTA CRAFT  Polarized, Night Vision, Riding Glasses Sports...   \n",
       "12         PHENOMENAL  UV Protection Retro Square Sunglasses (Free Size)   \n",
       "13     ROZZETTA CRAFT  UV Protection, Gradient Rectangular Sunglasses...   \n",
       "14     ROZZETTA CRAFT  UV Protection Retro Square Sunglasses (Free Size)   \n",
       "15          ROYAL SON  Polarized, UV Protection Rectangular Sunglasse...   \n",
       "16  SHAAH COLLECTIONS         UV Protection Round Sunglasses (Free Size)   \n",
       "17          New Specs  UV Protection, Mirrored Sports Sunglasses (Fre...   \n",
       "18         Lee Topper  Riding Glasses, Night Vision Wrap-around Sungl...   \n",
       "19            Arnette                 Others Rectangular Sunglasses (56)   \n",
       "20          Elligator             UV Protection Wayfarer Sunglasses (53)   \n",
       "21          ROYAL SON          UV Protection Rectangular Sunglasses (58)   \n",
       "22               hipe        UV Protection Sports Sunglasses (Free Size)   \n",
       "23       LOUIS KOUROS              UV Protection Aviator Sunglasses (60)   \n",
       "24     ROZZETTA CRAFT  UV Protection, Gradient Round Sunglasses (Free...   \n",
       "25     kingsunglasses  Mirrored, UV Protection Wayfarer, Rectangular ...   \n",
       "26       Singco India  Riding Glasses, UV Protection, Others Aviator ...   \n",
       "27             AISLIN       UV Protection, Gradient Oval Sunglasses (58)   \n",
       "28               IDEE          UV Protection Rectangular Sunglasses (59)   \n",
       "29           Fastrack  Gradient, UV Protection Wayfarer Sunglasses (F...   \n",
       "30          Elligator              UV Protection Aviator Sunglasses (55)   \n",
       "31             ZOSTAL   UV Protection Wrap-around Sunglasses (Free Size)   \n",
       "32          New Specs  Mirrored, UV Protection, Riding Glasses, Other...   \n",
       "33          New Specs       UV Protection Aviator Sunglasses (Free Size)   \n",
       "34               hipe  UV Protection, Gradient, Mirrored, Riding Glas...   \n",
       "35          ROYAL SON   Polarized, UV Protection Aviator Sunglasses (58)   \n",
       "36          ROYAL SON                   Mirrored Aviator Sunglasses (55)   \n",
       "37             PIRASO       UV Protection Aviator Sunglasses (Free Size)   \n",
       "38               hipe  Mirrored, UV Protection, Gradient Round Sungla...   \n",
       "39          ROYAL SON  Polarized, UV Protection Wrap-around Sunglasse...   \n",
       "\n",
       "     Price  \n",
       "0     ₹225  \n",
       "1     ₹220  \n",
       "2     ₹181  \n",
       "3     ₹522  \n",
       "4     ₹180  \n",
       "5     ₹178  \n",
       "6     ₹349  \n",
       "7   ₹1,349  \n",
       "8     ₹199  \n",
       "9     ₹255  \n",
       "10    ₹230  \n",
       "11    ₹474  \n",
       "12    ₹328  \n",
       "13    ₹379  \n",
       "14    ₹474  \n",
       "15    ₹699  \n",
       "16    ₹284  \n",
       "17    ₹155  \n",
       "18    ₹276  \n",
       "19  ₹4,199  \n",
       "20    ₹176  \n",
       "21    ₹474  \n",
       "22    ₹258  \n",
       "23  ₹1,349  \n",
       "24    ₹342  \n",
       "25    ₹258  \n",
       "26    ₹208  \n",
       "27    ₹446  \n",
       "28  ₹1,009  \n",
       "29    ₹709  \n",
       "30    ₹293  \n",
       "31    ₹168  \n",
       "32    ₹263  \n",
       "33    ₹183  \n",
       "34    ₹198  \n",
       "35    ₹711  \n",
       "36    ₹379  \n",
       "37    ₹299  \n",
       "38    ₹179  \n",
       "39    ₹759  "
      ]
     },
     "execution_count": 116,
     "metadata": {},
     "output_type": "execute_result"
    }
   ],
   "source": [
    "df5"
   ]
  },
  {
   "cell_type": "code",
   "execution_count": 117,
   "id": "5201c255",
   "metadata": {},
   "outputs": [],
   "source": [
    "srh_butto1=driver.find_element_by_xpath(\"/html/body/div[1]/div/div[3]/div[1]/div[2]/div[12]/div/div/nav/a[4]\")\n",
    "srh_butto1.click()"
   ]
  },
  {
   "cell_type": "code",
   "execution_count": 118,
   "id": "58fd4e13",
   "metadata": {},
   "outputs": [
    {
     "data": {
      "text/plain": [
       "[<selenium.webdriver.remote.webelement.WebElement (session=\"05d830be6fb2dc57b98d6ffd90153a54\", element=\"cfe9ea77-ca7f-4648-bbe3-26a95ed7af79\")>,\n",
       " <selenium.webdriver.remote.webelement.WebElement (session=\"05d830be6fb2dc57b98d6ffd90153a54\", element=\"e6373bba-128e-4805-a968-d941fcb0482d\")>,\n",
       " <selenium.webdriver.remote.webelement.WebElement (session=\"05d830be6fb2dc57b98d6ffd90153a54\", element=\"0c84940e-4e3d-493e-ba1b-c514517bc5f7\")>,\n",
       " <selenium.webdriver.remote.webelement.WebElement (session=\"05d830be6fb2dc57b98d6ffd90153a54\", element=\"c4c5070b-9fbb-4c80-92bb-9faa62d490ec\")>,\n",
       " <selenium.webdriver.remote.webelement.WebElement (session=\"05d830be6fb2dc57b98d6ffd90153a54\", element=\"7a3d8bd6-756c-49ed-bee9-c6bdb3179e6e\")>,\n",
       " <selenium.webdriver.remote.webelement.WebElement (session=\"05d830be6fb2dc57b98d6ffd90153a54\", element=\"9953fad9-fd14-44d2-b2db-680a5eb7ba03\")>,\n",
       " <selenium.webdriver.remote.webelement.WebElement (session=\"05d830be6fb2dc57b98d6ffd90153a54\", element=\"974ca4b7-3a9b-466e-939e-0e81afaa1b56\")>,\n",
       " <selenium.webdriver.remote.webelement.WebElement (session=\"05d830be6fb2dc57b98d6ffd90153a54\", element=\"f10c5016-4590-4396-8cb3-3d4b504eb516\")>,\n",
       " <selenium.webdriver.remote.webelement.WebElement (session=\"05d830be6fb2dc57b98d6ffd90153a54\", element=\"965950fc-3082-4188-8ee5-3ce749871618\")>,\n",
       " <selenium.webdriver.remote.webelement.WebElement (session=\"05d830be6fb2dc57b98d6ffd90153a54\", element=\"d10ad82f-71be-48c8-a357-d065583d5dea\")>,\n",
       " <selenium.webdriver.remote.webelement.WebElement (session=\"05d830be6fb2dc57b98d6ffd90153a54\", element=\"3d4b41a6-f493-4f74-808b-ff82a35deb75\")>,\n",
       " <selenium.webdriver.remote.webelement.WebElement (session=\"05d830be6fb2dc57b98d6ffd90153a54\", element=\"dd4b6e73-3149-49a7-9932-da6b5e43dfc1\")>,\n",
       " <selenium.webdriver.remote.webelement.WebElement (session=\"05d830be6fb2dc57b98d6ffd90153a54\", element=\"0dd5e8e6-05b8-404a-8b7b-1d5593eeba34\")>,\n",
       " <selenium.webdriver.remote.webelement.WebElement (session=\"05d830be6fb2dc57b98d6ffd90153a54\", element=\"36140acb-14d9-4c26-b617-f66e58c7557b\")>,\n",
       " <selenium.webdriver.remote.webelement.WebElement (session=\"05d830be6fb2dc57b98d6ffd90153a54\", element=\"781feda6-3095-4e56-aaaa-813df047acd9\")>,\n",
       " <selenium.webdriver.remote.webelement.WebElement (session=\"05d830be6fb2dc57b98d6ffd90153a54\", element=\"bc1a2f98-1d93-4ec4-a526-dd844e474e5e\")>,\n",
       " <selenium.webdriver.remote.webelement.WebElement (session=\"05d830be6fb2dc57b98d6ffd90153a54\", element=\"61322b4c-ba3d-40cb-a26f-0efa1d2d30e9\")>,\n",
       " <selenium.webdriver.remote.webelement.WebElement (session=\"05d830be6fb2dc57b98d6ffd90153a54\", element=\"ccc13fbe-3654-4acd-a553-dd39b1c2ba8a\")>,\n",
       " <selenium.webdriver.remote.webelement.WebElement (session=\"05d830be6fb2dc57b98d6ffd90153a54\", element=\"5c19024f-af2c-4ba8-a7ac-cd3b09d43c7e\")>,\n",
       " <selenium.webdriver.remote.webelement.WebElement (session=\"05d830be6fb2dc57b98d6ffd90153a54\", element=\"bec7681a-cacc-44c7-8bb0-99e88ff9e40f\")>,\n",
       " <selenium.webdriver.remote.webelement.WebElement (session=\"05d830be6fb2dc57b98d6ffd90153a54\", element=\"bb06780e-9351-4745-b34b-673e21999609\")>,\n",
       " <selenium.webdriver.remote.webelement.WebElement (session=\"05d830be6fb2dc57b98d6ffd90153a54\", element=\"66ff5c58-2df5-4ed8-b38c-42651c5da4bf\")>,\n",
       " <selenium.webdriver.remote.webelement.WebElement (session=\"05d830be6fb2dc57b98d6ffd90153a54\", element=\"c3f76717-79fe-43b2-aa2b-d0edbf7394e2\")>,\n",
       " <selenium.webdriver.remote.webelement.WebElement (session=\"05d830be6fb2dc57b98d6ffd90153a54\", element=\"8e0478a8-f5d0-43e1-a1e9-db56f26d5a18\")>,\n",
       " <selenium.webdriver.remote.webelement.WebElement (session=\"05d830be6fb2dc57b98d6ffd90153a54\", element=\"e02a042c-4556-4bd6-96a7-c1eac1fd33ab\")>,\n",
       " <selenium.webdriver.remote.webelement.WebElement (session=\"05d830be6fb2dc57b98d6ffd90153a54\", element=\"5cc09438-8575-4423-95e0-706d58295051\")>,\n",
       " <selenium.webdriver.remote.webelement.WebElement (session=\"05d830be6fb2dc57b98d6ffd90153a54\", element=\"b160cdde-627d-48b4-9d02-5a4a12c853ac\")>,\n",
       " <selenium.webdriver.remote.webelement.WebElement (session=\"05d830be6fb2dc57b98d6ffd90153a54\", element=\"44ea4c35-0ca1-4436-9642-118c5ac0c127\")>,\n",
       " <selenium.webdriver.remote.webelement.WebElement (session=\"05d830be6fb2dc57b98d6ffd90153a54\", element=\"2c9fbc0f-0657-444f-91ed-56841e0dbfae\")>,\n",
       " <selenium.webdriver.remote.webelement.WebElement (session=\"05d830be6fb2dc57b98d6ffd90153a54\", element=\"99396aee-b9ad-4116-9a1d-6b309d9899f2\")>,\n",
       " <selenium.webdriver.remote.webelement.WebElement (session=\"05d830be6fb2dc57b98d6ffd90153a54\", element=\"b6bad599-655d-438d-98bf-319988bd236a\")>,\n",
       " <selenium.webdriver.remote.webelement.WebElement (session=\"05d830be6fb2dc57b98d6ffd90153a54\", element=\"3a724884-9b4c-4fdc-829f-dfeef2f9dc0b\")>,\n",
       " <selenium.webdriver.remote.webelement.WebElement (session=\"05d830be6fb2dc57b98d6ffd90153a54\", element=\"85c131aa-f1e7-4802-818a-9714448470aa\")>,\n",
       " <selenium.webdriver.remote.webelement.WebElement (session=\"05d830be6fb2dc57b98d6ffd90153a54\", element=\"0407a456-e602-4585-ac2f-44fe512a25b9\")>,\n",
       " <selenium.webdriver.remote.webelement.WebElement (session=\"05d830be6fb2dc57b98d6ffd90153a54\", element=\"fbb40560-6ea8-4969-b50d-e9e2adc4ae2a\")>,\n",
       " <selenium.webdriver.remote.webelement.WebElement (session=\"05d830be6fb2dc57b98d6ffd90153a54\", element=\"cf006756-a1e2-4504-85b4-18a205792927\")>,\n",
       " <selenium.webdriver.remote.webelement.WebElement (session=\"05d830be6fb2dc57b98d6ffd90153a54\", element=\"fe2a1025-9b5b-40b3-b094-37d65a81fb61\")>,\n",
       " <selenium.webdriver.remote.webelement.WebElement (session=\"05d830be6fb2dc57b98d6ffd90153a54\", element=\"a6c5060e-fead-4367-8c23-f43c536e43e2\")>,\n",
       " <selenium.webdriver.remote.webelement.WebElement (session=\"05d830be6fb2dc57b98d6ffd90153a54\", element=\"149cf2dd-c5cf-469a-a099-0e5fbcd45a56\")>,\n",
       " <selenium.webdriver.remote.webelement.WebElement (session=\"05d830be6fb2dc57b98d6ffd90153a54\", element=\"af9e5137-7c7a-4560-aba5-9d7296887b38\")>]"
      ]
     },
     "execution_count": 118,
     "metadata": {},
     "output_type": "execute_result"
    }
   ],
   "source": [
    "job_title7=driver.find_elements_by_xpath('//div[@class=\"_2WkVRV\"]')\n",
    "job_title7"
   ]
  },
  {
   "cell_type": "code",
   "execution_count": 119,
   "id": "c4991cad",
   "metadata": {},
   "outputs": [],
   "source": [
    "job_tit7=[]\n",
    "\n",
    "for i in job_title7:\n",
    "    job_tit7.append(i.text)"
   ]
  },
  {
   "cell_type": "code",
   "execution_count": 120,
   "id": "609135f4",
   "metadata": {},
   "outputs": [
    {
     "data": {
      "text/plain": [
       "['Fastrack',\n",
       " 'PHENOMENAL',\n",
       " 'Fastrack',\n",
       " 'LOUIS KOUROS',\n",
       " 'SUNBEE',\n",
       " 'Rich Club',\n",
       " 'kingsunglasses',\n",
       " 'Arnette',\n",
       " 'PHENOMENAL',\n",
       " 'ROZZETTA CRAFT',\n",
       " 'PIRASO',\n",
       " 'ROZZETTA CRAFT',\n",
       " 'kingsunglasses',\n",
       " 'PHENOMENAL',\n",
       " 'Fastrack',\n",
       " 'ROYAL SON',\n",
       " 'Fastrack',\n",
       " 'Fastrack',\n",
       " 'ROZZETTA CRAFT',\n",
       " 'Ted Smith',\n",
       " 'Singco India',\n",
       " 'Lee Topper',\n",
       " 'PIRASO',\n",
       " 'DJIN',\n",
       " 'hipe',\n",
       " 'kingsunglasses',\n",
       " 'Rich Club',\n",
       " 'SKYZA INDIA',\n",
       " 'kingsunglasses',\n",
       " 'Rich Club',\n",
       " 'Fastrack',\n",
       " 'ROYAL SON',\n",
       " 'ROZZETTA CRAFT',\n",
       " 'Fastrack',\n",
       " 'Singco India',\n",
       " 'AISLIN',\n",
       " 'ROZZETTA CRAFT',\n",
       " 'Fastrack',\n",
       " 'kingsunglasses',\n",
       " 'AISLIN']"
      ]
     },
     "execution_count": 120,
     "metadata": {},
     "output_type": "execute_result"
    }
   ],
   "source": [
    "job_tit7"
   ]
  },
  {
   "cell_type": "code",
   "execution_count": 141,
   "id": "c979cd11",
   "metadata": {},
   "outputs": [
    {
     "data": {
      "text/plain": [
       "['Fastrack',\n",
       " 'PHENOMENAL',\n",
       " 'Fastrack',\n",
       " 'LOUIS KOUROS',\n",
       " 'SUNBEE',\n",
       " 'Rich Club',\n",
       " 'kingsunglasses',\n",
       " 'Arnette',\n",
       " 'PHENOMENAL',\n",
       " 'ROZZETTA CRAFT',\n",
       " 'PIRASO',\n",
       " 'ROZZETTA CRAFT',\n",
       " 'kingsunglasses',\n",
       " 'PHENOMENAL',\n",
       " 'Fastrack',\n",
       " 'ROYAL SON',\n",
       " 'Fastrack',\n",
       " 'Fastrack',\n",
       " 'ROZZETTA CRAFT',\n",
       " 'Ted Smith',\n",
       " 'Singco India']"
      ]
     },
     "execution_count": 141,
     "metadata": {},
     "output_type": "execute_result"
    }
   ],
   "source": [
    "job_name8=job_tit7[0:21]\n",
    "job_name8"
   ]
  },
  {
   "cell_type": "code",
   "execution_count": 142,
   "id": "86783d84",
   "metadata": {},
   "outputs": [
    {
     "data": {
      "text/plain": [
       "[<selenium.webdriver.remote.webelement.WebElement (session=\"05d830be6fb2dc57b98d6ffd90153a54\", element=\"9ce0ca61-b6c5-468e-aaff-ed1080cb88e8\")>,\n",
       " <selenium.webdriver.remote.webelement.WebElement (session=\"05d830be6fb2dc57b98d6ffd90153a54\", element=\"6b2b5cbe-fea0-40e2-ac00-092dbfc679e8\")>,\n",
       " <selenium.webdriver.remote.webelement.WebElement (session=\"05d830be6fb2dc57b98d6ffd90153a54\", element=\"e81277b1-18bd-47c9-8af7-ba283582267f\")>,\n",
       " <selenium.webdriver.remote.webelement.WebElement (session=\"05d830be6fb2dc57b98d6ffd90153a54\", element=\"64304513-b15b-40ad-b665-0063ce225a07\")>,\n",
       " <selenium.webdriver.remote.webelement.WebElement (session=\"05d830be6fb2dc57b98d6ffd90153a54\", element=\"9af81777-0cf4-4d41-b208-a41f5dd1c3f8\")>,\n",
       " <selenium.webdriver.remote.webelement.WebElement (session=\"05d830be6fb2dc57b98d6ffd90153a54\", element=\"5d1ef04d-86bc-45f7-b64a-7dd1753aa62f\")>,\n",
       " <selenium.webdriver.remote.webelement.WebElement (session=\"05d830be6fb2dc57b98d6ffd90153a54\", element=\"0fff0d36-7223-499a-938c-9f409f34c4ef\")>,\n",
       " <selenium.webdriver.remote.webelement.WebElement (session=\"05d830be6fb2dc57b98d6ffd90153a54\", element=\"ecee6bf1-3778-4d0a-9b63-14db73c6b1ba\")>,\n",
       " <selenium.webdriver.remote.webelement.WebElement (session=\"05d830be6fb2dc57b98d6ffd90153a54\", element=\"5f0f7da4-641a-41f2-8d1b-048f5b3a7d7e\")>,\n",
       " <selenium.webdriver.remote.webelement.WebElement (session=\"05d830be6fb2dc57b98d6ffd90153a54\", element=\"d25006d6-5342-4ff9-9cb7-fa5a7c9c3b19\")>,\n",
       " <selenium.webdriver.remote.webelement.WebElement (session=\"05d830be6fb2dc57b98d6ffd90153a54\", element=\"98260b0b-99ad-4eff-94cc-1fea51221b92\")>,\n",
       " <selenium.webdriver.remote.webelement.WebElement (session=\"05d830be6fb2dc57b98d6ffd90153a54\", element=\"d54a497c-8b43-4397-ab3a-b2c00fb30065\")>,\n",
       " <selenium.webdriver.remote.webelement.WebElement (session=\"05d830be6fb2dc57b98d6ffd90153a54\", element=\"8a16c5c0-4dd0-42e4-b9c3-d718f40d00d5\")>,\n",
       " <selenium.webdriver.remote.webelement.WebElement (session=\"05d830be6fb2dc57b98d6ffd90153a54\", element=\"49c46f6b-4f16-4bac-ab14-a4ee904041a0\")>,\n",
       " <selenium.webdriver.remote.webelement.WebElement (session=\"05d830be6fb2dc57b98d6ffd90153a54\", element=\"c77ed9cc-bfc7-443a-a2e8-d9c6cec40ba2\")>,\n",
       " <selenium.webdriver.remote.webelement.WebElement (session=\"05d830be6fb2dc57b98d6ffd90153a54\", element=\"b2a26bf5-b807-4290-9c50-9d3afbfb8488\")>,\n",
       " <selenium.webdriver.remote.webelement.WebElement (session=\"05d830be6fb2dc57b98d6ffd90153a54\", element=\"fe2e9201-ea34-49c6-a221-f99da6c358af\")>,\n",
       " <selenium.webdriver.remote.webelement.WebElement (session=\"05d830be6fb2dc57b98d6ffd90153a54\", element=\"665af206-ff0b-4de7-b825-c26e34b18cc4\")>,\n",
       " <selenium.webdriver.remote.webelement.WebElement (session=\"05d830be6fb2dc57b98d6ffd90153a54\", element=\"ce270a9b-1ec5-429d-9b57-e198c05e9ab5\")>,\n",
       " <selenium.webdriver.remote.webelement.WebElement (session=\"05d830be6fb2dc57b98d6ffd90153a54\", element=\"f1ea5936-1a70-43e3-be1d-b8eb9d4d481c\")>,\n",
       " <selenium.webdriver.remote.webelement.WebElement (session=\"05d830be6fb2dc57b98d6ffd90153a54\", element=\"5bead885-4eea-4200-aa77-badcbe9ff160\")>,\n",
       " <selenium.webdriver.remote.webelement.WebElement (session=\"05d830be6fb2dc57b98d6ffd90153a54\", element=\"61a7e6b5-eba3-4deb-813d-81643d390125\")>,\n",
       " <selenium.webdriver.remote.webelement.WebElement (session=\"05d830be6fb2dc57b98d6ffd90153a54\", element=\"9215f824-1259-42df-8087-6f207951f6e5\")>,\n",
       " <selenium.webdriver.remote.webelement.WebElement (session=\"05d830be6fb2dc57b98d6ffd90153a54\", element=\"6c01376b-53e5-4750-9afc-ea14fd2408ab\")>,\n",
       " <selenium.webdriver.remote.webelement.WebElement (session=\"05d830be6fb2dc57b98d6ffd90153a54\", element=\"44fa710b-5e46-4733-aea9-8e2ecf45d157\")>,\n",
       " <selenium.webdriver.remote.webelement.WebElement (session=\"05d830be6fb2dc57b98d6ffd90153a54\", element=\"4782ec9b-2916-4909-8b4f-51c11400ce66\")>,\n",
       " <selenium.webdriver.remote.webelement.WebElement (session=\"05d830be6fb2dc57b98d6ffd90153a54\", element=\"a3a46598-1cb4-4707-b745-8b529500d581\")>,\n",
       " <selenium.webdriver.remote.webelement.WebElement (session=\"05d830be6fb2dc57b98d6ffd90153a54\", element=\"c22216e9-4f8e-4890-b485-e381d0995feb\")>,\n",
       " <selenium.webdriver.remote.webelement.WebElement (session=\"05d830be6fb2dc57b98d6ffd90153a54\", element=\"3cdad21f-2ffa-42c6-ab98-6ce67cacfe50\")>,\n",
       " <selenium.webdriver.remote.webelement.WebElement (session=\"05d830be6fb2dc57b98d6ffd90153a54\", element=\"3a47f727-9a3a-4b68-a8cb-6b072bed9db1\")>,\n",
       " <selenium.webdriver.remote.webelement.WebElement (session=\"05d830be6fb2dc57b98d6ffd90153a54\", element=\"21cb525a-191f-4d0a-97f6-278df20cfbcb\")>,\n",
       " <selenium.webdriver.remote.webelement.WebElement (session=\"05d830be6fb2dc57b98d6ffd90153a54\", element=\"408df68f-bad0-4e40-b345-260a6ddd9a67\")>,\n",
       " <selenium.webdriver.remote.webelement.WebElement (session=\"05d830be6fb2dc57b98d6ffd90153a54\", element=\"a151f766-3549-4853-b9db-1c84300d1371\")>,\n",
       " <selenium.webdriver.remote.webelement.WebElement (session=\"05d830be6fb2dc57b98d6ffd90153a54\", element=\"6340d5b3-6f21-47ae-8f35-5ac6dc3a65c4\")>,\n",
       " <selenium.webdriver.remote.webelement.WebElement (session=\"05d830be6fb2dc57b98d6ffd90153a54\", element=\"1e8bb137-220a-4fa6-8d8b-92770c783df9\")>,\n",
       " <selenium.webdriver.remote.webelement.WebElement (session=\"05d830be6fb2dc57b98d6ffd90153a54\", element=\"69cf2bc6-07c9-4c94-83cc-ed82c3e56c61\")>,\n",
       " <selenium.webdriver.remote.webelement.WebElement (session=\"05d830be6fb2dc57b98d6ffd90153a54\", element=\"5b29d256-8cba-41b1-a727-c4201f01f920\")>,\n",
       " <selenium.webdriver.remote.webelement.WebElement (session=\"05d830be6fb2dc57b98d6ffd90153a54\", element=\"70e75308-698e-4b08-973e-613c61e12d1c\")>,\n",
       " <selenium.webdriver.remote.webelement.WebElement (session=\"05d830be6fb2dc57b98d6ffd90153a54\", element=\"a7878b60-444d-4d4c-94ce-7f0b2164e27a\")>,\n",
       " <selenium.webdriver.remote.webelement.WebElement (session=\"05d830be6fb2dc57b98d6ffd90153a54\", element=\"9757d8a0-40e5-464e-a134-7a843ea141e5\")>]"
      ]
     },
     "execution_count": 142,
     "metadata": {},
     "output_type": "execute_result"
    }
   ],
   "source": [
    "job_desc7=driver.find_elements_by_xpath('//a[@class=\"IRpwTa\"]')\n",
    "job_desc7"
   ]
  },
  {
   "cell_type": "code",
   "execution_count": 123,
   "id": "6422134c",
   "metadata": {},
   "outputs": [],
   "source": [
    "job_des7=[]\n",
    "\n",
    "for i in job_desc7:\n",
    "    job_des7.append(i.text)"
   ]
  },
  {
   "cell_type": "code",
   "execution_count": 124,
   "id": "cf76c603",
   "metadata": {},
   "outputs": [
    {
     "data": {
      "text/plain": [
       "['UV Protection Shield Sunglasses (Free Size)',\n",
       " 'UV Protection Clubmaster Sunglasses (Free Size)',\n",
       " 'UV Protection Wayfarer Sunglasses (Free Size)',\n",
       " 'UV Protection Aviator Sunglasses (60)',\n",
       " 'UV Protection, Polarized, Mirrored Wayfarer Sunglasses ...',\n",
       " 'Polarized Round Sunglasses (48)',\n",
       " 'Mirrored, UV Protection Aviator Sunglasses (56)',\n",
       " 'Mirrored Retro Square Sunglasses (56)',\n",
       " 'UV Protection, Mirrored Retro Square Sunglasses (53)',\n",
       " 'Mirrored, UV Protection Round Sunglasses (Free Size)',\n",
       " 'UV Protection Butterfly Sunglasses (60)',\n",
       " 'UV Protection, Gradient Retro Square Sunglasses (62)',\n",
       " 'UV Protection, Mirrored Round Sunglasses (Free Size)',\n",
       " 'UV Protection, Mirrored Retro Square Sunglasses (53)',\n",
       " 'Polarized Retro Square Sunglasses (Free Size)',\n",
       " 'UV Protection, Gradient Over-sized Sunglasses (62)',\n",
       " 'UV Protection Wayfarer Sunglasses (Free Size)',\n",
       " 'UV Protection Wayfarer Sunglasses (55)',\n",
       " 'UV Protection Aviator Sunglasses (62)',\n",
       " 'UV Protection Round Sunglasses (50)',\n",
       " 'Gradient, Toughened Glass Lens, UV Protection Retro Squ...',\n",
       " 'UV Protection, Riding Glasses Retro Square, Spectacle ...',\n",
       " 'Mirrored Aviator Sunglasses (32)',\n",
       " 'Night Vision, Riding Glasses Sports Sunglasses (52)',\n",
       " 'UV Protection, Gradient, Riding Glasses Wayfarer Sungla...',\n",
       " 'Mirrored, UV Protection Wayfarer Sunglasses (53)',\n",
       " 'UV Protection, Polarized Oval, Retro Square Sunglasses ...',\n",
       " 'Polarized, UV Protection Sports Sunglasses (Free Size)',\n",
       " 'UV Protection Rectangular Sunglasses (55)',\n",
       " 'UV Protection Round Sunglasses (48)',\n",
       " 'UV Protection Aviator Sunglasses (58)',\n",
       " 'UV Protection, Polarized Aviator Sunglasses (60)',\n",
       " 'UV Protection, Gradient Retro Square Sunglasses (Free S...',\n",
       " 'UV Protection Wayfarer Sunglasses (Free Size)',\n",
       " 'Mirrored, Riding Glasses, Others Sports Sunglasses (50)',\n",
       " 'UV Protection Wrap-around, Rectangular Sunglasses (56)',\n",
       " 'UV Protection, Gradient Rectangular Sunglasses (Free Si...',\n",
       " 'UV Protection Aviator Sunglasses (Free Size)',\n",
       " 'UV Protection, Others Round, Aviator Sunglasses (54)',\n",
       " 'Toughened Glass Lens, UV Protection Aviator, Wrap-aroun...']"
      ]
     },
     "execution_count": 124,
     "metadata": {},
     "output_type": "execute_result"
    }
   ],
   "source": [
    "job_des7"
   ]
  },
  {
   "cell_type": "code",
   "execution_count": 139,
   "id": "25795fe1",
   "metadata": {},
   "outputs": [],
   "source": [
    "job_desc8=job_des7[0:21]"
   ]
  },
  {
   "cell_type": "code",
   "execution_count": 140,
   "id": "fbc0d347",
   "metadata": {},
   "outputs": [
    {
     "data": {
      "text/plain": [
       "['UV Protection Shield Sunglasses (Free Size)',\n",
       " 'UV Protection Clubmaster Sunglasses (Free Size)',\n",
       " 'UV Protection Wayfarer Sunglasses (Free Size)',\n",
       " 'UV Protection Aviator Sunglasses (60)',\n",
       " 'UV Protection, Polarized, Mirrored Wayfarer Sunglasses ...',\n",
       " 'Polarized Round Sunglasses (48)',\n",
       " 'Mirrored, UV Protection Aviator Sunglasses (56)',\n",
       " 'Mirrored Retro Square Sunglasses (56)',\n",
       " 'UV Protection, Mirrored Retro Square Sunglasses (53)',\n",
       " 'Mirrored, UV Protection Round Sunglasses (Free Size)',\n",
       " 'UV Protection Butterfly Sunglasses (60)',\n",
       " 'UV Protection, Gradient Retro Square Sunglasses (62)',\n",
       " 'UV Protection, Mirrored Round Sunglasses (Free Size)',\n",
       " 'UV Protection, Mirrored Retro Square Sunglasses (53)',\n",
       " 'Polarized Retro Square Sunglasses (Free Size)',\n",
       " 'UV Protection, Gradient Over-sized Sunglasses (62)',\n",
       " 'UV Protection Wayfarer Sunglasses (Free Size)',\n",
       " 'UV Protection Wayfarer Sunglasses (55)',\n",
       " 'UV Protection Aviator Sunglasses (62)',\n",
       " 'UV Protection Round Sunglasses (50)',\n",
       " 'Gradient, Toughened Glass Lens, UV Protection Retro Squ...']"
      ]
     },
     "execution_count": 140,
     "metadata": {},
     "output_type": "execute_result"
    }
   ],
   "source": [
    "job_desc8"
   ]
  },
  {
   "cell_type": "code",
   "execution_count": 127,
   "id": "cfca998c",
   "metadata": {},
   "outputs": [
    {
     "data": {
      "text/plain": [
       "[<selenium.webdriver.remote.webelement.WebElement (session=\"05d830be6fb2dc57b98d6ffd90153a54\", element=\"9fc1c626-e30c-4364-b749-60b50557daa0\")>,\n",
       " <selenium.webdriver.remote.webelement.WebElement (session=\"05d830be6fb2dc57b98d6ffd90153a54\", element=\"6c5512fa-32d4-4d6f-bc56-a877e1c47349\")>,\n",
       " <selenium.webdriver.remote.webelement.WebElement (session=\"05d830be6fb2dc57b98d6ffd90153a54\", element=\"c20cf064-8d2d-4cc4-9dc7-6848c35638e1\")>,\n",
       " <selenium.webdriver.remote.webelement.WebElement (session=\"05d830be6fb2dc57b98d6ffd90153a54\", element=\"d79eb700-c701-48ff-a72f-8c100085b9ef\")>,\n",
       " <selenium.webdriver.remote.webelement.WebElement (session=\"05d830be6fb2dc57b98d6ffd90153a54\", element=\"2ef5f9e6-a7ca-4c4f-bf8c-f559302439ce\")>,\n",
       " <selenium.webdriver.remote.webelement.WebElement (session=\"05d830be6fb2dc57b98d6ffd90153a54\", element=\"5794c2fd-3366-4f7f-aaf3-4b5b492411b9\")>,\n",
       " <selenium.webdriver.remote.webelement.WebElement (session=\"05d830be6fb2dc57b98d6ffd90153a54\", element=\"b86afb04-d375-4381-a3ee-55b4b553d1ee\")>,\n",
       " <selenium.webdriver.remote.webelement.WebElement (session=\"05d830be6fb2dc57b98d6ffd90153a54\", element=\"28100125-ce1f-4080-adaf-2f671065dd23\")>,\n",
       " <selenium.webdriver.remote.webelement.WebElement (session=\"05d830be6fb2dc57b98d6ffd90153a54\", element=\"698ba40b-9f66-444e-9b6f-5e470118ea22\")>,\n",
       " <selenium.webdriver.remote.webelement.WebElement (session=\"05d830be6fb2dc57b98d6ffd90153a54\", element=\"179272d0-39f6-4c57-aed7-2fd5e6d71e1d\")>,\n",
       " <selenium.webdriver.remote.webelement.WebElement (session=\"05d830be6fb2dc57b98d6ffd90153a54\", element=\"afe1d1f3-5a1e-49a6-82e7-1b8b9b71a46c\")>,\n",
       " <selenium.webdriver.remote.webelement.WebElement (session=\"05d830be6fb2dc57b98d6ffd90153a54\", element=\"411eb4dc-7df1-4ce7-b201-dd257e376c7f\")>,\n",
       " <selenium.webdriver.remote.webelement.WebElement (session=\"05d830be6fb2dc57b98d6ffd90153a54\", element=\"0308f2c8-540c-47a5-9df2-d043e14e2adb\")>,\n",
       " <selenium.webdriver.remote.webelement.WebElement (session=\"05d830be6fb2dc57b98d6ffd90153a54\", element=\"fe850005-8e32-4268-9dd1-b415a47b596f\")>,\n",
       " <selenium.webdriver.remote.webelement.WebElement (session=\"05d830be6fb2dc57b98d6ffd90153a54\", element=\"576d8860-045a-429c-ac81-5f9d585a80d0\")>,\n",
       " <selenium.webdriver.remote.webelement.WebElement (session=\"05d830be6fb2dc57b98d6ffd90153a54\", element=\"32c143aa-c866-499e-aff5-e88eb6678bfd\")>,\n",
       " <selenium.webdriver.remote.webelement.WebElement (session=\"05d830be6fb2dc57b98d6ffd90153a54\", element=\"99c25ad9-47ea-4511-9ae8-97c97e0b392c\")>,\n",
       " <selenium.webdriver.remote.webelement.WebElement (session=\"05d830be6fb2dc57b98d6ffd90153a54\", element=\"14240d64-7ab8-4482-92dd-d6c5b4925023\")>,\n",
       " <selenium.webdriver.remote.webelement.WebElement (session=\"05d830be6fb2dc57b98d6ffd90153a54\", element=\"5a7095a5-2931-486e-a59b-04c069abcb12\")>,\n",
       " <selenium.webdriver.remote.webelement.WebElement (session=\"05d830be6fb2dc57b98d6ffd90153a54\", element=\"ebe9915e-d50c-48cf-98cd-eb7458b92bcd\")>,\n",
       " <selenium.webdriver.remote.webelement.WebElement (session=\"05d830be6fb2dc57b98d6ffd90153a54\", element=\"a3f9ac23-d4c2-4edc-a7ce-ce5432e20c66\")>,\n",
       " <selenium.webdriver.remote.webelement.WebElement (session=\"05d830be6fb2dc57b98d6ffd90153a54\", element=\"69fa290b-89a6-4059-a00d-549d38ea6784\")>,\n",
       " <selenium.webdriver.remote.webelement.WebElement (session=\"05d830be6fb2dc57b98d6ffd90153a54\", element=\"f65f5968-bdfc-45ff-af42-fa3887d177eb\")>,\n",
       " <selenium.webdriver.remote.webelement.WebElement (session=\"05d830be6fb2dc57b98d6ffd90153a54\", element=\"8fa59408-402b-4edb-9e6c-981188c399bc\")>,\n",
       " <selenium.webdriver.remote.webelement.WebElement (session=\"05d830be6fb2dc57b98d6ffd90153a54\", element=\"9dba2de8-97d2-46d1-afb5-8b43e69ad8cc\")>,\n",
       " <selenium.webdriver.remote.webelement.WebElement (session=\"05d830be6fb2dc57b98d6ffd90153a54\", element=\"dba9c60a-3306-422b-95e9-904bf4e9367e\")>,\n",
       " <selenium.webdriver.remote.webelement.WebElement (session=\"05d830be6fb2dc57b98d6ffd90153a54\", element=\"aa0931ea-ae23-46f0-ad5c-90c08268051e\")>,\n",
       " <selenium.webdriver.remote.webelement.WebElement (session=\"05d830be6fb2dc57b98d6ffd90153a54\", element=\"8ddb7866-4ad0-4d84-b138-40b50b4eb23c\")>,\n",
       " <selenium.webdriver.remote.webelement.WebElement (session=\"05d830be6fb2dc57b98d6ffd90153a54\", element=\"1af4b9bc-de2d-4dca-8207-9c12b3389a86\")>,\n",
       " <selenium.webdriver.remote.webelement.WebElement (session=\"05d830be6fb2dc57b98d6ffd90153a54\", element=\"9e43da16-ec47-4308-bb4a-d1242427b720\")>,\n",
       " <selenium.webdriver.remote.webelement.WebElement (session=\"05d830be6fb2dc57b98d6ffd90153a54\", element=\"8ba040e9-d251-492c-bced-fdcd9ccffc69\")>,\n",
       " <selenium.webdriver.remote.webelement.WebElement (session=\"05d830be6fb2dc57b98d6ffd90153a54\", element=\"8e222b9b-a773-445a-b86f-a348b9f9dd28\")>,\n",
       " <selenium.webdriver.remote.webelement.WebElement (session=\"05d830be6fb2dc57b98d6ffd90153a54\", element=\"651a70c1-80cf-45bb-940a-76a1833dd959\")>,\n",
       " <selenium.webdriver.remote.webelement.WebElement (session=\"05d830be6fb2dc57b98d6ffd90153a54\", element=\"55e06e49-f131-44e4-9aed-b8c461cce61a\")>,\n",
       " <selenium.webdriver.remote.webelement.WebElement (session=\"05d830be6fb2dc57b98d6ffd90153a54\", element=\"35eee49f-24c5-455f-bf27-cbca7f4a6d0f\")>,\n",
       " <selenium.webdriver.remote.webelement.WebElement (session=\"05d830be6fb2dc57b98d6ffd90153a54\", element=\"43738a7a-9389-45df-80db-017040a2f053\")>,\n",
       " <selenium.webdriver.remote.webelement.WebElement (session=\"05d830be6fb2dc57b98d6ffd90153a54\", element=\"a5bef36e-f61c-45a6-982b-753582380b9c\")>,\n",
       " <selenium.webdriver.remote.webelement.WebElement (session=\"05d830be6fb2dc57b98d6ffd90153a54\", element=\"56eb8309-014c-4369-b8f5-edbe7ff48322\")>,\n",
       " <selenium.webdriver.remote.webelement.WebElement (session=\"05d830be6fb2dc57b98d6ffd90153a54\", element=\"8e2048e3-c03b-476d-a58b-8b9ad5d4eb85\")>,\n",
       " <selenium.webdriver.remote.webelement.WebElement (session=\"05d830be6fb2dc57b98d6ffd90153a54\", element=\"b838f56c-4ff9-4185-a5ed-c8d9a3af79be\")>]"
      ]
     },
     "execution_count": 127,
     "metadata": {},
     "output_type": "execute_result"
    }
   ],
   "source": [
    "job_price7=driver.find_elements_by_xpath('//div[@class=\"_30jeq3\"]')\n",
    "job_price7"
   ]
  },
  {
   "cell_type": "code",
   "execution_count": 128,
   "id": "2134b71a",
   "metadata": {},
   "outputs": [],
   "source": [
    "job_pri7=[]\n",
    "\n",
    "for i in job_price7:\n",
    "    job_pri7.append(i.text)"
   ]
  },
  {
   "cell_type": "code",
   "execution_count": 129,
   "id": "ac3b91a3",
   "metadata": {},
   "outputs": [
    {
     "data": {
      "text/plain": [
       "['₹721',\n",
       " '₹307',\n",
       " '₹639',\n",
       " '₹1,349',\n",
       " '₹253',\n",
       " '₹175',\n",
       " '₹219',\n",
       " '₹2,549',\n",
       " '₹317',\n",
       " '₹342',\n",
       " '₹375',\n",
       " '₹474',\n",
       " '₹239',\n",
       " '₹317',\n",
       " '₹639',\n",
       " '₹664',\n",
       " '₹799',\n",
       " '₹759',\n",
       " '₹616',\n",
       " '₹828',\n",
       " '₹630',\n",
       " '₹375',\n",
       " '₹199',\n",
       " '₹229',\n",
       " '₹209',\n",
       " '₹258',\n",
       " '₹179',\n",
       " '₹459',\n",
       " '₹233',\n",
       " '₹260',\n",
       " '₹1,229',\n",
       " '₹711',\n",
       " '₹307',\n",
       " '₹799',\n",
       " '₹194',\n",
       " '₹827',\n",
       " '₹330',\n",
       " '₹584',\n",
       " '₹179',\n",
       " '₹975']"
      ]
     },
     "execution_count": 129,
     "metadata": {},
     "output_type": "execute_result"
    }
   ],
   "source": [
    "job_pri7"
   ]
  },
  {
   "cell_type": "code",
   "execution_count": 138,
   "id": "eff3cfac",
   "metadata": {},
   "outputs": [
    {
     "data": {
      "text/plain": [
       "['₹721',\n",
       " '₹307',\n",
       " '₹639',\n",
       " '₹1,349',\n",
       " '₹253',\n",
       " '₹175',\n",
       " '₹219',\n",
       " '₹2,549',\n",
       " '₹317',\n",
       " '₹342',\n",
       " '₹375',\n",
       " '₹474',\n",
       " '₹239',\n",
       " '₹317',\n",
       " '₹639',\n",
       " '₹664',\n",
       " '₹799',\n",
       " '₹759',\n",
       " '₹616',\n",
       " '₹828',\n",
       " '₹630']"
      ]
     },
     "execution_count": 138,
     "metadata": {},
     "output_type": "execute_result"
    }
   ],
   "source": [
    "price8=job_pri7[0:21]\n",
    "price8"
   ]
  },
  {
   "cell_type": "code",
   "execution_count": 143,
   "id": "985b6158",
   "metadata": {},
   "outputs": [],
   "source": [
    "df6=pd.DataFrame({\"Brand\":job_name8,\"Desc\":job_desc8,\"Price\":price8})"
   ]
  },
  {
   "cell_type": "code",
   "execution_count": 144,
   "id": "d553e3ea",
   "metadata": {},
   "outputs": [
    {
     "data": {
      "text/html": [
       "<div>\n",
       "<style scoped>\n",
       "    .dataframe tbody tr th:only-of-type {\n",
       "        vertical-align: middle;\n",
       "    }\n",
       "\n",
       "    .dataframe tbody tr th {\n",
       "        vertical-align: top;\n",
       "    }\n",
       "\n",
       "    .dataframe thead th {\n",
       "        text-align: right;\n",
       "    }\n",
       "</style>\n",
       "<table border=\"1\" class=\"dataframe\">\n",
       "  <thead>\n",
       "    <tr style=\"text-align: right;\">\n",
       "      <th></th>\n",
       "      <th>Brand</th>\n",
       "      <th>Desc</th>\n",
       "      <th>Price</th>\n",
       "    </tr>\n",
       "  </thead>\n",
       "  <tbody>\n",
       "    <tr>\n",
       "      <th>0</th>\n",
       "      <td>Fastrack</td>\n",
       "      <td>UV Protection Shield Sunglasses (Free Size)</td>\n",
       "      <td>₹721</td>\n",
       "    </tr>\n",
       "    <tr>\n",
       "      <th>1</th>\n",
       "      <td>PHENOMENAL</td>\n",
       "      <td>UV Protection Clubmaster Sunglasses (Free Size)</td>\n",
       "      <td>₹307</td>\n",
       "    </tr>\n",
       "    <tr>\n",
       "      <th>2</th>\n",
       "      <td>Fastrack</td>\n",
       "      <td>UV Protection Wayfarer Sunglasses (Free Size)</td>\n",
       "      <td>₹639</td>\n",
       "    </tr>\n",
       "    <tr>\n",
       "      <th>3</th>\n",
       "      <td>LOUIS KOUROS</td>\n",
       "      <td>UV Protection Aviator Sunglasses (60)</td>\n",
       "      <td>₹1,349</td>\n",
       "    </tr>\n",
       "    <tr>\n",
       "      <th>4</th>\n",
       "      <td>SUNBEE</td>\n",
       "      <td>UV Protection, Polarized, Mirrored Wayfarer Su...</td>\n",
       "      <td>₹253</td>\n",
       "    </tr>\n",
       "    <tr>\n",
       "      <th>5</th>\n",
       "      <td>Rich Club</td>\n",
       "      <td>Polarized Round Sunglasses (48)</td>\n",
       "      <td>₹175</td>\n",
       "    </tr>\n",
       "    <tr>\n",
       "      <th>6</th>\n",
       "      <td>kingsunglasses</td>\n",
       "      <td>Mirrored, UV Protection Aviator Sunglasses (56)</td>\n",
       "      <td>₹219</td>\n",
       "    </tr>\n",
       "    <tr>\n",
       "      <th>7</th>\n",
       "      <td>Arnette</td>\n",
       "      <td>Mirrored Retro Square Sunglasses (56)</td>\n",
       "      <td>₹2,549</td>\n",
       "    </tr>\n",
       "    <tr>\n",
       "      <th>8</th>\n",
       "      <td>PHENOMENAL</td>\n",
       "      <td>UV Protection, Mirrored Retro Square Sunglasse...</td>\n",
       "      <td>₹317</td>\n",
       "    </tr>\n",
       "    <tr>\n",
       "      <th>9</th>\n",
       "      <td>ROZZETTA CRAFT</td>\n",
       "      <td>Mirrored, UV Protection Round Sunglasses (Free...</td>\n",
       "      <td>₹342</td>\n",
       "    </tr>\n",
       "    <tr>\n",
       "      <th>10</th>\n",
       "      <td>PIRASO</td>\n",
       "      <td>UV Protection Butterfly Sunglasses (60)</td>\n",
       "      <td>₹375</td>\n",
       "    </tr>\n",
       "    <tr>\n",
       "      <th>11</th>\n",
       "      <td>ROZZETTA CRAFT</td>\n",
       "      <td>UV Protection, Gradient Retro Square Sunglasse...</td>\n",
       "      <td>₹474</td>\n",
       "    </tr>\n",
       "    <tr>\n",
       "      <th>12</th>\n",
       "      <td>kingsunglasses</td>\n",
       "      <td>UV Protection, Mirrored Round Sunglasses (Free...</td>\n",
       "      <td>₹239</td>\n",
       "    </tr>\n",
       "    <tr>\n",
       "      <th>13</th>\n",
       "      <td>PHENOMENAL</td>\n",
       "      <td>UV Protection, Mirrored Retro Square Sunglasse...</td>\n",
       "      <td>₹317</td>\n",
       "    </tr>\n",
       "    <tr>\n",
       "      <th>14</th>\n",
       "      <td>Fastrack</td>\n",
       "      <td>Polarized Retro Square Sunglasses (Free Size)</td>\n",
       "      <td>₹639</td>\n",
       "    </tr>\n",
       "    <tr>\n",
       "      <th>15</th>\n",
       "      <td>ROYAL SON</td>\n",
       "      <td>UV Protection, Gradient Over-sized Sunglasses ...</td>\n",
       "      <td>₹664</td>\n",
       "    </tr>\n",
       "    <tr>\n",
       "      <th>16</th>\n",
       "      <td>Fastrack</td>\n",
       "      <td>UV Protection Wayfarer Sunglasses (Free Size)</td>\n",
       "      <td>₹799</td>\n",
       "    </tr>\n",
       "    <tr>\n",
       "      <th>17</th>\n",
       "      <td>Fastrack</td>\n",
       "      <td>UV Protection Wayfarer Sunglasses (55)</td>\n",
       "      <td>₹759</td>\n",
       "    </tr>\n",
       "    <tr>\n",
       "      <th>18</th>\n",
       "      <td>ROZZETTA CRAFT</td>\n",
       "      <td>UV Protection Aviator Sunglasses (62)</td>\n",
       "      <td>₹616</td>\n",
       "    </tr>\n",
       "    <tr>\n",
       "      <th>19</th>\n",
       "      <td>Ted Smith</td>\n",
       "      <td>UV Protection Round Sunglasses (50)</td>\n",
       "      <td>₹828</td>\n",
       "    </tr>\n",
       "    <tr>\n",
       "      <th>20</th>\n",
       "      <td>Singco India</td>\n",
       "      <td>Gradient, Toughened Glass Lens, UV Protection ...</td>\n",
       "      <td>₹630</td>\n",
       "    </tr>\n",
       "  </tbody>\n",
       "</table>\n",
       "</div>"
      ],
      "text/plain": [
       "             Brand                                               Desc   Price\n",
       "0         Fastrack        UV Protection Shield Sunglasses (Free Size)    ₹721\n",
       "1       PHENOMENAL    UV Protection Clubmaster Sunglasses (Free Size)    ₹307\n",
       "2         Fastrack      UV Protection Wayfarer Sunglasses (Free Size)    ₹639\n",
       "3     LOUIS KOUROS              UV Protection Aviator Sunglasses (60)  ₹1,349\n",
       "4           SUNBEE  UV Protection, Polarized, Mirrored Wayfarer Su...    ₹253\n",
       "5        Rich Club                    Polarized Round Sunglasses (48)    ₹175\n",
       "6   kingsunglasses    Mirrored, UV Protection Aviator Sunglasses (56)    ₹219\n",
       "7          Arnette              Mirrored Retro Square Sunglasses (56)  ₹2,549\n",
       "8       PHENOMENAL  UV Protection, Mirrored Retro Square Sunglasse...    ₹317\n",
       "9   ROZZETTA CRAFT  Mirrored, UV Protection Round Sunglasses (Free...    ₹342\n",
       "10          PIRASO            UV Protection Butterfly Sunglasses (60)    ₹375\n",
       "11  ROZZETTA CRAFT  UV Protection, Gradient Retro Square Sunglasse...    ₹474\n",
       "12  kingsunglasses  UV Protection, Mirrored Round Sunglasses (Free...    ₹239\n",
       "13      PHENOMENAL  UV Protection, Mirrored Retro Square Sunglasse...    ₹317\n",
       "14        Fastrack      Polarized Retro Square Sunglasses (Free Size)    ₹639\n",
       "15       ROYAL SON  UV Protection, Gradient Over-sized Sunglasses ...    ₹664\n",
       "16        Fastrack      UV Protection Wayfarer Sunglasses (Free Size)    ₹799\n",
       "17        Fastrack             UV Protection Wayfarer Sunglasses (55)    ₹759\n",
       "18  ROZZETTA CRAFT              UV Protection Aviator Sunglasses (62)    ₹616\n",
       "19       Ted Smith                UV Protection Round Sunglasses (50)    ₹828\n",
       "20    Singco India  Gradient, Toughened Glass Lens, UV Protection ...    ₹630"
      ]
     },
     "execution_count": 144,
     "metadata": {},
     "output_type": "execute_result"
    }
   ],
   "source": [
    "df6"
   ]
  },
  {
   "cell_type": "code",
   "execution_count": 145,
   "id": "caa1d51a",
   "metadata": {},
   "outputs": [],
   "source": [
    "data=[df4,df5,df6]"
   ]
  },
  {
   "cell_type": "code",
   "execution_count": 146,
   "id": "87835e21",
   "metadata": {},
   "outputs": [
    {
     "data": {
      "text/html": [
       "<div>\n",
       "<style scoped>\n",
       "    .dataframe tbody tr th:only-of-type {\n",
       "        vertical-align: middle;\n",
       "    }\n",
       "\n",
       "    .dataframe tbody tr th {\n",
       "        vertical-align: top;\n",
       "    }\n",
       "\n",
       "    .dataframe thead th {\n",
       "        text-align: right;\n",
       "    }\n",
       "</style>\n",
       "<table border=\"1\" class=\"dataframe\">\n",
       "  <thead>\n",
       "    <tr style=\"text-align: right;\">\n",
       "      <th></th>\n",
       "      <th>Brand</th>\n",
       "      <th>Desc</th>\n",
       "      <th>Price</th>\n",
       "    </tr>\n",
       "  </thead>\n",
       "  <tbody>\n",
       "    <tr>\n",
       "      <th>0</th>\n",
       "      <td>povty</td>\n",
       "      <td>UV Protection Retro Square Sunglasses (Free Size)</td>\n",
       "      <td>₹299</td>\n",
       "    </tr>\n",
       "    <tr>\n",
       "      <th>1</th>\n",
       "      <td>VINCENT CHASE</td>\n",
       "      <td>by Lenskart Polarized, UV Protection Round Sun...</td>\n",
       "      <td>₹799</td>\n",
       "    </tr>\n",
       "    <tr>\n",
       "      <th>2</th>\n",
       "      <td>SRPM</td>\n",
       "      <td>UV Protection Wayfarer Sunglasses (50)</td>\n",
       "      <td>₹198</td>\n",
       "    </tr>\n",
       "    <tr>\n",
       "      <th>3</th>\n",
       "      <td>SUNBEE</td>\n",
       "      <td>UV Protection, Polarized Wayfarer Sunglasses (...</td>\n",
       "      <td>₹253</td>\n",
       "    </tr>\n",
       "    <tr>\n",
       "      <th>4</th>\n",
       "      <td>ROZZETTA CRAFT</td>\n",
       "      <td>Polarized, Night Vision, Riding Glasses Sports...</td>\n",
       "      <td>₹474</td>\n",
       "    </tr>\n",
       "    <tr>\n",
       "      <th>...</th>\n",
       "      <td>...</td>\n",
       "      <td>...</td>\n",
       "      <td>...</td>\n",
       "    </tr>\n",
       "    <tr>\n",
       "      <th>16</th>\n",
       "      <td>Fastrack</td>\n",
       "      <td>UV Protection Wayfarer Sunglasses (Free Size)</td>\n",
       "      <td>₹799</td>\n",
       "    </tr>\n",
       "    <tr>\n",
       "      <th>17</th>\n",
       "      <td>Fastrack</td>\n",
       "      <td>UV Protection Wayfarer Sunglasses (55)</td>\n",
       "      <td>₹759</td>\n",
       "    </tr>\n",
       "    <tr>\n",
       "      <th>18</th>\n",
       "      <td>ROZZETTA CRAFT</td>\n",
       "      <td>UV Protection Aviator Sunglasses (62)</td>\n",
       "      <td>₹616</td>\n",
       "    </tr>\n",
       "    <tr>\n",
       "      <th>19</th>\n",
       "      <td>Ted Smith</td>\n",
       "      <td>UV Protection Round Sunglasses (50)</td>\n",
       "      <td>₹828</td>\n",
       "    </tr>\n",
       "    <tr>\n",
       "      <th>20</th>\n",
       "      <td>Singco India</td>\n",
       "      <td>Gradient, Toughened Glass Lens, UV Protection ...</td>\n",
       "      <td>₹630</td>\n",
       "    </tr>\n",
       "  </tbody>\n",
       "</table>\n",
       "<p>100 rows × 3 columns</p>\n",
       "</div>"
      ],
      "text/plain": [
       "             Brand                                               Desc Price\n",
       "0            povty  UV Protection Retro Square Sunglasses (Free Size)  ₹299\n",
       "1    VINCENT CHASE  by Lenskart Polarized, UV Protection Round Sun...  ₹799\n",
       "2             SRPM             UV Protection Wayfarer Sunglasses (50)  ₹198\n",
       "3           SUNBEE  UV Protection, Polarized Wayfarer Sunglasses (...  ₹253\n",
       "4   ROZZETTA CRAFT  Polarized, Night Vision, Riding Glasses Sports...  ₹474\n",
       "..             ...                                                ...   ...\n",
       "16        Fastrack      UV Protection Wayfarer Sunglasses (Free Size)  ₹799\n",
       "17        Fastrack             UV Protection Wayfarer Sunglasses (55)  ₹759\n",
       "18  ROZZETTA CRAFT              UV Protection Aviator Sunglasses (62)  ₹616\n",
       "19       Ted Smith                UV Protection Round Sunglasses (50)  ₹828\n",
       "20    Singco India  Gradient, Toughened Glass Lens, UV Protection ...  ₹630\n",
       "\n",
       "[100 rows x 3 columns]"
      ]
     },
     "execution_count": 146,
     "metadata": {},
     "output_type": "execute_result"
    }
   ],
   "source": [
    "df7=pd.concat(data)\n",
    "df7"
   ]
  },
  {
   "cell_type": "code",
   "execution_count": 147,
   "id": "89ee1eb4",
   "metadata": {},
   "outputs": [],
   "source": [
    "df7=df7.reset_index()"
   ]
  },
  {
   "cell_type": "code",
   "execution_count": 148,
   "id": "5bc83b18",
   "metadata": {},
   "outputs": [],
   "source": [
    "df7.drop(columns=\"index\",inplace=True)"
   ]
  },
  {
   "cell_type": "code",
   "execution_count": 149,
   "id": "7ae575b3",
   "metadata": {},
   "outputs": [
    {
     "data": {
      "text/html": [
       "<div>\n",
       "<style scoped>\n",
       "    .dataframe tbody tr th:only-of-type {\n",
       "        vertical-align: middle;\n",
       "    }\n",
       "\n",
       "    .dataframe tbody tr th {\n",
       "        vertical-align: top;\n",
       "    }\n",
       "\n",
       "    .dataframe thead th {\n",
       "        text-align: right;\n",
       "    }\n",
       "</style>\n",
       "<table border=\"1\" class=\"dataframe\">\n",
       "  <thead>\n",
       "    <tr style=\"text-align: right;\">\n",
       "      <th></th>\n",
       "      <th>Brand</th>\n",
       "      <th>Desc</th>\n",
       "      <th>Price</th>\n",
       "    </tr>\n",
       "  </thead>\n",
       "  <tbody>\n",
       "    <tr>\n",
       "      <th>0</th>\n",
       "      <td>povty</td>\n",
       "      <td>UV Protection Retro Square Sunglasses (Free Size)</td>\n",
       "      <td>₹299</td>\n",
       "    </tr>\n",
       "    <tr>\n",
       "      <th>1</th>\n",
       "      <td>VINCENT CHASE</td>\n",
       "      <td>by Lenskart Polarized, UV Protection Round Sun...</td>\n",
       "      <td>₹799</td>\n",
       "    </tr>\n",
       "    <tr>\n",
       "      <th>2</th>\n",
       "      <td>SRPM</td>\n",
       "      <td>UV Protection Wayfarer Sunglasses (50)</td>\n",
       "      <td>₹198</td>\n",
       "    </tr>\n",
       "    <tr>\n",
       "      <th>3</th>\n",
       "      <td>SUNBEE</td>\n",
       "      <td>UV Protection, Polarized Wayfarer Sunglasses (...</td>\n",
       "      <td>₹253</td>\n",
       "    </tr>\n",
       "    <tr>\n",
       "      <th>4</th>\n",
       "      <td>ROZZETTA CRAFT</td>\n",
       "      <td>Polarized, Night Vision, Riding Glasses Sports...</td>\n",
       "      <td>₹474</td>\n",
       "    </tr>\n",
       "    <tr>\n",
       "      <th>...</th>\n",
       "      <td>...</td>\n",
       "      <td>...</td>\n",
       "      <td>...</td>\n",
       "    </tr>\n",
       "    <tr>\n",
       "      <th>95</th>\n",
       "      <td>Fastrack</td>\n",
       "      <td>UV Protection Wayfarer Sunglasses (Free Size)</td>\n",
       "      <td>₹799</td>\n",
       "    </tr>\n",
       "    <tr>\n",
       "      <th>96</th>\n",
       "      <td>Fastrack</td>\n",
       "      <td>UV Protection Wayfarer Sunglasses (55)</td>\n",
       "      <td>₹759</td>\n",
       "    </tr>\n",
       "    <tr>\n",
       "      <th>97</th>\n",
       "      <td>ROZZETTA CRAFT</td>\n",
       "      <td>UV Protection Aviator Sunglasses (62)</td>\n",
       "      <td>₹616</td>\n",
       "    </tr>\n",
       "    <tr>\n",
       "      <th>98</th>\n",
       "      <td>Ted Smith</td>\n",
       "      <td>UV Protection Round Sunglasses (50)</td>\n",
       "      <td>₹828</td>\n",
       "    </tr>\n",
       "    <tr>\n",
       "      <th>99</th>\n",
       "      <td>Singco India</td>\n",
       "      <td>Gradient, Toughened Glass Lens, UV Protection ...</td>\n",
       "      <td>₹630</td>\n",
       "    </tr>\n",
       "  </tbody>\n",
       "</table>\n",
       "<p>100 rows × 3 columns</p>\n",
       "</div>"
      ],
      "text/plain": [
       "             Brand                                               Desc Price\n",
       "0            povty  UV Protection Retro Square Sunglasses (Free Size)  ₹299\n",
       "1    VINCENT CHASE  by Lenskart Polarized, UV Protection Round Sun...  ₹799\n",
       "2             SRPM             UV Protection Wayfarer Sunglasses (50)  ₹198\n",
       "3           SUNBEE  UV Protection, Polarized Wayfarer Sunglasses (...  ₹253\n",
       "4   ROZZETTA CRAFT  Polarized, Night Vision, Riding Glasses Sports...  ₹474\n",
       "..             ...                                                ...   ...\n",
       "95        Fastrack      UV Protection Wayfarer Sunglasses (Free Size)  ₹799\n",
       "96        Fastrack             UV Protection Wayfarer Sunglasses (55)  ₹759\n",
       "97  ROZZETTA CRAFT              UV Protection Aviator Sunglasses (62)  ₹616\n",
       "98       Ted Smith                UV Protection Round Sunglasses (50)  ₹828\n",
       "99    Singco India  Gradient, Toughened Glass Lens, UV Protection ...  ₹630\n",
       "\n",
       "[100 rows x 3 columns]"
      ]
     },
     "execution_count": 149,
     "metadata": {},
     "output_type": "execute_result"
    }
   ],
   "source": [
    "df7"
   ]
  },
  {
   "cell_type": "markdown",
   "id": "1c7c7560",
   "metadata": {},
   "source": [
    "# Q5: Scrape 100 reviews data from flipkart.com for iphone11 phone \n",
    "1. Rating\n",
    "2. Review summary\n",
    "3. Full review\n",
    "4. You have to scrape this data for first 100 reviews"
   ]
  },
  {
   "cell_type": "code",
   "execution_count": 150,
   "id": "3f6b6b7a",
   "metadata": {},
   "outputs": [],
   "source": [
    "import selenium \n",
    "from selenium import webdriver\n",
    "import warnings\n",
    "warnings.filterwarnings('ignore')"
   ]
  },
  {
   "cell_type": "code",
   "execution_count": 161,
   "id": "21f99668",
   "metadata": {},
   "outputs": [],
   "source": [
    "driver=webdriver.Chrome(\"chromedriver.exe\")"
   ]
  },
  {
   "cell_type": "code",
   "execution_count": 164,
   "id": "76cb3608",
   "metadata": {},
   "outputs": [],
   "source": [
    "url=\"https://www.flipkart.com/apple-iphone-11-black-64-gb/product-reviews/itm4e5041ba101fd?pid=MOBFWQ6BXGJCEYNY&lid=LSTMOBFWQ6BXGJCEYNYEZ5SGX&marketplace=FLIPKART\""
   ]
  },
  {
   "cell_type": "code",
   "execution_count": 165,
   "id": "b7919ded",
   "metadata": {},
   "outputs": [],
   "source": [
    "driver.get(url)"
   ]
  },
  {
   "cell_type": "code",
   "execution_count": 179,
   "id": "58a542d6",
   "metadata": {},
   "outputs": [],
   "source": [
    "rating=[]\n",
    "review=[]\n",
    "full_rev=[]\n",
    "\n",
    "\n",
    "for i in range(1,15):\n",
    "    rate=driver.find_elements_by_xpath('//div[@class=\"_3LWZlK _1BLPMq\"]')\n",
    "    for j in rate:\n",
    "        rating.append(j.text)\n",
    "    rev=driver.find_elements_by_xpath('//p[@class=\"_2-N8zT\"]')\n",
    "    for k in rev:\n",
    "        review.append(k.text)    \n",
    "    full=driver.find_elements_by_xpath('//div[@class=\"t-ZTKy\"]')\n",
    "    for l in full:\n",
    "        full_rev.append(l.text)\n",
    "    \n",
    "   \n",
    "        nxt_button=driver.find_elements_by_xpath(\"//a[@class='_1LKTO3']\")            \n",
    "\n",
    "    try:\n",
    "\n",
    "        driver.get(nxt_button[1].get_attribute('href'))\n",
    "        \n",
    "\n",
    "    except:\n",
    "\n",
    "        driver.get(nxt_button[0].get_attribute('href'))"
   ]
  },
  {
   "cell_type": "code",
   "execution_count": 180,
   "id": "52bddbb2",
   "metadata": {},
   "outputs": [
    {
     "data": {
      "text/plain": [
       "136"
      ]
     },
     "execution_count": 180,
     "metadata": {},
     "output_type": "execute_result"
    }
   ],
   "source": [
    "len(rating)"
   ]
  },
  {
   "cell_type": "code",
   "execution_count": 181,
   "id": "9642aabb",
   "metadata": {},
   "outputs": [
    {
     "data": {
      "text/plain": [
       "140"
      ]
     },
     "execution_count": 181,
     "metadata": {},
     "output_type": "execute_result"
    }
   ],
   "source": [
    "len(review)"
   ]
  },
  {
   "cell_type": "code",
   "execution_count": 182,
   "id": "d4c0b772",
   "metadata": {},
   "outputs": [
    {
     "data": {
      "text/plain": [
       "140"
      ]
     },
     "execution_count": 182,
     "metadata": {},
     "output_type": "execute_result"
    }
   ],
   "source": [
    "len(full_rev)"
   ]
  },
  {
   "cell_type": "code",
   "execution_count": 183,
   "id": "1de69651",
   "metadata": {},
   "outputs": [],
   "source": [
    "rat=rating[0:100]\n",
    "rev=review[0:100]\n",
    "full=full_rev[0:100]"
   ]
  },
  {
   "cell_type": "code",
   "execution_count": 184,
   "id": "6246c02d",
   "metadata": {},
   "outputs": [],
   "source": [
    "df6=pd.DataFrame({\"Rating\":rat,\"Review\":rev,\"Full Review\":full})"
   ]
  },
  {
   "cell_type": "code",
   "execution_count": 185,
   "id": "e153fd9e",
   "metadata": {},
   "outputs": [
    {
     "data": {
      "text/html": [
       "<div>\n",
       "<style scoped>\n",
       "    .dataframe tbody tr th:only-of-type {\n",
       "        vertical-align: middle;\n",
       "    }\n",
       "\n",
       "    .dataframe tbody tr th {\n",
       "        vertical-align: top;\n",
       "    }\n",
       "\n",
       "    .dataframe thead th {\n",
       "        text-align: right;\n",
       "    }\n",
       "</style>\n",
       "<table border=\"1\" class=\"dataframe\">\n",
       "  <thead>\n",
       "    <tr style=\"text-align: right;\">\n",
       "      <th></th>\n",
       "      <th>Rating</th>\n",
       "      <th>Review</th>\n",
       "      <th>Full Review</th>\n",
       "    </tr>\n",
       "  </thead>\n",
       "  <tbody>\n",
       "    <tr>\n",
       "      <th>0</th>\n",
       "      <td>4</td>\n",
       "      <td>Absolute rubbish!</td>\n",
       "      <td>Worst product delivered by Flipkart\\nAfter 10d...</td>\n",
       "    </tr>\n",
       "    <tr>\n",
       "      <th>1</th>\n",
       "      <td>5</td>\n",
       "      <td>Really Nice</td>\n",
       "      <td>Great phone and camera and timely delivery by ...</td>\n",
       "    </tr>\n",
       "    <tr>\n",
       "      <th>2</th>\n",
       "      <td>5</td>\n",
       "      <td>Terrific purchase</td>\n",
       "      <td>Very good phone. All the apps are running smoo...</td>\n",
       "    </tr>\n",
       "    <tr>\n",
       "      <th>3</th>\n",
       "      <td>5</td>\n",
       "      <td>Mind-blowing purchase</td>\n",
       "      <td>After using more than a year of using iPhone11...</td>\n",
       "    </tr>\n",
       "    <tr>\n",
       "      <th>4</th>\n",
       "      <td>5</td>\n",
       "      <td>Perfect product!</td>\n",
       "      <td>Awesome Product. Initially I was looking for g...</td>\n",
       "    </tr>\n",
       "    <tr>\n",
       "      <th>...</th>\n",
       "      <td>...</td>\n",
       "      <td>...</td>\n",
       "      <td>...</td>\n",
       "    </tr>\n",
       "    <tr>\n",
       "      <th>95</th>\n",
       "      <td>4</td>\n",
       "      <td>Perfect product!</td>\n",
       "      <td>This phone is beauty . I was using i phone 12 ...</td>\n",
       "    </tr>\n",
       "    <tr>\n",
       "      <th>96</th>\n",
       "      <td>5</td>\n",
       "      <td>Pretty good</td>\n",
       "      <td>Good product , on time delivery, genuine produ...</td>\n",
       "    </tr>\n",
       "    <tr>\n",
       "      <th>97</th>\n",
       "      <td>5</td>\n",
       "      <td>Brilliant</td>\n",
       "      <td>This is the best purchase I have ever made in ...</td>\n",
       "    </tr>\n",
       "    <tr>\n",
       "      <th>98</th>\n",
       "      <td>4</td>\n",
       "      <td>Perfect product!</td>\n",
       "      <td>A great device with a good battery backup that...</td>\n",
       "    </tr>\n",
       "    <tr>\n",
       "      <th>99</th>\n",
       "      <td>4</td>\n",
       "      <td>Worth the money</td>\n",
       "      <td>Awesome product!\\nBattery: awesome\\nDisplay: a...</td>\n",
       "    </tr>\n",
       "  </tbody>\n",
       "</table>\n",
       "<p>100 rows × 3 columns</p>\n",
       "</div>"
      ],
      "text/plain": [
       "   Rating                 Review  \\\n",
       "0       4      Absolute rubbish!   \n",
       "1       5            Really Nice   \n",
       "2       5      Terrific purchase   \n",
       "3       5  Mind-blowing purchase   \n",
       "4       5       Perfect product!   \n",
       "..    ...                    ...   \n",
       "95      4       Perfect product!   \n",
       "96      5            Pretty good   \n",
       "97      5              Brilliant   \n",
       "98      4       Perfect product!   \n",
       "99      4        Worth the money   \n",
       "\n",
       "                                          Full Review  \n",
       "0   Worst product delivered by Flipkart\\nAfter 10d...  \n",
       "1   Great phone and camera and timely delivery by ...  \n",
       "2   Very good phone. All the apps are running smoo...  \n",
       "3   After using more than a year of using iPhone11...  \n",
       "4   Awesome Product. Initially I was looking for g...  \n",
       "..                                                ...  \n",
       "95  This phone is beauty . I was using i phone 12 ...  \n",
       "96  Good product , on time delivery, genuine produ...  \n",
       "97  This is the best purchase I have ever made in ...  \n",
       "98  A great device with a good battery backup that...  \n",
       "99  Awesome product!\\nBattery: awesome\\nDisplay: a...  \n",
       "\n",
       "[100 rows x 3 columns]"
      ]
     },
     "execution_count": 185,
     "metadata": {},
     "output_type": "execute_result"
    }
   ],
   "source": [
    "df6"
   ]
  },
  {
   "cell_type": "markdown",
   "id": "765c051a",
   "metadata": {},
   "source": [
    "# Q6: Scrape data for first 100 sneakers you find when you visit flipkart.com andsearch for “sneakers” in thesearch field."
   ]
  },
  {
   "cell_type": "markdown",
   "id": "630b8f8f",
   "metadata": {},
   "source": [
    "You have to scrape 4 attributes of each sneaker:\n",
    "1. Brand\n",
    "2. Product Description\n",
    "3. Price"
   ]
  },
  {
   "cell_type": "code",
   "execution_count": 167,
   "id": "fa9c40b2",
   "metadata": {},
   "outputs": [],
   "source": [
    "import selenium \n",
    "from selenium import webdriver\n",
    "import warnings\n",
    "warnings.filterwarnings('ignore')"
   ]
  },
  {
   "cell_type": "code",
   "execution_count": 168,
   "id": "0b1fc85f",
   "metadata": {},
   "outputs": [],
   "source": [
    "driver=webdriver.Chrome(\"chromedriver.exe\")"
   ]
  },
  {
   "cell_type": "code",
   "execution_count": 169,
   "id": "c9bf2960",
   "metadata": {},
   "outputs": [],
   "source": [
    "url=\"https://www.flipkart.com/\""
   ]
  },
  {
   "cell_type": "code",
   "execution_count": 170,
   "id": "660a444c",
   "metadata": {},
   "outputs": [],
   "source": [
    "driver.get(url)"
   ]
  },
  {
   "cell_type": "code",
   "execution_count": 171,
   "id": "62e1503d",
   "metadata": {},
   "outputs": [
    {
     "data": {
      "text/plain": [
       "<selenium.webdriver.remote.webelement.WebElement (session=\"d282914630689aacbd0e3dcc87462439\", element=\"811dfd5b-a5d1-4783-b315-3da74fa069a7\")>"
      ]
     },
     "execution_count": 171,
     "metadata": {},
     "output_type": "execute_result"
    }
   ],
   "source": [
    "srh_loc=driver.find_element_by_xpath('/html/body/div[1]/div/div[1]/div[1]/div[2]/div[2]/form/div/div/input')\n",
    "srh_loc"
   ]
  },
  {
   "cell_type": "code",
   "execution_count": 172,
   "id": "aa88568c",
   "metadata": {},
   "outputs": [],
   "source": [
    "srh_loc.send_keys(\"sneakers\")"
   ]
  },
  {
   "cell_type": "code",
   "execution_count": 173,
   "id": "11007594",
   "metadata": {},
   "outputs": [],
   "source": [
    "srh_button=driver.find_element_by_class_name(\"L0Z3Pu\")\n",
    "srh_button.click()"
   ]
  },
  {
   "cell_type": "markdown",
   "id": "8c474f96",
   "metadata": {},
   "source": [
    "Scraping sneaker name"
   ]
  },
  {
   "cell_type": "code",
   "execution_count": 174,
   "id": "d1c3e45d",
   "metadata": {},
   "outputs": [],
   "source": [
    "import pandas as pd"
   ]
  },
  {
   "cell_type": "code",
   "execution_count": 204,
   "id": "2ad98a4c",
   "metadata": {},
   "outputs": [],
   "source": [
    "sneaker_name1=sneaker_name[0:100]\n",
    "sneaker_dec1=sneaker_dec[0:100]\n",
    "sneaker_price1=sneaker_price[0:100]\n"
   ]
  },
  {
   "cell_type": "code",
   "execution_count": 205,
   "id": "0b2af7dc",
   "metadata": {
    "scrolled": true
   },
   "outputs": [
    {
     "data": {
      "text/html": [
       "<div>\n",
       "<style scoped>\n",
       "    .dataframe tbody tr th:only-of-type {\n",
       "        vertical-align: middle;\n",
       "    }\n",
       "\n",
       "    .dataframe tbody tr th {\n",
       "        vertical-align: top;\n",
       "    }\n",
       "\n",
       "    .dataframe thead th {\n",
       "        text-align: right;\n",
       "    }\n",
       "</style>\n",
       "<table border=\"1\" class=\"dataframe\">\n",
       "  <thead>\n",
       "    <tr style=\"text-align: right;\">\n",
       "      <th></th>\n",
       "      <th>Sneker_name</th>\n",
       "      <th>Sneaker_dec</th>\n",
       "      <th>sneaker_price</th>\n",
       "    </tr>\n",
       "  </thead>\n",
       "  <tbody>\n",
       "    <tr>\n",
       "      <th>0</th>\n",
       "      <td>LEVI'S</td>\n",
       "      <td>Sneakers For Men</td>\n",
       "      <td>₹1,119</td>\n",
       "    </tr>\n",
       "    <tr>\n",
       "      <th>1</th>\n",
       "      <td>HIGHLANDER</td>\n",
       "      <td>Sneakers For Men</td>\n",
       "      <td>₹995</td>\n",
       "    </tr>\n",
       "    <tr>\n",
       "      <th>2</th>\n",
       "      <td>DUNKASTON</td>\n",
       "      <td>Sneakers For Men</td>\n",
       "      <td>₹343</td>\n",
       "    </tr>\n",
       "    <tr>\n",
       "      <th>3</th>\n",
       "      <td>World Wear Footwear</td>\n",
       "      <td>Modern Trendy Sneakers Shoes Sneakers For Men</td>\n",
       "      <td>₹199</td>\n",
       "    </tr>\n",
       "    <tr>\n",
       "      <th>4</th>\n",
       "      <td>BRUTON</td>\n",
       "      <td>Super Stylish &amp; Trendy Combo Pack of 02 Pairs ...</td>\n",
       "      <td>₹259</td>\n",
       "    </tr>\n",
       "    <tr>\n",
       "      <th>...</th>\n",
       "      <td>...</td>\n",
       "      <td>...</td>\n",
       "      <td>...</td>\n",
       "    </tr>\n",
       "    <tr>\n",
       "      <th>95</th>\n",
       "      <td>HIGHLANDER</td>\n",
       "      <td>Serve Pro Lite Sneakers For Men</td>\n",
       "      <td>₹995</td>\n",
       "    </tr>\n",
       "    <tr>\n",
       "      <th>96</th>\n",
       "      <td>T-ROCK</td>\n",
       "      <td>Stylish and Trendy New Design Lightweight,Casu...</td>\n",
       "      <td>₹399</td>\n",
       "    </tr>\n",
       "    <tr>\n",
       "      <th>97</th>\n",
       "      <td>ESSENCE</td>\n",
       "      <td>Men's Sneakers Fashion Lightweight Running Sho...</td>\n",
       "      <td>₹399</td>\n",
       "    </tr>\n",
       "    <tr>\n",
       "      <th>98</th>\n",
       "      <td>EMPTILE</td>\n",
       "      <td>1259 smart black lace-ups sneakers for men Sne...</td>\n",
       "      <td>₹397</td>\n",
       "    </tr>\n",
       "    <tr>\n",
       "      <th>99</th>\n",
       "      <td>Bacan</td>\n",
       "      <td>Kwik FIT casual sneaker shoes and partywear sh...</td>\n",
       "      <td>₹526</td>\n",
       "    </tr>\n",
       "  </tbody>\n",
       "</table>\n",
       "<p>100 rows × 3 columns</p>\n",
       "</div>"
      ],
      "text/plain": [
       "            Sneker_name                                        Sneaker_dec  \\\n",
       "0                LEVI'S                                   Sneakers For Men   \n",
       "1            HIGHLANDER                                   Sneakers For Men   \n",
       "2             DUNKASTON                                   Sneakers For Men   \n",
       "3   World Wear Footwear      Modern Trendy Sneakers Shoes Sneakers For Men   \n",
       "4                BRUTON  Super Stylish & Trendy Combo Pack of 02 Pairs ...   \n",
       "..                  ...                                                ...   \n",
       "95           HIGHLANDER                    Serve Pro Lite Sneakers For Men   \n",
       "96               T-ROCK  Stylish and Trendy New Design Lightweight,Casu...   \n",
       "97              ESSENCE  Men's Sneakers Fashion Lightweight Running Sho...   \n",
       "98              EMPTILE  1259 smart black lace-ups sneakers for men Sne...   \n",
       "99                Bacan  Kwik FIT casual sneaker shoes and partywear sh...   \n",
       "\n",
       "   sneaker_price  \n",
       "0         ₹1,119  \n",
       "1           ₹995  \n",
       "2           ₹343  \n",
       "3           ₹199  \n",
       "4           ₹259  \n",
       "..           ...  \n",
       "95          ₹995  \n",
       "96          ₹399  \n",
       "97          ₹399  \n",
       "98          ₹397  \n",
       "99          ₹526  \n",
       "\n",
       "[100 rows x 3 columns]"
      ]
     },
     "execution_count": 205,
     "metadata": {},
     "output_type": "execute_result"
    }
   ],
   "source": [
    "df9=pd.DataFrame({\"Sneker_name\":sneaker_name1,\"Sneaker_dec\":sneaker_dec1,\"sneaker_price\":sneaker_price1})\n",
    "df9"
   ]
  },
  {
   "cell_type": "markdown",
   "id": "c44a7a4b",
   "metadata": {},
   "source": [
    "# Q7. Go to the link - https://www.myntra.com/shoes\n",
    "Set Price filter to “Rs. 7149 to Rs. 14099 ” , Color filter to “Black”,And then scrape First 100 shoes data you get. The data should include “Brand” of the shoes , Short Shoe\n",
    "description, price of the shoe"
   ]
  },
  {
   "cell_type": "code",
   "execution_count": 180,
   "id": "5276df95",
   "metadata": {},
   "outputs": [],
   "source": [
    "import selenium \n",
    "from selenium import webdriver\n",
    "import warnings\n",
    "warnings.filterwarnings('ignore')"
   ]
  },
  {
   "cell_type": "code",
   "execution_count": 181,
   "id": "49d7355a",
   "metadata": {},
   "outputs": [],
   "source": [
    "driver=webdriver.Chrome(\"chromedriver.exe\")"
   ]
  },
  {
   "cell_type": "code",
   "execution_count": 182,
   "id": "4a4d66b2",
   "metadata": {},
   "outputs": [],
   "source": [
    "url=\"https://www.myntra.com/shoes/\""
   ]
  },
  {
   "cell_type": "code",
   "execution_count": 183,
   "id": "8ec5d865",
   "metadata": {},
   "outputs": [],
   "source": [
    "driver.get(url)"
   ]
  },
  {
   "cell_type": "code",
   "execution_count": 184,
   "id": "6d071b9f",
   "metadata": {},
   "outputs": [],
   "source": [
    "srh_bu=driver.find_element_by_xpath('/html/body/div[2]/div/div[1]/main/div[3]/div[1]/section/div/div[6]/ul/li[1]/label')\n",
    "srh_bu.click()"
   ]
  },
  {
   "cell_type": "code",
   "execution_count": 185,
   "id": "d0f40ffa",
   "metadata": {},
   "outputs": [],
   "source": [
    "srh_sa=driver.find_element_by_xpath('/html/body/div[2]/div/div[1]/main/div[3]/div[1]/section/div/div[5]/ul/li[2]/label/div')\n",
    "srh_sa.click()"
   ]
  },
  {
   "cell_type": "code",
   "execution_count": 186,
   "id": "7d3df051",
   "metadata": {},
   "outputs": [],
   "source": [
    "brand=[]\n",
    "des=[]\n",
    "price=[]\n",
    "\n",
    "\n",
    "for i in range(0,1):\n",
    "    shoe_nam=driver.find_elements_by_xpath('//h3[@class=\"product-brand\"]')\n",
    "    for j in shoe_nam:\n",
    "        brand.append(j.text)\n",
    "    shoe_dis=driver.find_elements_by_xpath('//h4[@class=\"product-product\"]')\n",
    "    for k in shoe_dis:\n",
    "        des.append(k.text)    \n",
    "    shoe_pr=driver.find_elements_by_xpath('//span[@class=\"product-discountedPrice\"]')\n",
    "    for l in shoe_pr:\n",
    "        price.append(l.text) "
   ]
  },
  {
   "cell_type": "code",
   "execution_count": 187,
   "id": "c43cb9a9",
   "metadata": {},
   "outputs": [],
   "source": [
    "srh_bu=driver.find_element_by_xpath('/html/body/div[2]/div/div[1]/main/div[3]/div[2]/div/div[2]/section/div[2]/ul/li[3]/a')\n",
    "srh_bu.click()"
   ]
  },
  {
   "cell_type": "code",
   "execution_count": 188,
   "id": "d60e5424",
   "metadata": {},
   "outputs": [],
   "source": [
    "for i in range(0,1):\n",
    "    shoe_nam=driver.find_elements_by_xpath('//h3[@class=\"product-brand\"]')\n",
    "    for j in shoe_nam:\n",
    "        brand.append(j.text)\n",
    "    shoe_dis=driver.find_elements_by_xpath('//h4[@class=\"product-product\"]')\n",
    "    for k in shoe_dis:\n",
    "        des.append(k.text)    \n",
    "    shoe_pr=driver.find_elements_by_xpath('//span[@class=\"product-discountedPrice\"]')\n",
    "    for l in shoe_pr:\n",
    "        price.append(l.text)"
   ]
  },
  {
   "cell_type": "code",
   "execution_count": 189,
   "id": "c0863665",
   "metadata": {},
   "outputs": [
    {
     "data": {
      "text/plain": [
       "100"
      ]
     },
     "execution_count": 189,
     "metadata": {},
     "output_type": "execute_result"
    }
   ],
   "source": [
    "len(brand)"
   ]
  },
  {
   "cell_type": "code",
   "execution_count": 190,
   "id": "c64a7287",
   "metadata": {},
   "outputs": [
    {
     "data": {
      "text/plain": [
       "100"
      ]
     },
     "execution_count": 190,
     "metadata": {},
     "output_type": "execute_result"
    }
   ],
   "source": [
    "len(des)"
   ]
  },
  {
   "cell_type": "code",
   "execution_count": 192,
   "id": "ea7f4c53",
   "metadata": {},
   "outputs": [],
   "source": [
    "sneaker_name1=sneaker_name[0:100]\n",
    "sneaker_dec1=sneaker_dec[0:100]\n",
    "sneaker_price1=sneaker_price[0:100]"
   ]
  },
  {
   "cell_type": "code",
   "execution_count": 232,
   "id": "e41d9531",
   "metadata": {},
   "outputs": [
    {
     "data": {
      "text/html": [
       "<div>\n",
       "<style scoped>\n",
       "    .dataframe tbody tr th:only-of-type {\n",
       "        vertical-align: middle;\n",
       "    }\n",
       "\n",
       "    .dataframe tbody tr th {\n",
       "        vertical-align: top;\n",
       "    }\n",
       "\n",
       "    .dataframe thead th {\n",
       "        text-align: right;\n",
       "    }\n",
       "</style>\n",
       "<table border=\"1\" class=\"dataframe\">\n",
       "  <thead>\n",
       "    <tr style=\"text-align: right;\">\n",
       "      <th></th>\n",
       "      <th>Sneker_name</th>\n",
       "      <th>Sneaker_dec</th>\n",
       "      <th>sneaker_price</th>\n",
       "    </tr>\n",
       "  </thead>\n",
       "  <tbody>\n",
       "    <tr>\n",
       "      <th>0</th>\n",
       "      <td>LEVI'S</td>\n",
       "      <td>Sneakers For Men</td>\n",
       "      <td>₹1,119</td>\n",
       "    </tr>\n",
       "    <tr>\n",
       "      <th>1</th>\n",
       "      <td>HIGHLANDER</td>\n",
       "      <td>Sneakers For Men</td>\n",
       "      <td>₹995</td>\n",
       "    </tr>\n",
       "    <tr>\n",
       "      <th>2</th>\n",
       "      <td>DUNKASTON</td>\n",
       "      <td>Sneakers For Men</td>\n",
       "      <td>₹343</td>\n",
       "    </tr>\n",
       "    <tr>\n",
       "      <th>3</th>\n",
       "      <td>World Wear Footwear</td>\n",
       "      <td>Modern Trendy Sneakers Shoes Sneakers For Men</td>\n",
       "      <td>₹199</td>\n",
       "    </tr>\n",
       "    <tr>\n",
       "      <th>4</th>\n",
       "      <td>BRUTON</td>\n",
       "      <td>Super Stylish &amp; Trendy Combo Pack of 02 Pairs ...</td>\n",
       "      <td>₹259</td>\n",
       "    </tr>\n",
       "    <tr>\n",
       "      <th>...</th>\n",
       "      <td>...</td>\n",
       "      <td>...</td>\n",
       "      <td>...</td>\n",
       "    </tr>\n",
       "    <tr>\n",
       "      <th>95</th>\n",
       "      <td>HIGHLANDER</td>\n",
       "      <td>Serve Pro Lite Sneakers For Men</td>\n",
       "      <td>₹995</td>\n",
       "    </tr>\n",
       "    <tr>\n",
       "      <th>96</th>\n",
       "      <td>T-ROCK</td>\n",
       "      <td>Stylish and Trendy New Design Lightweight,Casu...</td>\n",
       "      <td>₹399</td>\n",
       "    </tr>\n",
       "    <tr>\n",
       "      <th>97</th>\n",
       "      <td>ESSENCE</td>\n",
       "      <td>Men's Sneakers Fashion Lightweight Running Sho...</td>\n",
       "      <td>₹399</td>\n",
       "    </tr>\n",
       "    <tr>\n",
       "      <th>98</th>\n",
       "      <td>EMPTILE</td>\n",
       "      <td>1259 smart black lace-ups sneakers for men Sne...</td>\n",
       "      <td>₹397</td>\n",
       "    </tr>\n",
       "    <tr>\n",
       "      <th>99</th>\n",
       "      <td>Bacan</td>\n",
       "      <td>Kwik FIT casual sneaker shoes and partywear sh...</td>\n",
       "      <td>₹526</td>\n",
       "    </tr>\n",
       "  </tbody>\n",
       "</table>\n",
       "<p>100 rows × 3 columns</p>\n",
       "</div>"
      ],
      "text/plain": [
       "            Sneker_name                                        Sneaker_dec  \\\n",
       "0                LEVI'S                                   Sneakers For Men   \n",
       "1            HIGHLANDER                                   Sneakers For Men   \n",
       "2             DUNKASTON                                   Sneakers For Men   \n",
       "3   World Wear Footwear      Modern Trendy Sneakers Shoes Sneakers For Men   \n",
       "4                BRUTON  Super Stylish & Trendy Combo Pack of 02 Pairs ...   \n",
       "..                  ...                                                ...   \n",
       "95           HIGHLANDER                    Serve Pro Lite Sneakers For Men   \n",
       "96               T-ROCK  Stylish and Trendy New Design Lightweight,Casu...   \n",
       "97              ESSENCE  Men's Sneakers Fashion Lightweight Running Sho...   \n",
       "98              EMPTILE  1259 smart black lace-ups sneakers for men Sne...   \n",
       "99                Bacan  Kwik FIT casual sneaker shoes and partywear sh...   \n",
       "\n",
       "   sneaker_price  \n",
       "0         ₹1,119  \n",
       "1           ₹995  \n",
       "2           ₹343  \n",
       "3           ₹199  \n",
       "4           ₹259  \n",
       "..           ...  \n",
       "95          ₹995  \n",
       "96          ₹399  \n",
       "97          ₹399  \n",
       "98          ₹397  \n",
       "99          ₹526  \n",
       "\n",
       "[100 rows x 3 columns]"
      ]
     },
     "execution_count": 232,
     "metadata": {},
     "output_type": "execute_result"
    }
   ],
   "source": [
    "df9=pd.DataFrame({\"Sneker_name\":sneaker_name1,\"Sneaker_dec\":sneaker_dec1,\"sneaker_price\":sneaker_price1})\n",
    "df9"
   ]
  },
  {
   "cell_type": "markdown",
   "id": "c16e9725",
   "metadata": {},
   "source": [
    "# Q8: Go to webpage https://www.amazon.in/ Enter “Laptop” in the search field and then click the search icon.Then set CPU Type filter to “Intel Core i7” and “Intel Core i9”\n",
    "After setting the filters scrape first 10 laptops data. You have to scrape 3 attributesfor each laptop:\n",
    "1. Title\n",
    "2. Ratings\n",
    "3. Price"
   ]
  },
  {
   "cell_type": "code",
   "execution_count": 195,
   "id": "f05455fe",
   "metadata": {},
   "outputs": [],
   "source": [
    "import selenium \n",
    "from selenium import webdriver\n",
    "import pandas as pd\n",
    "import warnings \n",
    "warnings.filterwarnings('ignore')"
   ]
  },
  {
   "cell_type": "code",
   "execution_count": 196,
   "id": "d47ecfad",
   "metadata": {},
   "outputs": [],
   "source": [
    "driver=webdriver.Chrome('chromedriver.exe')"
   ]
  },
  {
   "cell_type": "code",
   "execution_count": 197,
   "id": "3d3e224c",
   "metadata": {},
   "outputs": [],
   "source": [
    "url='https://www.amazon.in/'\n",
    "driver.get(url)"
   ]
  },
  {
   "cell_type": "code",
   "execution_count": 198,
   "id": "ceb08502",
   "metadata": {},
   "outputs": [
    {
     "data": {
      "text/plain": [
       "<selenium.webdriver.remote.webelement.WebElement (session=\"73c21edc847f3bb2f0239baa68c1a4d2\", element=\"4997ec8d-0c55-4a68-80ca-cac70196beaf\")>"
      ]
     },
     "execution_count": 198,
     "metadata": {},
     "output_type": "execute_result"
    }
   ],
   "source": [
    "srh_lap=driver.find_element_by_id('twotabsearchtextbox')\n",
    "srh_lap"
   ]
  },
  {
   "cell_type": "code",
   "execution_count": 199,
   "id": "9d2a85e9",
   "metadata": {},
   "outputs": [],
   "source": [
    "srh_lap.send_keys(\"Laptop\")"
   ]
  },
  {
   "cell_type": "code",
   "execution_count": 200,
   "id": "abea29b4",
   "metadata": {},
   "outputs": [],
   "source": [
    "button_srh=driver.find_element_by_id(\"nav-search-submit-button\")"
   ]
  },
  {
   "cell_type": "code",
   "execution_count": 201,
   "id": "6a290ea8",
   "metadata": {},
   "outputs": [],
   "source": [
    "button_srh.click()"
   ]
  },
  {
   "cell_type": "code",
   "execution_count": 202,
   "id": "208ee5a1",
   "metadata": {},
   "outputs": [],
   "source": [
    "i7=driver.find_element_by_xpath('/html/body/div[1]/div[2]/div[1]/div[2]/div/div[3]/span/div[1]/div/div/div[6]/ul[4]/li[11]/span/a/div')\n",
    "i7.click()"
   ]
  },
  {
   "cell_type": "code",
   "execution_count": 203,
   "id": "2c912b00",
   "metadata": {},
   "outputs": [],
   "source": [
    "lap_title=driver.find_elements_by_xpath('//span[@class=\"a-size-medium a-color-base a-text-normal\"]')"
   ]
  },
  {
   "cell_type": "code",
   "execution_count": 204,
   "id": "32631980",
   "metadata": {},
   "outputs": [
    {
     "data": {
      "text/plain": [
       "[<selenium.webdriver.remote.webelement.WebElement (session=\"73c21edc847f3bb2f0239baa68c1a4d2\", element=\"5b2b9d0e-545e-4ccc-a456-76a84a5d0c64\")>,\n",
       " <selenium.webdriver.remote.webelement.WebElement (session=\"73c21edc847f3bb2f0239baa68c1a4d2\", element=\"7ece1c85-1655-4410-bda9-99a496f203c6\")>,\n",
       " <selenium.webdriver.remote.webelement.WebElement (session=\"73c21edc847f3bb2f0239baa68c1a4d2\", element=\"d08deb51-3888-4b98-8c80-fe0d5da47a22\")>,\n",
       " <selenium.webdriver.remote.webelement.WebElement (session=\"73c21edc847f3bb2f0239baa68c1a4d2\", element=\"566b6f27-7bee-4b14-a23c-f7de0bed67f3\")>,\n",
       " <selenium.webdriver.remote.webelement.WebElement (session=\"73c21edc847f3bb2f0239baa68c1a4d2\", element=\"d385d4a1-9b1f-43a6-9ea7-576cfd0aab06\")>,\n",
       " <selenium.webdriver.remote.webelement.WebElement (session=\"73c21edc847f3bb2f0239baa68c1a4d2\", element=\"ac518904-d75f-49f8-8432-dd3289afc4de\")>,\n",
       " <selenium.webdriver.remote.webelement.WebElement (session=\"73c21edc847f3bb2f0239baa68c1a4d2\", element=\"ee16039a-5dfc-4f94-b4df-cf49adec0744\")>,\n",
       " <selenium.webdriver.remote.webelement.WebElement (session=\"73c21edc847f3bb2f0239baa68c1a4d2\", element=\"3a121146-4268-4711-bc57-7224fd010635\")>,\n",
       " <selenium.webdriver.remote.webelement.WebElement (session=\"73c21edc847f3bb2f0239baa68c1a4d2\", element=\"401f090d-b0de-4b05-a62d-7ef067251a2c\")>,\n",
       " <selenium.webdriver.remote.webelement.WebElement (session=\"73c21edc847f3bb2f0239baa68c1a4d2\", element=\"e3f3bee7-29b6-4426-913a-e3d658af7246\")>,\n",
       " <selenium.webdriver.remote.webelement.WebElement (session=\"73c21edc847f3bb2f0239baa68c1a4d2\", element=\"19b70649-c04d-44c5-ba59-5259f030ea9c\")>,\n",
       " <selenium.webdriver.remote.webelement.WebElement (session=\"73c21edc847f3bb2f0239baa68c1a4d2\", element=\"cf749c54-a185-466e-8f63-1ac61bb87960\")>,\n",
       " <selenium.webdriver.remote.webelement.WebElement (session=\"73c21edc847f3bb2f0239baa68c1a4d2\", element=\"e8a58474-d0b1-4263-b435-1afd9e5c7b68\")>,\n",
       " <selenium.webdriver.remote.webelement.WebElement (session=\"73c21edc847f3bb2f0239baa68c1a4d2\", element=\"6a55711b-da79-4c78-af09-4dce5fc7b948\")>,\n",
       " <selenium.webdriver.remote.webelement.WebElement (session=\"73c21edc847f3bb2f0239baa68c1a4d2\", element=\"531535fc-6f06-477c-8f82-2d3116c867b2\")>,\n",
       " <selenium.webdriver.remote.webelement.WebElement (session=\"73c21edc847f3bb2f0239baa68c1a4d2\", element=\"843fb9b8-cddc-4717-949c-dd09c1fb6a28\")>,\n",
       " <selenium.webdriver.remote.webelement.WebElement (session=\"73c21edc847f3bb2f0239baa68c1a4d2\", element=\"a4963a28-a8c2-4d1b-a1e8-7dc7a7e2ab2c\")>,\n",
       " <selenium.webdriver.remote.webelement.WebElement (session=\"73c21edc847f3bb2f0239baa68c1a4d2\", element=\"d3a4f4b3-9d39-4a2e-9695-2d19582b4ad6\")>,\n",
       " <selenium.webdriver.remote.webelement.WebElement (session=\"73c21edc847f3bb2f0239baa68c1a4d2\", element=\"e710c90d-e047-46eb-9db7-e3d1ebe48df0\")>,\n",
       " <selenium.webdriver.remote.webelement.WebElement (session=\"73c21edc847f3bb2f0239baa68c1a4d2\", element=\"09f0593c-a039-4f62-9586-27be0fcc5a21\")>,\n",
       " <selenium.webdriver.remote.webelement.WebElement (session=\"73c21edc847f3bb2f0239baa68c1a4d2\", element=\"40584c9d-df1b-4758-8733-1b5fdd3356be\")>,\n",
       " <selenium.webdriver.remote.webelement.WebElement (session=\"73c21edc847f3bb2f0239baa68c1a4d2\", element=\"c21cc4a9-0407-4d27-95fd-f6febdb70f17\")>,\n",
       " <selenium.webdriver.remote.webelement.WebElement (session=\"73c21edc847f3bb2f0239baa68c1a4d2\", element=\"ae21a1ee-cb21-4017-8c64-8d99c78d1f96\")>,\n",
       " <selenium.webdriver.remote.webelement.WebElement (session=\"73c21edc847f3bb2f0239baa68c1a4d2\", element=\"a77bbae3-926a-455e-a6e3-a0719ba73602\")>,\n",
       " <selenium.webdriver.remote.webelement.WebElement (session=\"73c21edc847f3bb2f0239baa68c1a4d2\", element=\"3708eb45-d1cf-49a6-9490-7495c91f4c63\")>,\n",
       " <selenium.webdriver.remote.webelement.WebElement (session=\"73c21edc847f3bb2f0239baa68c1a4d2\", element=\"022efd23-cdd9-4c4a-9298-2d88e69fc6bc\")>,\n",
       " <selenium.webdriver.remote.webelement.WebElement (session=\"73c21edc847f3bb2f0239baa68c1a4d2\", element=\"46a7cdcf-c76a-4118-aa5a-664b50856e37\")>,\n",
       " <selenium.webdriver.remote.webelement.WebElement (session=\"73c21edc847f3bb2f0239baa68c1a4d2\", element=\"ed31ea74-8149-4683-85c5-957442d28259\")>,\n",
       " <selenium.webdriver.remote.webelement.WebElement (session=\"73c21edc847f3bb2f0239baa68c1a4d2\", element=\"6aa3c23e-4aa9-4804-af43-cf013a72ad5d\")>,\n",
       " <selenium.webdriver.remote.webelement.WebElement (session=\"73c21edc847f3bb2f0239baa68c1a4d2\", element=\"d6441c1a-f3c3-4bb3-b0d7-8ebc868a7647\")>]"
      ]
     },
     "execution_count": 204,
     "metadata": {},
     "output_type": "execute_result"
    }
   ],
   "source": [
    "lap_title"
   ]
  },
  {
   "cell_type": "code",
   "execution_count": 205,
   "id": "e32450f8",
   "metadata": {},
   "outputs": [],
   "source": [
    "lap_name=[]\n",
    "for i in lap_title:\n",
    "    lap_name.append(i.text)"
   ]
  },
  {
   "cell_type": "code",
   "execution_count": 206,
   "id": "0b091b9d",
   "metadata": {},
   "outputs": [
    {
     "data": {
      "text/plain": [
       "['LG Gram 16 Ultra-Light Intel Evo 11th Gen Core i7 16 inches Laptop (16 GB RAM, 512 GB SSD, Windows 10 Home, Iris Xe Graphics, Thunderbolt 4, USC -C x 2 (with Power), 1.19 kg, 16Z90P, Black)',\n",
       " 'Fujitsu UH-X 11th Gen Intel Core i7 13.3” FHD IPS 400Nits Thin & Light Laptop(16GB/512GB SSD/Windows 11/Office 2021/Iris Xe Graphics/Backlit Kb/Fingerprint Reader/2Yr Warranty/Black/878gms),4ZR1F38024',\n",
       " 'Mi Notebook Ultra 3.2K Resolution Display Intel Core i7-11370H 11th Gen 15.6-inch(39.62 cm) Thin and Light Laptop (16GB/512GB SSD/Iris Xe Graphic/Win 10/MS Office/Backlit KB/Fingerprint Sensor/1.7Kg)',\n",
       " 'ASUS VivoBook 14 (2021), 14-inch (35.56 cms) FHD, Intel Core i7-1065G7 10th Gen, Thin and Light Laptop (16GB/512GB SSD/Integrated Graphics/Office 2021/Windows 11/Silver/1.6 Kg), X415JA-EK701WS',\n",
       " 'ASUS TUF Gaming F15 (2021), 15.6\" (39.62 cms) FHD 144Hz, Intel Core i7-11600H 11th Gen, 4GB RTX 3050 Graphics, Gaming Laptop (16GB/512GB SSD/Windows 10/Office 2019/Gray/2.3 Kg), FX566HCB-HN299TS',\n",
       " 'LG Gram 16 inches Intel Evo 11th Gen Core i7 Ultra-Light Laptop (16 GB RAM, 512 GB SSD, New Windows 11 Home Preload, Iris Xe Graphics, USC -C x 2 (with Power), 1.19 kg, 16Z90P-G.AH85A2, Black)',\n",
       " 'Lenovo IdeaPad Flex 5 11th Gen Intel Core i7 14\" FHD 2-in-1 Convertible Laptop (16 GB/512GB SDD/Windows 11/MS Office 2021/Backlit Keyboard /Graphite Grey/1.5Kg), 82HS018XIN',\n",
       " 'ASUS ZenBook 13 OLED (2021) Intel Core i7-1165G7 11th Gen 13.3\" (33.78 cms) FHD Thin and Light Laptop (16GB/512GB SSD/Windows 10/Office 2019/Intel Iris Xᵉ Graphics/Pine Grey/1.14 kg), UX325EA-KG722TS',\n",
       " 'ASUS TUF Gaming F17 (2022), 17.3-inch (43.94 cms) FHD 144Hz, Intel Core i7-12700H 12th Gen, RTX 3060 6GB Graphics, Gaming Laptop (16GB/1TB SSD/Windows 11/Office 2021/Gray/2.6 Kg), FX707ZM-HX030WS',\n",
       " 'Lenovo ThinkBook 15 Intel 11th Gen Core i7 15.6\"(39.62 cm)FHD Thin and Light Laptop (16GB/512GB SSD/Windows 11 Home/MS Office H&S 2021/Iris® Xe Graphics/Backlit/Mineral Grey/1.7 Kg) 20VE00W4IH']"
      ]
     },
     "execution_count": 206,
     "metadata": {},
     "output_type": "execute_result"
    }
   ],
   "source": [
    "name=lap_name[0:10]\n",
    "name"
   ]
  },
  {
   "cell_type": "code",
   "execution_count": 207,
   "id": "183cff31",
   "metadata": {},
   "outputs": [],
   "source": [
    "lap_price=driver.find_elements_by_xpath('//span[@class=\"a-price-whole\"]')"
   ]
  },
  {
   "cell_type": "code",
   "execution_count": 208,
   "id": "6d142c64",
   "metadata": {},
   "outputs": [
    {
     "data": {
      "text/plain": [
       "[<selenium.webdriver.remote.webelement.WebElement (session=\"73c21edc847f3bb2f0239baa68c1a4d2\", element=\"734ba216-7a1c-4763-b0ec-d66ca1e8f300\")>,\n",
       " <selenium.webdriver.remote.webelement.WebElement (session=\"73c21edc847f3bb2f0239baa68c1a4d2\", element=\"29fcb2e6-2079-48f5-85c3-3b9cb89a690f\")>,\n",
       " <selenium.webdriver.remote.webelement.WebElement (session=\"73c21edc847f3bb2f0239baa68c1a4d2\", element=\"9864132e-1863-4669-a63a-ba097c42410d\")>,\n",
       " <selenium.webdriver.remote.webelement.WebElement (session=\"73c21edc847f3bb2f0239baa68c1a4d2\", element=\"8e007ca6-78b5-4a1b-b991-6d05d125c7f7\")>,\n",
       " <selenium.webdriver.remote.webelement.WebElement (session=\"73c21edc847f3bb2f0239baa68c1a4d2\", element=\"880a5000-e893-49d4-9c1f-9fa580ade0a2\")>,\n",
       " <selenium.webdriver.remote.webelement.WebElement (session=\"73c21edc847f3bb2f0239baa68c1a4d2\", element=\"19d0ba89-0d1c-44ca-b3e9-a1f2ca44cb40\")>,\n",
       " <selenium.webdriver.remote.webelement.WebElement (session=\"73c21edc847f3bb2f0239baa68c1a4d2\", element=\"303a24e7-433c-47ba-b1c8-4c3874d38204\")>,\n",
       " <selenium.webdriver.remote.webelement.WebElement (session=\"73c21edc847f3bb2f0239baa68c1a4d2\", element=\"55a9b712-c0f7-4675-b847-93af50f0a29b\")>,\n",
       " <selenium.webdriver.remote.webelement.WebElement (session=\"73c21edc847f3bb2f0239baa68c1a4d2\", element=\"65f14cf1-66da-4c27-b608-5eaeebec0313\")>,\n",
       " <selenium.webdriver.remote.webelement.WebElement (session=\"73c21edc847f3bb2f0239baa68c1a4d2\", element=\"a0cd4e95-a37c-4331-83cc-dff59bd6ca62\")>,\n",
       " <selenium.webdriver.remote.webelement.WebElement (session=\"73c21edc847f3bb2f0239baa68c1a4d2\", element=\"2761ddf9-233a-46da-821a-b8cccb747d5f\")>,\n",
       " <selenium.webdriver.remote.webelement.WebElement (session=\"73c21edc847f3bb2f0239baa68c1a4d2\", element=\"fef80e6e-6dcb-41fb-add8-d4018122d4f9\")>,\n",
       " <selenium.webdriver.remote.webelement.WebElement (session=\"73c21edc847f3bb2f0239baa68c1a4d2\", element=\"08ebdcd2-d3e2-4f89-9d25-87a552162c18\")>,\n",
       " <selenium.webdriver.remote.webelement.WebElement (session=\"73c21edc847f3bb2f0239baa68c1a4d2\", element=\"6865ee9a-ef36-43d2-9b58-9ad2a672bee0\")>,\n",
       " <selenium.webdriver.remote.webelement.WebElement (session=\"73c21edc847f3bb2f0239baa68c1a4d2\", element=\"46d1dc4e-85c7-4029-83a2-cf556123d14b\")>,\n",
       " <selenium.webdriver.remote.webelement.WebElement (session=\"73c21edc847f3bb2f0239baa68c1a4d2\", element=\"5c956d9c-69c3-4755-9742-46665da6ec03\")>,\n",
       " <selenium.webdriver.remote.webelement.WebElement (session=\"73c21edc847f3bb2f0239baa68c1a4d2\", element=\"c6024d92-1b2f-4a91-b1b3-2848caebea6f\")>,\n",
       " <selenium.webdriver.remote.webelement.WebElement (session=\"73c21edc847f3bb2f0239baa68c1a4d2\", element=\"5ed775bd-e748-46d6-bc16-151d778dc806\")>,\n",
       " <selenium.webdriver.remote.webelement.WebElement (session=\"73c21edc847f3bb2f0239baa68c1a4d2\", element=\"b74c16c6-d91e-45e0-b120-9eec6ea614a2\")>,\n",
       " <selenium.webdriver.remote.webelement.WebElement (session=\"73c21edc847f3bb2f0239baa68c1a4d2\", element=\"25864d02-d9ac-494c-8b0b-254f2db577d7\")>,\n",
       " <selenium.webdriver.remote.webelement.WebElement (session=\"73c21edc847f3bb2f0239baa68c1a4d2\", element=\"d5ee391d-58b3-44bf-9266-fb52e03d4573\")>,\n",
       " <selenium.webdriver.remote.webelement.WebElement (session=\"73c21edc847f3bb2f0239baa68c1a4d2\", element=\"2339f866-3b7b-4f57-9106-00235c1d207e\")>,\n",
       " <selenium.webdriver.remote.webelement.WebElement (session=\"73c21edc847f3bb2f0239baa68c1a4d2\", element=\"36961d40-c0d8-4469-b612-f9ddf3536113\")>,\n",
       " <selenium.webdriver.remote.webelement.WebElement (session=\"73c21edc847f3bb2f0239baa68c1a4d2\", element=\"15fc2972-84ae-480c-9715-7687858f0dc9\")>,\n",
       " <selenium.webdriver.remote.webelement.WebElement (session=\"73c21edc847f3bb2f0239baa68c1a4d2\", element=\"16c16b7c-d276-4e88-97c1-303258a5ab62\")>,\n",
       " <selenium.webdriver.remote.webelement.WebElement (session=\"73c21edc847f3bb2f0239baa68c1a4d2\", element=\"2fecb263-13eb-4708-ae28-ca1bb1da158f\")>,\n",
       " <selenium.webdriver.remote.webelement.WebElement (session=\"73c21edc847f3bb2f0239baa68c1a4d2\", element=\"a0cf8893-25bc-411c-8c70-7f6dcc62fa66\")>,\n",
       " <selenium.webdriver.remote.webelement.WebElement (session=\"73c21edc847f3bb2f0239baa68c1a4d2\", element=\"91a32396-87df-46c6-8812-729cb2f44ac1\")>,\n",
       " <selenium.webdriver.remote.webelement.WebElement (session=\"73c21edc847f3bb2f0239baa68c1a4d2\", element=\"9c39f7c5-3362-4316-a52a-8408572a7eb9\")>,\n",
       " <selenium.webdriver.remote.webelement.WebElement (session=\"73c21edc847f3bb2f0239baa68c1a4d2\", element=\"78e0ef50-4002-4bf9-b83c-9c491cf95472\")>]"
      ]
     },
     "execution_count": 208,
     "metadata": {},
     "output_type": "execute_result"
    }
   ],
   "source": [
    "lap_price"
   ]
  },
  {
   "cell_type": "code",
   "execution_count": 209,
   "id": "a90938a4",
   "metadata": {},
   "outputs": [],
   "source": [
    "lap_prices=[]\n",
    "for i in lap_price:\n",
    "    lap_prices.append(i.text)"
   ]
  },
  {
   "cell_type": "code",
   "execution_count": 210,
   "id": "9da8cf6e",
   "metadata": {},
   "outputs": [
    {
     "data": {
      "text/plain": [
       "['85,990',\n",
       " '83,990',\n",
       " '77,499',\n",
       " '57,490',\n",
       " '89,990',\n",
       " '89,999',\n",
       " '85,790',\n",
       " '92,990',\n",
       " '1,45,980',\n",
       " '90,990']"
      ]
     },
     "execution_count": 210,
     "metadata": {},
     "output_type": "execute_result"
    }
   ],
   "source": [
    "prices=lap_prices[0:10]\n",
    "prices"
   ]
  },
  {
   "cell_type": "code",
   "execution_count": 211,
   "id": "12393ee3",
   "metadata": {},
   "outputs": [
    {
     "data": {
      "text/html": [
       "<div>\n",
       "<style scoped>\n",
       "    .dataframe tbody tr th:only-of-type {\n",
       "        vertical-align: middle;\n",
       "    }\n",
       "\n",
       "    .dataframe tbody tr th {\n",
       "        vertical-align: top;\n",
       "    }\n",
       "\n",
       "    .dataframe thead th {\n",
       "        text-align: right;\n",
       "    }\n",
       "</style>\n",
       "<table border=\"1\" class=\"dataframe\">\n",
       "  <thead>\n",
       "    <tr style=\"text-align: right;\">\n",
       "      <th></th>\n",
       "      <th>Company_name</th>\n",
       "      <th>Laptop_price</th>\n",
       "    </tr>\n",
       "  </thead>\n",
       "  <tbody>\n",
       "    <tr>\n",
       "      <th>0</th>\n",
       "      <td>LG Gram 16 Ultra-Light Intel Evo 11th Gen Core...</td>\n",
       "      <td>85,990</td>\n",
       "    </tr>\n",
       "    <tr>\n",
       "      <th>1</th>\n",
       "      <td>Fujitsu UH-X 11th Gen Intel Core i7 13.3” FHD ...</td>\n",
       "      <td>83,990</td>\n",
       "    </tr>\n",
       "    <tr>\n",
       "      <th>2</th>\n",
       "      <td>Mi Notebook Ultra 3.2K Resolution Display Inte...</td>\n",
       "      <td>77,499</td>\n",
       "    </tr>\n",
       "    <tr>\n",
       "      <th>3</th>\n",
       "      <td>ASUS VivoBook 14 (2021), 14-inch (35.56 cms) F...</td>\n",
       "      <td>57,490</td>\n",
       "    </tr>\n",
       "    <tr>\n",
       "      <th>4</th>\n",
       "      <td>ASUS TUF Gaming F15 (2021), 15.6\" (39.62 cms) ...</td>\n",
       "      <td>89,990</td>\n",
       "    </tr>\n",
       "    <tr>\n",
       "      <th>5</th>\n",
       "      <td>LG Gram 16 inches Intel Evo 11th Gen Core i7 U...</td>\n",
       "      <td>89,999</td>\n",
       "    </tr>\n",
       "    <tr>\n",
       "      <th>6</th>\n",
       "      <td>Lenovo IdeaPad Flex 5 11th Gen Intel Core i7 1...</td>\n",
       "      <td>85,790</td>\n",
       "    </tr>\n",
       "    <tr>\n",
       "      <th>7</th>\n",
       "      <td>ASUS ZenBook 13 OLED (2021) Intel Core i7-1165...</td>\n",
       "      <td>92,990</td>\n",
       "    </tr>\n",
       "    <tr>\n",
       "      <th>8</th>\n",
       "      <td>ASUS TUF Gaming F17 (2022), 17.3-inch (43.94 c...</td>\n",
       "      <td>1,45,980</td>\n",
       "    </tr>\n",
       "    <tr>\n",
       "      <th>9</th>\n",
       "      <td>Lenovo ThinkBook 15 Intel 11th Gen Core i7 15....</td>\n",
       "      <td>90,990</td>\n",
       "    </tr>\n",
       "  </tbody>\n",
       "</table>\n",
       "</div>"
      ],
      "text/plain": [
       "                                        Company_name Laptop_price\n",
       "0  LG Gram 16 Ultra-Light Intel Evo 11th Gen Core...       85,990\n",
       "1  Fujitsu UH-X 11th Gen Intel Core i7 13.3” FHD ...       83,990\n",
       "2  Mi Notebook Ultra 3.2K Resolution Display Inte...       77,499\n",
       "3  ASUS VivoBook 14 (2021), 14-inch (35.56 cms) F...       57,490\n",
       "4  ASUS TUF Gaming F15 (2021), 15.6\" (39.62 cms) ...       89,990\n",
       "5  LG Gram 16 inches Intel Evo 11th Gen Core i7 U...       89,999\n",
       "6  Lenovo IdeaPad Flex 5 11th Gen Intel Core i7 1...       85,790\n",
       "7  ASUS ZenBook 13 OLED (2021) Intel Core i7-1165...       92,990\n",
       "8  ASUS TUF Gaming F17 (2022), 17.3-inch (43.94 c...     1,45,980\n",
       "9  Lenovo ThinkBook 15 Intel 11th Gen Core i7 15....       90,990"
      ]
     },
     "execution_count": 211,
     "metadata": {},
     "output_type": "execute_result"
    }
   ],
   "source": [
    "df9=pd.DataFrame({\"Company_name\":name,\"Laptop_price\":prices})\n",
    "df9"
   ]
  },
  {
   "cell_type": "markdown",
   "id": "39efff40",
   "metadata": {},
   "source": [
    "# Q9: Write a python program to scrape data for first 10 job results for Data Scientist Designation in Noida location. You have to scrape company name, No. of days ago when job was posted, Rating of the company."
   ]
  },
  {
   "cell_type": "code",
   "execution_count": 212,
   "id": "dde8c9d3",
   "metadata": {},
   "outputs": [],
   "source": [
    "import selenium \n",
    "from selenium import webdriver\n",
    "import warnings\n",
    "warnings.filterwarnings('ignore')"
   ]
  },
  {
   "cell_type": "code",
   "execution_count": 213,
   "id": "7ce4db12",
   "metadata": {},
   "outputs": [],
   "source": [
    "driver=webdriver.Chrome(\"chromedriver.exe\")"
   ]
  },
  {
   "cell_type": "code",
   "execution_count": 214,
   "id": "7afc1db3",
   "metadata": {},
   "outputs": [],
   "source": [
    "url=\"https://www.ambitionbox.com/\""
   ]
  },
  {
   "cell_type": "code",
   "execution_count": 215,
   "id": "e018e893",
   "metadata": {},
   "outputs": [],
   "source": [
    "driver.get(url)"
   ]
  },
  {
   "cell_type": "code",
   "execution_count": 216,
   "id": "683c4276",
   "metadata": {},
   "outputs": [],
   "source": [
    "srh_jobs=driver.find_element_by_xpath('/html/body/div[1]/nav/nav/a[6]')\n",
    "srh_jobs.click()"
   ]
  },
  {
   "cell_type": "code",
   "execution_count": 217,
   "id": "9f20662b",
   "metadata": {},
   "outputs": [],
   "source": [
    "srh_keys=driver.find_element_by_xpath('/html/body/div/div/div/div[2]/div[1]/div/div/div/div/span/input')"
   ]
  },
  {
   "cell_type": "code",
   "execution_count": 218,
   "id": "6c41f7fc",
   "metadata": {},
   "outputs": [],
   "source": [
    "srh_keys.send_keys(\"Data Scientist\")"
   ]
  },
  {
   "cell_type": "code",
   "execution_count": 256,
   "id": "5f2002ba",
   "metadata": {},
   "outputs": [],
   "source": [
    "srh_keys.send_keys(\"Data Scientist\")"
   ]
  },
  {
   "cell_type": "code",
   "execution_count": 257,
   "id": "d8ff9380",
   "metadata": {},
   "outputs": [],
   "source": [
    "srh_btn=driver.find_element_by_xpath('/html/body/div/div/div/div[2]/div[1]/div/div/div/button')\n",
    "srh_btn.click()"
   ]
  },
  {
   "cell_type": "code",
   "execution_count": 259,
   "id": "e0559083",
   "metadata": {},
   "outputs": [],
   "source": [
    "srh_loc=driver.find_element_by_xpath('/html/body/div/div/div/div[2]/div[2]/div[1]/div/div/div/div[2]/div[1]/p')\n",
    "srh_loc.click()"
   ]
  },
  {
   "cell_type": "code",
   "execution_count": 260,
   "id": "e4681e0d",
   "metadata": {},
   "outputs": [],
   "source": [
    "srh_keys1=driver.find_element_by_xpath('/html/body/div/div/div/div[2]/div[2]/div[1]/div/div/div/div[2]/div[2]/div/div[2]/input')\n",
    "srh_keys1.send_keys(\"Noida\")"
   ]
  },
  {
   "cell_type": "code",
   "execution_count": 261,
   "id": "075e1f22",
   "metadata": {},
   "outputs": [],
   "source": [
    "srh_btn1=driver.find_element_by_xpath('/html/body/div/div/div/div[2]/div[2]/div[1]/div/div/div/div[2]/div[2]/div/div[3]/div[1]/div[1]/div/label')\n",
    "srh_btn1.click()"
   ]
  },
  {
   "cell_type": "code",
   "execution_count": 262,
   "id": "f0542e34",
   "metadata": {},
   "outputs": [
    {
     "data": {
      "text/plain": [
       "[<selenium.webdriver.remote.webelement.WebElement (session=\"cc00b0ffc3d0aba0d455803e6eb95607\", element=\"2b2b90ab-07c0-43ec-8610-44ba4ca82aa5\")>,\n",
       " <selenium.webdriver.remote.webelement.WebElement (session=\"cc00b0ffc3d0aba0d455803e6eb95607\", element=\"c2233af5-a0b7-4b9d-9ad2-32078f99be92\")>,\n",
       " <selenium.webdriver.remote.webelement.WebElement (session=\"cc00b0ffc3d0aba0d455803e6eb95607\", element=\"f82086c6-705c-406e-a755-2debb3994c48\")>,\n",
       " <selenium.webdriver.remote.webelement.WebElement (session=\"cc00b0ffc3d0aba0d455803e6eb95607\", element=\"bdb19a6a-3bd1-43e6-ac79-8d76d0595f99\")>,\n",
       " <selenium.webdriver.remote.webelement.WebElement (session=\"cc00b0ffc3d0aba0d455803e6eb95607\", element=\"52bd21aa-e74f-4071-8e77-68fa795f9526\")>,\n",
       " <selenium.webdriver.remote.webelement.WebElement (session=\"cc00b0ffc3d0aba0d455803e6eb95607\", element=\"09e7f01e-c7c8-4377-b5ff-c725fc7e3d3b\")>,\n",
       " <selenium.webdriver.remote.webelement.WebElement (session=\"cc00b0ffc3d0aba0d455803e6eb95607\", element=\"a355a7fc-ae32-406a-a83c-6327ed80d41c\")>,\n",
       " <selenium.webdriver.remote.webelement.WebElement (session=\"cc00b0ffc3d0aba0d455803e6eb95607\", element=\"7bf3e887-2af8-4a0c-a6d9-e12a8cc2fb11\")>,\n",
       " <selenium.webdriver.remote.webelement.WebElement (session=\"cc00b0ffc3d0aba0d455803e6eb95607\", element=\"30e26673-47f9-40c5-ac57-42c478af92df\")>,\n",
       " <selenium.webdriver.remote.webelement.WebElement (session=\"cc00b0ffc3d0aba0d455803e6eb95607\", element=\"95d60adb-b18a-4f54-aa70-7ab3c8375314\")>]"
      ]
     },
     "execution_count": 262,
     "metadata": {},
     "output_type": "execute_result"
    }
   ],
   "source": [
    "comp_name=driver.find_elements_by_xpath('//p[@class=\"company body-medium\"]')\n",
    "comp_name"
   ]
  },
  {
   "cell_type": "code",
   "execution_count": 263,
   "id": "69a0b44b",
   "metadata": {},
   "outputs": [],
   "source": [
    "company=[]\n",
    "for i in comp_name:\n",
    "    company.append(i.text)"
   ]
  },
  {
   "cell_type": "code",
   "execution_count": 264,
   "id": "8e214f76",
   "metadata": {},
   "outputs": [
    {
     "data": {
      "text/plain": [
       "['NTT DATA GLOBAL DELIVERY SERVICES PRIVATE LIMITED',\n",
       " 'HCL Technologies Limited',\n",
       " 'WSP CONSULTANTS INDIA PRIVATE LIMITED',\n",
       " 'Microsoft India (R and D) Pvt Ltd',\n",
       " 'HCL Technologies Ltd',\n",
       " 'Jubilant Foodworks Limited',\n",
       " 'HCL Technologies',\n",
       " 'RATEGAIN TRAVEL TECHNOLOGIES LIMITED',\n",
       " 'Hanu Software Solutions Pvt Ltd',\n",
       " 'Tavant Technologies India Pvt. Ltd.']"
      ]
     },
     "execution_count": 264,
     "metadata": {},
     "output_type": "execute_result"
    }
   ],
   "source": [
    "company"
   ]
  },
  {
   "cell_type": "code",
   "execution_count": 265,
   "id": "5f717ad3",
   "metadata": {},
   "outputs": [
    {
     "data": {
      "text/plain": [
       "[<selenium.webdriver.remote.webelement.WebElement (session=\"cc00b0ffc3d0aba0d455803e6eb95607\", element=\"621b186d-3f47-4e97-a997-580eede360c1\")>,\n",
       " <selenium.webdriver.remote.webelement.WebElement (session=\"cc00b0ffc3d0aba0d455803e6eb95607\", element=\"b0426524-2bbe-4615-9601-0e88cae0ed1a\")>,\n",
       " <selenium.webdriver.remote.webelement.WebElement (session=\"cc00b0ffc3d0aba0d455803e6eb95607\", element=\"4541cdba-75cb-42a0-a210-645e84a5098c\")>,\n",
       " <selenium.webdriver.remote.webelement.WebElement (session=\"cc00b0ffc3d0aba0d455803e6eb95607\", element=\"a92de12a-e878-46ef-ba45-a299fbce5c60\")>,\n",
       " <selenium.webdriver.remote.webelement.WebElement (session=\"cc00b0ffc3d0aba0d455803e6eb95607\", element=\"4661ce57-fbe9-4b65-931e-32d34a47180c\")>,\n",
       " <selenium.webdriver.remote.webelement.WebElement (session=\"cc00b0ffc3d0aba0d455803e6eb95607\", element=\"817b10ee-a248-4bb6-8b64-7c55ac64b72b\")>,\n",
       " <selenium.webdriver.remote.webelement.WebElement (session=\"cc00b0ffc3d0aba0d455803e6eb95607\", element=\"06e3ed66-a4e0-419a-bbf8-324bce1674ac\")>,\n",
       " <selenium.webdriver.remote.webelement.WebElement (session=\"cc00b0ffc3d0aba0d455803e6eb95607\", element=\"f40370af-0895-42df-9d8a-ca54b2dff9d5\")>,\n",
       " <selenium.webdriver.remote.webelement.WebElement (session=\"cc00b0ffc3d0aba0d455803e6eb95607\", element=\"c0cf0aaf-c1a1-446d-8180-a23d9de8fa31\")>,\n",
       " <selenium.webdriver.remote.webelement.WebElement (session=\"cc00b0ffc3d0aba0d455803e6eb95607\", element=\"3e71bc9c-f91d-4420-8102-5a30d6d07e4a\")>,\n",
       " <selenium.webdriver.remote.webelement.WebElement (session=\"cc00b0ffc3d0aba0d455803e6eb95607\", element=\"8a7b0fe6-27c1-4fc9-b2e2-4ad795088e4a\")>,\n",
       " <selenium.webdriver.remote.webelement.WebElement (session=\"cc00b0ffc3d0aba0d455803e6eb95607\", element=\"95aa645f-4d70-4d30-8992-679b9f6da438\")>,\n",
       " <selenium.webdriver.remote.webelement.WebElement (session=\"cc00b0ffc3d0aba0d455803e6eb95607\", element=\"ce224065-060d-4479-944a-c541f0bd9ae1\")>,\n",
       " <selenium.webdriver.remote.webelement.WebElement (session=\"cc00b0ffc3d0aba0d455803e6eb95607\", element=\"68fd021c-a96f-4cde-903c-817166f4b23e\")>,\n",
       " <selenium.webdriver.remote.webelement.WebElement (session=\"cc00b0ffc3d0aba0d455803e6eb95607\", element=\"9edb59e3-53f7-4357-a0cd-ac3a3bfb5c8e\")>,\n",
       " <selenium.webdriver.remote.webelement.WebElement (session=\"cc00b0ffc3d0aba0d455803e6eb95607\", element=\"6ca36a27-b74e-404a-af1c-2218f6a46f20\")>,\n",
       " <selenium.webdriver.remote.webelement.WebElement (session=\"cc00b0ffc3d0aba0d455803e6eb95607\", element=\"96228824-90d2-4b42-a360-eb4017e20b8b\")>,\n",
       " <selenium.webdriver.remote.webelement.WebElement (session=\"cc00b0ffc3d0aba0d455803e6eb95607\", element=\"eee69d4b-70b6-4d33-a793-96c25a27cab8\")>,\n",
       " <selenium.webdriver.remote.webelement.WebElement (session=\"cc00b0ffc3d0aba0d455803e6eb95607\", element=\"f2841b94-2656-4c7b-8105-698f3d7c187c\")>,\n",
       " <selenium.webdriver.remote.webelement.WebElement (session=\"cc00b0ffc3d0aba0d455803e6eb95607\", element=\"1cafbc18-63f5-4844-8a1c-adf65e5aa6d4\")>]"
      ]
     },
     "execution_count": 265,
     "metadata": {},
     "output_type": "execute_result"
    }
   ],
   "source": [
    "post_days=driver.find_elements_by_xpath('//span[@class=\"body-small-l\"]')\n",
    "post_days"
   ]
  },
  {
   "cell_type": "code",
   "execution_count": 266,
   "id": "0319a9e5",
   "metadata": {},
   "outputs": [],
   "source": [
    "days=[]\n",
    "for i in post_days:\n",
    "    days.append(i.text)"
   ]
  },
  {
   "cell_type": "code",
   "execution_count": 267,
   "id": "65e99c4b",
   "metadata": {},
   "outputs": [],
   "source": [
    "post=days[0:21:2]"
   ]
  },
  {
   "cell_type": "code",
   "execution_count": 268,
   "id": "5fb28fbf",
   "metadata": {},
   "outputs": [
    {
     "data": {
      "text/plain": [
       "['11d ago',\n",
       " '12d ago',\n",
       " '12d ago',\n",
       " '23d ago',\n",
       " '20d ago',\n",
       " '10d ago',\n",
       " '27d ago',\n",
       " '5d ago',\n",
       " '12d ago',\n",
       " '1mon ago']"
      ]
     },
     "execution_count": 268,
     "metadata": {},
     "output_type": "execute_result"
    }
   ],
   "source": [
    "post\n"
   ]
  },
  {
   "cell_type": "code",
   "execution_count": 269,
   "id": "aa608f22",
   "metadata": {},
   "outputs": [
    {
     "data": {
      "text/plain": [
       "[<selenium.webdriver.remote.webelement.WebElement (session=\"cc00b0ffc3d0aba0d455803e6eb95607\", element=\"3dfb8e5d-eb08-4823-baef-9cf065bb853d\")>,\n",
       " <selenium.webdriver.remote.webelement.WebElement (session=\"cc00b0ffc3d0aba0d455803e6eb95607\", element=\"581f8e98-c18b-4ed6-8c73-9cd18022c87b\")>,\n",
       " <selenium.webdriver.remote.webelement.WebElement (session=\"cc00b0ffc3d0aba0d455803e6eb95607\", element=\"3e6e00ef-c225-477f-9c14-5a3fcf5ddefc\")>,\n",
       " <selenium.webdriver.remote.webelement.WebElement (session=\"cc00b0ffc3d0aba0d455803e6eb95607\", element=\"f3dff2ed-db4c-46dd-8a46-dc1e1ec18bb0\")>,\n",
       " <selenium.webdriver.remote.webelement.WebElement (session=\"cc00b0ffc3d0aba0d455803e6eb95607\", element=\"53ce5912-3ada-45b8-b929-be4e6b904539\")>,\n",
       " <selenium.webdriver.remote.webelement.WebElement (session=\"cc00b0ffc3d0aba0d455803e6eb95607\", element=\"2865c4c1-5f94-4fbf-b35f-3d4564935cd3\")>,\n",
       " <selenium.webdriver.remote.webelement.WebElement (session=\"cc00b0ffc3d0aba0d455803e6eb95607\", element=\"f7ba9c4b-616d-46c3-82a4-24204474a4d0\")>,\n",
       " <selenium.webdriver.remote.webelement.WebElement (session=\"cc00b0ffc3d0aba0d455803e6eb95607\", element=\"718d01ae-ec5b-45ef-88e9-2c3a082ac42a\")>,\n",
       " <selenium.webdriver.remote.webelement.WebElement (session=\"cc00b0ffc3d0aba0d455803e6eb95607\", element=\"4eab19bb-b1fd-4567-9d71-0f101a22102d\")>,\n",
       " <selenium.webdriver.remote.webelement.WebElement (session=\"cc00b0ffc3d0aba0d455803e6eb95607\", element=\"54fec8bc-366f-4ad3-9703-eb1892d32ff3\")>]"
      ]
     },
     "execution_count": 269,
     "metadata": {},
     "output_type": "execute_result"
    }
   ],
   "source": [
    "rating=driver.find_elements_by_xpath('//span[@class=\"body-small\"]')\n",
    "rating"
   ]
  },
  {
   "cell_type": "code",
   "execution_count": 270,
   "id": "550a08b7",
   "metadata": {},
   "outputs": [],
   "source": [
    "rate=[]\n",
    "for i in rating:\n",
    "    rate.append(i.text)"
   ]
  },
  {
   "cell_type": "code",
   "execution_count": 271,
   "id": "06813449",
   "metadata": {},
   "outputs": [
    {
     "data": {
      "text/plain": [
       "['3.9', '3.8', '4.2', '4.2', '3.8', '3.9', '3.8', '3.7', '3.7', '4.0']"
      ]
     },
     "execution_count": 271,
     "metadata": {},
     "output_type": "execute_result"
    }
   ],
   "source": [
    "rate"
   ]
  },
  {
   "cell_type": "code",
   "execution_count": 273,
   "id": "e01d6780",
   "metadata": {},
   "outputs": [
    {
     "data": {
      "text/html": [
       "<div>\n",
       "<style scoped>\n",
       "    .dataframe tbody tr th:only-of-type {\n",
       "        vertical-align: middle;\n",
       "    }\n",
       "\n",
       "    .dataframe tbody tr th {\n",
       "        vertical-align: top;\n",
       "    }\n",
       "\n",
       "    .dataframe thead th {\n",
       "        text-align: right;\n",
       "    }\n",
       "</style>\n",
       "<table border=\"1\" class=\"dataframe\">\n",
       "  <thead>\n",
       "    <tr style=\"text-align: right;\">\n",
       "      <th></th>\n",
       "      <th>Company_name</th>\n",
       "      <th>Posted</th>\n",
       "      <th>Rating</th>\n",
       "    </tr>\n",
       "  </thead>\n",
       "  <tbody>\n",
       "    <tr>\n",
       "      <th>0</th>\n",
       "      <td>NTT DATA GLOBAL DELIVERY SERVICES PRIVATE LIMITED</td>\n",
       "      <td>11d ago</td>\n",
       "      <td>3.9</td>\n",
       "    </tr>\n",
       "    <tr>\n",
       "      <th>1</th>\n",
       "      <td>HCL Technologies Limited</td>\n",
       "      <td>12d ago</td>\n",
       "      <td>3.8</td>\n",
       "    </tr>\n",
       "    <tr>\n",
       "      <th>2</th>\n",
       "      <td>WSP CONSULTANTS INDIA PRIVATE LIMITED</td>\n",
       "      <td>12d ago</td>\n",
       "      <td>4.2</td>\n",
       "    </tr>\n",
       "    <tr>\n",
       "      <th>3</th>\n",
       "      <td>Microsoft India (R and D) Pvt Ltd</td>\n",
       "      <td>23d ago</td>\n",
       "      <td>4.2</td>\n",
       "    </tr>\n",
       "    <tr>\n",
       "      <th>4</th>\n",
       "      <td>HCL Technologies Ltd</td>\n",
       "      <td>20d ago</td>\n",
       "      <td>3.8</td>\n",
       "    </tr>\n",
       "    <tr>\n",
       "      <th>5</th>\n",
       "      <td>Jubilant Foodworks Limited</td>\n",
       "      <td>10d ago</td>\n",
       "      <td>3.9</td>\n",
       "    </tr>\n",
       "    <tr>\n",
       "      <th>6</th>\n",
       "      <td>HCL Technologies</td>\n",
       "      <td>27d ago</td>\n",
       "      <td>3.8</td>\n",
       "    </tr>\n",
       "    <tr>\n",
       "      <th>7</th>\n",
       "      <td>RATEGAIN TRAVEL TECHNOLOGIES LIMITED</td>\n",
       "      <td>5d ago</td>\n",
       "      <td>3.7</td>\n",
       "    </tr>\n",
       "    <tr>\n",
       "      <th>8</th>\n",
       "      <td>Hanu Software Solutions Pvt Ltd</td>\n",
       "      <td>12d ago</td>\n",
       "      <td>3.7</td>\n",
       "    </tr>\n",
       "    <tr>\n",
       "      <th>9</th>\n",
       "      <td>Tavant Technologies India Pvt. Ltd.</td>\n",
       "      <td>1mon ago</td>\n",
       "      <td>4.0</td>\n",
       "    </tr>\n",
       "  </tbody>\n",
       "</table>\n",
       "</div>"
      ],
      "text/plain": [
       "                                        Company_name    Posted Rating\n",
       "0  NTT DATA GLOBAL DELIVERY SERVICES PRIVATE LIMITED   11d ago    3.9\n",
       "1                           HCL Technologies Limited   12d ago    3.8\n",
       "2              WSP CONSULTANTS INDIA PRIVATE LIMITED   12d ago    4.2\n",
       "3                  Microsoft India (R and D) Pvt Ltd   23d ago    4.2\n",
       "4                               HCL Technologies Ltd   20d ago    3.8\n",
       "5                         Jubilant Foodworks Limited   10d ago    3.9\n",
       "6                                   HCL Technologies   27d ago    3.8\n",
       "7               RATEGAIN TRAVEL TECHNOLOGIES LIMITED    5d ago    3.7\n",
       "8                    Hanu Software Solutions Pvt Ltd   12d ago    3.7\n",
       "9                Tavant Technologies India Pvt. Ltd.  1mon ago    4.0"
      ]
     },
     "execution_count": 273,
     "metadata": {},
     "output_type": "execute_result"
    }
   ],
   "source": [
    "df10=pd.DataFrame({\"Company_name\":company,\"Posted\":post,\"Rating\":rate})\n",
    "df10"
   ]
  },
  {
   "cell_type": "code",
   "execution_count": null,
   "id": "136823d4",
   "metadata": {},
   "outputs": [],
   "source": []
  },
  {
   "cell_type": "markdown",
   "id": "c331c9ea",
   "metadata": {},
   "source": [
    "# Q10: Write a python program to scrape the salary data for Data Scientist designation. You have to scrape Company name, Number of salaries, Average salary, Min salary, Max Salary."
   ]
  },
  {
   "cell_type": "code",
   "execution_count": 223,
   "id": "67bea4e0",
   "metadata": {},
   "outputs": [],
   "source": [
    "import selenium \n",
    "from selenium import webdriver\n",
    "import warnings\n",
    "warnings.filterwarnings('ignore')"
   ]
  },
  {
   "cell_type": "code",
   "execution_count": 224,
   "id": "81a2100d",
   "metadata": {},
   "outputs": [],
   "source": [
    "driver=webdriver.Chrome(\"chromedriver.exe\")"
   ]
  },
  {
   "cell_type": "code",
   "execution_count": 225,
   "id": "756000c5",
   "metadata": {},
   "outputs": [],
   "source": [
    "url=\"https://www.ambitionbox.com/\""
   ]
  },
  {
   "cell_type": "code",
   "execution_count": 226,
   "id": "81e67449",
   "metadata": {},
   "outputs": [],
   "source": [
    "driver.get(url)"
   ]
  },
  {
   "cell_type": "code",
   "execution_count": 227,
   "id": "663041b2",
   "metadata": {},
   "outputs": [],
   "source": [
    "srh_salary=driver.find_element_by_xpath('/html/body/div[1]/nav/nav/a[4]')\n",
    "srh_salary.click()"
   ]
  },
  {
   "cell_type": "code",
   "execution_count": 228,
   "id": "711e157b",
   "metadata": {},
   "outputs": [],
   "source": [
    "srh_keys=driver.find_element_by_xpath('/html/body/div/div/div/main/section[1]/div[2]/div[1]/span/input')"
   ]
  },
  {
   "cell_type": "code",
   "execution_count": 229,
   "id": "37bb60bc",
   "metadata": {},
   "outputs": [],
   "source": [
    "srh_keys.send_keys(\"Data Scientist\")"
   ]
  },
  {
   "cell_type": "code",
   "execution_count": 230,
   "id": "a7785df1",
   "metadata": {},
   "outputs": [],
   "source": [
    "srh_bt=driver.find_element_by_xpath(\"/html/body/div[1]/div/div/div[2]/div/div/div/button/span\")"
   ]
  },
  {
   "cell_type": "code",
   "execution_count": 231,
   "id": "ad030485",
   "metadata": {},
   "outputs": [],
   "source": [
    "srh_bt.click()"
   ]
  },
  {
   "cell_type": "code",
   "execution_count": 232,
   "id": "777ed859",
   "metadata": {},
   "outputs": [
    {
     "data": {
      "text/plain": [
       "[<selenium.webdriver.remote.webelement.WebElement (session=\"2da5c7a17167ab3152851b4a10aa8c47\", element=\"56923e0d-38ad-4973-9522-34aeedb4090b\")>,\n",
       " <selenium.webdriver.remote.webelement.WebElement (session=\"2da5c7a17167ab3152851b4a10aa8c47\", element=\"ada7fd92-5284-4294-86c8-ebb8138bc4f6\")>,\n",
       " <selenium.webdriver.remote.webelement.WebElement (session=\"2da5c7a17167ab3152851b4a10aa8c47\", element=\"c6509474-3f53-4b90-bf7f-041241eef59d\")>,\n",
       " <selenium.webdriver.remote.webelement.WebElement (session=\"2da5c7a17167ab3152851b4a10aa8c47\", element=\"f4d3af00-35df-471d-9c53-f92e85179020\")>,\n",
       " <selenium.webdriver.remote.webelement.WebElement (session=\"2da5c7a17167ab3152851b4a10aa8c47\", element=\"97aa7232-5253-478e-b203-70ac42cfd038\")>,\n",
       " <selenium.webdriver.remote.webelement.WebElement (session=\"2da5c7a17167ab3152851b4a10aa8c47\", element=\"9a551077-9e39-4b8a-b555-b84977a1324d\")>,\n",
       " <selenium.webdriver.remote.webelement.WebElement (session=\"2da5c7a17167ab3152851b4a10aa8c47\", element=\"15f15116-86eb-456e-a54b-75f9853d3ca8\")>,\n",
       " <selenium.webdriver.remote.webelement.WebElement (session=\"2da5c7a17167ab3152851b4a10aa8c47\", element=\"39d0def1-5858-48f9-9d1a-dae44275dd1d\")>,\n",
       " <selenium.webdriver.remote.webelement.WebElement (session=\"2da5c7a17167ab3152851b4a10aa8c47\", element=\"9584fdec-41cd-45ba-8d7b-d743c3a37240\")>,\n",
       " <selenium.webdriver.remote.webelement.WebElement (session=\"2da5c7a17167ab3152851b4a10aa8c47\", element=\"cbc56473-6d79-4c52-9ebd-bce6fc8212cf\")>]"
      ]
     },
     "execution_count": 232,
     "metadata": {},
     "output_type": "execute_result"
    }
   ],
   "source": [
    "Company=driver.find_elements_by_xpath('//div[@class=\"name\"]//a')\n",
    "Company"
   ]
  },
  {
   "cell_type": "code",
   "execution_count": 233,
   "id": "8e6cc01f",
   "metadata": {},
   "outputs": [
    {
     "data": {
      "text/plain": [
       "['Ab Inbev',\n",
       " 'ZS',\n",
       " 'Optum',\n",
       " 'Fractal Analytics',\n",
       " 'Tiger Analytics',\n",
       " 'UnitedHealth',\n",
       " 'Verizon',\n",
       " 'Ganit Business Solutions',\n",
       " 'Ericsson',\n",
       " 'Deloitte']"
      ]
     },
     "execution_count": 233,
     "metadata": {},
     "output_type": "execute_result"
    }
   ],
   "source": [
    "Comp=[]\n",
    "for i in Company:\n",
    "    Comp.append(i.text)\n",
    "Comp"
   ]
  },
  {
   "cell_type": "code",
   "execution_count": 234,
   "id": "0a2eaad6",
   "metadata": {},
   "outputs": [
    {
     "data": {
      "text/plain": [
       "[<selenium.webdriver.remote.webelement.WebElement (session=\"2da5c7a17167ab3152851b4a10aa8c47\", element=\"6b7375e7-42bf-41d5-a3d5-daac7f730347\")>,\n",
       " <selenium.webdriver.remote.webelement.WebElement (session=\"2da5c7a17167ab3152851b4a10aa8c47\", element=\"7ac481e9-11fa-4615-b5d5-fc7df7ba265f\")>,\n",
       " <selenium.webdriver.remote.webelement.WebElement (session=\"2da5c7a17167ab3152851b4a10aa8c47\", element=\"b2d6bb02-20c3-47c9-a7a5-c293e7d830cf\")>,\n",
       " <selenium.webdriver.remote.webelement.WebElement (session=\"2da5c7a17167ab3152851b4a10aa8c47\", element=\"434512a7-dd49-482f-8f07-c9331b0d9438\")>,\n",
       " <selenium.webdriver.remote.webelement.WebElement (session=\"2da5c7a17167ab3152851b4a10aa8c47\", element=\"84fb9c5b-9378-46df-b82c-1b1d06d94ba1\")>,\n",
       " <selenium.webdriver.remote.webelement.WebElement (session=\"2da5c7a17167ab3152851b4a10aa8c47\", element=\"523e9d55-2041-4d4b-8741-87d02acb5e0b\")>,\n",
       " <selenium.webdriver.remote.webelement.WebElement (session=\"2da5c7a17167ab3152851b4a10aa8c47\", element=\"763e2a38-bf72-40bb-9bb0-ba9c8ccd456f\")>,\n",
       " <selenium.webdriver.remote.webelement.WebElement (session=\"2da5c7a17167ab3152851b4a10aa8c47\", element=\"e65f6c5f-a8a8-44a5-a2d3-9ea8ff90ef2f\")>,\n",
       " <selenium.webdriver.remote.webelement.WebElement (session=\"2da5c7a17167ab3152851b4a10aa8c47\", element=\"a0ad5617-b9ac-4479-a871-063c7dfadff6\")>,\n",
       " <selenium.webdriver.remote.webelement.WebElement (session=\"2da5c7a17167ab3152851b4a10aa8c47\", element=\"72fae64c-8e9b-4849-90b3-082ff154c3b5\")>]"
      ]
     },
     "execution_count": 234,
     "metadata": {},
     "output_type": "execute_result"
    }
   ],
   "source": [
    "Total_salary=driver.find_elements_by_xpath('//div[@class=\"name\"]//span')\n",
    "Total_salary"
   ]
  },
  {
   "cell_type": "code",
   "execution_count": 235,
   "id": "08297d9c",
   "metadata": {},
   "outputs": [
    {
     "data": {
      "text/plain": [
       "['based on 28 salaries',\n",
       " 'based on 15 salaries',\n",
       " 'based on 25 salaries',\n",
       " 'based on 77 salaries',\n",
       " 'based on 33 salaries',\n",
       " 'based on 52 salaries',\n",
       " 'based on 14 salaries',\n",
       " 'based on 13 salaries',\n",
       " 'based on 43 salaries',\n",
       " 'based on 57 salaries']"
      ]
     },
     "execution_count": 235,
     "metadata": {},
     "output_type": "execute_result"
    }
   ],
   "source": [
    "Total=[]\n",
    "for i in Total_salary:\n",
    "    Total.append(i.text)\n",
    "Total"
   ]
  },
  {
   "cell_type": "code",
   "execution_count": 236,
   "id": "29b12df9",
   "metadata": {},
   "outputs": [
    {
     "data": {
      "text/plain": [
       "[<selenium.webdriver.remote.webelement.WebElement (session=\"2da5c7a17167ab3152851b4a10aa8c47\", element=\"df889e1d-b261-4084-8be0-c9871bc0cb1b\")>,\n",
       " <selenium.webdriver.remote.webelement.WebElement (session=\"2da5c7a17167ab3152851b4a10aa8c47\", element=\"08758a1f-0cd9-4d70-a1e5-d26bdaf01e9d\")>,\n",
       " <selenium.webdriver.remote.webelement.WebElement (session=\"2da5c7a17167ab3152851b4a10aa8c47\", element=\"deafeb26-caca-46fa-b09a-c45fea29f68b\")>,\n",
       " <selenium.webdriver.remote.webelement.WebElement (session=\"2da5c7a17167ab3152851b4a10aa8c47\", element=\"83ced351-1f04-4308-bb1c-f82e392ad6e7\")>,\n",
       " <selenium.webdriver.remote.webelement.WebElement (session=\"2da5c7a17167ab3152851b4a10aa8c47\", element=\"211a332a-6cd8-4d7a-9e7f-0bbba1a95900\")>,\n",
       " <selenium.webdriver.remote.webelement.WebElement (session=\"2da5c7a17167ab3152851b4a10aa8c47\", element=\"d8f5a474-d545-416e-ae39-e3ecc6f643e6\")>,\n",
       " <selenium.webdriver.remote.webelement.WebElement (session=\"2da5c7a17167ab3152851b4a10aa8c47\", element=\"d4040d27-3c8f-454c-9523-96edd2129024\")>,\n",
       " <selenium.webdriver.remote.webelement.WebElement (session=\"2da5c7a17167ab3152851b4a10aa8c47\", element=\"d7a650c1-4318-4994-809f-a88368ca1c91\")>,\n",
       " <selenium.webdriver.remote.webelement.WebElement (session=\"2da5c7a17167ab3152851b4a10aa8c47\", element=\"51e62e37-73e3-42a1-95e7-a580ad25ce73\")>,\n",
       " <selenium.webdriver.remote.webelement.WebElement (session=\"2da5c7a17167ab3152851b4a10aa8c47\", element=\"aa4d49eb-5622-454c-88f4-ee3f96eac995\")>]"
      ]
     },
     "execution_count": 236,
     "metadata": {},
     "output_type": "execute_result"
    }
   ],
   "source": [
    "avg_Salary=driver.find_elements_by_xpath('//p[@class=\"averageCtc\"]')\n",
    "avg_Salary"
   ]
  },
  {
   "cell_type": "code",
   "execution_count": 237,
   "id": "b66ac39b",
   "metadata": {},
   "outputs": [
    {
     "data": {
      "text/plain": [
       "['₹ 20.3L',\n",
       " '₹ 15.3L',\n",
       " '₹ 15.1L',\n",
       " '₹ 15.1L',\n",
       " '₹ 14.4L',\n",
       " '₹ 13.9L',\n",
       " '₹ 12.7L',\n",
       " '₹ 12.4L',\n",
       " '₹ 11.9L',\n",
       " '₹ 11.7L']"
      ]
     },
     "execution_count": 237,
     "metadata": {},
     "output_type": "execute_result"
    }
   ],
   "source": [
    "avg_Sal=[]\n",
    "for i in avg_Salary:\n",
    "    avg_Sal.append(i.text)  \n",
    "avg_Sal"
   ]
  },
  {
   "cell_type": "code",
   "execution_count": 238,
   "id": "d165081c",
   "metadata": {},
   "outputs": [
    {
     "data": {
      "text/plain": [
       "[<selenium.webdriver.remote.webelement.WebElement (session=\"2da5c7a17167ab3152851b4a10aa8c47\", element=\"fa8b5597-246d-4527-a0ae-4ea5fe125a8f\")>,\n",
       " <selenium.webdriver.remote.webelement.WebElement (session=\"2da5c7a17167ab3152851b4a10aa8c47\", element=\"bffcf260-2879-40cc-af83-64411dfff6e0\")>,\n",
       " <selenium.webdriver.remote.webelement.WebElement (session=\"2da5c7a17167ab3152851b4a10aa8c47\", element=\"0f13761c-7205-4338-9cf3-80e396aa45eb\")>,\n",
       " <selenium.webdriver.remote.webelement.WebElement (session=\"2da5c7a17167ab3152851b4a10aa8c47\", element=\"8f8297e9-85e7-4d28-a82f-15553f0d398d\")>,\n",
       " <selenium.webdriver.remote.webelement.WebElement (session=\"2da5c7a17167ab3152851b4a10aa8c47\", element=\"0b9b217f-dbea-4089-b2b5-a2f3be37b854\")>,\n",
       " <selenium.webdriver.remote.webelement.WebElement (session=\"2da5c7a17167ab3152851b4a10aa8c47\", element=\"f867f3ef-1a59-4d18-99a8-2feadb8e1609\")>,\n",
       " <selenium.webdriver.remote.webelement.WebElement (session=\"2da5c7a17167ab3152851b4a10aa8c47\", element=\"70c5ddbd-b295-4481-b975-09e2214a918b\")>,\n",
       " <selenium.webdriver.remote.webelement.WebElement (session=\"2da5c7a17167ab3152851b4a10aa8c47\", element=\"0d9e5ed6-269d-4639-936f-03558cf6aa91\")>,\n",
       " <selenium.webdriver.remote.webelement.WebElement (session=\"2da5c7a17167ab3152851b4a10aa8c47\", element=\"9346fa23-cd20-4d56-bd24-c70a86004a89\")>,\n",
       " <selenium.webdriver.remote.webelement.WebElement (session=\"2da5c7a17167ab3152851b4a10aa8c47\", element=\"cfc3f2a8-7c8a-4861-ba5c-b91131857b15\")>,\n",
       " <selenium.webdriver.remote.webelement.WebElement (session=\"2da5c7a17167ab3152851b4a10aa8c47\", element=\"421755fa-c9a5-4555-93a2-53434786e38b\")>,\n",
       " <selenium.webdriver.remote.webelement.WebElement (session=\"2da5c7a17167ab3152851b4a10aa8c47\", element=\"ed55acdf-095c-4b3d-8587-2053bc667cdc\")>,\n",
       " <selenium.webdriver.remote.webelement.WebElement (session=\"2da5c7a17167ab3152851b4a10aa8c47\", element=\"08b3f3e1-68bf-4641-aa84-c4920b4a82f8\")>,\n",
       " <selenium.webdriver.remote.webelement.WebElement (session=\"2da5c7a17167ab3152851b4a10aa8c47\", element=\"8c6418d2-4414-4dcd-bc30-1c794b9bb430\")>,\n",
       " <selenium.webdriver.remote.webelement.WebElement (session=\"2da5c7a17167ab3152851b4a10aa8c47\", element=\"1b92b3df-b106-4b4d-9af1-958f5b25b072\")>,\n",
       " <selenium.webdriver.remote.webelement.WebElement (session=\"2da5c7a17167ab3152851b4a10aa8c47\", element=\"2f3c1135-3aff-44eb-a848-e21319f4bc4a\")>,\n",
       " <selenium.webdriver.remote.webelement.WebElement (session=\"2da5c7a17167ab3152851b4a10aa8c47\", element=\"410f9969-7162-4ae2-b03e-cf28c4054c3d\")>,\n",
       " <selenium.webdriver.remote.webelement.WebElement (session=\"2da5c7a17167ab3152851b4a10aa8c47\", element=\"a571110c-8af7-41df-ba05-ea7490656a59\")>,\n",
       " <selenium.webdriver.remote.webelement.WebElement (session=\"2da5c7a17167ab3152851b4a10aa8c47\", element=\"beacb2d3-7ec5-40e0-b4bc-e486b82bc767\")>,\n",
       " <selenium.webdriver.remote.webelement.WebElement (session=\"2da5c7a17167ab3152851b4a10aa8c47\", element=\"3a2f775b-a28e-4010-8a62-6d2d8410aaff\")>]"
      ]
     },
     "execution_count": 238,
     "metadata": {},
     "output_type": "execute_result"
    }
   ],
   "source": [
    "min_Salary=driver.find_elements_by_xpath('//div[@class=\"value body-medium\"]')\n",
    "min_Salary"
   ]
  },
  {
   "cell_type": "code",
   "execution_count": 239,
   "id": "66b654ca",
   "metadata": {},
   "outputs": [],
   "source": [
    "min_Sal=[]\n",
    "for i in min_Salary:\n",
    "    min_Sal.append(i.text)  \n",
    "min_sal=min_Sal[0:20:2] "
   ]
  },
  {
   "cell_type": "code",
   "execution_count": 240,
   "id": "533b5f56",
   "metadata": {},
   "outputs": [
    {
     "data": {
      "text/plain": [
       "['₹ 15.0L',\n",
       " '₹ 9.5L',\n",
       " '₹ 11.0L',\n",
       " '₹ 9.5L',\n",
       " '₹ 8.3L',\n",
       " '₹ 8.3L',\n",
       " '₹ 10.0L',\n",
       " '₹ 8.5L',\n",
       " '₹ 5.8L',\n",
       " '₹ 6.9L']"
      ]
     },
     "execution_count": 240,
     "metadata": {},
     "output_type": "execute_result"
    }
   ],
   "source": [
    "min_sal"
   ]
  },
  {
   "cell_type": "code",
   "execution_count": 241,
   "id": "1bad9645",
   "metadata": {},
   "outputs": [],
   "source": [
    "max_sal=min_Sal[1:21:2] "
   ]
  },
  {
   "cell_type": "code",
   "execution_count": 242,
   "id": "16e2f155",
   "metadata": {},
   "outputs": [
    {
     "data": {
      "text/plain": [
       "['₹ 25.5L',\n",
       " '₹ 20.0L',\n",
       " '₹ 21.3L',\n",
       " '₹ 22.0L',\n",
       " '₹ 20.0L',\n",
       " '₹ 20.5L',\n",
       " '₹ 21.0L',\n",
       " '₹ 15.0L',\n",
       " '₹ 24.0L',\n",
       " '₹ 23.4L']"
      ]
     },
     "execution_count": 242,
     "metadata": {},
     "output_type": "execute_result"
    }
   ],
   "source": [
    "max_sal"
   ]
  },
  {
   "cell_type": "code",
   "execution_count": 243,
   "id": "4df1d073",
   "metadata": {},
   "outputs": [
    {
     "data": {
      "text/plain": [
       "[<selenium.webdriver.remote.webelement.WebElement (session=\"2da5c7a17167ab3152851b4a10aa8c47\", element=\"0a7b94df-2699-44c2-8d25-c16be4b06173\")>,\n",
       " <selenium.webdriver.remote.webelement.WebElement (session=\"2da5c7a17167ab3152851b4a10aa8c47\", element=\"0d23d7b9-d2d9-47c4-8a45-4495d8a7c785\")>,\n",
       " <selenium.webdriver.remote.webelement.WebElement (session=\"2da5c7a17167ab3152851b4a10aa8c47\", element=\"d4572ca5-5e90-4753-abdc-21df0264fa77\")>,\n",
       " <selenium.webdriver.remote.webelement.WebElement (session=\"2da5c7a17167ab3152851b4a10aa8c47\", element=\"3062dada-177f-437f-a675-bdba06370098\")>,\n",
       " <selenium.webdriver.remote.webelement.WebElement (session=\"2da5c7a17167ab3152851b4a10aa8c47\", element=\"c53cd891-40de-4690-9f5a-cd0f4fda1a59\")>,\n",
       " <selenium.webdriver.remote.webelement.WebElement (session=\"2da5c7a17167ab3152851b4a10aa8c47\", element=\"af7ac2c8-5005-436e-8be5-509317518581\")>,\n",
       " <selenium.webdriver.remote.webelement.WebElement (session=\"2da5c7a17167ab3152851b4a10aa8c47\", element=\"8f06d0ed-9a6e-4e17-a590-bec7b380d3ca\")>,\n",
       " <selenium.webdriver.remote.webelement.WebElement (session=\"2da5c7a17167ab3152851b4a10aa8c47\", element=\"5d283de4-6cc1-437b-9578-4eff6546ab6d\")>,\n",
       " <selenium.webdriver.remote.webelement.WebElement (session=\"2da5c7a17167ab3152851b4a10aa8c47\", element=\"41d4c3cb-0b28-4617-bbe1-9614599482bf\")>,\n",
       " <selenium.webdriver.remote.webelement.WebElement (session=\"2da5c7a17167ab3152851b4a10aa8c47\", element=\"4c50384d-7429-4e62-a924-997778d26cc6\")>]"
      ]
     },
     "execution_count": 243,
     "metadata": {},
     "output_type": "execute_result"
    }
   ],
   "source": [
    "Expirence=driver.find_elements_by_xpath('//div[@class=\"salaries sbold-list-header\"]')\n",
    "Expirence"
   ]
  },
  {
   "cell_type": "code",
   "execution_count": 244,
   "id": "9a28ce7a",
   "metadata": {},
   "outputs": [
    {
     "data": {
      "text/plain": [
       "['3-4', '2', '3-4', '2-4', '3-4', '2-4', '4', '4', '3-4', '2-4']"
      ]
     },
     "execution_count": 244,
     "metadata": {},
     "output_type": "execute_result"
    }
   ],
   "source": [
    "Exp=[]\n",
    "for i in Expirence:\n",
    "    Exp.append(i.text.replace(\"\\n\",\"\").split()[3])\n",
    "Exp"
   ]
  },
  {
   "cell_type": "code",
   "execution_count": 245,
   "id": "bf622394",
   "metadata": {},
   "outputs": [],
   "source": [
    "import pandas as pd"
   ]
  },
  {
   "cell_type": "code",
   "execution_count": 246,
   "id": "6997d3cf",
   "metadata": {},
   "outputs": [
    {
     "data": {
      "text/html": [
       "<div>\n",
       "<style scoped>\n",
       "    .dataframe tbody tr th:only-of-type {\n",
       "        vertical-align: middle;\n",
       "    }\n",
       "\n",
       "    .dataframe tbody tr th {\n",
       "        vertical-align: top;\n",
       "    }\n",
       "\n",
       "    .dataframe thead th {\n",
       "        text-align: right;\n",
       "    }\n",
       "</style>\n",
       "<table border=\"1\" class=\"dataframe\">\n",
       "  <thead>\n",
       "    <tr style=\"text-align: right;\">\n",
       "      <th></th>\n",
       "      <th>Company_name</th>\n",
       "      <th>Total_salary</th>\n",
       "      <th>Min_salary</th>\n",
       "      <th>Average_salary</th>\n",
       "      <th>Max_sal</th>\n",
       "      <th>Experince</th>\n",
       "    </tr>\n",
       "  </thead>\n",
       "  <tbody>\n",
       "    <tr>\n",
       "      <th>0</th>\n",
       "      <td>Ab Inbev</td>\n",
       "      <td>based on 28 salaries</td>\n",
       "      <td>₹ 15.0L</td>\n",
       "      <td>₹ 20.3L</td>\n",
       "      <td>₹ 25.5L</td>\n",
       "      <td>3-4</td>\n",
       "    </tr>\n",
       "    <tr>\n",
       "      <th>1</th>\n",
       "      <td>ZS</td>\n",
       "      <td>based on 15 salaries</td>\n",
       "      <td>₹ 9.5L</td>\n",
       "      <td>₹ 15.3L</td>\n",
       "      <td>₹ 20.0L</td>\n",
       "      <td>2</td>\n",
       "    </tr>\n",
       "    <tr>\n",
       "      <th>2</th>\n",
       "      <td>Optum</td>\n",
       "      <td>based on 25 salaries</td>\n",
       "      <td>₹ 11.0L</td>\n",
       "      <td>₹ 15.1L</td>\n",
       "      <td>₹ 21.3L</td>\n",
       "      <td>3-4</td>\n",
       "    </tr>\n",
       "    <tr>\n",
       "      <th>3</th>\n",
       "      <td>Fractal Analytics</td>\n",
       "      <td>based on 77 salaries</td>\n",
       "      <td>₹ 9.5L</td>\n",
       "      <td>₹ 15.1L</td>\n",
       "      <td>₹ 22.0L</td>\n",
       "      <td>2-4</td>\n",
       "    </tr>\n",
       "    <tr>\n",
       "      <th>4</th>\n",
       "      <td>Tiger Analytics</td>\n",
       "      <td>based on 33 salaries</td>\n",
       "      <td>₹ 8.3L</td>\n",
       "      <td>₹ 14.4L</td>\n",
       "      <td>₹ 20.0L</td>\n",
       "      <td>3-4</td>\n",
       "    </tr>\n",
       "    <tr>\n",
       "      <th>5</th>\n",
       "      <td>UnitedHealth</td>\n",
       "      <td>based on 52 salaries</td>\n",
       "      <td>₹ 8.3L</td>\n",
       "      <td>₹ 13.9L</td>\n",
       "      <td>₹ 20.5L</td>\n",
       "      <td>2-4</td>\n",
       "    </tr>\n",
       "    <tr>\n",
       "      <th>6</th>\n",
       "      <td>Verizon</td>\n",
       "      <td>based on 14 salaries</td>\n",
       "      <td>₹ 10.0L</td>\n",
       "      <td>₹ 12.7L</td>\n",
       "      <td>₹ 21.0L</td>\n",
       "      <td>4</td>\n",
       "    </tr>\n",
       "    <tr>\n",
       "      <th>7</th>\n",
       "      <td>Ganit Business Solutions</td>\n",
       "      <td>based on 13 salaries</td>\n",
       "      <td>₹ 8.5L</td>\n",
       "      <td>₹ 12.4L</td>\n",
       "      <td>₹ 15.0L</td>\n",
       "      <td>4</td>\n",
       "    </tr>\n",
       "    <tr>\n",
       "      <th>8</th>\n",
       "      <td>Ericsson</td>\n",
       "      <td>based on 43 salaries</td>\n",
       "      <td>₹ 5.8L</td>\n",
       "      <td>₹ 11.9L</td>\n",
       "      <td>₹ 24.0L</td>\n",
       "      <td>3-4</td>\n",
       "    </tr>\n",
       "    <tr>\n",
       "      <th>9</th>\n",
       "      <td>Deloitte</td>\n",
       "      <td>based on 57 salaries</td>\n",
       "      <td>₹ 6.9L</td>\n",
       "      <td>₹ 11.7L</td>\n",
       "      <td>₹ 23.4L</td>\n",
       "      <td>2-4</td>\n",
       "    </tr>\n",
       "  </tbody>\n",
       "</table>\n",
       "</div>"
      ],
      "text/plain": [
       "               Company_name          Total_salary Min_salary Average_salary  \\\n",
       "0                  Ab Inbev  based on 28 salaries    ₹ 15.0L        ₹ 20.3L   \n",
       "1                        ZS  based on 15 salaries     ₹ 9.5L        ₹ 15.3L   \n",
       "2                     Optum  based on 25 salaries    ₹ 11.0L        ₹ 15.1L   \n",
       "3         Fractal Analytics  based on 77 salaries     ₹ 9.5L        ₹ 15.1L   \n",
       "4           Tiger Analytics  based on 33 salaries     ₹ 8.3L        ₹ 14.4L   \n",
       "5              UnitedHealth  based on 52 salaries     ₹ 8.3L        ₹ 13.9L   \n",
       "6                   Verizon  based on 14 salaries    ₹ 10.0L        ₹ 12.7L   \n",
       "7  Ganit Business Solutions  based on 13 salaries     ₹ 8.5L        ₹ 12.4L   \n",
       "8                  Ericsson  based on 43 salaries     ₹ 5.8L        ₹ 11.9L   \n",
       "9                  Deloitte  based on 57 salaries     ₹ 6.9L        ₹ 11.7L   \n",
       "\n",
       "   Max_sal Experince  \n",
       "0  ₹ 25.5L       3-4  \n",
       "1  ₹ 20.0L         2  \n",
       "2  ₹ 21.3L       3-4  \n",
       "3  ₹ 22.0L       2-4  \n",
       "4  ₹ 20.0L       3-4  \n",
       "5  ₹ 20.5L       2-4  \n",
       "6  ₹ 21.0L         4  \n",
       "7  ₹ 15.0L         4  \n",
       "8  ₹ 24.0L       3-4  \n",
       "9  ₹ 23.4L       2-4  "
      ]
     },
     "execution_count": 246,
     "metadata": {},
     "output_type": "execute_result"
    }
   ],
   "source": [
    "df11=pd.DataFrame({\"Company_name\":Comp,\"Total_salary\":Total,\"Min_salary\":min_sal,\"Average_salary\":avg_Sal,\"Max_sal\":max_sal,\"Experince\":Exp})\n",
    "df11"
   ]
  },
  {
   "cell_type": "code",
   "execution_count": null,
   "id": "a3ec9511",
   "metadata": {},
   "outputs": [],
   "source": []
  }
 ],
 "metadata": {
  "kernelspec": {
   "display_name": "Python 3 (ipykernel)",
   "language": "python",
   "name": "python3"
  },
  "language_info": {
   "codemirror_mode": {
    "name": "ipython",
    "version": 3
   },
   "file_extension": ".py",
   "mimetype": "text/x-python",
   "name": "python",
   "nbconvert_exporter": "python",
   "pygments_lexer": "ipython3",
   "version": "3.9.7"
  }
 },
 "nbformat": 4,
 "nbformat_minor": 5
}
