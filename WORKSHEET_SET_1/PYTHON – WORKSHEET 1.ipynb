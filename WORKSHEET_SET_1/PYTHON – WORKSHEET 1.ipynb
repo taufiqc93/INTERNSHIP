{
 "cells": [
  {
   "cell_type": "markdown",
   "id": "0a651b0a",
   "metadata": {},
   "source": [
    "# Question Number 11 Finding facorial of a number "
   ]
  },
  {
   "cell_type": "code",
   "execution_count": 1,
   "id": "926a0a42",
   "metadata": {},
   "outputs": [
    {
     "name": "stdout",
     "output_type": "stream",
     "text": [
      "Enter The Number5\n",
      "The Factorial of 5 is : 120\n"
     ]
    }
   ],
   "source": [
    "num=int(input(\"Enter The Number\"))\n",
    "fac=1\n",
    "for i in range (1,num+1):\n",
    "    fac=(fac*i)\n",
    "print(f\"The Factorial of {num} is : {fac}\")"
   ]
  },
  {
   "cell_type": "markdown",
   "id": "4623ad6a",
   "metadata": {},
   "source": [
    "# Question Number 12 Number is Prime or Not"
   ]
  },
  {
   "cell_type": "code",
   "execution_count": 4,
   "id": "e97544b9",
   "metadata": {},
   "outputs": [
    {
     "name": "stdout",
     "output_type": "stream",
     "text": [
      "Enter The Number 6\n",
      "Number Is Not Prime\n"
     ]
    }
   ],
   "source": [
    "num=int(input(\"Enter The Number \"))\n",
    "prime=True\n",
    "for i in range(2,num):\n",
    "    if(num%i==0):\n",
    "        prime=False\n",
    "        break\n",
    "if prime:\n",
    "    print(\"Number Is Prime\")\n",
    "else:\n",
    "    print(\"Number Is Not Prime\")\n"
   ]
  },
  {
   "cell_type": "markdown",
   "id": "602f1c45",
   "metadata": {},
   "source": [
    "# Question No 13 Finding the given number is palindrome"
   ]
  },
  {
   "cell_type": "code",
   "execution_count": 7,
   "id": "e56000a5",
   "metadata": {},
   "outputs": [
    {
     "name": "stdout",
     "output_type": "stream",
     "text": [
      "Enter The Number 4851\n",
      "The Number Is Not Palindrome\n"
     ]
    }
   ],
   "source": [
    "a=int(input(\"Enter The Number \"))\n",
    "b=str(a)\n",
    "c=b[::-1]\n",
    "if b==c:\n",
    "    print(\"The Number Is Palindrome\")\n",
    "else:\n",
    "    print(\"The Number Is Not Palindrome\")"
   ]
  },
  {
   "cell_type": "markdown",
   "id": "8ba4a531",
   "metadata": {},
   "source": [
    "# Question No 14 Finding the third side of right angle of a triangle"
   ]
  },
  {
   "cell_type": "code",
   "execution_count": 3,
   "id": "6c112d9d",
   "metadata": {},
   "outputs": [
    {
     "name": "stdout",
     "output_type": "stream",
     "text": [
      "a: 5\n",
      "b: 6\n",
      "The length of the hypotenuse is 7.810249675906654\n"
     ]
    }
   ],
   "source": [
    "from math import sqrt\n",
    "print(\"Input lengths of shorter triangle sides:\")\n",
    "a = int(input(\"a: \"))\n",
    "b = int(input(\"b: \"))\n",
    "c = sqrt(a**2 + b**2)\n",
    "print(\"The length of the hypotenuse is\", c )"
   ]
  },
  {
   "cell_type": "markdown",
   "id": "666b4268",
   "metadata": {},
   "source": [
    "# Question No 15 Finding the frequency of a given character in a String"
   ]
  },
  {
   "cell_type": "code",
   "execution_count": 10,
   "id": "dfb7d6e0",
   "metadata": {},
   "outputs": [
    {
     "name": "stdout",
     "output_type": "stream",
     "text": [
      "Enter the string: mukarram\n",
      "Please enter the character to find frequency of the character\n",
      "r\n",
      "The frequency of the  r in the string is:  2\n"
     ]
    }
   ],
   "source": [
    "a=input(\"Enter the string: \")\n",
    "character=input(\"Please enter the character to find frequency of the character\\n\")\n",
    "count=0\n",
    "i=0\n",
    "while(i<len(a)):\n",
    "    if(a[i]==character):\n",
    "        count=count+1\n",
    "    i=i+1\n",
    "print(\"The frequency of the \",character,\"in the string is: \",count)"
   ]
  },
  {
   "cell_type": "code",
   "execution_count": null,
   "id": "9766589e",
   "metadata": {},
   "outputs": [],
   "source": []
  },
  {
   "cell_type": "code",
   "execution_count": null,
   "id": "fdac77d7",
   "metadata": {},
   "outputs": [],
   "source": []
  },
  {
   "cell_type": "code",
   "execution_count": null,
   "id": "3978cd89",
   "metadata": {},
   "outputs": [],
   "source": []
  },
  {
   "cell_type": "code",
   "execution_count": null,
   "id": "d9752eb6",
   "metadata": {},
   "outputs": [],
   "source": []
  },
  {
   "cell_type": "code",
   "execution_count": null,
   "id": "ff50efed",
   "metadata": {},
   "outputs": [],
   "source": []
  },
  {
   "cell_type": "code",
   "execution_count": null,
   "id": "d5380ff4",
   "metadata": {},
   "outputs": [],
   "source": []
  },
  {
   "cell_type": "code",
   "execution_count": null,
   "id": "ea41f4be",
   "metadata": {},
   "outputs": [],
   "source": []
  },
  {
   "cell_type": "code",
   "execution_count": null,
   "id": "a6097ed9",
   "metadata": {},
   "outputs": [],
   "source": []
  },
  {
   "cell_type": "code",
   "execution_count": null,
   "id": "17b65ccb",
   "metadata": {},
   "outputs": [],
   "source": []
  },
  {
   "cell_type": "code",
   "execution_count": null,
   "id": "8bb81cec",
   "metadata": {},
   "outputs": [],
   "source": []
  },
  {
   "cell_type": "code",
   "execution_count": null,
   "id": "100d1ea8",
   "metadata": {},
   "outputs": [],
   "source": []
  },
  {
   "cell_type": "code",
   "execution_count": null,
   "id": "b8e686ec",
   "metadata": {},
   "outputs": [],
   "source": []
  },
  {
   "cell_type": "code",
   "execution_count": null,
   "id": "3e85d853",
   "metadata": {},
   "outputs": [],
   "source": []
  },
  {
   "cell_type": "code",
   "execution_count": null,
   "id": "34c4d6a0",
   "metadata": {},
   "outputs": [],
   "source": []
  },
  {
   "cell_type": "code",
   "execution_count": null,
   "id": "1b954405",
   "metadata": {},
   "outputs": [],
   "source": []
  },
  {
   "cell_type": "code",
   "execution_count": null,
   "id": "e711636b",
   "metadata": {},
   "outputs": [],
   "source": []
  },
  {
   "cell_type": "code",
   "execution_count": null,
   "id": "da0037d1",
   "metadata": {},
   "outputs": [],
   "source": []
  },
  {
   "cell_type": "code",
   "execution_count": null,
   "id": "9231b85d",
   "metadata": {},
   "outputs": [],
   "source": []
  },
  {
   "cell_type": "code",
   "execution_count": null,
   "id": "8a304213",
   "metadata": {},
   "outputs": [],
   "source": []
  },
  {
   "cell_type": "code",
   "execution_count": null,
   "id": "e32e1305",
   "metadata": {},
   "outputs": [],
   "source": []
  },
  {
   "cell_type": "code",
   "execution_count": null,
   "id": "ce8b9d91",
   "metadata": {},
   "outputs": [],
   "source": []
  },
  {
   "cell_type": "code",
   "execution_count": null,
   "id": "70c0513c",
   "metadata": {},
   "outputs": [],
   "source": []
  },
  {
   "cell_type": "code",
   "execution_count": null,
   "id": "6d05dd14",
   "metadata": {},
   "outputs": [],
   "source": []
  },
  {
   "cell_type": "code",
   "execution_count": null,
   "id": "0955c632",
   "metadata": {},
   "outputs": [],
   "source": []
  },
  {
   "cell_type": "code",
   "execution_count": null,
   "id": "663c0f74",
   "metadata": {},
   "outputs": [],
   "source": []
  },
  {
   "cell_type": "code",
   "execution_count": null,
   "id": "716bc27a",
   "metadata": {},
   "outputs": [],
   "source": []
  },
  {
   "cell_type": "code",
   "execution_count": null,
   "id": "573d0d2f",
   "metadata": {},
   "outputs": [],
   "source": []
  },
  {
   "cell_type": "code",
   "execution_count": null,
   "id": "acd6ab3c",
   "metadata": {},
   "outputs": [],
   "source": []
  },
  {
   "cell_type": "code",
   "execution_count": null,
   "id": "64cfec8d",
   "metadata": {},
   "outputs": [],
   "source": []
  },
  {
   "cell_type": "code",
   "execution_count": null,
   "id": "e807c17c",
   "metadata": {},
   "outputs": [],
   "source": []
  },
  {
   "cell_type": "code",
   "execution_count": null,
   "id": "2dc28c19",
   "metadata": {},
   "outputs": [],
   "source": []
  },
  {
   "cell_type": "code",
   "execution_count": null,
   "id": "c37a9a37",
   "metadata": {},
   "outputs": [],
   "source": []
  },
  {
   "cell_type": "code",
   "execution_count": null,
   "id": "8eb18cdb",
   "metadata": {},
   "outputs": [],
   "source": []
  },
  {
   "cell_type": "code",
   "execution_count": null,
   "id": "17f84ef8",
   "metadata": {},
   "outputs": [],
   "source": []
  },
  {
   "cell_type": "code",
   "execution_count": null,
   "id": "56917693",
   "metadata": {},
   "outputs": [],
   "source": []
  },
  {
   "cell_type": "code",
   "execution_count": null,
   "id": "854e0ebc",
   "metadata": {},
   "outputs": [],
   "source": []
  },
  {
   "cell_type": "code",
   "execution_count": null,
   "id": "d2cfaac2",
   "metadata": {},
   "outputs": [],
   "source": []
  },
  {
   "cell_type": "code",
   "execution_count": null,
   "id": "8fa45bee",
   "metadata": {},
   "outputs": [],
   "source": []
  },
  {
   "cell_type": "code",
   "execution_count": null,
   "id": "3c515fcb",
   "metadata": {},
   "outputs": [],
   "source": []
  },
  {
   "cell_type": "code",
   "execution_count": null,
   "id": "07a5cdad",
   "metadata": {},
   "outputs": [],
   "source": []
  },
  {
   "cell_type": "code",
   "execution_count": null,
   "id": "f8e80c43",
   "metadata": {},
   "outputs": [],
   "source": []
  },
  {
   "cell_type": "code",
   "execution_count": null,
   "id": "745bafb9",
   "metadata": {},
   "outputs": [],
   "source": []
  },
  {
   "cell_type": "code",
   "execution_count": null,
   "id": "f0c0f61b",
   "metadata": {},
   "outputs": [],
   "source": []
  },
  {
   "cell_type": "code",
   "execution_count": null,
   "id": "ffded8c4",
   "metadata": {},
   "outputs": [],
   "source": []
  },
  {
   "cell_type": "code",
   "execution_count": null,
   "id": "eafd08f5",
   "metadata": {},
   "outputs": [],
   "source": []
  }
 ],
 "metadata": {
  "kernelspec": {
   "display_name": "Python 3",
   "language": "python",
   "name": "python3"
  },
  "language_info": {
   "codemirror_mode": {
    "name": "ipython",
    "version": 3
   },
   "file_extension": ".py",
   "mimetype": "text/x-python",
   "name": "python",
   "nbconvert_exporter": "python",
   "pygments_lexer": "ipython3",
   "version": "3.8.8"
  }
 },
 "nbformat": 4,
 "nbformat_minor": 5
}
